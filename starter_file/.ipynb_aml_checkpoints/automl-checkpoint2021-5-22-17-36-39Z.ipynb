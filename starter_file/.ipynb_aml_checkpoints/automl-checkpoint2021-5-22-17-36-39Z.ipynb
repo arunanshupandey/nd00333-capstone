{
  "cells": [
    {
      "cell_type": "markdown",
      "source": [
        "# Automated ML\n",
        "\n",
        "TODO: Import Dependencies. In the cell below, import all the dependencies that you will need to complete the project."
      ],
      "metadata": {}
    },
    {
      "cell_type": "code",
      "source": [
        "import logging\r\n",
        "import os\r\n",
        "import csv\r\n",
        "\r\n",
        "from matplotlib import pyplot as plt\r\n",
        "import numpy as np\r\n",
        "import pandas as pd\r\n",
        "from sklearn import datasets\r\n",
        "import pkg_resources\r\n",
        "\r\n",
        "import azureml.core\r\n",
        "from azureml.core.experiment import Experiment\r\n",
        "from azureml.core.workspace import Workspace\r\n",
        "from azureml.train.automl import AutoMLConfig\r\n",
        "from azureml.core.dataset import Dataset\r\n",
        "\r\n",
        "from azureml.pipeline.steps import AutoMLStep\r\n",
        "\r\n",
        "# Check core SDK version number\r\n",
        "print(\"SDK version:\", azureml.core.VERSION)"
      ],
      "outputs": [
        {
          "output_type": "stream",
          "name": "stdout",
          "text": [
            "SDK version: 1.30.0\n"
          ]
        }
      ],
      "execution_count": 1,
      "metadata": {
        "gather": {
          "logged": 1624381604177
        },
        "jupyter": {
          "outputs_hidden": false,
          "source_hidden": false
        },
        "nteract": {
          "transient": {
            "deleting": false
          }
        }
      }
    },
    {
      "cell_type": "markdown",
      "source": [
        "## Dataset\n",
        "\n",
        "### Overview\n",
        "TODO: In this markdown cell, give an overview of the dataset you are using. Also mention the task you will be performing.\n",
        "\n",
        "\n",
        "TODO: Get data. In the cell below, write code to access the data you will be using in this project. Remember that the dataset needs to be external."
      ],
      "metadata": {}
    },
    {
      "cell_type": "code",
      "source": [
        "ws = Workspace.from_config()\n",
        "\n",
        "# choose a name for experiment\n",
        "experiment_name = 'CapstoneProject'\n",
        "project_folder = './capstone-project'\n",
        "\n",
        "experiment=Experiment(ws, experiment_name)\n",
        "experiment"
      ],
      "outputs": [
        {
          "output_type": "execute_result",
          "execution_count": 7,
          "data": {
            "text/plain": "Experiment(Name: CapstoneProject,\nWorkspace: quick-starts-ws-147713)",
            "text/html": "<table style=\"width:100%\"><tr><th>Name</th><th>Workspace</th><th>Report Page</th><th>Docs Page</th></tr><tr><td>CapstoneProject</td><td>quick-starts-ws-147713</td><td><a href=\"https://ml.azure.com/experiments/id/392252e2-e260-483f-a413-f89694efadb0?wsid=/subscriptions/5a4ab2ba-6c51-4805-8155-58759ad589d8/resourcegroups/aml-quickstarts-147713/workspaces/quick-starts-ws-147713&amp;tid=660b3398-b80e-49d2-bc5b-ac1dc93b5254\" target=\"_blank\" rel=\"noopener\">Link to Azure Machine Learning studio</a></td><td><a href=\"https://docs.microsoft.com/en-us/python/api/azureml-core/azureml.core.experiment.Experiment?view=azure-ml-py\" target=\"_blank\" rel=\"noopener\">Link to Documentation</a></td></tr></table>"
          },
          "metadata": {}
        }
      ],
      "execution_count": 7,
      "metadata": {
        "gather": {
          "logged": 1624382367741
        },
        "jupyter": {
          "outputs_hidden": false,
          "source_hidden": false
        },
        "nteract": {
          "transient": {
            "deleting": false
          }
        }
      }
    },
    {
      "cell_type": "code",
      "source": [
        "# Setting up the compute cluster\r\n",
        "\r\n",
        "from azureml.core.compute import AmlCompute\r\n",
        "from azureml.core.compute import ComputeTarget\r\n",
        "from azureml.core.compute_target import ComputeTargetException\r\n",
        "\r\n",
        "# NOTE: update the cluster name to match the existing cluster\r\n",
        "# Choose a name for your CPU cluster\r\n",
        "amlcompute_cluster_name = \"CapstoneAML\"\r\n",
        "\r\n",
        "# Verify that cluster does not exist already\r\n",
        "try:\r\n",
        "    compute_target = ComputeTarget(workspace=ws, name=amlcompute_cluster_name)\r\n",
        "    print('Found existing cluster, use it.')\r\n",
        "except ComputeTargetException:\r\n",
        "    compute_config = AmlCompute.provisioning_configuration(vm_size='STANDARD_DS3_V2',\r\n",
        "                                                           min_nodes=1, # for GPU, use \"STANDARD_NC6\"\r\n",
        "                                                           #vm_priority = 'lowpriority', # optional\r\n",
        "                                                           max_nodes=6)\r\n",
        "    compute_target = ComputeTarget.create(ws, amlcompute_cluster_name, compute_config)\r\n",
        "\r\n",
        "compute_target.wait_for_completion(show_output=True, min_node_count = 1, timeout_in_minutes = 10)\r\n",
        "# For a more detailed view of current AmlCompute status, use get_status()."
      ],
      "outputs": [
        {
          "output_type": "stream",
          "name": "stdout",
          "text": [
            "Creating.........\n",
            "SucceededProvisioning operation finished, operation \"Succeeded\"\n",
            "Succeeded.................\n",
            "AmlCompute wait for completion finished\n",
            "\n",
            "Minimum number of nodes requested have been provisioned\n"
          ]
        }
      ],
      "execution_count": 5,
      "metadata": {
        "collapsed": true,
        "jupyter": {
          "source_hidden": false,
          "outputs_hidden": false
        },
        "nteract": {
          "transient": {
            "deleting": false
          }
        },
        "gather": {
          "logged": 1624382331402
        }
      }
    },
    {
      "cell_type": "code",
      "source": [
        "found = False\r\n",
        "key = \"HeartRate\"\r\n",
        "description_text = \"Dataset for heart failure recommendation\"\r\n",
        "\r\n",
        "if key in ws.datasets.keys(): \r\n",
        "        found = True\r\n",
        "        dataset = ws.datasets[key] \r\n",
        "\r\n",
        "df = dataset.to_pandas_dataframe()\r\n",
        "df.describe()"
      ],
      "outputs": [
        {
          "output_type": "execute_result",
          "execution_count": 3,
          "data": {
            "text/plain": "              age     anaemia  creatinine_phosphokinase    diabetes  \\\ncount  299.000000  299.000000                299.000000  299.000000   \nmean    60.833893    0.431438                581.839465    0.418060   \nstd     11.894809    0.496107                970.287881    0.494067   \nmin     40.000000    0.000000                 23.000000    0.000000   \n25%     51.000000    0.000000                116.500000    0.000000   \n50%     60.000000    0.000000                250.000000    0.000000   \n75%     70.000000    1.000000                582.000000    1.000000   \nmax     95.000000    1.000000               7861.000000    1.000000   \n\n       ejection_fraction  high_blood_pressure      platelets  \\\ncount         299.000000           299.000000     299.000000   \nmean           38.083612             0.351171  263358.029264   \nstd            11.834841             0.478136   97804.236869   \nmin            14.000000             0.000000   25100.000000   \n25%            30.000000             0.000000  212500.000000   \n50%            38.000000             0.000000  262000.000000   \n75%            45.000000             1.000000  303500.000000   \nmax            80.000000             1.000000  850000.000000   \n\n       serum_creatinine  serum_sodium         sex    smoking        time  \\\ncount         299.00000    299.000000  299.000000  299.00000  299.000000   \nmean            1.39388    136.625418    0.648829    0.32107  130.260870   \nstd             1.03451      4.412477    0.478136    0.46767   77.614208   \nmin             0.50000    113.000000    0.000000    0.00000    4.000000   \n25%             0.90000    134.000000    0.000000    0.00000   73.000000   \n50%             1.10000    137.000000    1.000000    0.00000  115.000000   \n75%             1.40000    140.000000    1.000000    1.00000  203.000000   \nmax             9.40000    148.000000    1.000000    1.00000  285.000000   \n\n       DEATH_EVENT  \ncount    299.00000  \nmean       0.32107  \nstd        0.46767  \nmin        0.00000  \n25%        0.00000  \n50%        0.00000  \n75%        1.00000  \nmax        1.00000  ",
            "text/html": "<div>\n<style scoped>\n    .dataframe tbody tr th:only-of-type {\n        vertical-align: middle;\n    }\n\n    .dataframe tbody tr th {\n        vertical-align: top;\n    }\n\n    .dataframe thead th {\n        text-align: right;\n    }\n</style>\n<table border=\"1\" class=\"dataframe\">\n  <thead>\n    <tr style=\"text-align: right;\">\n      <th></th>\n      <th>age</th>\n      <th>anaemia</th>\n      <th>creatinine_phosphokinase</th>\n      <th>diabetes</th>\n      <th>ejection_fraction</th>\n      <th>high_blood_pressure</th>\n      <th>platelets</th>\n      <th>serum_creatinine</th>\n      <th>serum_sodium</th>\n      <th>sex</th>\n      <th>smoking</th>\n      <th>time</th>\n      <th>DEATH_EVENT</th>\n    </tr>\n  </thead>\n  <tbody>\n    <tr>\n      <th>count</th>\n      <td>299.000000</td>\n      <td>299.000000</td>\n      <td>299.000000</td>\n      <td>299.000000</td>\n      <td>299.000000</td>\n      <td>299.000000</td>\n      <td>299.000000</td>\n      <td>299.00000</td>\n      <td>299.000000</td>\n      <td>299.000000</td>\n      <td>299.00000</td>\n      <td>299.000000</td>\n      <td>299.00000</td>\n    </tr>\n    <tr>\n      <th>mean</th>\n      <td>60.833893</td>\n      <td>0.431438</td>\n      <td>581.839465</td>\n      <td>0.418060</td>\n      <td>38.083612</td>\n      <td>0.351171</td>\n      <td>263358.029264</td>\n      <td>1.39388</td>\n      <td>136.625418</td>\n      <td>0.648829</td>\n      <td>0.32107</td>\n      <td>130.260870</td>\n      <td>0.32107</td>\n    </tr>\n    <tr>\n      <th>std</th>\n      <td>11.894809</td>\n      <td>0.496107</td>\n      <td>970.287881</td>\n      <td>0.494067</td>\n      <td>11.834841</td>\n      <td>0.478136</td>\n      <td>97804.236869</td>\n      <td>1.03451</td>\n      <td>4.412477</td>\n      <td>0.478136</td>\n      <td>0.46767</td>\n      <td>77.614208</td>\n      <td>0.46767</td>\n    </tr>\n    <tr>\n      <th>min</th>\n      <td>40.000000</td>\n      <td>0.000000</td>\n      <td>23.000000</td>\n      <td>0.000000</td>\n      <td>14.000000</td>\n      <td>0.000000</td>\n      <td>25100.000000</td>\n      <td>0.50000</td>\n      <td>113.000000</td>\n      <td>0.000000</td>\n      <td>0.00000</td>\n      <td>4.000000</td>\n      <td>0.00000</td>\n    </tr>\n    <tr>\n      <th>25%</th>\n      <td>51.000000</td>\n      <td>0.000000</td>\n      <td>116.500000</td>\n      <td>0.000000</td>\n      <td>30.000000</td>\n      <td>0.000000</td>\n      <td>212500.000000</td>\n      <td>0.90000</td>\n      <td>134.000000</td>\n      <td>0.000000</td>\n      <td>0.00000</td>\n      <td>73.000000</td>\n      <td>0.00000</td>\n    </tr>\n    <tr>\n      <th>50%</th>\n      <td>60.000000</td>\n      <td>0.000000</td>\n      <td>250.000000</td>\n      <td>0.000000</td>\n      <td>38.000000</td>\n      <td>0.000000</td>\n      <td>262000.000000</td>\n      <td>1.10000</td>\n      <td>137.000000</td>\n      <td>1.000000</td>\n      <td>0.00000</td>\n      <td>115.000000</td>\n      <td>0.00000</td>\n    </tr>\n    <tr>\n      <th>75%</th>\n      <td>70.000000</td>\n      <td>1.000000</td>\n      <td>582.000000</td>\n      <td>1.000000</td>\n      <td>45.000000</td>\n      <td>1.000000</td>\n      <td>303500.000000</td>\n      <td>1.40000</td>\n      <td>140.000000</td>\n      <td>1.000000</td>\n      <td>1.00000</td>\n      <td>203.000000</td>\n      <td>1.00000</td>\n    </tr>\n    <tr>\n      <th>max</th>\n      <td>95.000000</td>\n      <td>1.000000</td>\n      <td>7861.000000</td>\n      <td>1.000000</td>\n      <td>80.000000</td>\n      <td>1.000000</td>\n      <td>850000.000000</td>\n      <td>9.40000</td>\n      <td>148.000000</td>\n      <td>1.000000</td>\n      <td>1.00000</td>\n      <td>285.000000</td>\n      <td>1.00000</td>\n    </tr>\n  </tbody>\n</table>\n</div>"
          },
          "metadata": {}
        }
      ],
      "execution_count": 3,
      "metadata": {
        "collapsed": true,
        "jupyter": {
          "source_hidden": false,
          "outputs_hidden": false
        },
        "nteract": {
          "transient": {
            "deleting": false
          }
        },
        "gather": {
          "logged": 1624381956219
        }
      }
    },
    {
      "cell_type": "markdown",
      "source": [
        "## AutoML Configuration\n",
        "\n",
        "TODO: Explain why you chose the automl settings and cofiguration you used below.\n",
        "\n",
        "I have chosen experimentation time out as the dataset is smaller and it can be covered within 20 minutes. \n",
        "The max concurrent iteration is 5 ( 1 less than total number of compute nodes in the cluster). \n",
        "The primary_metric is chosen as AUC_weighted orginally to handle balanced data better. \n"
      ],
      "metadata": {}
    },
    {
      "cell_type": "code",
      "source": [
        "# TODO: Put your automl settings here\n",
        "automl_settings = {\n",
        "    \"experiment_timeout_minutes\": 20,\n",
        "    \"max_concurrent_iterations\": 5,\n",
        "    \"primary_metric\" : 'AUC_weighted'\n",
        "}\n",
        "\n",
        "# TODO: Put your automl config here\n",
        "automl_config = AutoMLConfig(compute_target=compute_target,\n",
        "                             task = \"classification\",\n",
        "                             training_data=dataset,\n",
        "                             label_column_name=\"DEATH_EVENT\",   \n",
        "                             path = project_folder,\n",
        "                             enable_early_stopping= True,\n",
        "                             featurization= 'auto',\n",
        "                             debug_log = \"automl_errors.log\",\n",
        "                             **automl_settings\n",
        "                            )"
      ],
      "outputs": [],
      "execution_count": 14,
      "metadata": {
        "gather": {
          "logged": 1624382826574
        },
        "jupyter": {
          "outputs_hidden": false,
          "source_hidden": false
        },
        "nteract": {
          "transient": {
            "deleting": false
          }
        }
      }
    },
    {
      "cell_type": "code",
      "source": [
        "# TODO: Submit your experiment\n",
        "remote_run = experiment.submit(automl_config)"
      ],
      "outputs": [
        {
          "output_type": "stream",
          "name": "stdout",
          "text": [
            "Submitting remote run.\n"
          ]
        },
        {
          "output_type": "display_data",
          "data": {
            "text/plain": "<IPython.core.display.HTML object>",
            "text/html": "<table style=\"width:100%\"><tr><th>Experiment</th><th>Id</th><th>Type</th><th>Status</th><th>Details Page</th><th>Docs Page</th></tr><tr><td>CapstoneProject</td><td>AutoML_bd0b099e-b97b-4fd1-993f-6bc161325d61</td><td>automl</td><td>NotStarted</td><td><a href=\"https://ml.azure.com/runs/AutoML_bd0b099e-b97b-4fd1-993f-6bc161325d61?wsid=/subscriptions/5a4ab2ba-6c51-4805-8155-58759ad589d8/resourcegroups/aml-quickstarts-147713/workspaces/quick-starts-ws-147713&amp;tid=660b3398-b80e-49d2-bc5b-ac1dc93b5254\" target=\"_blank\" rel=\"noopener\">Link to Azure Machine Learning studio</a></td><td><a href=\"https://docs.microsoft.com/en-us/python/api/overview/azure/ml/intro?view=azure-ml-py\" target=\"_blank\" rel=\"noopener\">Link to Documentation</a></td></tr></table>"
          },
          "metadata": {}
        }
      ],
      "execution_count": 15,
      "metadata": {
        "gather": {
          "logged": 1624382838335
        },
        "jupyter": {
          "outputs_hidden": false,
          "source_hidden": false
        },
        "nteract": {
          "transient": {
            "deleting": false
          }
        }
      }
    },
    {
      "cell_type": "markdown",
      "source": [
        "## Run Details\n",
        "\n",
        "OPTIONAL: Write about the different models trained and their performance. Why do you think some models did better than others?\n",
        "\n",
        "TODO: In the cell below, use the `RunDetails` widget to show the different experiments."
      ],
      "metadata": {}
    },
    {
      "cell_type": "code",
      "source": [
        "from azureml.widgets import RunDetails\r\n",
        "RunDetails(remote_run).show()"
      ],
      "outputs": [
        {
          "output_type": "display_data",
          "data": {
            "text/plain": "_AutoMLWidget(widget_settings={'childWidgetDisplay': 'popup', 'send_telemetry': False, 'log_level': 'INFO', 's…",
            "application/vnd.jupyter.widget-view+json": {
              "version_major": 2,
              "version_minor": 0,
              "model_id": "4478bd4757424a0f9e63e3f2b5173da1"
            }
          },
          "metadata": {}
        },
        {
          "output_type": "display_data",
          "data": {
            "application/aml.mini.widget.v1": "{\"status\": \"Running\", \"workbench_run_details_uri\": \"https://ml.azure.com/runs/AutoML_bd0b099e-b97b-4fd1-993f-6bc161325d61?wsid=/subscriptions/5a4ab2ba-6c51-4805-8155-58759ad589d8/resourcegroups/aml-quickstarts-147713/workspaces/quick-starts-ws-147713&tid=660b3398-b80e-49d2-bc5b-ac1dc93b5254\", \"run_id\": \"AutoML_bd0b099e-b97b-4fd1-993f-6bc161325d61\", \"run_properties\": {\"run_id\": \"AutoML_bd0b099e-b97b-4fd1-993f-6bc161325d61\", \"created_utc\": \"2021-06-22T17:27:16.082899Z\", \"properties\": {\"num_iterations\": \"1000\", \"training_type\": \"TrainFull\", \"acquisition_function\": \"EI\", \"primary_metric\": \"AUC_weighted\", \"train_split\": \"0\", \"acquisition_parameter\": \"0\", \"num_cross_validation\": null, \"target\": \"CapstoneAML\", \"AMLSettingsJsonString\": \"{\\\"path\\\":null,\\\"name\\\":\\\"CapstoneProject\\\",\\\"subscription_id\\\":\\\"5a4ab2ba-6c51-4805-8155-58759ad589d8\\\",\\\"resource_group\\\":\\\"aml-quickstarts-147713\\\",\\\"workspace_name\\\":\\\"quick-starts-ws-147713\\\",\\\"region\\\":\\\"southcentralus\\\",\\\"compute_target\\\":\\\"CapstoneAML\\\",\\\"spark_service\\\":null,\\\"azure_service\\\":\\\"remote\\\",\\\"many_models\\\":false,\\\"pipeline_fetch_max_batch_size\\\":1,\\\"enable_batch_run\\\":false,\\\"enable_run_restructure\\\":false,\\\"start_auxiliary_runs_before_parent_complete\\\":false,\\\"enable_code_generation\\\":false,\\\"iterations\\\":1000,\\\"primary_metric\\\":\\\"AUC_weighted\\\",\\\"task_type\\\":\\\"classification\\\",\\\"data_script\\\":null,\\\"test_size\\\":0.0,\\\"validation_size\\\":0.0,\\\"n_cross_validations\\\":null,\\\"y_min\\\":null,\\\"y_max\\\":null,\\\"num_classes\\\":null,\\\"featurization\\\":\\\"auto\\\",\\\"_ignore_package_version_incompatibilities\\\":false,\\\"is_timeseries\\\":false,\\\"max_cores_per_iteration\\\":1,\\\"max_concurrent_iterations\\\":5,\\\"iteration_timeout_minutes\\\":null,\\\"mem_in_mb\\\":null,\\\"enforce_time_on_windows\\\":false,\\\"experiment_timeout_minutes\\\":20,\\\"experiment_exit_score\\\":null,\\\"whitelist_models\\\":null,\\\"blacklist_algos\\\":[\\\"TensorFlowLinearClassifier\\\",\\\"TensorFlowDNN\\\"],\\\"supported_models\\\":[\\\"TensorFlowDNN\\\",\\\"LinearSVM\\\",\\\"MultinomialNaiveBayes\\\",\\\"TensorFlowLinearClassifier\\\",\\\"RandomForest\\\",\\\"SVM\\\",\\\"BernoulliNaiveBayes\\\",\\\"GradientBoosting\\\",\\\"SGD\\\",\\\"DecisionTree\\\",\\\"XGBoostClassifier\\\",\\\"LogisticRegression\\\",\\\"LightGBM\\\",\\\"AveragedPerceptronClassifier\\\",\\\"ExtremeRandomTrees\\\",\\\"KNN\\\"],\\\"private_models\\\":[],\\\"auto_blacklist\\\":true,\\\"blacklist_samples_reached\\\":false,\\\"exclude_nan_labels\\\":true,\\\"verbosity\\\":20,\\\"_debug_log\\\":\\\"azureml_automl.log\\\",\\\"show_warnings\\\":false,\\\"model_explainability\\\":true,\\\"service_url\\\":null,\\\"sdk_url\\\":null,\\\"sdk_packages\\\":null,\\\"enable_onnx_compatible_models\\\":false,\\\"enable_split_onnx_featurizer_estimator_models\\\":false,\\\"vm_type\\\":\\\"STANDARD_DS3_V2\\\",\\\"telemetry_verbosity\\\":20,\\\"send_telemetry\\\":true,\\\"enable_dnn\\\":false,\\\"scenario\\\":\\\"SDK-1.13.0\\\",\\\"environment_label\\\":null,\\\"save_mlflow\\\":false,\\\"force_text_dnn\\\":false,\\\"enable_feature_sweeping\\\":true,\\\"enable_early_stopping\\\":true,\\\"early_stopping_n_iters\\\":10,\\\"metrics\\\":null,\\\"enable_metric_confidence\\\":false,\\\"enable_ensembling\\\":true,\\\"enable_stack_ensembling\\\":true,\\\"ensemble_iterations\\\":15,\\\"enable_tf\\\":false,\\\"enable_subsampling\\\":null,\\\"subsample_seed\\\":null,\\\"enable_nimbusml\\\":false,\\\"enable_streaming\\\":false,\\\"force_streaming\\\":false,\\\"track_child_runs\\\":true,\\\"allowed_private_models\\\":[],\\\"label_column_name\\\":\\\"DEATH_EVENT\\\",\\\"weight_column_name\\\":null,\\\"cv_split_column_names\\\":null,\\\"enable_local_managed\\\":false,\\\"_local_managed_run_id\\\":null,\\\"cost_mode\\\":1,\\\"lag_length\\\":0,\\\"metric_operation\\\":\\\"maximize\\\",\\\"preprocess\\\":true}\", \"DataPrepJsonString\": \"{\\\\\\\"training_data\\\\\\\": {\\\\\\\"datasetId\\\\\\\": \\\\\\\"4c0f1ee9-2911-41b1-be38-9aee6af4446a\\\\\\\"}, \\\\\\\"datasets\\\\\\\": 0}\", \"EnableSubsampling\": null, \"runTemplate\": \"AutoML\", \"azureml.runsource\": \"automl\", \"display_task_type\": \"classification\", \"dependencies_versions\": \"{\\\"azureml-widgets\\\": \\\"1.30.0\\\", \\\"azureml-train\\\": \\\"1.30.0\\\", \\\"azureml-train-restclients-hyperdrive\\\": \\\"1.30.0\\\", \\\"azureml-train-core\\\": \\\"1.30.0\\\", \\\"azureml-train-automl\\\": \\\"1.30.0\\\", \\\"azureml-train-automl-runtime\\\": \\\"1.30.0\\\", \\\"azureml-train-automl-client\\\": \\\"1.30.0\\\", \\\"azureml-tensorboard\\\": \\\"1.30.0\\\", \\\"azureml-telemetry\\\": \\\"1.30.0\\\", \\\"azureml-sdk\\\": \\\"1.30.0\\\", \\\"azureml-samples\\\": \\\"0+unknown\\\", \\\"azureml-pipeline\\\": \\\"1.30.0\\\", \\\"azureml-pipeline-steps\\\": \\\"1.30.0\\\", \\\"azureml-pipeline-core\\\": \\\"1.30.0\\\", \\\"azureml-opendatasets\\\": \\\"1.30.0\\\", \\\"azureml-model-management-sdk\\\": \\\"1.0.1b6.post1\\\", \\\"azureml-mlflow\\\": \\\"1.30.0\\\", \\\"azureml-interpret\\\": \\\"1.30.0\\\", \\\"azureml-explain-model\\\": \\\"1.30.0\\\", \\\"azureml-defaults\\\": \\\"1.30.0\\\", \\\"azureml-dataset-runtime\\\": \\\"1.30.0\\\", \\\"azureml-dataprep\\\": \\\"2.15.1\\\", \\\"azureml-dataprep-rslex\\\": \\\"1.13.0\\\", \\\"azureml-dataprep-native\\\": \\\"33.0.0\\\", \\\"azureml-datadrift\\\": \\\"1.30.0\\\", \\\"azureml-core\\\": \\\"1.30.0\\\", \\\"azureml-contrib-services\\\": \\\"1.30.0\\\", \\\"azureml-contrib-server\\\": \\\"1.30.0\\\", \\\"azureml-contrib-reinforcementlearning\\\": \\\"1.30.0\\\", \\\"azureml-contrib-pipeline-steps\\\": \\\"1.30.0\\\", \\\"azureml-contrib-notebook\\\": \\\"1.30.0\\\", \\\"azureml-contrib-fairness\\\": \\\"1.30.0\\\", \\\"azureml-contrib-dataset\\\": \\\"1.30.0\\\", \\\"azureml-cli-common\\\": \\\"1.30.0\\\", \\\"azureml-automl-runtime\\\": \\\"1.30.0\\\", \\\"azureml-automl-dnn-nlp\\\": \\\"1.30.0\\\", \\\"azureml-automl-core\\\": \\\"1.30.0\\\", \\\"azureml-accel-models\\\": \\\"1.30.0\\\"}\", \"_aml_system_scenario_identification\": \"Remote.Parent\", \"ClientType\": \"SDK\", \"environment_cpu_name\": \"AzureML-AutoML\", \"environment_cpu_label\": \"prod\", \"environment_gpu_name\": \"AzureML-AutoML-GPU\", \"environment_gpu_label\": \"prod\", \"root_attribution\": \"automl\", \"attribution\": \"AutoML\", \"Orchestrator\": \"AutoML\", \"CancelUri\": \"https://southcentralus.api.azureml.ms/jasmine/v1.0/subscriptions/5a4ab2ba-6c51-4805-8155-58759ad589d8/resourceGroups/aml-quickstarts-147713/providers/Microsoft.MachineLearningServices/workspaces/quick-starts-ws-147713/experimentids/392252e2-e260-483f-a413-f89694efadb0/cancel/AutoML_bd0b099e-b97b-4fd1-993f-6bc161325d61\", \"azureml.git.repository_uri\": \"https://github.com/arunanshupandey/nd00333-capstone.git\", \"mlflow.source.git.repoURL\": \"https://github.com/arunanshupandey/nd00333-capstone.git\", \"azureml.git.branch\": \"master\", \"mlflow.source.git.branch\": \"master\", \"azureml.git.commit\": \"bb8bb394f2d1a40e23f582b5c1b308628e329b33\", \"mlflow.source.git.commit\": \"bb8bb394f2d1a40e23f582b5c1b308628e329b33\", \"azureml.git.dirty\": \"False\", \"ClientSdkVersion\": \"1.30.0\", \"snapshotId\": \"00000000-0000-0000-0000-000000000000\", \"SetupRunId\": \"AutoML_bd0b099e-b97b-4fd1-993f-6bc161325d61_setup\", \"SetupRunContainerId\": \"dcid.AutoML_bd0b099e-b97b-4fd1-993f-6bc161325d61_setup\", \"FeaturizationRunJsonPath\": \"featurizer_container.json\", \"FeaturizationRunId\": \"AutoML_bd0b099e-b97b-4fd1-993f-6bc161325d61_featurize\", \"ProblemInfoJsonString\": \"{\\\"dataset_num_categorical\\\": 0, \\\"is_sparse\\\": false, \\\"subsampling\\\": false, \\\"has_extra_col\\\": true, \\\"dataset_classes\\\": 2, \\\"dataset_features\\\": 12, \\\"dataset_samples\\\": 299, \\\"single_frequency_class_detected\\\": false}\"}, \"tags\": {\"model_explain_run\": \"best_run\", \"_aml_system_azureml.automlComponent\": \"AutoML\", \"pipeline_id\": \"<5dfac790c5c209f98a1da2dc1c7fb76f0397324f>;<cf1dc9b7ea4a50d759bce352343ec6737501695a>;<62c0e30b2e9113b3ecd95bcf5b31423c72074070>;<8de8c085d2a4b23d3f4cc392a2f2660d23d38c14>;<032c2f067189c1f56172ca21b98c8843539dd9de>;<b19eeb61727e9c4fbb5aa45fb6e9fe3fab5b1f04>;<c7af0367625be6ac5c2fecbfc72ed444cb7a2111>;<713f188a27b176644f73e8664c667c674a2d3d62>;<4d4be808b8b6dd0f67e8354c79eddd3d712440a5>;<0b53a0ee85548e5ca038c9528fe2b2c6bdca344c>;<f74eba2157312718bd99b95a26c10ce8d0507265>;<6faa1bb6e5420ca429456af6f3430ed61c0680bb>;<84f353ee505484d17af765441b00eb466a22fd74>;<64d243434fd3324240f2d6ec53b7c85072a706f0>;\", \"score\": \"<0.8840955354735103>;<0.8940867722116005>;<0.8706414242952573>;<0.8930946552261199>;<0.9065489482929985>;<0.8890849668637998>;<0.8847369443591411>;<0.8923564744513138>;<0.8875562310200182>;<0.7496161006793443>;<0.8771395804233905>;<0.9000766522146384>;<0.8828882340072843>;<0.8683008014106413>;\", \"predicted_cost\": \"<0>;<0.5>;<0.5>;<0.03162277359681643>;<0.5>;<0.5>;<0>;<0.01823559999999999>;<0.028567663767342575>;<0.002049540745214492>;<0.03057941262794885>;<0.0284737819522272>;<0.029504149332557444>;<0.014982361074937865>;\", \"fit_time\": \"<0.027548499999999997>;<0.018235599999999998>;<0.06558420000000001>;<0.0234008>;<0.0523716>;<0.0234889>;<0.0280095>;<0.022423799999999997>;<0.0519405>;<0.003939>;<0.042062999999999996>;<0.0502109>;<0.0324208>;<0.004366899999999999>;\", \"training_percent\": \"<100>;<100>;<100>;<100>;<100>;<100>;<100>;<100>;<100>;<100>;<100>;<100>;<100>;<100>;\", \"iteration\": \"<0>;<2>;<3>;<7>;<4>;<5>;<1>;<6>;<8>;<9>;<11>;<12>;<10>;<13>;\", \"run_preprocessor\": \"<MaxAbsScaler>;<MinMaxScaler>;<RobustScaler>;<MinMaxScaler>;<MinMaxScaler>;<MinMaxScaler>;<MaxAbsScaler>;<StandardScalerWrapper>;<MinMaxScaler>;<SparseNormalizer>;<RobustScaler>;<StandardScalerWrapper>;<MinMaxScaler>;<StandardScalerWrapper>;\", \"run_algorithm\": \"<LightGBM>;<RandomForest>;<ExtremeRandomTrees>;<ExtremeRandomTrees>;<RandomForest>;<RandomForest>;<XGBoostClassifier>;<RandomForest>;<ExtremeRandomTrees>;<KNN>;<ExtremeRandomTrees>;<RandomForest>;<ExtremeRandomTrees>;<SGD>;\"}, \"end_time_utc\": null, \"status\": \"Running\", \"log_files\": {}, \"log_groups\": [], \"run_duration\": \"0:08:44\", \"run_number\": \"1\", \"run_queued_details\": {\"status\": \"Running\", \"details\": null}}, \"child_runs\": [{\"run_id\": \"AutoML_bd0b099e-b97b-4fd1-993f-6bc161325d61_0\", \"run_number\": 5, \"metric\": null, \"status\": \"Completed\", \"run_type\": \"azureml.scriptrun\", \"training_percent\": \"100\", \"start_time\": \"2021-06-22T17:30:30.146309Z\", \"end_time\": \"2021-06-22T17:31:10.025092Z\", \"created_time\": \"2021-06-22T17:30:17.424258Z\", \"created_time_dt\": \"2021-06-22T17:30:17.424258Z\", \"duration\": \"0:00:52\", \"iteration\": \"0\", \"goal\": \"AUC_weighted_max\", \"run_name\": \"MaxAbsScaler, LightGBM\", \"run_properties\": \"copy=True\", \"primary_metric\": 0.88409554, \"best_metric\": 0.88409554}, {\"run_id\": \"AutoML_bd0b099e-b97b-4fd1-993f-6bc161325d61_4\", \"run_number\": 6, \"metric\": null, \"status\": \"Completed\", \"run_type\": \"azureml.scriptrun\", \"training_percent\": \"100\", \"start_time\": \"2021-06-22T17:32:36.156016Z\", \"end_time\": \"2021-06-22T17:34:12.950568Z\", \"created_time\": \"2021-06-22T17:30:17.454579Z\", \"created_time_dt\": \"2021-06-22T17:30:17.454579Z\", \"duration\": \"0:03:55\", \"iteration\": \"4\", \"goal\": \"AUC_weighted_max\", \"run_name\": \"MinMaxScaler, RandomForest\", \"run_properties\": \"copy=True, feature_range=(0, 1\", \"primary_metric\": 0.90654895, \"best_metric\": 0.90654895}, {\"run_id\": \"AutoML_bd0b099e-b97b-4fd1-993f-6bc161325d61_1\", \"run_number\": 7, \"metric\": null, \"status\": \"Completed\", \"run_type\": \"azureml.scriptrun\", \"training_percent\": \"100\", \"start_time\": \"2021-06-22T17:32:35.904794Z\", \"end_time\": \"2021-06-22T17:34:18.490956Z\", \"created_time\": \"2021-06-22T17:30:17.474435Z\", \"created_time_dt\": \"2021-06-22T17:30:17.474435Z\", \"duration\": \"0:04:01\", \"iteration\": \"1\", \"goal\": \"AUC_weighted_max\", \"run_name\": \"MaxAbsScaler, XGBoostClassifier\", \"run_properties\": \"copy=True\", \"primary_metric\": 0.88473694, \"best_metric\": 0.88473694}, {\"run_id\": \"AutoML_bd0b099e-b97b-4fd1-993f-6bc161325d61_3\", \"run_number\": 8, \"metric\": null, \"status\": \"Completed\", \"run_type\": \"azureml.scriptrun\", \"training_percent\": \"100\", \"start_time\": \"2021-06-22T17:32:20.069874Z\", \"end_time\": \"2021-06-22T17:32:57.523859Z\", \"created_time\": \"2021-06-22T17:30:17.476411Z\", \"created_time_dt\": \"2021-06-22T17:30:17.476411Z\", \"duration\": \"0:02:40\", \"iteration\": \"3\", \"goal\": \"AUC_weighted_max\", \"run_name\": \"RobustScaler, ExtremeRandomTrees\", \"run_properties\": \"copy=True, quantile_range=[10, 90], with_centering=False,\\n             with_scaling=False\", \"primary_metric\": 0.87064142, \"best_metric\": 0.89408677}, {\"run_id\": \"AutoML_bd0b099e-b97b-4fd1-993f-6bc161325d61_2\", \"run_number\": 9, \"metric\": null, \"status\": \"Completed\", \"run_type\": \"azureml.scriptrun\", \"training_percent\": \"100\", \"start_time\": \"2021-06-22T17:31:24.555648Z\", \"end_time\": \"2021-06-22T17:32:04.593069Z\", \"created_time\": \"2021-06-22T17:30:17.53892Z\", \"created_time_dt\": \"2021-06-22T17:30:17.53892Z\", \"duration\": \"0:01:47\", \"iteration\": \"2\", \"goal\": \"AUC_weighted_max\", \"run_name\": \"MinMaxScaler, RandomForest\", \"run_properties\": \"copy=True, feature_range=(0, 1\", \"primary_metric\": 0.89408677, \"best_metric\": 0.89408677}, {\"run_id\": \"AutoML_bd0b099e-b97b-4fd1-993f-6bc161325d61_5\", \"run_number\": 10, \"metric\": null, \"status\": \"Completed\", \"run_type\": \"azureml.scriptrun\", \"training_percent\": \"100\", \"start_time\": \"2021-06-22T17:32:37.065481Z\", \"end_time\": \"2021-06-22T17:34:18.511435Z\", \"created_time\": \"2021-06-22T17:31:11.720422Z\", \"created_time_dt\": \"2021-06-22T17:31:11.720422Z\", \"duration\": \"0:03:06\", \"iteration\": \"5\", \"goal\": \"AUC_weighted_max\", \"run_name\": \"MinMaxScaler, RandomForest\", \"run_properties\": \"copy=True, feature_range=(0, 1\", \"primary_metric\": 0.88908497, \"best_metric\": 0.90654895}, {\"run_id\": \"AutoML_bd0b099e-b97b-4fd1-993f-6bc161325d61_6\", \"run_number\": 11, \"metric\": null, \"status\": \"Completed\", \"run_type\": \"azureml.scriptrun\", \"training_percent\": \"100\", \"start_time\": \"2021-06-22T17:32:34.599323Z\", \"end_time\": \"2021-06-22T17:34:25.145833Z\", \"created_time\": \"2021-06-22T17:32:07.648284Z\", \"created_time_dt\": \"2021-06-22T17:32:07.648284Z\", \"duration\": \"0:02:17\", \"iteration\": \"6\", \"goal\": \"AUC_weighted_max\", \"run_name\": \"StandardScalerWrapper, RandomForest\", \"run_properties\": \"\\n    copy=True,\\n    with_mean=True,\\n    with_std=False\\n\", \"primary_metric\": 0.89235647, \"best_metric\": 0.90654895}, {\"run_id\": \"AutoML_bd0b099e-b97b-4fd1-993f-6bc161325d61_7\", \"run_number\": 12, \"metric\": null, \"status\": \"Completed\", \"run_type\": \"azureml.scriptrun\", \"training_percent\": \"100\", \"start_time\": \"2021-06-22T17:33:12.853462Z\", \"end_time\": \"2021-06-22T17:33:49.931134Z\", \"created_time\": \"2021-06-22T17:33:00.793663Z\", \"created_time_dt\": \"2021-06-22T17:33:00.793663Z\", \"duration\": \"0:00:49\", \"iteration\": \"7\", \"goal\": \"AUC_weighted_max\", \"run_name\": \"MinMaxScaler, ExtremeRandomTrees\", \"run_properties\": \"copy=True, feature_range=(0, 1\", \"primary_metric\": 0.89309466, \"best_metric\": 0.90654895}, {\"run_id\": \"AutoML_bd0b099e-b97b-4fd1-993f-6bc161325d61_8\", \"run_number\": 13, \"metric\": null, \"status\": \"Completed\", \"run_type\": \"azureml.scriptrun\", \"training_percent\": \"100\", \"start_time\": \"2021-06-22T17:34:05.753801Z\", \"end_time\": \"2021-06-22T17:34:51.263929Z\", \"created_time\": \"2021-06-22T17:33:53.379758Z\", \"created_time_dt\": \"2021-06-22T17:33:53.379758Z\", \"duration\": \"0:00:57\", \"iteration\": \"8\", \"goal\": \"AUC_weighted_max\", \"run_name\": \"MinMaxScaler, ExtremeRandomTrees\", \"run_properties\": \"copy=True, feature_range=(0, 1\", \"primary_metric\": 0.88755623, \"best_metric\": 0.90654895}, {\"run_id\": \"AutoML_bd0b099e-b97b-4fd1-993f-6bc161325d61_9\", \"run_number\": 14, \"metric\": null, \"status\": \"Completed\", \"run_type\": \"azureml.scriptrun\", \"training_percent\": \"100\", \"start_time\": \"2021-06-22T17:34:30.450951Z\", \"end_time\": \"2021-06-22T17:35:05.184095Z\", \"created_time\": \"2021-06-22T17:34:15.846128Z\", \"created_time_dt\": \"2021-06-22T17:34:15.846128Z\", \"duration\": \"0:00:49\", \"iteration\": \"9\", \"goal\": \"AUC_weighted_max\", \"run_name\": \"SparseNormalizer, KNN\", \"run_properties\": \"copy=True, norm='l2'\", \"primary_metric\": 0.7496161, \"best_metric\": 0.90654895}, {\"run_id\": \"AutoML_bd0b099e-b97b-4fd1-993f-6bc161325d61_10\", \"run_number\": 15, \"metric\": null, \"status\": \"Completed\", \"run_type\": \"azureml.scriptrun\", \"training_percent\": \"100\", \"start_time\": \"2021-06-22T17:34:32.050094Z\", \"end_time\": \"2021-06-22T17:35:11.488469Z\", \"created_time\": \"2021-06-22T17:34:21.650669Z\", \"created_time_dt\": \"2021-06-22T17:34:21.650669Z\", \"duration\": \"0:00:49\", \"iteration\": \"10\", \"goal\": \"AUC_weighted_max\", \"run_name\": \"MinMaxScaler, ExtremeRandomTrees\", \"run_properties\": \"copy=True, feature_range=(0, 1\", \"primary_metric\": 0.88288823, \"best_metric\": 0.90654895}, {\"run_id\": \"AutoML_bd0b099e-b97b-4fd1-993f-6bc161325d61_11\", \"run_number\": 16, \"metric\": null, \"status\": \"Completed\", \"run_type\": \"azureml.scriptrun\", \"training_percent\": \"100\", \"start_time\": \"2021-06-22T17:34:29.367897Z\", \"end_time\": \"2021-06-22T17:35:08.028163Z\", \"created_time\": \"2021-06-22T17:34:21.657853Z\", \"created_time_dt\": \"2021-06-22T17:34:21.657853Z\", \"duration\": \"0:00:46\", \"iteration\": \"11\", \"goal\": \"AUC_weighted_max\", \"run_name\": \"RobustScaler, ExtremeRandomTrees\", \"run_properties\": \"copy=True, quantile_range=[10, 90], with_centering=True,\\n             with_scaling=False\", \"primary_metric\": 0.87713958, \"best_metric\": 0.90654895}, {\"run_id\": \"AutoML_bd0b099e-b97b-4fd1-993f-6bc161325d61_12\", \"run_number\": 17, \"metric\": null, \"status\": \"Completed\", \"run_type\": \"azureml.scriptrun\", \"training_percent\": \"100\", \"start_time\": \"2021-06-22T17:34:39.410156Z\", \"end_time\": \"2021-06-22T17:35:16.090835Z\", \"created_time\": \"2021-06-22T17:34:29.00641Z\", \"created_time_dt\": \"2021-06-22T17:34:29.00641Z\", \"duration\": \"0:00:47\", \"iteration\": \"12\", \"goal\": \"AUC_weighted_max\", \"run_name\": \"StandardScalerWrapper, RandomForest\", \"run_properties\": \"\\n    copy=True,\\n    with_mean=True,\\n    with_std=False\\n\", \"primary_metric\": 0.90007665, \"best_metric\": 0.90654895}, {\"run_id\": \"AutoML_bd0b099e-b97b-4fd1-993f-6bc161325d61_13\", \"run_number\": 18, \"metric\": null, \"status\": \"Completed\", \"run_type\": \"azureml.scriptrun\", \"training_percent\": \"100\", \"start_time\": \"2021-06-22T17:35:08.659331Z\", \"end_time\": \"2021-06-22T17:35:46.258763Z\", \"created_time\": \"2021-06-22T17:34:54.406349Z\", \"created_time_dt\": \"2021-06-22T17:34:54.406349Z\", \"duration\": \"0:00:51\", \"iteration\": \"13\", \"goal\": \"AUC_weighted_max\", \"run_name\": \"StandardScalerWrapper, SGD\", \"run_properties\": \"\\n    copy=True,\\n    with_mean=True,\\n    with_std=True\\n\", \"primary_metric\": 0.8683008, \"best_metric\": 0.90654895}, {\"run_id\": \"AutoML_bd0b099e-b97b-4fd1-993f-6bc161325d61_14\", \"run_number\": 19, \"metric\": null, \"status\": \"Completed\", \"run_type\": \"azureml.scriptrun\", \"training_percent\": \"100\", \"start_time\": \"2021-06-22T17:35:21.176444Z\", \"end_time\": \"2021-06-22T17:35:58.257479Z\", \"created_time\": \"2021-06-22T17:35:08.684717Z\", \"created_time_dt\": \"2021-06-22T17:35:08.684717Z\", \"duration\": \"0:00:49\", \"iteration\": \"14\", \"goal\": \"AUC_weighted_max\", \"run_name\": \"RobustScaler, RandomForest\", \"run_properties\": \"copy=True, quantile_range=[10, 90], with_centering=True,\\n             with_scaling=False\", \"primary_metric\": 0.88082362, \"best_metric\": 0.90654895}, {\"run_id\": \"AutoML_bd0b099e-b97b-4fd1-993f-6bc161325d61_15\", \"run_number\": 20, \"metric\": null, \"status\": \"Finalizing\", \"run_type\": \"azureml.scriptrun\", \"training_percent\": \"100\", \"start_time\": \"2021-06-22T17:35:27.395486Z\", \"end_time\": \"\", \"created_time\": \"2021-06-22T17:35:17.942016Z\", \"created_time_dt\": \"2021-06-22T17:35:17.942016Z\", \"duration\": \"0:00:43\", \"iteration\": \"15\", \"goal\": \"AUC_weighted_max\", \"run_name\": \"StandardScalerWrapper, KNN\", \"run_properties\": \"\\n    copy=True,\\n    with_mean=True,\\n    with_std=False\\n\", \"primary_metric\": 0.52030533, \"best_metric\": 0.90654895}, {\"run_id\": \"AutoML_bd0b099e-b97b-4fd1-993f-6bc161325d61_16\", \"run_number\": 21, \"metric\": null, \"status\": \"Finalizing\", \"run_type\": \"azureml.scriptrun\", \"training_percent\": \"100\", \"start_time\": \"2021-06-22T17:35:31.585881Z\", \"end_time\": \"\", \"created_time\": \"2021-06-22T17:35:24.155673Z\", \"created_time_dt\": \"2021-06-22T17:35:24.155673Z\", \"duration\": \"0:00:37\", \"iteration\": \"16\", \"goal\": \"AUC_weighted_max\", \"run_name\": \"MinMaxScaler, RandomForest\", \"run_properties\": \"copy=True, feature_range=(0, 1\", \"primary_metric\": 0.88988463, \"best_metric\": 0.90654895}, {\"run_id\": \"AutoML_bd0b099e-b97b-4fd1-993f-6bc161325d61_17\", \"run_number\": 22, \"metric\": null, \"status\": \"Finalizing\", \"run_type\": \"azureml.scriptrun\", \"training_percent\": \"100\", \"start_time\": \"2021-06-22T17:35:32.204095Z\", \"end_time\": \"\", \"created_time\": \"2021-06-22T17:35:24.16696Z\", \"created_time_dt\": \"2021-06-22T17:35:24.16696Z\", \"duration\": \"0:00:37\", \"iteration\": \"17\", \"goal\": \"AUC_weighted_max\", \"run_name\": \"MinMaxScaler, ExtremeRandomTrees\", \"run_properties\": \"copy=True, feature_range=(0, 1\", \"primary_metric\": 0.82947168, \"best_metric\": 0.90654895}, {\"run_id\": \"AutoML_bd0b099e-b97b-4fd1-993f-6bc161325d61_18\", \"run_number\": 23, \"metric\": null, \"status\": \"Queued\", \"run_type\": \"azureml.scriptrun\", \"training_percent\": \"100\", \"start_time\": \"\", \"end_time\": \"\", \"created_time\": \"2021-06-22T17:35:49.414227Z\", \"created_time_dt\": \"2021-06-22T17:35:49.414227Z\", \"duration\": \"0:00:11\", \"iteration\": \"18\", \"goal\": null, \"run_name\": \"Queued\", \"run_properties\": null}], \"children_metrics\": {\"categories\": [0], \"series\": {\"AUC_weighted\": [{\"categories\": [\"0\", \"1\", \"2\", \"3\", \"4\", \"5\", \"6\", \"7\", \"8\", \"9\", \"10\", \"11\", \"12\", \"13\", \"14\", \"15\", \"16\", \"17\"], \"mode\": \"markers\", \"name\": \"AUC_weighted\", \"stepped\": false, \"type\": \"scatter\", \"data\": [0.8840955354735103, 0.8847369443591411, 0.8940867722116005, 0.8706414242952573, 0.9065489482929985, 0.8890849668637998, 0.8923564744513138, 0.8930946552261199, 0.8875562310200182, 0.7496161006793443, 0.8828882340072843, 0.8771395804233905, 0.9000766522146384, 0.8683008014106413, 0.8808236181142359, 0.5203053263648802, 0.8898846274942958, 0.8294716760335182]}, {\"categories\": [\"0\", \"1\", \"2\", \"3\", \"4\", \"5\", \"6\", \"7\", \"8\", \"9\", \"10\", \"11\", \"12\", \"13\", \"14\", \"15\", \"16\", \"17\"], \"mode\": \"lines\", \"name\": \"AUC_weighted_max\", \"stepped\": true, \"type\": \"scatter\", \"data\": [0.8840955354735103, 0.8847369443591411, 0.8940867722116005, 0.8940867722116005, 0.9065489482929985, 0.9065489482929985, 0.9065489482929985, 0.9065489482929985, 0.9065489482929985, 0.9065489482929985, 0.9065489482929985, 0.9065489482929985, 0.9065489482929985, 0.9065489482929985, 0.9065489482929985, 0.9065489482929985, 0.9065489482929985, 0.9065489482929985]}], \"average_precision_score_macro\": [{\"categories\": [\"0\", \"1\", \"2\", \"3\", \"4\", \"5\", \"6\", \"7\", \"8\", \"9\", \"10\", \"11\", \"12\", \"13\", \"14\", \"15\", \"16\", \"17\"], \"mode\": \"markers\", \"name\": \"average_precision_score_macro\", \"stepped\": false, \"type\": \"scatter\", \"data\": [0.8807888197525153, 0.8807340475847678, 0.8858257291685707, 0.8720951504284817, 0.8907384182758064, 0.8751208203915738, 0.8820375295317848, 0.8881871244474604, 0.8832167447908563, 0.7610796181270093, 0.8808020559637235, 0.8796580078830853, 0.8935944157703206, 0.8571553196253564, 0.8641098458802293, 0.5793782772753733, 0.8861516167560053, 0.8296229311891118]}, {\"categories\": [\"0\", \"1\", \"2\", \"3\", \"4\", \"5\", \"6\", \"7\", \"8\", \"9\", \"10\", \"11\", \"12\", \"13\", \"14\", \"15\", \"16\", \"17\"], \"mode\": \"lines\", \"name\": \"average_precision_score_macro_max\", \"stepped\": true, \"type\": \"scatter\", \"data\": [0.8807888197525153, 0.8807888197525153, 0.8858257291685707, 0.8858257291685707, 0.8907384182758064, 0.8907384182758064, 0.8907384182758064, 0.8907384182758064, 0.8907384182758064, 0.8907384182758064, 0.8907384182758064, 0.8907384182758064, 0.8935944157703206, 0.8935944157703206, 0.8935944157703206, 0.8935944157703206, 0.8935944157703206, 0.8935944157703206]}], \"recall_score_weighted\": [{\"categories\": [\"0\", \"1\", \"2\", \"3\", \"4\", \"5\", \"6\", \"7\", \"8\", \"9\", \"10\", \"11\", \"12\", \"13\", \"14\", \"15\", \"16\", \"17\"], \"mode\": \"markers\", \"name\": \"recall_score_weighted\", \"stepped\": false, \"type\": \"scatter\", \"data\": [0.8359770114942527, 0.8358620689655172, 0.8428735632183908, 0.8128735632183908, 0.8291954022988506, 0.8257471264367815, 0.8056321839080459, 0.859425287356322, 0.7927586206896552, 0.7659770114942528, 0.8028735632183908, 0.8162068965517241, 0.8089655172413794, 0.8258620689655173, 0.8257471264367815, 0.6389655172413793, 0.7895402298850575, 0.765632183908046]}, {\"categories\": [\"0\", \"1\", \"2\", \"3\", \"4\", \"5\", \"6\", \"7\", \"8\", \"9\", \"10\", \"11\", \"12\", \"13\", \"14\", \"15\", \"16\", \"17\"], \"mode\": \"lines\", \"name\": \"recall_score_weighted_max\", \"stepped\": true, \"type\": \"scatter\", \"data\": [0.8359770114942527, 0.8359770114942527, 0.8428735632183908, 0.8428735632183908, 0.8428735632183908, 0.8428735632183908, 0.8428735632183908, 0.859425287356322, 0.859425287356322, 0.859425287356322, 0.859425287356322, 0.859425287356322, 0.859425287356322, 0.859425287356322, 0.859425287356322, 0.859425287356322, 0.859425287356322, 0.859425287356322]}], \"matthews_correlation\": [{\"categories\": [\"0\", \"1\", \"2\", \"3\", \"4\", \"5\", \"6\", \"7\", \"8\", \"9\", \"10\", \"11\", \"12\", \"13\", \"14\", \"15\", \"16\", \"17\"], \"mode\": \"markers\", \"name\": \"matthews_correlation\", \"stepped\": false, \"type\": \"scatter\", \"data\": [0.6231314496952846, 0.6345538749068885, 0.6325996650457262, 0.5731180041387542, 0.6098675704207722, 0.5907594832621093, 0.5550429360416558, 0.6803872706830297, 0.5014795227955071, 0.4352854456898543, 0.5434457136314126, 0.5689922979778734, 0.6099473746795432, 0.6112552415194101, 0.6118632452582513, 0.10426477830980234, 0.48176451932509473, 0.4937834895244796]}, {\"categories\": [\"0\", \"1\", \"2\", \"3\", \"4\", \"5\", \"6\", \"7\", \"8\", \"9\", \"10\", \"11\", \"12\", \"13\", \"14\", \"15\", \"16\", \"17\"], \"mode\": \"lines\", \"name\": \"matthews_correlation_max\", \"stepped\": true, \"type\": \"scatter\", \"data\": [0.6231314496952846, 0.6345538749068885, 0.6345538749068885, 0.6345538749068885, 0.6345538749068885, 0.6345538749068885, 0.6345538749068885, 0.6803872706830297, 0.6803872706830297, 0.6803872706830297, 0.6803872706830297, 0.6803872706830297, 0.6803872706830297, 0.6803872706830297, 0.6803872706830297, 0.6803872706830297, 0.6803872706830297, 0.6803872706830297]}], \"recall_score_macro\": [{\"categories\": [\"0\", \"1\", \"2\", \"3\", \"4\", \"5\", \"6\", \"7\", \"8\", \"9\", \"10\", \"11\", \"12\", \"13\", \"14\", \"15\", \"16\", \"17\"], \"mode\": \"markers\", \"name\": \"recall_score_macro\", \"stepped\": false, \"type\": \"scatter\", \"data\": [0.8077082895810014, 0.8130249020938379, 0.8095979313402081, 0.7308155806182122, 0.8098133315006886, 0.7782233147922508, 0.7767848095205074, 0.8161529049071955, 0.6918708703577124, 0.6780357113964093, 0.7119681780208096, 0.7437908378489042, 0.8227265900257891, 0.7952894687311163, 0.8085999885253317, 0.5513534193685796, 0.6851868059476756, 0.7535632695870109]}, {\"categories\": [\"0\", \"1\", \"2\", \"3\", \"4\", \"5\", \"6\", \"7\", \"8\", \"9\", \"10\", \"11\", \"12\", \"13\", \"14\", \"15\", \"16\", \"17\"], \"mode\": \"lines\", \"name\": \"recall_score_macro_max\", \"stepped\": true, \"type\": \"scatter\", \"data\": [0.8077082895810014, 0.8130249020938379, 0.8130249020938379, 0.8130249020938379, 0.8130249020938379, 0.8130249020938379, 0.8130249020938379, 0.8161529049071955, 0.8161529049071955, 0.8161529049071955, 0.8161529049071955, 0.8161529049071955, 0.8227265900257891, 0.8227265900257891, 0.8227265900257891, 0.8227265900257891, 0.8227265900257891, 0.8227265900257891]}], \"precision_score_weighted\": [{\"categories\": [\"0\", \"1\", \"2\", \"3\", \"4\", \"5\", \"6\", \"7\", \"8\", \"9\", \"10\", \"11\", \"12\", \"13\", \"14\", \"15\", \"16\", \"17\"], \"mode\": \"markers\", \"name\": \"precision_score_weighted\", \"stepped\": false, \"type\": \"scatter\", \"data\": [0.8443308716969533, 0.8506678986628277, 0.8524467107056841, 0.8444624240170215, 0.8428187042842217, 0.8371647839094999, 0.8176606854401083, 0.8712892000275808, 0.8232492691937969, 0.7837569262377359, 0.8380758821638132, 0.8333390653574313, 0.8486437657530856, 0.8471006595557314, 0.8453665238879322, 0.6261394969463244, 0.8187148332538138, 0.7915415463760587]}, {\"categories\": [\"0\", \"1\", \"2\", \"3\", \"4\", \"5\", \"6\", \"7\", \"8\", \"9\", \"10\", \"11\", \"12\", \"13\", \"14\", \"15\", \"16\", \"17\"], \"mode\": \"lines\", \"name\": \"precision_score_weighted_max\", \"stepped\": true, \"type\": \"scatter\", \"data\": [0.8443308716969533, 0.8506678986628277, 0.8524467107056841, 0.8524467107056841, 0.8524467107056841, 0.8524467107056841, 0.8524467107056841, 0.8712892000275808, 0.8712892000275808, 0.8712892000275808, 0.8712892000275808, 0.8712892000275808, 0.8712892000275808, 0.8712892000275808, 0.8712892000275808, 0.8712892000275808, 0.8712892000275808, 0.8712892000275808]}], \"precision_score_macro\": [{\"categories\": [\"0\", \"1\", \"2\", \"3\", \"4\", \"5\", \"6\", \"7\", \"8\", \"9\", \"10\", \"11\", \"12\", \"13\", \"14\", \"15\", \"16\", \"17\"], \"mode\": \"markers\", \"name\": \"precision_score_macro\", \"stepped\": false, \"type\": \"scatter\", \"data\": [0.8167365852764965, 0.8232986049897815, 0.824740936812548, 0.8614182114182114, 0.8009388528138528, 0.816363187908147, 0.7792626184202271, 0.8671947315969055, 0.8406782366115199, 0.7703082497212932, 0.8550736855736856, 0.8356406142167012, 0.7893521435994345, 0.8181375040863028, 0.8042202472861041, 0.5543597592139792, 0.8260156052509876, 0.7415137736790213]}, {\"categories\": [\"0\", \"1\", \"2\", \"3\", \"4\", \"5\", \"6\", \"7\", \"8\", \"9\", \"10\", \"11\", \"12\", \"13\", \"14\", \"15\", \"16\", \"17\"], \"mode\": \"lines\", \"name\": \"precision_score_macro_max\", \"stepped\": true, \"type\": \"scatter\", \"data\": [0.8167365852764965, 0.8232986049897815, 0.824740936812548, 0.8614182114182114, 0.8614182114182114, 0.8614182114182114, 0.8614182114182114, 0.8671947315969055, 0.8671947315969055, 0.8671947315969055, 0.8671947315969055, 0.8671947315969055, 0.8671947315969055, 0.8671947315969055, 0.8671947315969055, 0.8671947315969055, 0.8671947315969055, 0.8671947315969055]}], \"f1_score_weighted\": [{\"categories\": [\"0\", \"1\", \"2\", \"3\", \"4\", \"5\", \"6\", \"7\", \"8\", \"9\", \"10\", \"11\", \"12\", \"13\", \"14\", \"15\", \"16\", \"17\"], \"mode\": \"markers\", \"name\": \"f1_score_weighted\", \"stepped\": false, \"type\": \"scatter\", \"data\": [0.8333388901455894, 0.8342588560383983, 0.8415628461700301, 0.7918628111014521, 0.8297909983797181, 0.818961261264753, 0.8041430000189337, 0.8540332802337179, 0.7670455520005826, 0.743922190318357, 0.7770801597498368, 0.8008186115915776, 0.8145568582579269, 0.8229661234123661, 0.8262913746620489, 0.6071892452709331, 0.7598559521097865, 0.7704891398218595]}, {\"categories\": [\"0\", \"1\", \"2\", \"3\", \"4\", \"5\", \"6\", \"7\", \"8\", \"9\", \"10\", \"11\", \"12\", \"13\", \"14\", \"15\", \"16\", \"17\"], \"mode\": \"lines\", \"name\": \"f1_score_weighted_max\", \"stepped\": true, \"type\": \"scatter\", \"data\": [0.8333388901455894, 0.8342588560383983, 0.8415628461700301, 0.8415628461700301, 0.8415628461700301, 0.8415628461700301, 0.8415628461700301, 0.8540332802337179, 0.8540332802337179, 0.8540332802337179, 0.8540332802337179, 0.8540332802337179, 0.8540332802337179, 0.8540332802337179, 0.8540332802337179, 0.8540332802337179, 0.8540332802337179, 0.8540332802337179]}], \"precision_score_micro\": [{\"categories\": [\"0\", \"1\", \"2\", \"3\", \"4\", \"5\", \"6\", \"7\", \"8\", \"9\", \"10\", \"11\", \"12\", \"13\", \"14\", \"15\", \"16\", \"17\"], \"mode\": \"markers\", \"name\": \"precision_score_micro\", \"stepped\": false, \"type\": \"scatter\", \"data\": [0.8359770114942527, 0.8358620689655172, 0.8428735632183908, 0.8128735632183908, 0.8291954022988506, 0.8257471264367815, 0.8056321839080459, 0.859425287356322, 0.7927586206896552, 0.7659770114942528, 0.8028735632183908, 0.8162068965517241, 0.8089655172413794, 0.8258620689655173, 0.8257471264367815, 0.6389655172413793, 0.7895402298850575, 0.765632183908046]}, {\"categories\": [\"0\", \"1\", \"2\", \"3\", \"4\", \"5\", \"6\", \"7\", \"8\", \"9\", \"10\", \"11\", \"12\", \"13\", \"14\", \"15\", \"16\", \"17\"], \"mode\": \"lines\", \"name\": \"precision_score_micro_max\", \"stepped\": true, \"type\": \"scatter\", \"data\": [0.8359770114942527, 0.8359770114942527, 0.8428735632183908, 0.8428735632183908, 0.8428735632183908, 0.8428735632183908, 0.8428735632183908, 0.859425287356322, 0.859425287356322, 0.859425287356322, 0.859425287356322, 0.859425287356322, 0.859425287356322, 0.859425287356322, 0.859425287356322, 0.859425287356322, 0.859425287356322, 0.859425287356322]}], \"AUC_micro\": [{\"categories\": [\"0\", \"1\", \"2\", \"3\", \"4\", \"5\", \"6\", \"7\", \"8\", \"9\", \"10\", \"11\", \"12\", \"13\", \"14\", \"15\", \"16\", \"17\"], \"mode\": \"markers\", \"name\": \"AUC_micro\", \"stepped\": false, \"type\": \"scatter\", \"data\": [0.9035422116527941, 0.9042166732725592, 0.9079515127493725, 0.8757312722948871, 0.9114408772625182, 0.9057196459241643, 0.902845422116528, 0.9061835116924296, 0.8788189985467036, 0.8096416963931828, 0.8742400581318537, 0.8860178359096313, 0.8930159862597437, 0.88485414189457, 0.8901153388822831, 0.6464215880565465, 0.874029462280354, 0.8371817941603912]}, {\"categories\": [\"0\", \"1\", \"2\", \"3\", \"4\", \"5\", \"6\", \"7\", \"8\", \"9\", \"10\", \"11\", \"12\", \"13\", \"14\", \"15\", \"16\", \"17\"], \"mode\": \"lines\", \"name\": \"AUC_micro_max\", \"stepped\": true, \"type\": \"scatter\", \"data\": [0.9035422116527941, 0.9042166732725592, 0.9079515127493725, 0.9079515127493725, 0.9114408772625182, 0.9114408772625182, 0.9114408772625182, 0.9114408772625182, 0.9114408772625182, 0.9114408772625182, 0.9114408772625182, 0.9114408772625182, 0.9114408772625182, 0.9114408772625182, 0.9114408772625182, 0.9114408772625182, 0.9114408772625182, 0.9114408772625182]}], \"average_precision_score_micro\": [{\"categories\": [\"0\", \"1\", \"2\", \"3\", \"4\", \"5\", \"6\", \"7\", \"8\", \"9\", \"10\", \"11\", \"12\", \"13\", \"14\", \"15\", \"16\", \"17\"], \"mode\": \"markers\", \"name\": \"average_precision_score_micro\", \"stepped\": false, \"type\": \"scatter\", \"data\": [0.9020054536251629, 0.9033793522124445, 0.9058069148128395, 0.8782522979288881, 0.914730954396247, 0.9091795099267193, 0.9081837547026221, 0.9086850528032684, 0.8846933681513978, 0.7964089391804331, 0.8788356768785505, 0.8884386054055069, 0.8953703691509531, 0.8888680676853943, 0.8889319354860247, 0.6466874753087125, 0.8812965053621866, 0.8377160213335342]}, {\"categories\": [\"0\", \"1\", \"2\", \"3\", \"4\", \"5\", \"6\", \"7\", \"8\", \"9\", \"10\", \"11\", \"12\", \"13\", \"14\", \"15\", \"16\", \"17\"], \"mode\": \"lines\", \"name\": \"average_precision_score_micro_max\", \"stepped\": true, \"type\": \"scatter\", \"data\": [0.9020054536251629, 0.9033793522124445, 0.9058069148128395, 0.9058069148128395, 0.914730954396247, 0.914730954396247, 0.914730954396247, 0.914730954396247, 0.914730954396247, 0.914730954396247, 0.914730954396247, 0.914730954396247, 0.914730954396247, 0.914730954396247, 0.914730954396247, 0.914730954396247, 0.914730954396247, 0.914730954396247]}], \"average_precision_score_weighted\": [{\"categories\": [\"0\", \"1\", \"2\", \"3\", \"4\", \"5\", \"6\", \"7\", \"8\", \"9\", \"10\", \"11\", \"12\", \"13\", \"14\", \"15\", \"16\", \"17\"], \"mode\": \"markers\", \"name\": \"average_precision_score_weighted\", \"stepped\": false, \"type\": \"scatter\", \"data\": [0.9061112830231934, 0.907154018724502, 0.9094807489550826, 0.8972498272577834, 0.9194785550047735, 0.9073677178178181, 0.9115414272257112, 0.914715278083008, 0.9070486084181212, 0.7960613547349917, 0.9035934691356129, 0.9036877154114707, 0.917082158209996, 0.8917942937838064, 0.8982201903027665, 0.6358285919365991, 0.9109989848878559, 0.8596639819238618]}, {\"categories\": [\"0\", \"1\", \"2\", \"3\", \"4\", \"5\", \"6\", \"7\", \"8\", \"9\", \"10\", \"11\", \"12\", \"13\", \"14\", \"15\", \"16\", \"17\"], \"mode\": \"lines\", \"name\": \"average_precision_score_weighted_max\", \"stepped\": true, \"type\": \"scatter\", \"data\": [0.9061112830231934, 0.907154018724502, 0.9094807489550826, 0.9094807489550826, 0.9194785550047735, 0.9194785550047735, 0.9194785550047735, 0.9194785550047735, 0.9194785550047735, 0.9194785550047735, 0.9194785550047735, 0.9194785550047735, 0.9194785550047735, 0.9194785550047735, 0.9194785550047735, 0.9194785550047735, 0.9194785550047735, 0.9194785550047735]}], \"f1_score_macro\": [{\"categories\": [\"0\", \"1\", \"2\", \"3\", \"4\", \"5\", \"6\", \"7\", \"8\", \"9\", \"10\", \"11\", \"12\", \"13\", \"14\", \"15\", \"16\", \"17\"], \"mode\": \"markers\", \"name\": \"f1_score_macro\", \"stepped\": false, \"type\": \"scatter\", \"data\": [0.8043314151248963, 0.8078501228997539, 0.8094100515764546, 0.747281512605042, 0.7983485614300728, 0.7820524754294776, 0.7698577473223192, 0.828251092732517, 0.7046772610790125, 0.6844538166645457, 0.7259213993415559, 0.7583486442782068, 0.7887365499239333, 0.7916974537093727, 0.7962293435530634, 0.5251633085767229, 0.6943327636166858, 0.7373160328807362]}, {\"categories\": [\"0\", \"1\", \"2\", \"3\", \"4\", \"5\", \"6\", \"7\", \"8\", \"9\", \"10\", \"11\", \"12\", \"13\", \"14\", \"15\", \"16\", \"17\"], \"mode\": \"lines\", \"name\": \"f1_score_macro_max\", \"stepped\": true, \"type\": \"scatter\", \"data\": [0.8043314151248963, 0.8078501228997539, 0.8094100515764546, 0.8094100515764546, 0.8094100515764546, 0.8094100515764546, 0.8094100515764546, 0.828251092732517, 0.828251092732517, 0.828251092732517, 0.828251092732517, 0.828251092732517, 0.828251092732517, 0.828251092732517, 0.828251092732517, 0.828251092732517, 0.828251092732517, 0.828251092732517]}], \"weighted_accuracy\": [{\"categories\": [\"0\", \"1\", \"2\", \"3\", \"4\", \"5\", \"6\", \"7\", \"8\", \"9\", \"10\", \"11\", \"12\", \"13\", \"14\", \"15\", \"16\", \"17\"], \"mode\": \"markers\", \"name\": \"weighted_accuracy\", \"stepped\": false, \"type\": \"scatter\", \"data\": [0.8541321922200625, 0.8502962163535492, 0.8630840799902897, 0.866646691699948, 0.8410778841096453, 0.8540637085895424, 0.8240974496093398, 0.8882307435452343, 0.8536085112495904, 0.8227930918585225, 0.8605050743269806, 0.8641197995277432, 0.7986419719985692, 0.8452325747397215, 0.8355047180351909, 0.6980167624045801, 0.8554766921464749, 0.7720148450102103]}, {\"categories\": [\"0\", \"1\", \"2\", \"3\", \"4\", \"5\", \"6\", \"7\", \"8\", \"9\", \"10\", \"11\", \"12\", \"13\", \"14\", \"15\", \"16\", \"17\"], \"mode\": \"lines\", \"name\": \"weighted_accuracy_max\", \"stepped\": true, \"type\": \"scatter\", \"data\": [0.8541321922200625, 0.8541321922200625, 0.8630840799902897, 0.866646691699948, 0.866646691699948, 0.866646691699948, 0.866646691699948, 0.8882307435452343, 0.8882307435452343, 0.8882307435452343, 0.8882307435452343, 0.8882307435452343, 0.8882307435452343, 0.8882307435452343, 0.8882307435452343, 0.8882307435452343, 0.8882307435452343, 0.8882307435452343]}], \"accuracy\": [{\"categories\": [\"0\", \"1\", \"2\", \"3\", \"4\", \"5\", \"6\", \"7\", \"8\", \"9\", \"10\", \"11\", \"12\", \"13\", \"14\", \"15\", \"16\", \"17\"], \"mode\": \"markers\", \"name\": \"accuracy\", \"stepped\": false, \"type\": \"scatter\", \"data\": [0.8359770114942527, 0.8358620689655172, 0.8428735632183908, 0.8128735632183908, 0.8291954022988506, 0.8257471264367815, 0.8056321839080459, 0.859425287356322, 0.7927586206896552, 0.7659770114942528, 0.8028735632183908, 0.8162068965517241, 0.8089655172413794, 0.8258620689655173, 0.8257471264367815, 0.6389655172413793, 0.7895402298850575, 0.765632183908046]}, {\"categories\": [\"0\", \"1\", \"2\", \"3\", \"4\", \"5\", \"6\", \"7\", \"8\", \"9\", \"10\", \"11\", \"12\", \"13\", \"14\", \"15\", \"16\", \"17\"], \"mode\": \"lines\", \"name\": \"accuracy_max\", \"stepped\": true, \"type\": \"scatter\", \"data\": [0.8359770114942527, 0.8359770114942527, 0.8428735632183908, 0.8428735632183908, 0.8428735632183908, 0.8428735632183908, 0.8428735632183908, 0.859425287356322, 0.859425287356322, 0.859425287356322, 0.859425287356322, 0.859425287356322, 0.859425287356322, 0.859425287356322, 0.859425287356322, 0.859425287356322, 0.859425287356322, 0.859425287356322]}], \"f1_score_micro\": [{\"categories\": [\"0\", \"1\", \"2\", \"3\", \"4\", \"5\", \"6\", \"7\", \"8\", \"9\", \"10\", \"11\", \"12\", \"13\", \"14\", \"15\", \"16\", \"17\"], \"mode\": \"markers\", \"name\": \"f1_score_micro\", \"stepped\": false, \"type\": \"scatter\", \"data\": [0.8359770114942527, 0.8358620689655172, 0.8428735632183908, 0.8128735632183908, 0.8291954022988506, 0.8257471264367815, 0.8056321839080459, 0.859425287356322, 0.7927586206896552, 0.7659770114942528, 0.8028735632183908, 0.8162068965517241, 0.8089655172413794, 0.8258620689655173, 0.8257471264367815, 0.6389655172413793, 0.7895402298850575, 0.765632183908046]}, {\"categories\": [\"0\", \"1\", \"2\", \"3\", \"4\", \"5\", \"6\", \"7\", \"8\", \"9\", \"10\", \"11\", \"12\", \"13\", \"14\", \"15\", \"16\", \"17\"], \"mode\": \"lines\", \"name\": \"f1_score_micro_max\", \"stepped\": true, \"type\": \"scatter\", \"data\": [0.8359770114942527, 0.8359770114942527, 0.8428735632183908, 0.8428735632183908, 0.8428735632183908, 0.8428735632183908, 0.8428735632183908, 0.859425287356322, 0.859425287356322, 0.859425287356322, 0.859425287356322, 0.859425287356322, 0.859425287356322, 0.859425287356322, 0.859425287356322, 0.859425287356322, 0.859425287356322, 0.859425287356322]}], \"balanced_accuracy\": [{\"categories\": [\"0\", \"1\", \"2\", \"3\", \"4\", \"5\", \"6\", \"7\", \"8\", \"9\", \"10\", \"11\", \"12\", \"13\", \"14\", \"15\", \"16\", \"17\"], \"mode\": \"markers\", \"name\": \"balanced_accuracy\", \"stepped\": false, \"type\": \"scatter\", \"data\": [0.8077082895810014, 0.8130249020938379, 0.8095979313402081, 0.7308155806182122, 0.8098133315006886, 0.7782233147922508, 0.7767848095205074, 0.8161529049071955, 0.6918708703577124, 0.6780357113964093, 0.7119681780208096, 0.7437908378489042, 0.8227265900257891, 0.7952894687311163, 0.8085999885253317, 0.5513534193685796, 0.6851868059476756, 0.7535632695870109]}, {\"categories\": [\"0\", \"1\", \"2\", \"3\", \"4\", \"5\", \"6\", \"7\", \"8\", \"9\", \"10\", \"11\", \"12\", \"13\", \"14\", \"15\", \"16\", \"17\"], \"mode\": \"lines\", \"name\": \"balanced_accuracy_max\", \"stepped\": true, \"type\": \"scatter\", \"data\": [0.8077082895810014, 0.8130249020938379, 0.8130249020938379, 0.8130249020938379, 0.8130249020938379, 0.8130249020938379, 0.8130249020938379, 0.8161529049071955, 0.8161529049071955, 0.8161529049071955, 0.8161529049071955, 0.8161529049071955, 0.8227265900257891, 0.8227265900257891, 0.8227265900257891, 0.8227265900257891, 0.8227265900257891, 0.8227265900257891]}], \"recall_score_micro\": [{\"categories\": [\"0\", \"1\", \"2\", \"3\", \"4\", \"5\", \"6\", \"7\", \"8\", \"9\", \"10\", \"11\", \"12\", \"13\", \"14\", \"15\", \"16\", \"17\"], \"mode\": \"markers\", \"name\": \"recall_score_micro\", \"stepped\": false, \"type\": \"scatter\", \"data\": [0.8359770114942527, 0.8358620689655172, 0.8428735632183908, 0.8128735632183908, 0.8291954022988506, 0.8257471264367815, 0.8056321839080459, 0.859425287356322, 0.7927586206896552, 0.7659770114942528, 0.8028735632183908, 0.8162068965517241, 0.8089655172413794, 0.8258620689655173, 0.8257471264367815, 0.6389655172413793, 0.7895402298850575, 0.765632183908046]}, {\"categories\": [\"0\", \"1\", \"2\", \"3\", \"4\", \"5\", \"6\", \"7\", \"8\", \"9\", \"10\", \"11\", \"12\", \"13\", \"14\", \"15\", \"16\", \"17\"], \"mode\": \"lines\", \"name\": \"recall_score_micro_max\", \"stepped\": true, \"type\": \"scatter\", \"data\": [0.8359770114942527, 0.8359770114942527, 0.8428735632183908, 0.8428735632183908, 0.8428735632183908, 0.8428735632183908, 0.8428735632183908, 0.859425287356322, 0.859425287356322, 0.859425287356322, 0.859425287356322, 0.859425287356322, 0.859425287356322, 0.859425287356322, 0.859425287356322, 0.859425287356322, 0.859425287356322, 0.859425287356322]}], \"log_loss\": [{\"categories\": [\"0\", \"1\", \"2\", \"3\", \"4\", \"5\", \"6\", \"7\", \"8\", \"9\", \"10\", \"11\", \"12\", \"13\", \"14\", \"15\", \"16\", \"17\"], \"mode\": \"markers\", \"name\": \"log_loss\", \"stepped\": false, \"type\": \"scatter\", \"data\": [0.4772179826627182, 0.41764279466886123, 0.4930546113930852, 0.45885866573375117, 0.3794009618213995, 0.3978844456006672, 0.38350041564497256, 0.39585200651161906, 0.46057697589074503, 1.2837639362986895, 0.46745853003997073, 0.43820590396040515, 0.4259918678430618, 0.41835246135481163, 0.44949521331537595, 0.7617709563916407, 0.4690359707780295, 0.6426000175166907]}, {\"categories\": [\"0\", \"1\", \"2\", \"3\", \"4\", \"5\", \"6\", \"7\", \"8\", \"9\", \"10\", \"11\", \"12\", \"13\", \"14\", \"15\", \"16\", \"17\"], \"mode\": \"lines\", \"name\": \"log_loss_min\", \"stepped\": true, \"type\": \"scatter\", \"data\": [0.4772179826627182, 0.41764279466886123, 0.41764279466886123, 0.41764279466886123, 0.3794009618213995, 0.3794009618213995, 0.3794009618213995, 0.3794009618213995, 0.3794009618213995, 0.3794009618213995, 0.3794009618213995, 0.3794009618213995, 0.3794009618213995, 0.3794009618213995, 0.3794009618213995, 0.3794009618213995, 0.3794009618213995, 0.3794009618213995]}], \"AUC_macro\": [{\"categories\": [\"0\", \"1\", \"2\", \"3\", \"4\", \"5\", \"6\", \"7\", \"8\", \"9\", \"10\", \"11\", \"12\", \"13\", \"14\", \"15\", \"16\", \"17\"], \"mode\": \"markers\", \"name\": \"AUC_macro\", \"stepped\": false, \"type\": \"scatter\", \"data\": [0.8840955354735103, 0.8847369443591411, 0.8940867722116005, 0.8706414242952573, 0.9065489482929985, 0.8890849668637998, 0.8923254167478423, 0.8930946552261197, 0.8875562310200182, 0.7496161006793443, 0.8828882340072843, 0.8771395804233905, 0.9000766522146384, 0.8683008014106413, 0.8808236181142359, 0.5203053263648802, 0.8898846274942956, 0.8294716760335182]}, {\"categories\": [\"0\", \"1\", \"2\", \"3\", \"4\", \"5\", \"6\", \"7\", \"8\", \"9\", \"10\", \"11\", \"12\", \"13\", \"14\", \"15\", \"16\", \"17\"], \"mode\": \"lines\", \"name\": \"AUC_macro_max\", \"stepped\": true, \"type\": \"scatter\", \"data\": [0.8840955354735103, 0.8847369443591411, 0.8940867722116005, 0.8940867722116005, 0.9065489482929985, 0.9065489482929985, 0.9065489482929985, 0.9065489482929985, 0.9065489482929985, 0.9065489482929985, 0.9065489482929985, 0.9065489482929985, 0.9065489482929985, 0.9065489482929985, 0.9065489482929985, 0.9065489482929985, 0.9065489482929985, 0.9065489482929985]}], \"norm_macro_recall\": [{\"categories\": [\"0\", \"1\", \"2\", \"3\", \"4\", \"5\", \"6\", \"7\", \"8\", \"9\", \"10\", \"11\", \"12\", \"13\", \"14\", \"15\", \"16\", \"17\"], \"mode\": \"markers\", \"name\": \"norm_macro_recall\", \"stepped\": false, \"type\": \"scatter\", \"data\": [0.6154165791620023, 0.626049804187676, 0.6191958626804165, 0.46163116123642434, 0.619626663001377, 0.5564466295845014, 0.553569619041015, 0.632305809814391, 0.38374174071542483, 0.3560714227928186, 0.42393635604161917, 0.4875816756978085, 0.6454531800515781, 0.5905789374622327, 0.6171999770506635, 0.1267612930547713, 0.370373611895351, 0.5071265391740221]}, {\"categories\": [\"0\", \"1\", \"2\", \"3\", \"4\", \"5\", \"6\", \"7\", \"8\", \"9\", \"10\", \"11\", \"12\", \"13\", \"14\", \"15\", \"16\", \"17\"], \"mode\": \"lines\", \"name\": \"norm_macro_recall_max\", \"stepped\": true, \"type\": \"scatter\", \"data\": [0.6154165791620023, 0.626049804187676, 0.626049804187676, 0.626049804187676, 0.626049804187676, 0.626049804187676, 0.626049804187676, 0.632305809814391, 0.632305809814391, 0.632305809814391, 0.632305809814391, 0.632305809814391, 0.6454531800515781, 0.6454531800515781, 0.6454531800515781, 0.6454531800515781, 0.6454531800515781, 0.6454531800515781]}]}, \"metricName\": null, \"primaryMetricName\": \"AUC_weighted\", \"showLegend\": false}, \"run_metrics\": [{\"name\": \"experiment_status\", \"run_id\": \"AutoML_bd0b099e-b97b-4fd1-993f-6bc161325d61\", \"categories\": [0, 1, 2, 3, 4, 5], \"series\": [{\"data\": [\"DatasetEvaluation\", \"FeaturesGeneration\", \"DatasetFeaturization\", \"DatasetFeaturizationCompleted\", \"DatasetCrossValidationSplit\", \"ModelSelection\"]}]}, {\"name\": \"experiment_status_description\", \"run_id\": \"AutoML_bd0b099e-b97b-4fd1-993f-6bc161325d61\", \"categories\": [0, 1, 2, 3, 4, 5], \"series\": [{\"data\": [\"Gathering dataset statistics.\", \"Generating features for the dataset.\", \"Beginning to fit featurizers and featurize the dataset.\", \"Completed fit featurizers and featurizing the dataset.\", \"Generating individually featurized CV splits.\", \"Beginning model selection.\"]}]}], \"run_logs\": \"Your job is submitted in Azure cloud and we are monitoring to get logs...\", \"graph\": {}, \"widget_settings\": {\"childWidgetDisplay\": \"popup\", \"send_telemetry\": false, \"log_level\": \"INFO\", \"sdk_version\": \"1.30.0\"}, \"loading\": false}"
          },
          "metadata": {}
        }
      ],
      "execution_count": 16,
      "metadata": {
        "gather": {
          "logged": 1624382890623
        },
        "jupyter": {
          "outputs_hidden": false,
          "source_hidden": false
        },
        "nteract": {
          "transient": {
            "deleting": false
          }
        }
      }
    },
    {
      "cell_type": "code",
      "source": [
        "# waiting for the run \r\n",
        "\r\n",
        "remote_run.wait_for_completion()"
      ],
      "outputs": [],
      "execution_count": 17,
      "metadata": {
        "collapsed": true,
        "jupyter": {
          "source_hidden": false,
          "outputs_hidden": false
        },
        "nteract": {
          "transient": {
            "deleting": false
          }
        }
      }
    },
    {
      "cell_type": "markdown",
      "source": [
        "## Best Model\n",
        "\n",
        "TODO: In the cell below, get the best model from the automl experiments and display all the properties of the model.\n",
        "\n"
      ],
      "metadata": {}
    },
    {
      "cell_type": "code",
      "source": [
        "# Best model\r\n",
        "\r\n",
        "# Retrieve best model from remote Run\r\n",
        "best_model_output = remote_run.get_pipeline_output(best_model_output_name)\r\n",
        "num_file_downloaded = best_model_output.download('.', show_progress=True)"
      ],
      "outputs": [],
      "execution_count": null,
      "metadata": {
        "gather": {
          "logged": 1598431425670
        },
        "jupyter": {
          "outputs_hidden": false,
          "source_hidden": false
        },
        "nteract": {
          "transient": {
            "deleting": false
          }
        }
      }
    },
    {
      "cell_type": "code",
      "source": [
        "#properties\r\n",
        "\r\n",
        "import pickle\r\n",
        "\r\n",
        "with open(best_model_output._path_on_datastore, \"rb\" ) as f:\r\n",
        "    best_model = pickle.load(f)\r\n",
        "best_model"
      ],
      "outputs": [],
      "execution_count": null,
      "metadata": {
        "collapsed": true,
        "jupyter": {
          "source_hidden": false,
          "outputs_hidden": false
        },
        "nteract": {
          "transient": {
            "deleting": false
          }
        }
      }
    },
    {
      "cell_type": "code",
      "source": [
        "best_model.steps"
      ],
      "outputs": [],
      "execution_count": null,
      "metadata": {
        "collapsed": true,
        "jupyter": {
          "source_hidden": false,
          "outputs_hidden": false
        },
        "nteract": {
          "transient": {
            "deleting": false
          }
        }
      }
    },
    {
      "cell_type": "code",
      "source": [
        "#TODO: Save the best model"
      ],
      "outputs": [],
      "execution_count": null,
      "metadata": {
        "gather": {
          "logged": 1598431426111
        },
        "jupyter": {
          "outputs_hidden": false,
          "source_hidden": false
        },
        "nteract": {
          "transient": {
            "deleting": false
          }
        }
      }
    },
    {
      "cell_type": "markdown",
      "source": [
        "## Model Deployment\n",
        "\n",
        "Remember you have to deploy only one of the two models you trained.. Perform the steps in the rest of this notebook only if you wish to deploy this model.\n",
        "\n",
        "TODO: In the cell below, register the model, create an inference config and deploy the model as a web service."
      ],
      "metadata": {}
    },
    {
      "cell_type": "code",
      "source": [],
      "outputs": [],
      "execution_count": null,
      "metadata": {
        "gather": {
          "logged": 1598431435189
        },
        "jupyter": {
          "outputs_hidden": false,
          "source_hidden": false
        },
        "nteract": {
          "transient": {
            "deleting": false
          }
        }
      }
    },
    {
      "cell_type": "markdown",
      "source": [
        "TODO: In the cell below, send a request to the web service you deployed to test it."
      ],
      "metadata": {
        "collapsed": true,
        "gather": {
          "logged": 1598431657736
        },
        "jupyter": {
          "outputs_hidden": false,
          "source_hidden": false
        },
        "nteract": {
          "transient": {
            "deleting": false
          }
        }
      }
    },
    {
      "cell_type": "code",
      "source": [],
      "outputs": [],
      "execution_count": null,
      "metadata": {
        "gather": {
          "logged": 1598432707604
        },
        "jupyter": {
          "outputs_hidden": false,
          "source_hidden": false
        },
        "nteract": {
          "transient": {
            "deleting": false
          }
        }
      }
    },
    {
      "cell_type": "markdown",
      "source": [
        "TODO: In the cell below, print the logs of the web service and delete the service"
      ],
      "metadata": {
        "collapsed": true,
        "gather": {
          "logged": 1598432765711
        },
        "jupyter": {
          "outputs_hidden": false,
          "source_hidden": false
        },
        "nteract": {
          "transient": {
            "deleting": false
          }
        }
      }
    },
    {
      "cell_type": "code",
      "source": [],
      "outputs": [],
      "execution_count": null,
      "metadata": {
        "jupyter": {
          "outputs_hidden": false,
          "source_hidden": false
        },
        "nteract": {
          "transient": {
            "deleting": false
          }
        }
      }
    }
  ],
  "metadata": {
    "kernel_info": {
      "name": "python3"
    },
    "kernelspec": {
      "name": "python3",
      "language": "python",
      "display_name": "Python 3"
    },
    "language_info": {
      "name": "python",
      "version": "3.6.9",
      "mimetype": "text/x-python",
      "codemirror_mode": {
        "name": "ipython",
        "version": 3
      },
      "pygments_lexer": "ipython3",
      "nbconvert_exporter": "python",
      "file_extension": ".py"
    },
    "nteract": {
      "version": "nteract-front-end@1.0.0"
    },
    "microsoft": {
      "host": {
        "AzureML": {
          "notebookHasBeenCompleted": true
        }
      }
    }
  },
  "nbformat": 4,
  "nbformat_minor": 2
}