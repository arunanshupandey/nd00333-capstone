{
  "cells": [
    {
      "cell_type": "markdown",
      "source": [
        "# Automated ML\n",
        "\n",
        "TODO: Import Dependencies. In the cell below, import all the dependencies that you will need to complete the project."
      ],
      "metadata": {}
    },
    {
      "cell_type": "code",
      "source": [
        "import logging\r\n",
        "import os\r\n",
        "import csv\r\n",
        "\r\n",
        "from matplotlib import pyplot as plt\r\n",
        "import numpy as np\r\n",
        "import pandas as pd\r\n",
        "from sklearn import datasets\r\n",
        "import pkg_resources\r\n",
        "\r\n",
        "import azureml.core\r\n",
        "from azureml.core.experiment import Experiment\r\n",
        "from azureml.core.workspace import Workspace\r\n",
        "from azureml.train.automl import AutoMLConfig\r\n",
        "from azureml.core.dataset import Dataset\r\n",
        "\r\n",
        "from azureml.pipeline.steps import AutoMLStep\r\n",
        "\r\n",
        "# Check core SDK version number\r\n",
        "print(\"SDK version:\", azureml.core.VERSION)"
      ],
      "outputs": [
        {
          "output_type": "stream",
          "name": "stdout",
          "text": [
            "SDK version: 1.30.0\n"
          ]
        }
      ],
      "execution_count": 1,
      "metadata": {
        "gather": {
          "logged": 1624432920111
        },
        "jupyter": {
          "outputs_hidden": false,
          "source_hidden": false
        },
        "nteract": {
          "transient": {
            "deleting": false
          }
        }
      }
    },
    {
      "cell_type": "markdown",
      "source": [
        "## Dataset\n",
        "\n",
        "### Overview\n",
        "TODO: In this markdown cell, give an overview of the dataset you are using. Also mention the task you will be performing.\n",
        "\n",
        "\n",
        "TODO: Get data. In the cell below, write code to access the data you will be using in this project. Remember that the dataset needs to be external."
      ],
      "metadata": {}
    },
    {
      "cell_type": "code",
      "source": [
        "ws = Workspace.from_config()\n",
        "\n",
        "# choose a name for experiment\n",
        "experiment_name = 'CapstoneProject'\n",
        "project_folder = './capstone-project'\n",
        "\n",
        "experiment=Experiment(ws, experiment_name)\n",
        "experiment"
      ],
      "outputs": [
        {
          "output_type": "execute_result",
          "execution_count": 2,
          "data": {
            "text/plain": "Experiment(Name: CapstoneProject,\nWorkspace: quick-starts-ws-147759)",
            "text/html": "<table style=\"width:100%\"><tr><th>Name</th><th>Workspace</th><th>Report Page</th><th>Docs Page</th></tr><tr><td>CapstoneProject</td><td>quick-starts-ws-147759</td><td><a href=\"https://ml.azure.com/experiments/id/e56f77dd-2b29-47fb-abd9-b05a4150c043?wsid=/subscriptions/f9d5a085-54dc-4215-9ba6-dad5d86e60a0/resourcegroups/aml-quickstarts-147759/workspaces/quick-starts-ws-147759&amp;tid=660b3398-b80e-49d2-bc5b-ac1dc93b5254\" target=\"_blank\" rel=\"noopener\">Link to Azure Machine Learning studio</a></td><td><a href=\"https://docs.microsoft.com/en-us/python/api/azureml-core/azureml.core.experiment.Experiment?view=azure-ml-py\" target=\"_blank\" rel=\"noopener\">Link to Documentation</a></td></tr></table>"
          },
          "metadata": {}
        }
      ],
      "execution_count": 2,
      "metadata": {
        "gather": {
          "logged": 1624432920798
        },
        "jupyter": {
          "outputs_hidden": false,
          "source_hidden": false
        },
        "nteract": {
          "transient": {
            "deleting": false
          }
        }
      }
    },
    {
      "cell_type": "code",
      "source": [
        "# Setting up the compute cluster\r\n",
        "\r\n",
        "from azureml.core.compute import AmlCompute\r\n",
        "from azureml.core.compute import ComputeTarget\r\n",
        "from azureml.core.compute_target import ComputeTargetException\r\n",
        "\r\n",
        "# NOTE: update the cluster name to match the existing cluster\r\n",
        "# Choose a name for your CPU cluster\r\n",
        "amlcompute_cluster_name = \"CapstoneAML\"\r\n",
        "\r\n",
        "# Verify that cluster does not exist already\r\n",
        "try:\r\n",
        "    compute_target = ComputeTarget(workspace=ws, name=amlcompute_cluster_name)\r\n",
        "    print('Found existing cluster, use it.')\r\n",
        "except ComputeTargetException:\r\n",
        "    compute_config = AmlCompute.provisioning_configuration(vm_size='STANDARD_DS3_V2',\r\n",
        "                                                           min_nodes=1, # for GPU, use \"STANDARD_NC6\"\r\n",
        "                                                           #vm_priority = 'lowpriority', # optional\r\n",
        "                                                           max_nodes=6)\r\n",
        "    compute_target = ComputeTarget.create(ws, amlcompute_cluster_name, compute_config)\r\n",
        "\r\n",
        "compute_target.wait_for_completion(show_output=True, min_node_count = 1, timeout_in_minutes = 10)\r\n",
        "# For a more detailed view of current AmlCompute status, use get_status()."
      ],
      "outputs": [
        {
          "output_type": "stream",
          "name": "stdout",
          "text": [
            "Found existing cluster, use it.\n",
            "Succeeded\n",
            "AmlCompute wait for completion finished\n",
            "\n",
            "Minimum number of nodes requested have been provisioned\n"
          ]
        }
      ],
      "execution_count": 3,
      "metadata": {
        "collapsed": true,
        "jupyter": {
          "source_hidden": false,
          "outputs_hidden": false
        },
        "nteract": {
          "transient": {
            "deleting": false
          }
        },
        "gather": {
          "logged": 1624432921374
        }
      }
    },
    {
      "cell_type": "code",
      "source": [
        "found = False\r\n",
        "key = \"HeartFailureRate\"\r\n",
        "description_text = \"Dataset for heart failure recommendation\"\r\n",
        "\r\n",
        "if key in ws.datasets.keys(): \r\n",
        "        found = True\r\n",
        "        dataset = ws.datasets[key] \r\n",
        "\r\n",
        "df = dataset.to_pandas_dataframe()\r\n",
        "df.describe()"
      ],
      "outputs": [
        {
          "output_type": "execute_result",
          "execution_count": 4,
          "data": {
            "text/plain": "              age     anaemia  creatinine_phosphokinase    diabetes  \\\ncount  299.000000  299.000000                299.000000  299.000000   \nmean    60.833893    0.431438                581.839465    0.418060   \nstd     11.894809    0.496107                970.287881    0.494067   \nmin     40.000000    0.000000                 23.000000    0.000000   \n25%     51.000000    0.000000                116.500000    0.000000   \n50%     60.000000    0.000000                250.000000    0.000000   \n75%     70.000000    1.000000                582.000000    1.000000   \nmax     95.000000    1.000000               7861.000000    1.000000   \n\n       ejection_fraction  high_blood_pressure      platelets  \\\ncount         299.000000           299.000000     299.000000   \nmean           38.083612             0.351171  263358.029264   \nstd            11.834841             0.478136   97804.236869   \nmin            14.000000             0.000000   25100.000000   \n25%            30.000000             0.000000  212500.000000   \n50%            38.000000             0.000000  262000.000000   \n75%            45.000000             1.000000  303500.000000   \nmax            80.000000             1.000000  850000.000000   \n\n       serum_creatinine  serum_sodium         sex    smoking        time  \\\ncount         299.00000    299.000000  299.000000  299.00000  299.000000   \nmean            1.39388    136.625418    0.648829    0.32107  130.260870   \nstd             1.03451      4.412477    0.478136    0.46767   77.614208   \nmin             0.50000    113.000000    0.000000    0.00000    4.000000   \n25%             0.90000    134.000000    0.000000    0.00000   73.000000   \n50%             1.10000    137.000000    1.000000    0.00000  115.000000   \n75%             1.40000    140.000000    1.000000    1.00000  203.000000   \nmax             9.40000    148.000000    1.000000    1.00000  285.000000   \n\n       DEATH_EVENT  \ncount    299.00000  \nmean       0.32107  \nstd        0.46767  \nmin        0.00000  \n25%        0.00000  \n50%        0.00000  \n75%        1.00000  \nmax        1.00000  ",
            "text/html": "<div>\n<style scoped>\n    .dataframe tbody tr th:only-of-type {\n        vertical-align: middle;\n    }\n\n    .dataframe tbody tr th {\n        vertical-align: top;\n    }\n\n    .dataframe thead th {\n        text-align: right;\n    }\n</style>\n<table border=\"1\" class=\"dataframe\">\n  <thead>\n    <tr style=\"text-align: right;\">\n      <th></th>\n      <th>age</th>\n      <th>anaemia</th>\n      <th>creatinine_phosphokinase</th>\n      <th>diabetes</th>\n      <th>ejection_fraction</th>\n      <th>high_blood_pressure</th>\n      <th>platelets</th>\n      <th>serum_creatinine</th>\n      <th>serum_sodium</th>\n      <th>sex</th>\n      <th>smoking</th>\n      <th>time</th>\n      <th>DEATH_EVENT</th>\n    </tr>\n  </thead>\n  <tbody>\n    <tr>\n      <th>count</th>\n      <td>299.000000</td>\n      <td>299.000000</td>\n      <td>299.000000</td>\n      <td>299.000000</td>\n      <td>299.000000</td>\n      <td>299.000000</td>\n      <td>299.000000</td>\n      <td>299.00000</td>\n      <td>299.000000</td>\n      <td>299.000000</td>\n      <td>299.00000</td>\n      <td>299.000000</td>\n      <td>299.00000</td>\n    </tr>\n    <tr>\n      <th>mean</th>\n      <td>60.833893</td>\n      <td>0.431438</td>\n      <td>581.839465</td>\n      <td>0.418060</td>\n      <td>38.083612</td>\n      <td>0.351171</td>\n      <td>263358.029264</td>\n      <td>1.39388</td>\n      <td>136.625418</td>\n      <td>0.648829</td>\n      <td>0.32107</td>\n      <td>130.260870</td>\n      <td>0.32107</td>\n    </tr>\n    <tr>\n      <th>std</th>\n      <td>11.894809</td>\n      <td>0.496107</td>\n      <td>970.287881</td>\n      <td>0.494067</td>\n      <td>11.834841</td>\n      <td>0.478136</td>\n      <td>97804.236869</td>\n      <td>1.03451</td>\n      <td>4.412477</td>\n      <td>0.478136</td>\n      <td>0.46767</td>\n      <td>77.614208</td>\n      <td>0.46767</td>\n    </tr>\n    <tr>\n      <th>min</th>\n      <td>40.000000</td>\n      <td>0.000000</td>\n      <td>23.000000</td>\n      <td>0.000000</td>\n      <td>14.000000</td>\n      <td>0.000000</td>\n      <td>25100.000000</td>\n      <td>0.50000</td>\n      <td>113.000000</td>\n      <td>0.000000</td>\n      <td>0.00000</td>\n      <td>4.000000</td>\n      <td>0.00000</td>\n    </tr>\n    <tr>\n      <th>25%</th>\n      <td>51.000000</td>\n      <td>0.000000</td>\n      <td>116.500000</td>\n      <td>0.000000</td>\n      <td>30.000000</td>\n      <td>0.000000</td>\n      <td>212500.000000</td>\n      <td>0.90000</td>\n      <td>134.000000</td>\n      <td>0.000000</td>\n      <td>0.00000</td>\n      <td>73.000000</td>\n      <td>0.00000</td>\n    </tr>\n    <tr>\n      <th>50%</th>\n      <td>60.000000</td>\n      <td>0.000000</td>\n      <td>250.000000</td>\n      <td>0.000000</td>\n      <td>38.000000</td>\n      <td>0.000000</td>\n      <td>262000.000000</td>\n      <td>1.10000</td>\n      <td>137.000000</td>\n      <td>1.000000</td>\n      <td>0.00000</td>\n      <td>115.000000</td>\n      <td>0.00000</td>\n    </tr>\n    <tr>\n      <th>75%</th>\n      <td>70.000000</td>\n      <td>1.000000</td>\n      <td>582.000000</td>\n      <td>1.000000</td>\n      <td>45.000000</td>\n      <td>1.000000</td>\n      <td>303500.000000</td>\n      <td>1.40000</td>\n      <td>140.000000</td>\n      <td>1.000000</td>\n      <td>1.00000</td>\n      <td>203.000000</td>\n      <td>1.00000</td>\n    </tr>\n    <tr>\n      <th>max</th>\n      <td>95.000000</td>\n      <td>1.000000</td>\n      <td>7861.000000</td>\n      <td>1.000000</td>\n      <td>80.000000</td>\n      <td>1.000000</td>\n      <td>850000.000000</td>\n      <td>9.40000</td>\n      <td>148.000000</td>\n      <td>1.000000</td>\n      <td>1.00000</td>\n      <td>285.000000</td>\n      <td>1.00000</td>\n    </tr>\n  </tbody>\n</table>\n</div>"
          },
          "metadata": {}
        }
      ],
      "execution_count": 4,
      "metadata": {
        "collapsed": true,
        "jupyter": {
          "source_hidden": false,
          "outputs_hidden": false
        },
        "nteract": {
          "transient": {
            "deleting": false
          }
        },
        "gather": {
          "logged": 1624432929116
        }
      }
    },
    {
      "cell_type": "markdown",
      "source": [
        "## AutoML Configuration\n",
        "\n",
        "TODO: Explain why you chose the automl settings and cofiguration you used below.\n",
        "\n",
        "I have chosen experimentation time out as the dataset is smaller and it can be covered within 20 minutes. \n",
        "The max concurrent iteration is 5 ( 1 less than total number of compute nodes in the cluster). \n",
        "The primary_metric is chosen as AUC_weighted orginally to handle balanced data better. \n"
      ],
      "metadata": {}
    },
    {
      "cell_type": "code",
      "source": [
        "# TODO: Put your automl settings here\n",
        "automl_settings = {\n",
        "    \"experiment_timeout_minutes\": 20,\n",
        "    \"max_concurrent_iterations\": 5,\n",
        "    \"primary_metric\" : 'accuracy'\n",
        "}\n",
        "\n",
        "# TODO: Put your automl config here\n",
        "automl_config = AutoMLConfig(compute_target=compute_target,\n",
        "                             task = \"classification\",\n",
        "                             training_data=dataset,\n",
        "                             label_column_name=\"DEATH_EVENT\",   \n",
        "                             path = project_folder,\n",
        "                             enable_early_stopping= True,\n",
        "                             featurization= 'auto',\n",
        "                             debug_log = \"automl_errors.log\",\n",
        "                             **automl_settings\n",
        "                            )"
      ],
      "outputs": [],
      "execution_count": 8,
      "metadata": {
        "gather": {
          "logged": 1624433601591
        },
        "jupyter": {
          "outputs_hidden": false,
          "source_hidden": false
        },
        "nteract": {
          "transient": {
            "deleting": false
          }
        }
      }
    },
    {
      "cell_type": "code",
      "source": [
        "# Creating a pipeline "
      ],
      "outputs": [],
      "execution_count": null,
      "metadata": {
        "collapsed": true,
        "jupyter": {
          "source_hidden": false,
          "outputs_hidden": false
        },
        "nteract": {
          "transient": {
            "deleting": false
          }
        }
      }
    },
    {
      "cell_type": "code",
      "source": [
        "# TODO: Submit your experiment\n",
        "remote_run = experiment.submit(automl_config,show_output=True)"
      ],
      "outputs": [
        {
          "output_type": "stream",
          "name": "stdout",
          "text": [
            "Submitting remote run.\n"
          ]
        },
        {
          "output_type": "display_data",
          "data": {
            "text/plain": "<IPython.core.display.HTML object>",
            "text/html": "<table style=\"width:100%\"><tr><th>Experiment</th><th>Id</th><th>Type</th><th>Status</th><th>Details Page</th><th>Docs Page</th></tr><tr><td>CapstoneProject</td><td>AutoML_f2207e5b-cc6f-4ff2-bdf6-32b2158456e2</td><td>automl</td><td>NotStarted</td><td><a href=\"https://ml.azure.com/runs/AutoML_f2207e5b-cc6f-4ff2-bdf6-32b2158456e2?wsid=/subscriptions/f9d5a085-54dc-4215-9ba6-dad5d86e60a0/resourcegroups/aml-quickstarts-147759/workspaces/quick-starts-ws-147759&amp;tid=660b3398-b80e-49d2-bc5b-ac1dc93b5254\" target=\"_blank\" rel=\"noopener\">Link to Azure Machine Learning studio</a></td><td><a href=\"https://docs.microsoft.com/en-us/python/api/overview/azure/ml/intro?view=azure-ml-py\" target=\"_blank\" rel=\"noopener\">Link to Documentation</a></td></tr></table>"
          },
          "metadata": {}
        }
      ],
      "execution_count": 9,
      "metadata": {
        "gather": {
          "logged": 1624433613828
        },
        "jupyter": {
          "outputs_hidden": false,
          "source_hidden": false
        },
        "nteract": {
          "transient": {
            "deleting": false
          }
        }
      }
    },
    {
      "cell_type": "markdown",
      "source": [
        "## Run Details\n",
        "\n",
        "OPTIONAL: Write about the different models trained and their performance. Why do you think some models did better than others?\n",
        "\n",
        "TODO: In the cell below, use the `RunDetails` widget to show the different experiments."
      ],
      "metadata": {}
    },
    {
      "cell_type": "code",
      "source": [
        "from azureml.widgets import RunDetails\r\n",
        "RunDetails(remote_run).show()"
      ],
      "outputs": [
        {
          "output_type": "display_data",
          "data": {
            "text/plain": "_AutoMLWidget(widget_settings={'childWidgetDisplay': 'popup', 'send_telemetry': False, 'log_level': 'INFO', 's…",
            "application/vnd.jupyter.widget-view+json": {
              "version_major": 2,
              "version_minor": 0,
              "model_id": "a8a075bd936b48828c871daf4e29549f"
            }
          },
          "metadata": {}
        },
        {
          "output_type": "display_data",
          "data": {
            "application/aml.mini.widget.v1": "{\"status\": \"Completed\", \"workbench_run_details_uri\": \"https://ml.azure.com/runs/AutoML_f2207e5b-cc6f-4ff2-bdf6-32b2158456e2?wsid=/subscriptions/f9d5a085-54dc-4215-9ba6-dad5d86e60a0/resourcegroups/aml-quickstarts-147759/workspaces/quick-starts-ws-147759&tid=660b3398-b80e-49d2-bc5b-ac1dc93b5254\", \"run_id\": \"AutoML_f2207e5b-cc6f-4ff2-bdf6-32b2158456e2\", \"run_properties\": {\"run_id\": \"AutoML_f2207e5b-cc6f-4ff2-bdf6-32b2158456e2\", \"created_utc\": \"2021-06-23T07:33:31.411079Z\", \"properties\": {\"num_iterations\": \"1000\", \"training_type\": \"TrainFull\", \"acquisition_function\": \"EI\", \"primary_metric\": \"accuracy\", \"train_split\": \"0\", \"acquisition_parameter\": \"0\", \"num_cross_validation\": null, \"target\": \"CapstoneAML\", \"AMLSettingsJsonString\": \"{\\\"path\\\":null,\\\"name\\\":\\\"CapstoneProject\\\",\\\"subscription_id\\\":\\\"f9d5a085-54dc-4215-9ba6-dad5d86e60a0\\\",\\\"resource_group\\\":\\\"aml-quickstarts-147759\\\",\\\"workspace_name\\\":\\\"quick-starts-ws-147759\\\",\\\"region\\\":\\\"southcentralus\\\",\\\"compute_target\\\":\\\"CapstoneAML\\\",\\\"spark_service\\\":null,\\\"azure_service\\\":\\\"remote\\\",\\\"many_models\\\":false,\\\"pipeline_fetch_max_batch_size\\\":1,\\\"enable_batch_run\\\":false,\\\"enable_run_restructure\\\":false,\\\"start_auxiliary_runs_before_parent_complete\\\":false,\\\"enable_code_generation\\\":false,\\\"iterations\\\":1000,\\\"primary_metric\\\":\\\"accuracy\\\",\\\"task_type\\\":\\\"classification\\\",\\\"data_script\\\":null,\\\"test_size\\\":0.0,\\\"validation_size\\\":0.0,\\\"n_cross_validations\\\":null,\\\"y_min\\\":null,\\\"y_max\\\":null,\\\"num_classes\\\":null,\\\"featurization\\\":\\\"auto\\\",\\\"_ignore_package_version_incompatibilities\\\":false,\\\"is_timeseries\\\":false,\\\"max_cores_per_iteration\\\":1,\\\"max_concurrent_iterations\\\":5,\\\"iteration_timeout_minutes\\\":null,\\\"mem_in_mb\\\":null,\\\"enforce_time_on_windows\\\":false,\\\"experiment_timeout_minutes\\\":20,\\\"experiment_exit_score\\\":null,\\\"whitelist_models\\\":null,\\\"blacklist_algos\\\":[\\\"TensorFlowLinearClassifier\\\",\\\"TensorFlowDNN\\\"],\\\"supported_models\\\":[\\\"LogisticRegression\\\",\\\"SVM\\\",\\\"ExtremeRandomTrees\\\",\\\"KNN\\\",\\\"GradientBoosting\\\",\\\"RandomForest\\\",\\\"SGD\\\",\\\"LinearSVM\\\",\\\"BernoulliNaiveBayes\\\",\\\"TensorFlowDNN\\\",\\\"XGBoostClassifier\\\",\\\"AveragedPerceptronClassifier\\\",\\\"MultinomialNaiveBayes\\\",\\\"TensorFlowLinearClassifier\\\",\\\"LightGBM\\\",\\\"DecisionTree\\\"],\\\"private_models\\\":[],\\\"auto_blacklist\\\":true,\\\"blacklist_samples_reached\\\":false,\\\"exclude_nan_labels\\\":true,\\\"verbosity\\\":20,\\\"_debug_log\\\":\\\"azureml_automl.log\\\",\\\"show_warnings\\\":false,\\\"model_explainability\\\":true,\\\"service_url\\\":null,\\\"sdk_url\\\":null,\\\"sdk_packages\\\":null,\\\"enable_onnx_compatible_models\\\":false,\\\"enable_split_onnx_featurizer_estimator_models\\\":false,\\\"vm_type\\\":\\\"STANDARD_DS3_V2\\\",\\\"telemetry_verbosity\\\":20,\\\"send_telemetry\\\":true,\\\"enable_dnn\\\":false,\\\"scenario\\\":\\\"SDK-1.13.0\\\",\\\"environment_label\\\":null,\\\"save_mlflow\\\":false,\\\"force_text_dnn\\\":false,\\\"enable_feature_sweeping\\\":true,\\\"enable_early_stopping\\\":true,\\\"early_stopping_n_iters\\\":10,\\\"metrics\\\":null,\\\"enable_metric_confidence\\\":false,\\\"enable_ensembling\\\":true,\\\"enable_stack_ensembling\\\":true,\\\"ensemble_iterations\\\":15,\\\"enable_tf\\\":false,\\\"enable_subsampling\\\":null,\\\"subsample_seed\\\":null,\\\"enable_nimbusml\\\":false,\\\"enable_streaming\\\":false,\\\"force_streaming\\\":false,\\\"track_child_runs\\\":true,\\\"allowed_private_models\\\":[],\\\"label_column_name\\\":\\\"DEATH_EVENT\\\",\\\"weight_column_name\\\":null,\\\"cv_split_column_names\\\":null,\\\"enable_local_managed\\\":false,\\\"_local_managed_run_id\\\":null,\\\"cost_mode\\\":1,\\\"lag_length\\\":0,\\\"metric_operation\\\":\\\"maximize\\\",\\\"preprocess\\\":true}\", \"DataPrepJsonString\": \"{\\\\\\\"training_data\\\\\\\": {\\\\\\\"datasetId\\\\\\\": \\\\\\\"eaa40db1-4867-4f2b-b967-5b07db99c296\\\\\\\"}, \\\\\\\"datasets\\\\\\\": 0}\", \"EnableSubsampling\": null, \"runTemplate\": \"AutoML\", \"azureml.runsource\": \"automl\", \"display_task_type\": \"classification\", \"dependencies_versions\": \"{\\\"azureml-widgets\\\": \\\"1.30.0\\\", \\\"azureml-train\\\": \\\"1.30.0\\\", \\\"azureml-train-restclients-hyperdrive\\\": \\\"1.30.0\\\", \\\"azureml-train-core\\\": \\\"1.30.0\\\", \\\"azureml-train-automl\\\": \\\"1.30.0\\\", \\\"azureml-train-automl-runtime\\\": \\\"1.30.0\\\", \\\"azureml-train-automl-client\\\": \\\"1.30.0\\\", \\\"azureml-tensorboard\\\": \\\"1.30.0\\\", \\\"azureml-telemetry\\\": \\\"1.30.0\\\", \\\"azureml-sdk\\\": \\\"1.30.0\\\", \\\"azureml-samples\\\": \\\"0+unknown\\\", \\\"azureml-pipeline\\\": \\\"1.30.0\\\", \\\"azureml-pipeline-steps\\\": \\\"1.30.0\\\", \\\"azureml-pipeline-core\\\": \\\"1.30.0\\\", \\\"azureml-opendatasets\\\": \\\"1.30.0\\\", \\\"azureml-model-management-sdk\\\": \\\"1.0.1b6.post1\\\", \\\"azureml-mlflow\\\": \\\"1.30.0\\\", \\\"azureml-interpret\\\": \\\"1.30.0\\\", \\\"azureml-explain-model\\\": \\\"1.30.0\\\", \\\"azureml-defaults\\\": \\\"1.30.0\\\", \\\"azureml-dataset-runtime\\\": \\\"1.30.0\\\", \\\"azureml-dataprep\\\": \\\"2.15.1\\\", \\\"azureml-dataprep-rslex\\\": \\\"1.13.0\\\", \\\"azureml-dataprep-native\\\": \\\"33.0.0\\\", \\\"azureml-datadrift\\\": \\\"1.30.0\\\", \\\"azureml-core\\\": \\\"1.30.0\\\", \\\"azureml-contrib-services\\\": \\\"1.30.0\\\", \\\"azureml-contrib-server\\\": \\\"1.30.0\\\", \\\"azureml-contrib-reinforcementlearning\\\": \\\"1.30.0\\\", \\\"azureml-contrib-pipeline-steps\\\": \\\"1.30.0\\\", \\\"azureml-contrib-notebook\\\": \\\"1.30.0\\\", \\\"azureml-contrib-fairness\\\": \\\"1.30.0\\\", \\\"azureml-contrib-dataset\\\": \\\"1.30.0\\\", \\\"azureml-cli-common\\\": \\\"1.30.0\\\", \\\"azureml-automl-runtime\\\": \\\"1.30.0\\\", \\\"azureml-automl-dnn-nlp\\\": \\\"1.30.0\\\", \\\"azureml-automl-core\\\": \\\"1.30.0\\\", \\\"azureml-accel-models\\\": \\\"1.30.0\\\"}\", \"_aml_system_scenario_identification\": \"Remote.Parent\", \"ClientType\": \"SDK\", \"environment_cpu_name\": \"AzureML-AutoML\", \"environment_cpu_label\": \"prod\", \"environment_gpu_name\": \"AzureML-AutoML-GPU\", \"environment_gpu_label\": \"prod\", \"root_attribution\": \"automl\", \"attribution\": \"AutoML\", \"Orchestrator\": \"AutoML\", \"CancelUri\": \"https://southcentralus.api.azureml.ms/jasmine/v1.0/subscriptions/f9d5a085-54dc-4215-9ba6-dad5d86e60a0/resourceGroups/aml-quickstarts-147759/providers/Microsoft.MachineLearningServices/workspaces/quick-starts-ws-147759/experimentids/e56f77dd-2b29-47fb-abd9-b05a4150c043/cancel/AutoML_f2207e5b-cc6f-4ff2-bdf6-32b2158456e2\", \"azureml.git.repository_uri\": \"https://github.com/arunanshupandey/nd00333-capstone.git\", \"mlflow.source.git.repoURL\": \"https://github.com/arunanshupandey/nd00333-capstone.git\", \"azureml.git.branch\": \"master\", \"mlflow.source.git.branch\": \"master\", \"azureml.git.commit\": \"013015e1e13d1efc29173edccdffcfc64763f47a\", \"mlflow.source.git.commit\": \"013015e1e13d1efc29173edccdffcfc64763f47a\", \"azureml.git.dirty\": \"False\", \"ClientSdkVersion\": \"1.30.0\", \"snapshotId\": \"00000000-0000-0000-0000-000000000000\", \"SetupRunId\": \"AutoML_f2207e5b-cc6f-4ff2-bdf6-32b2158456e2_setup\", \"SetupRunContainerId\": \"dcid.AutoML_f2207e5b-cc6f-4ff2-bdf6-32b2158456e2_setup\", \"FeaturizationRunJsonPath\": \"featurizer_container.json\", \"FeaturizationRunId\": \"AutoML_f2207e5b-cc6f-4ff2-bdf6-32b2158456e2_featurize\", \"ProblemInfoJsonString\": \"{\\\"dataset_num_categorical\\\": 0, \\\"is_sparse\\\": false, \\\"subsampling\\\": false, \\\"has_extra_col\\\": true, \\\"dataset_classes\\\": 2, \\\"dataset_features\\\": 12, \\\"dataset_samples\\\": 299, \\\"single_frequency_class_detected\\\": false}\", \"ModelExplainRunId\": \"AutoML_f2207e5b-cc6f-4ff2-bdf6-32b2158456e2_ModelExplain\"}, \"tags\": {\"model_explain_run\": \"best_run\", \"_aml_system_azureml.automlComponent\": \"AutoML\", \"pipeline_id\": \"\", \"score\": \"\", \"predicted_cost\": \"\", \"fit_time\": \"\", \"training_percent\": \"\", \"iteration\": \"\", \"run_preprocessor\": \"\", \"run_algorithm\": \"\", \"dynamic_whitelisting_iterations\": \"<25>;<30>;<35>;\", \"automl_best_child_run_id\": \"AutoML_f2207e5b-cc6f-4ff2-bdf6-32b2158456e2_38\", \"model_explain_best_run_child_id\": \"AutoML_f2207e5b-cc6f-4ff2-bdf6-32b2158456e2_38\"}, \"end_time_utc\": \"2021-06-23T07:46:38.89003Z\", \"status\": \"Completed\", \"log_files\": {}, \"log_groups\": [], \"run_duration\": \"0:13:07\", \"run_number\": \"73\", \"run_queued_details\": {\"status\": \"Completed\", \"details\": null}}, \"child_runs\": [{\"run_id\": \"AutoML_f2207e5b-cc6f-4ff2-bdf6-32b2158456e2_0\", \"run_number\": 77, \"metric\": null, \"status\": \"Completed\", \"run_type\": \"azureml.scriptrun\", \"training_percent\": \"100\", \"start_time\": \"2021-06-23T07:38:40.342092Z\", \"end_time\": \"2021-06-23T07:40:23.425592Z\", \"created_time\": \"2021-06-23T07:35:45.47506Z\", \"created_time_dt\": \"2021-06-23T07:35:45.47506Z\", \"duration\": \"0:04:37\", \"iteration\": \"0\", \"goal\": \"accuracy_max\", \"run_name\": \"MaxAbsScaler, LightGBM\", \"run_properties\": \"copy=True\", \"primary_metric\": 0.83597701, \"best_metric\": 0.83597701}, {\"run_id\": \"AutoML_f2207e5b-cc6f-4ff2-bdf6-32b2158456e2_2\", \"run_number\": 78, \"metric\": null, \"status\": \"Completed\", \"run_type\": \"azureml.scriptrun\", \"training_percent\": \"100\", \"start_time\": \"2021-06-23T07:37:51.478857Z\", \"end_time\": \"2021-06-23T07:38:25.152896Z\", \"created_time\": \"2021-06-23T07:35:45.482389Z\", \"created_time_dt\": \"2021-06-23T07:35:45.482389Z\", \"duration\": \"0:02:39\", \"iteration\": \"2\", \"goal\": \"accuracy_max\", \"run_name\": \"MinMaxScaler, RandomForest\", \"run_properties\": \"copy=True, feature_range=(0, 1\", \"primary_metric\": 0.83287356, \"best_metric\": 0.83597701}, {\"run_id\": \"AutoML_f2207e5b-cc6f-4ff2-bdf6-32b2158456e2_4\", \"run_number\": 79, \"metric\": null, \"status\": \"Completed\", \"run_type\": \"azureml.scriptrun\", \"training_percent\": \"100\", \"start_time\": \"2021-06-23T07:36:00.082453Z\", \"end_time\": \"2021-06-23T07:36:40.517144Z\", \"created_time\": \"2021-06-23T07:35:45.490529Z\", \"created_time_dt\": \"2021-06-23T07:35:45.490529Z\", \"duration\": \"0:00:55\", \"iteration\": \"4\", \"goal\": \"accuracy_max\", \"run_name\": \"MinMaxScaler, RandomForest\", \"run_properties\": \"copy=True, feature_range=(0, 1\", \"primary_metric\": 0.83908046, \"best_metric\": 0.84597701}, {\"run_id\": \"AutoML_f2207e5b-cc6f-4ff2-bdf6-32b2158456e2_3\", \"run_number\": 80, \"metric\": null, \"status\": \"Completed\", \"run_type\": \"azureml.scriptrun\", \"training_percent\": \"100\", \"start_time\": \"2021-06-23T07:36:56.019188Z\", \"end_time\": \"2021-06-23T07:37:36.725263Z\", \"created_time\": \"2021-06-23T07:35:45.478149Z\", \"created_time_dt\": \"2021-06-23T07:35:45.478149Z\", \"duration\": \"0:01:51\", \"iteration\": \"3\", \"goal\": \"accuracy_max\", \"run_name\": \"MinMaxScaler, RandomForest\", \"run_properties\": \"copy=True, feature_range=(0, 1\", \"primary_metric\": 0.84597701, \"best_metric\": 0.84597701}, {\"run_id\": \"AutoML_f2207e5b-cc6f-4ff2-bdf6-32b2158456e2_1\", \"run_number\": 81, \"metric\": null, \"status\": \"Completed\", \"run_type\": \"azureml.scriptrun\", \"training_percent\": \"100\", \"start_time\": \"2021-06-23T07:38:36.903178Z\", \"end_time\": \"2021-06-23T07:40:06.23198Z\", \"created_time\": \"2021-06-23T07:35:45.475578Z\", \"created_time_dt\": \"2021-06-23T07:35:45.475578Z\", \"duration\": \"0:04:20\", \"iteration\": \"1\", \"goal\": \"accuracy_max\", \"run_name\": \"MaxAbsScaler, XGBoostClassifier\", \"run_properties\": \"copy=True\", \"primary_metric\": 0.83586207, \"best_metric\": 0.83597701}, {\"run_id\": \"AutoML_f2207e5b-cc6f-4ff2-bdf6-32b2158456e2_5\", \"run_number\": 82, \"metric\": null, \"status\": \"Completed\", \"run_type\": \"azureml.scriptrun\", \"training_percent\": \"100\", \"start_time\": \"2021-06-23T07:38:37.14661Z\", \"end_time\": \"2021-06-23T07:40:26.516627Z\", \"created_time\": \"2021-06-23T07:36:43.361306Z\", \"created_time_dt\": \"2021-06-23T07:36:43.361306Z\", \"duration\": \"0:03:43\", \"iteration\": \"5\", \"goal\": \"accuracy_max\", \"run_name\": \"StandardScalerWrapper, XGBoostClassifier\", \"run_properties\": \"\\n    copy=True,\\n    with_mean=False,\\n    with_std=False\\n\", \"primary_metric\": 0.83942529, \"best_metric\": 0.84597701}, {\"run_id\": \"AutoML_f2207e5b-cc6f-4ff2-bdf6-32b2158456e2_6\", \"run_number\": 83, \"metric\": null, \"status\": \"Completed\", \"run_type\": \"azureml.scriptrun\", \"training_percent\": \"100\", \"start_time\": \"2021-06-23T07:38:37.533028Z\", \"end_time\": \"2021-06-23T07:40:01.704992Z\", \"created_time\": \"2021-06-23T07:37:40.050946Z\", \"created_time_dt\": \"2021-06-23T07:37:40.050946Z\", \"duration\": \"0:02:21\", \"iteration\": \"6\", \"goal\": \"accuracy_max\", \"run_name\": \"MinMaxScaler, SVM\", \"run_properties\": \"copy=True, feature_range=(0, 1\", \"primary_metric\": 0.74597701, \"best_metric\": 0.84597701}, {\"run_id\": \"AutoML_f2207e5b-cc6f-4ff2-bdf6-32b2158456e2_7\", \"run_number\": 84, \"metric\": null, \"status\": \"Completed\", \"run_type\": \"azureml.scriptrun\", \"training_percent\": \"100\", \"start_time\": \"2021-06-23T07:38:41.944469Z\", \"end_time\": \"2021-06-23T07:39:16.913447Z\", \"created_time\": \"2021-06-23T07:38:27.061144Z\", \"created_time_dt\": \"2021-06-23T07:38:27.061144Z\", \"duration\": \"0:00:49\", \"iteration\": \"7\", \"goal\": \"accuracy_max\", \"run_name\": \"SparseNormalizer, XGBoostClassifier\", \"run_properties\": \"copy=True, norm='l2'\", \"primary_metric\": 0.82287356, \"best_metric\": 0.84597701}, {\"run_id\": \"AutoML_f2207e5b-cc6f-4ff2-bdf6-32b2158456e2_8\", \"run_number\": 85, \"metric\": null, \"status\": \"Completed\", \"run_type\": \"azureml.scriptrun\", \"training_percent\": \"100\", \"start_time\": \"2021-06-23T07:39:33.131712Z\", \"end_time\": \"2021-06-23T07:40:10.618778Z\", \"created_time\": \"2021-06-23T07:39:18.983867Z\", \"created_time_dt\": \"2021-06-23T07:39:18.983867Z\", \"duration\": \"0:00:51\", \"iteration\": \"8\", \"goal\": \"accuracy_max\", \"run_name\": \"MaxAbsScaler, GradientBoosting\", \"run_properties\": \"copy=True\", \"primary_metric\": 0.83931034, \"best_metric\": 0.84597701}, {\"run_id\": \"AutoML_f2207e5b-cc6f-4ff2-bdf6-32b2158456e2_9\", \"run_number\": 86, \"metric\": null, \"status\": \"Completed\", \"run_type\": \"azureml.scriptrun\", \"training_percent\": \"100\", \"start_time\": \"2021-06-23T07:40:15.886944Z\", \"end_time\": \"2021-06-23T07:40:50.229204Z\", \"created_time\": \"2021-06-23T07:40:03.593666Z\", \"created_time_dt\": \"2021-06-23T07:40:03.593666Z\", \"duration\": \"0:00:46\", \"iteration\": \"9\", \"goal\": \"accuracy_max\", \"run_name\": \"SparseNormalizer, LightGBM\", \"run_properties\": \"copy=True, norm='l2'\", \"primary_metric\": 0.83287356, \"best_metric\": 0.84597701}, {\"run_id\": \"AutoML_f2207e5b-cc6f-4ff2-bdf6-32b2158456e2_10\", \"run_number\": 87, \"metric\": null, \"status\": \"Completed\", \"run_type\": \"azureml.scriptrun\", \"training_percent\": \"100\", \"start_time\": \"2021-06-23T07:40:18.086277Z\", \"end_time\": \"2021-06-23T07:40:57.291517Z\", \"created_time\": \"2021-06-23T07:40:08.104061Z\", \"created_time_dt\": \"2021-06-23T07:40:08.104061Z\", \"duration\": \"0:00:49\", \"iteration\": \"10\", \"goal\": \"accuracy_max\", \"run_name\": \"StandardScalerWrapper, RandomForest\", \"run_properties\": \"\\n    copy=True,\\n    with_mean=False,\\n    with_std=True\\n\", \"primary_metric\": 0.83241379, \"best_metric\": 0.84597701}, {\"run_id\": \"AutoML_f2207e5b-cc6f-4ff2-bdf6-32b2158456e2_11\", \"run_number\": 88, \"metric\": null, \"status\": \"Completed\", \"run_type\": \"azureml.scriptrun\", \"training_percent\": \"100\", \"start_time\": \"2021-06-23T07:40:26.839802Z\", \"end_time\": \"2021-06-23T07:41:04.466392Z\", \"created_time\": \"2021-06-23T07:40:12.602504Z\", \"created_time_dt\": \"2021-06-23T07:40:12.602504Z\", \"duration\": \"0:00:51\", \"iteration\": \"11\", \"goal\": \"accuracy_max\", \"run_name\": \"MaxAbsScaler, LightGBM\", \"run_properties\": \"copy=True\", \"primary_metric\": 0.82931034, \"best_metric\": 0.84597701}, {\"run_id\": \"AutoML_f2207e5b-cc6f-4ff2-bdf6-32b2158456e2_12\", \"run_number\": 89, \"metric\": null, \"status\": \"Completed\", \"run_type\": \"azureml.scriptrun\", \"training_percent\": \"100\", \"start_time\": \"2021-06-23T07:40:35.324588Z\", \"end_time\": \"2021-06-23T07:41:11.860584Z\", \"created_time\": \"2021-06-23T07:40:25.396694Z\", \"created_time_dt\": \"2021-06-23T07:40:25.396694Z\", \"duration\": \"0:00:46\", \"iteration\": \"12\", \"goal\": \"accuracy_max\", \"run_name\": \"MinMaxScaler, LightGBM\", \"run_properties\": \"copy=True, feature_range=(0, 1\", \"primary_metric\": 0.82609195, \"best_metric\": 0.84597701}, {\"run_id\": \"AutoML_f2207e5b-cc6f-4ff2-bdf6-32b2158456e2_13\", \"run_number\": 90, \"metric\": null, \"status\": \"Completed\", \"run_type\": \"azureml.scriptrun\", \"training_percent\": \"100\", \"start_time\": \"2021-06-23T07:40:39.134887Z\", \"end_time\": \"2021-06-23T07:41:18.295449Z\", \"created_time\": \"2021-06-23T07:40:29.087163Z\", \"created_time_dt\": \"2021-06-23T07:40:29.087163Z\", \"duration\": \"0:00:49\", \"iteration\": \"13\", \"goal\": \"accuracy_max\", \"run_name\": \"SparseNormalizer, XGBoostClassifier\", \"run_properties\": \"copy=True, norm='max'\", \"primary_metric\": 0.84954023, \"best_metric\": 0.84954023}, {\"run_id\": \"AutoML_f2207e5b-cc6f-4ff2-bdf6-32b2158456e2_14\", \"run_number\": 91, \"metric\": null, \"status\": \"Completed\", \"run_type\": \"azureml.scriptrun\", \"training_percent\": \"100\", \"start_time\": \"2021-06-23T07:41:07.409237Z\", \"end_time\": \"2021-06-23T07:41:44.983962Z\", \"created_time\": \"2021-06-23T07:40:52.783261Z\", \"created_time_dt\": \"2021-06-23T07:40:52.783261Z\", \"duration\": \"0:00:52\", \"iteration\": \"14\", \"goal\": \"accuracy_max\", \"run_name\": \"RobustScaler, LightGBM\", \"run_properties\": \"copy=True, quantile_range=[10, 90], with_centering=True,\\n             with_scaling=False\", \"primary_metric\": 0.77942529, \"best_metric\": 0.84954023}, {\"run_id\": \"AutoML_f2207e5b-cc6f-4ff2-bdf6-32b2158456e2_15\", \"run_number\": 92, \"metric\": null, \"status\": \"Completed\", \"run_type\": \"azureml.scriptrun\", \"training_percent\": \"100\", \"start_time\": \"2021-06-23T07:41:11.751762Z\", \"end_time\": \"2021-06-23T07:41:51.584361Z\", \"created_time\": \"2021-06-23T07:40:59.24496Z\", \"created_time_dt\": \"2021-06-23T07:40:59.24496Z\", \"duration\": \"0:00:52\", \"iteration\": \"15\", \"goal\": \"accuracy_max\", \"run_name\": \"MaxAbsScaler, LightGBM\", \"run_properties\": \"copy=True\", \"primary_metric\": 0.83931034, \"best_metric\": 0.84954023}, {\"run_id\": \"AutoML_f2207e5b-cc6f-4ff2-bdf6-32b2158456e2_16\", \"run_number\": 93, \"metric\": null, \"status\": \"Completed\", \"run_type\": \"azureml.scriptrun\", \"training_percent\": \"100\", \"start_time\": \"2021-06-23T07:41:21.127662Z\", \"end_time\": \"2021-06-23T07:42:01.619417Z\", \"created_time\": \"2021-06-23T07:41:06.659466Z\", \"created_time_dt\": \"2021-06-23T07:41:06.659466Z\", \"duration\": \"0:00:54\", \"iteration\": \"16\", \"goal\": \"accuracy_max\", \"run_name\": \"SparseNormalizer, XGBoostClassifier\", \"run_properties\": \"copy=True, norm='l2'\", \"primary_metric\": 0.85275862, \"best_metric\": 0.85275862}, {\"run_id\": \"AutoML_f2207e5b-cc6f-4ff2-bdf6-32b2158456e2_17\", \"run_number\": 94, \"metric\": null, \"status\": \"Completed\", \"run_type\": \"azureml.scriptrun\", \"training_percent\": \"100\", \"start_time\": \"2021-06-23T07:41:27.813319Z\", \"end_time\": \"2021-06-23T07:42:02.471755Z\", \"created_time\": \"2021-06-23T07:41:13.896006Z\", \"created_time_dt\": \"2021-06-23T07:41:13.896006Z\", \"duration\": \"0:00:48\", \"iteration\": \"17\", \"goal\": \"accuracy_max\", \"run_name\": \"SparseNormalizer, XGBoostClassifier\", \"run_properties\": \"copy=True, norm='l1'\", \"primary_metric\": 0.80931034, \"best_metric\": 0.85275862}, {\"run_id\": \"AutoML_f2207e5b-cc6f-4ff2-bdf6-32b2158456e2_18\", \"run_number\": 95, \"metric\": null, \"status\": \"Completed\", \"run_type\": \"azureml.scriptrun\", \"training_percent\": \"100\", \"start_time\": \"2021-06-23T07:41:34.092506Z\", \"end_time\": \"2021-06-23T07:42:13.982298Z\", \"created_time\": \"2021-06-23T07:41:21.290947Z\", \"created_time_dt\": \"2021-06-23T07:41:21.290947Z\", \"duration\": \"0:00:52\", \"iteration\": \"18\", \"goal\": \"accuracy_max\", \"run_name\": \"SparseNormalizer, XGBoostClassifier\", \"run_properties\": \"copy=True, norm='l1'\", \"primary_metric\": 0.83264368, \"best_metric\": 0.85275862}, {\"run_id\": \"AutoML_f2207e5b-cc6f-4ff2-bdf6-32b2158456e2_19\", \"run_number\": 96, \"metric\": null, \"status\": \"Completed\", \"run_type\": \"azureml.scriptrun\", \"training_percent\": \"100\", \"start_time\": \"2021-06-23T07:41:58.816786Z\", \"end_time\": \"2021-06-23T07:42:35.762446Z\", \"created_time\": \"2021-06-23T07:41:46.937297Z\", \"created_time_dt\": \"2021-06-23T07:41:46.937297Z\", \"duration\": \"0:00:48\", \"iteration\": \"19\", \"goal\": \"accuracy_max\", \"run_name\": \"MaxAbsScaler, GradientBoosting\", \"run_properties\": \"copy=True\", \"primary_metric\": 0.8291954, \"best_metric\": 0.85275862}, {\"run_id\": \"AutoML_f2207e5b-cc6f-4ff2-bdf6-32b2158456e2_20\", \"run_number\": 97, \"metric\": null, \"status\": \"Completed\", \"run_type\": \"azureml.scriptrun\", \"training_percent\": \"100\", \"start_time\": \"2021-06-23T07:42:04.974153Z\", \"end_time\": \"2021-06-23T07:42:46.980224Z\", \"created_time\": \"2021-06-23T07:41:53.64926Z\", \"created_time_dt\": \"2021-06-23T07:41:53.64926Z\", \"duration\": \"0:00:53\", \"iteration\": \"20\", \"goal\": \"accuracy_max\", \"run_name\": \"StandardScalerWrapper, ExtremeRandomTrees\", \"run_properties\": \"\\n    copy=True,\\n    with_mean=False,\\n    with_std=False\\n\", \"primary_metric\": 0.83275862, \"best_metric\": 0.85275862}, {\"run_id\": \"AutoML_f2207e5b-cc6f-4ff2-bdf6-32b2158456e2_21\", \"run_number\": 98, \"metric\": null, \"status\": \"Completed\", \"run_type\": \"azureml.scriptrun\", \"training_percent\": \"100\", \"start_time\": \"2021-06-23T07:42:17.138057Z\", \"end_time\": \"2021-06-23T07:42:54.257171Z\", \"created_time\": \"2021-06-23T07:42:03.775069Z\", \"created_time_dt\": \"2021-06-23T07:42:03.775069Z\", \"duration\": \"0:00:50\", \"iteration\": \"21\", \"goal\": \"accuracy_max\", \"run_name\": \"MaxAbsScaler, ExtremeRandomTrees\", \"run_properties\": \"copy=True\", \"primary_metric\": 0.83264368, \"best_metric\": 0.85275862}, {\"run_id\": \"AutoML_f2207e5b-cc6f-4ff2-bdf6-32b2158456e2_22\", \"run_number\": 99, \"metric\": null, \"status\": \"Completed\", \"run_type\": \"azureml.scriptrun\", \"training_percent\": \"100\", \"start_time\": \"2021-06-23T07:42:19.787945Z\", \"end_time\": \"2021-06-23T07:42:54.029924Z\", \"created_time\": \"2021-06-23T07:42:07.804149Z\", \"created_time_dt\": \"2021-06-23T07:42:07.804149Z\", \"duration\": \"0:00:46\", \"iteration\": \"22\", \"goal\": \"accuracy_max\", \"run_name\": \"StandardScalerWrapper, LightGBM\", \"run_properties\": \"\\n    copy=True,\\n    with_mean=False,\\n    with_std=True\\n\", \"primary_metric\": 0.83931034, \"best_metric\": 0.85275862}, {\"run_id\": \"AutoML_f2207e5b-cc6f-4ff2-bdf6-32b2158456e2_23\", \"run_number\": 100, \"metric\": null, \"status\": \"Completed\", \"run_type\": \"azureml.scriptrun\", \"training_percent\": \"100\", \"start_time\": \"2021-06-23T07:42:28.268499Z\", \"end_time\": \"2021-06-23T07:43:10.941321Z\", \"created_time\": \"2021-06-23T07:42:15.921632Z\", \"created_time_dt\": \"2021-06-23T07:42:15.921632Z\", \"duration\": \"0:00:55\", \"iteration\": \"23\", \"goal\": \"accuracy_max\", \"run_name\": \"SparseNormalizer, XGBoostClassifier\", \"run_properties\": \"copy=True, norm='max'\", \"primary_metric\": 0.82632184, \"best_metric\": 0.85275862}, {\"run_id\": \"AutoML_f2207e5b-cc6f-4ff2-bdf6-32b2158456e2_24\", \"run_number\": 101, \"metric\": null, \"status\": \"Completed\", \"run_type\": \"azureml.scriptrun\", \"training_percent\": \"100\", \"start_time\": \"2021-06-23T07:42:50.054942Z\", \"end_time\": \"2021-06-23T07:44:24.329881Z\", \"created_time\": \"2021-06-23T07:42:37.653915Z\", \"created_time_dt\": \"2021-06-23T07:42:37.653915Z\", \"duration\": \"0:01:46\", \"iteration\": \"24\", \"goal\": \"accuracy_max\", \"run_name\": \"SparseNormalizer, LightGBM\", \"run_properties\": \"copy=True, norm='max'\", \"primary_metric\": 0.79942529, \"best_metric\": 0.85275862}, {\"run_id\": \"AutoML_f2207e5b-cc6f-4ff2-bdf6-32b2158456e2_25\", \"run_number\": 102, \"metric\": null, \"status\": \"Completed\", \"run_type\": \"azureml.scriptrun\", \"training_percent\": \"100\", \"start_time\": \"2021-06-23T07:43:00.268034Z\", \"end_time\": \"2021-06-23T07:43:36.154362Z\", \"created_time\": \"2021-06-23T07:42:50.253758Z\", \"created_time_dt\": \"2021-06-23T07:42:50.253758Z\", \"duration\": \"0:00:45\", \"iteration\": \"25\", \"goal\": \"accuracy_max\", \"run_name\": \"SparseNormalizer, XGBoostClassifier\", \"run_properties\": \"copy=True, norm='max'\", \"primary_metric\": 0.81931034, \"best_metric\": 0.85275862}, {\"run_id\": \"AutoML_f2207e5b-cc6f-4ff2-bdf6-32b2158456e2_26\", \"run_number\": 103, \"metric\": null, \"status\": \"Completed\", \"run_type\": \"azureml.scriptrun\", \"training_percent\": \"100\", \"start_time\": \"2021-06-23T07:43:23.006103Z\", \"end_time\": \"2021-06-23T07:44:04.372985Z\", \"created_time\": \"2021-06-23T07:42:56.008563Z\", \"created_time_dt\": \"2021-06-23T07:42:56.008563Z\", \"duration\": \"0:01:08\", \"iteration\": \"26\", \"goal\": \"accuracy_max\", \"run_name\": \"StandardScalerWrapper, LightGBM\", \"run_properties\": \"\\n    copy=True,\\n    with_mean=False,\\n    with_std=True\\n\", \"primary_metric\": 0.84252874, \"best_metric\": 0.85275862}, {\"run_id\": \"AutoML_f2207e5b-cc6f-4ff2-bdf6-32b2158456e2_27\", \"run_number\": 104, \"metric\": null, \"status\": \"Completed\", \"run_type\": \"azureml.scriptrun\", \"training_percent\": \"100\", \"start_time\": \"2021-06-23T07:43:03.849291Z\", \"end_time\": \"2021-06-23T07:43:42.970958Z\", \"created_time\": \"2021-06-23T07:42:56.036298Z\", \"created_time_dt\": \"2021-06-23T07:42:56.036298Z\", \"duration\": \"0:00:46\", \"iteration\": \"27\", \"goal\": \"accuracy_max\", \"run_name\": \"MaxAbsScaler, LightGBM\", \"run_properties\": \"copy=True\", \"primary_metric\": 0.84275862, \"best_metric\": 0.85275862}, {\"run_id\": \"AutoML_f2207e5b-cc6f-4ff2-bdf6-32b2158456e2_28\", \"run_number\": 105, \"metric\": null, \"status\": \"Completed\", \"run_type\": \"azureml.scriptrun\", \"training_percent\": \"100\", \"start_time\": \"2021-06-23T07:43:26.311705Z\", \"end_time\": \"2021-06-23T07:44:02.215777Z\", \"created_time\": \"2021-06-23T07:43:18.428008Z\", \"created_time_dt\": \"2021-06-23T07:43:18.428008Z\", \"duration\": \"0:00:43\", \"iteration\": \"28\", \"goal\": \"accuracy_max\", \"run_name\": \"MaxAbsScaler, RandomForest\", \"run_properties\": \"copy=True\", \"primary_metric\": 0.82574713, \"best_metric\": 0.85275862}, {\"run_id\": \"AutoML_f2207e5b-cc6f-4ff2-bdf6-32b2158456e2_29\", \"run_number\": 106, \"metric\": null, \"status\": \"Completed\", \"run_type\": \"azureml.scriptrun\", \"training_percent\": \"100\", \"start_time\": \"2021-06-23T07:43:45.91681Z\", \"end_time\": \"2021-06-23T07:44:24.473481Z\", \"created_time\": \"2021-06-23T07:43:38.105633Z\", \"created_time_dt\": \"2021-06-23T07:43:38.105633Z\", \"duration\": \"0:00:46\", \"iteration\": \"29\", \"goal\": \"accuracy_max\", \"run_name\": \"RobustScaler, RandomForest\", \"run_properties\": \"copy=True, quantile_range=[10, 90], with_centering=True,\\n             with_scaling=False\", \"primary_metric\": 0.83931034, \"best_metric\": 0.85275862}, {\"run_id\": \"AutoML_f2207e5b-cc6f-4ff2-bdf6-32b2158456e2_30\", \"run_number\": 107, \"metric\": null, \"status\": \"Completed\", \"run_type\": \"azureml.scriptrun\", \"training_percent\": \"100\", \"start_time\": \"2021-06-23T07:43:53.235126Z\", \"end_time\": \"2021-06-23T07:44:29.104848Z\", \"created_time\": \"2021-06-23T07:43:45.784344Z\", \"created_time_dt\": \"2021-06-23T07:43:45.784344Z\", \"duration\": \"0:00:43\", \"iteration\": \"30\", \"goal\": \"accuracy_max\", \"run_name\": \"PCA, XGBoostClassifier\", \"run_properties\": \"copy=True, iterated_power='auto', n_components=0.9005263157894737,\\n    random_state=None, svd_solver='auto', tol=0.0, whiten=False\", \"primary_metric\": 0.6791954, \"best_metric\": 0.85275862}, {\"run_id\": \"AutoML_f2207e5b-cc6f-4ff2-bdf6-32b2158456e2_31\", \"run_number\": 108, \"metric\": null, \"status\": \"Completed\", \"run_type\": \"azureml.scriptrun\", \"training_percent\": \"100\", \"start_time\": \"2021-06-23T07:44:11.938314Z\", \"end_time\": \"2021-06-23T07:44:47.874591Z\", \"created_time\": \"2021-06-23T07:44:04.109171Z\", \"created_time_dt\": \"2021-06-23T07:44:04.109171Z\", \"duration\": \"0:00:43\", \"iteration\": \"31\", \"goal\": \"accuracy_max\", \"run_name\": \"MinMaxScaler, LightGBM\", \"run_properties\": \"copy=True, feature_range=(0, 1\", \"primary_metric\": 0.80264368, \"best_metric\": 0.85275862}, {\"run_id\": \"AutoML_f2207e5b-cc6f-4ff2-bdf6-32b2158456e2_32\", \"run_number\": 109, \"metric\": null, \"status\": \"Completed\", \"run_type\": \"azureml.scriptrun\", \"training_percent\": \"100\", \"start_time\": \"2021-06-23T07:44:16.141212Z\", \"end_time\": \"2021-06-23T07:44:52.15312Z\", \"created_time\": \"2021-06-23T07:44:08.104238Z\", \"created_time_dt\": \"2021-06-23T07:44:08.104238Z\", \"duration\": \"0:00:44\", \"iteration\": \"32\", \"goal\": \"accuracy_max\", \"run_name\": \"StandardScalerWrapper, XGBoostClassifier\", \"run_properties\": \"\\n    copy=True,\\n    with_mean=False,\\n    with_std=False\\n\", \"primary_metric\": 0.83931034, \"best_metric\": 0.85275862}, {\"run_id\": \"AutoML_f2207e5b-cc6f-4ff2-bdf6-32b2158456e2_33\", \"run_number\": 110, \"metric\": null, \"status\": \"Completed\", \"run_type\": \"azureml.scriptrun\", \"training_percent\": \"100\", \"start_time\": \"2021-06-23T07:44:38.457086Z\", \"end_time\": \"2021-06-23T07:45:17.331598Z\", \"created_time\": \"2021-06-23T07:44:26.297276Z\", \"created_time_dt\": \"2021-06-23T07:44:26.297276Z\", \"duration\": \"0:00:51\", \"iteration\": \"33\", \"goal\": \"accuracy_max\", \"run_name\": \"StandardScalerWrapper, XGBoostClassifier\", \"run_properties\": \"\\n    copy=True,\\n    with_mean=False,\\n    with_std=False\\n\", \"primary_metric\": 0.84597701, \"best_metric\": 0.85275862}, {\"run_id\": \"AutoML_f2207e5b-cc6f-4ff2-bdf6-32b2158456e2_34\", \"run_number\": 111, \"metric\": null, \"status\": \"Completed\", \"run_type\": \"azureml.scriptrun\", \"training_percent\": \"100\", \"start_time\": \"2021-06-23T07:44:38.997332Z\", \"end_time\": \"2021-06-23T07:45:16.897038Z\", \"created_time\": \"2021-06-23T07:44:26.324871Z\", \"created_time_dt\": \"2021-06-23T07:44:26.324871Z\", \"duration\": \"0:00:50\", \"iteration\": \"34\", \"goal\": \"accuracy_max\", \"run_name\": \"StandardScalerWrapper, XGBoostClassifier\", \"run_properties\": \"\\n    copy=True,\\n    with_mean=False,\\n    with_std=False\\n\", \"primary_metric\": 0.82252874, \"best_metric\": 0.85275862}, {\"run_id\": \"AutoML_f2207e5b-cc6f-4ff2-bdf6-32b2158456e2_35\", \"run_number\": 112, \"metric\": null, \"status\": \"Completed\", \"run_type\": \"azureml.scriptrun\", \"training_percent\": \"100\", \"start_time\": \"2021-06-23T07:44:41.340308Z\", \"end_time\": \"2021-06-23T07:45:17.208104Z\", \"created_time\": \"2021-06-23T07:44:32.016074Z\", \"created_time_dt\": \"2021-06-23T07:44:32.016074Z\", \"duration\": \"0:00:45\", \"iteration\": \"35\", \"goal\": \"accuracy_max\", \"run_name\": \"StandardScalerWrapper, XGBoostClassifier\", \"run_properties\": \"\\n    copy=True,\\n    with_mean=False,\\n    with_std=False\\n\", \"primary_metric\": 0.84965517, \"best_metric\": 0.85275862}, {\"run_id\": \"AutoML_f2207e5b-cc6f-4ff2-bdf6-32b2158456e2_36\", \"run_number\": 113, \"metric\": null, \"status\": \"Canceled\", \"run_type\": \"azureml.scriptrun\", \"training_percent\": \"100\", \"start_time\": \"2021-06-23T07:44:58.656609Z\", \"end_time\": \"2021-06-23T07:45:23.609048Z\", \"created_time\": \"2021-06-23T07:44:49.697406Z\", \"created_time_dt\": \"2021-06-23T07:44:49.697406Z\", \"duration\": \"0:00:33\", \"iteration\": \"36\", \"goal\": \"accuracy_max\", \"run_name\": \"StandardScalerWrapper, XGBoostClassifier\", \"run_properties\": \"\\n    copy=True,\\n    with_mean=False,\\n    with_std=False\\n\", \"primary_metric\": 0.84241379, \"best_metric\": 0.85275862}, {\"run_id\": \"AutoML_f2207e5b-cc6f-4ff2-bdf6-32b2158456e2_37\", \"run_number\": 114, \"metric\": null, \"status\": \"Canceled\", \"run_type\": \"azureml.scriptrun\", \"training_percent\": \"100\", \"start_time\": \"2021-06-23T07:45:01.904686Z\", \"end_time\": \"2021-06-23T07:45:23.70978Z\", \"created_time\": \"2021-06-23T07:44:54.244316Z\", \"created_time_dt\": \"2021-06-23T07:44:54.244316Z\", \"duration\": \"0:00:29\", \"iteration\": \"37\", \"goal\": \"accuracy_max\", \"run_name\": \"StandardScalerWrapper, RandomForest\", \"run_properties\": \"\\n    copy=True,\\n    with_mean=False,\\n    with_std=False\\n\", \"primary_metric\": 0.82609195, \"best_metric\": 0.85275862}, {\"run_id\": \"AutoML_f2207e5b-cc6f-4ff2-bdf6-32b2158456e2_38\", \"run_number\": 115, \"metric\": null, \"status\": \"Completed\", \"run_type\": \"azureml.scriptrun\", \"training_percent\": \"100\", \"start_time\": \"2021-06-23T07:45:37.065947Z\", \"end_time\": \"2021-06-23T07:46:34.464782Z\", \"created_time\": \"2021-06-23T07:45:24.659653Z\", \"created_time_dt\": \"2021-06-23T07:45:24.659653Z\", \"duration\": \"0:01:09\", \"iteration\": \"38\", \"goal\": \"accuracy_max\", \"run_name\": \"VotingEnsemble\", \"run_properties\": \"\\n    estimators=[('16', Pipeline(memory=None,\\n             steps=[('sparsenormalizer', Normalizer(copy=True, norm='l2'\", \"primary_metric\": 0.88298851, \"best_metric\": 0.88298851}, {\"run_id\": \"AutoML_f2207e5b-cc6f-4ff2-bdf6-32b2158456e2_39\", \"run_number\": 116, \"metric\": null, \"status\": \"Completed\", \"run_type\": \"azureml.scriptrun\", \"training_percent\": \"100\", \"start_time\": \"2021-06-23T07:45:35.326832Z\", \"end_time\": \"2021-06-23T07:46:37.022399Z\", \"created_time\": \"2021-06-23T07:45:24.698732Z\", \"created_time_dt\": \"2021-06-23T07:45:24.698732Z\", \"duration\": \"0:01:12\", \"iteration\": \"39\", \"goal\": \"accuracy_max\", \"run_name\": \"StackEnsemble\", \"run_properties\": \"\\n    base_learners=[('16', Pipeline(memory=None,\\n             steps=[('sparsenormalizer', Normalizer(copy=True, norm='l2'\", \"primary_metric\": 0.86965517, \"best_metric\": 0.88298851}], \"children_metrics\": {\"categories\": [0], \"series\": {\"AUC_macro\": [{\"categories\": [\"0\", \"1\", \"2\", \"3\", \"4\", \"5\", \"6\", \"7\", \"8\", \"9\", \"10\", \"11\", \"12\", \"13\", \"14\", \"15\", \"16\", \"17\", \"18\", \"19\", \"20\", \"21\", \"22\", \"23\", \"24\", \"25\", \"26\", \"27\", \"28\", \"29\", \"30\", \"31\", \"32\", \"33\", \"34\", \"35\", \"36\", \"37\", \"38\", \"39\"], \"mode\": \"markers\", \"name\": \"AUC_macro\", \"stepped\": false, \"type\": \"scatter\", \"data\": [0.8840955354735103, 0.8847369443591411, 0.8978856781281266, 0.9082702238138165, 0.9070161000051732, 0.8969181680045525, 0.7472287308356531, 0.879342659940915, 0.9126294886590653, 0.8877728841757445, 0.8955053177519996, 0.8922546979548123, 0.8947674802399058, 0.8905101635291567, 0.8894343285475437, 0.9022516357593588, 0.9080010541009969, 0.8608370342027666, 0.8847259978283434, 0.9041786359013475, 0.8960089316395952, 0.8809875869405619, 0.8951857931224636, 0.8856280323393022, 0.8671179371353285, 0.8887387635205712, 0.8985968029703155, 0.9023721230227523, 0.9067953800289041, 0.9031760501385216, 0.5, 0.8588236855313515, 0.8890898286146856, 0.9021371592683949, 0.8974701903529134, 0.8949690107735304, 0.9008103443858879, 0.8984655922029493, 0.9191021390212464, 0.9195933346211378]}, {\"categories\": [\"0\", \"1\", \"2\", \"3\", \"4\", \"5\", \"6\", \"7\", \"8\", \"9\", \"10\", \"11\", \"12\", \"13\", \"14\", \"15\", \"16\", \"17\", \"18\", \"19\", \"20\", \"21\", \"22\", \"23\", \"24\", \"25\", \"26\", \"27\", \"28\", \"29\", \"30\", \"31\", \"32\", \"33\", \"34\", \"35\", \"36\", \"37\", \"38\", \"39\"], \"mode\": \"lines\", \"name\": \"AUC_macro_max\", \"stepped\": true, \"type\": \"scatter\", \"data\": [0.8840955354735103, 0.8847369443591411, 0.8978856781281266, 0.9082702238138165, 0.9082702238138165, 0.9082702238138165, 0.9082702238138165, 0.9082702238138165, 0.9126294886590653, 0.9126294886590653, 0.9126294886590653, 0.9126294886590653, 0.9126294886590653, 0.9126294886590653, 0.9126294886590653, 0.9126294886590653, 0.9126294886590653, 0.9126294886590653, 0.9126294886590653, 0.9126294886590653, 0.9126294886590653, 0.9126294886590653, 0.9126294886590653, 0.9126294886590653, 0.9126294886590653, 0.9126294886590653, 0.9126294886590653, 0.9126294886590653, 0.9126294886590653, 0.9126294886590653, 0.9126294886590653, 0.9126294886590653, 0.9126294886590653, 0.9126294886590653, 0.9126294886590653, 0.9126294886590653, 0.9126294886590653, 0.9126294886590653, 0.9191021390212464, 0.9195933346211378]}], \"precision_score_macro\": [{\"categories\": [\"0\", \"1\", \"2\", \"3\", \"4\", \"5\", \"6\", \"7\", \"8\", \"9\", \"10\", \"11\", \"12\", \"13\", \"14\", \"15\", \"16\", \"17\", \"18\", \"19\", \"20\", \"21\", \"22\", \"23\", \"24\", \"25\", \"26\", \"27\", \"28\", \"29\", \"30\", \"31\", \"32\", \"33\", \"34\", \"35\", \"36\", \"37\", \"38\", \"39\"], \"mode\": \"markers\", \"name\": \"precision_score_macro\", \"stepped\": false, \"type\": \"scatter\", \"data\": [0.8167365852764965, 0.8232986049897815, 0.8181468802936195, 0.8254856979405034, 0.8226819854981618, 0.8458044938153634, 0.7343848434451884, 0.8098152219970096, 0.8272754329004328, 0.8302320007731906, 0.8117310527636615, 0.8206159767006449, 0.8466691396365309, 0.8451538107313784, 0.8372565606696043, 0.8366777806592385, 0.8563896020074511, 0.7853385886633968, 0.8136685174728653, 0.8166676639643391, 0.8366555980251633, 0.8232070964885609, 0.8347272430087076, 0.8125349771001945, 0.8385569305895391, 0.8149923985879364, 0.8348069985569986, 0.8301903680479196, 0.7971939834219415, 0.8199595291675316, 0.33959770114942534, 0.829479990621295, 0.82479852876592, 0.843103395841382, 0.8032312521163645, 0.8537328332740233, 0.8241355284385975, 0.7993178103361169, 0.8923207465684582, 0.8638141854966799]}, {\"categories\": [\"0\", \"1\", \"2\", \"3\", \"4\", \"5\", \"6\", \"7\", \"8\", \"9\", \"10\", \"11\", \"12\", \"13\", \"14\", \"15\", \"16\", \"17\", \"18\", \"19\", \"20\", \"21\", \"22\", \"23\", \"24\", \"25\", \"26\", \"27\", \"28\", \"29\", \"30\", \"31\", \"32\", \"33\", \"34\", \"35\", \"36\", \"37\", \"38\", \"39\"], \"mode\": \"lines\", \"name\": \"precision_score_macro_max\", \"stepped\": true, \"type\": \"scatter\", \"data\": [0.8167365852764965, 0.8232986049897815, 0.8232986049897815, 0.8254856979405034, 0.8254856979405034, 0.8458044938153634, 0.8458044938153634, 0.8458044938153634, 0.8458044938153634, 0.8458044938153634, 0.8458044938153634, 0.8458044938153634, 0.8466691396365309, 0.8466691396365309, 0.8466691396365309, 0.8466691396365309, 0.8563896020074511, 0.8563896020074511, 0.8563896020074511, 0.8563896020074511, 0.8563896020074511, 0.8563896020074511, 0.8563896020074511, 0.8563896020074511, 0.8563896020074511, 0.8563896020074511, 0.8563896020074511, 0.8563896020074511, 0.8563896020074511, 0.8563896020074511, 0.8563896020074511, 0.8563896020074511, 0.8563896020074511, 0.8563896020074511, 0.8563896020074511, 0.8563896020074511, 0.8563896020074511, 0.8563896020074511, 0.8923207465684582, 0.8923207465684582]}], \"AUC_weighted\": [{\"categories\": [\"0\", \"1\", \"2\", \"3\", \"4\", \"5\", \"6\", \"7\", \"8\", \"9\", \"10\", \"11\", \"12\", \"13\", \"14\", \"15\", \"16\", \"17\", \"18\", \"19\", \"20\", \"21\", \"22\", \"23\", \"24\", \"25\", \"26\", \"27\", \"28\", \"29\", \"30\", \"31\", \"32\", \"33\", \"34\", \"35\", \"36\", \"37\", \"38\", \"39\"], \"mode\": \"markers\", \"name\": \"AUC_weighted\", \"stepped\": false, \"type\": \"scatter\", \"data\": [0.8840955354735103, 0.8847369443591411, 0.8978856781281266, 0.9082702238138165, 0.9070161000051733, 0.8969181680045525, 0.747228730835653, 0.879342659940915, 0.9126294886590653, 0.8877728841757445, 0.8955053177519996, 0.8922546979548123, 0.8947674802399058, 0.8905101635291566, 0.8894343285475437, 0.9022516357593588, 0.9080010541009969, 0.8608370342027666, 0.8847259978283434, 0.9041786359013475, 0.8960089316395952, 0.8810538748193497, 0.8951857931224636, 0.8856280323393022, 0.8671179371353285, 0.8887387635205715, 0.8985968029703155, 0.9023721230227523, 0.9067953800289041, 0.9031760501385216, 0.5, 0.8588236855313515, 0.8890898286146856, 0.9021371592683949, 0.8974701903529134, 0.8949690107735304, 0.9008103443858879, 0.8984655922029493, 0.9191021390212464, 0.9195933346211378]}, {\"categories\": [\"0\", \"1\", \"2\", \"3\", \"4\", \"5\", \"6\", \"7\", \"8\", \"9\", \"10\", \"11\", \"12\", \"13\", \"14\", \"15\", \"16\", \"17\", \"18\", \"19\", \"20\", \"21\", \"22\", \"23\", \"24\", \"25\", \"26\", \"27\", \"28\", \"29\", \"30\", \"31\", \"32\", \"33\", \"34\", \"35\", \"36\", \"37\", \"38\", \"39\"], \"mode\": \"lines\", \"name\": \"AUC_weighted_max\", \"stepped\": true, \"type\": \"scatter\", \"data\": [0.8840955354735103, 0.8847369443591411, 0.8978856781281266, 0.9082702238138165, 0.9082702238138165, 0.9082702238138165, 0.9082702238138165, 0.9082702238138165, 0.9126294886590653, 0.9126294886590653, 0.9126294886590653, 0.9126294886590653, 0.9126294886590653, 0.9126294886590653, 0.9126294886590653, 0.9126294886590653, 0.9126294886590653, 0.9126294886590653, 0.9126294886590653, 0.9126294886590653, 0.9126294886590653, 0.9126294886590653, 0.9126294886590653, 0.9126294886590653, 0.9126294886590653, 0.9126294886590653, 0.9126294886590653, 0.9126294886590653, 0.9126294886590653, 0.9126294886590653, 0.9126294886590653, 0.9126294886590653, 0.9126294886590653, 0.9126294886590653, 0.9126294886590653, 0.9126294886590653, 0.9126294886590653, 0.9126294886590653, 0.9191021390212464, 0.9195933346211378]}], \"average_precision_score_macro\": [{\"categories\": [\"0\", \"1\", \"2\", \"3\", \"4\", \"5\", \"6\", \"7\", \"8\", \"9\", \"10\", \"11\", \"12\", \"13\", \"14\", \"15\", \"16\", \"17\", \"18\", \"19\", \"20\", \"21\", \"22\", \"23\", \"24\", \"25\", \"26\", \"27\", \"28\", \"29\", \"30\", \"31\", \"32\", \"33\", \"34\", \"35\", \"36\", \"37\", \"38\", \"39\"], \"mode\": \"markers\", \"name\": \"average_precision_score_macro\", \"stepped\": false, \"type\": \"scatter\", \"data\": [0.8807888197525153, 0.8807340475847678, 0.8951107243159712, 0.9009103799089239, 0.8948300862494865, 0.8925873760277276, 0.745469896825244, 0.8749745008185043, 0.9082173289223142, 0.8793971710929904, 0.8916596279545914, 0.8701230666969517, 0.8914413855454489, 0.8801441796559588, 0.8841645683845177, 0.8918742359962035, 0.9005346314274421, 0.8401142754782065, 0.8758554846051438, 0.8972672047518595, 0.8874780401697722, 0.8651053912503258, 0.8833412239264323, 0.8814925323141736, 0.8545552535963878, 0.8827807513103156, 0.8869847145598306, 0.8921480018688349, 0.894074453783659, 0.8946592964734741, 0.5, 0.8618577753040094, 0.8670051871471305, 0.8914655367482102, 0.8882769687965523, 0.8879423199835778, 0.8875549430370284, 0.8944460019378422, 0.910274761354677, 0.9099586078038742]}, {\"categories\": [\"0\", \"1\", \"2\", \"3\", \"4\", \"5\", \"6\", \"7\", \"8\", \"9\", \"10\", \"11\", \"12\", \"13\", \"14\", \"15\", \"16\", \"17\", \"18\", \"19\", \"20\", \"21\", \"22\", \"23\", \"24\", \"25\", \"26\", \"27\", \"28\", \"29\", \"30\", \"31\", \"32\", \"33\", \"34\", \"35\", \"36\", \"37\", \"38\", \"39\"], \"mode\": \"lines\", \"name\": \"average_precision_score_macro_max\", \"stepped\": true, \"type\": \"scatter\", \"data\": [0.8807888197525153, 0.8807888197525153, 0.8951107243159712, 0.9009103799089239, 0.9009103799089239, 0.9009103799089239, 0.9009103799089239, 0.9009103799089239, 0.9082173289223142, 0.9082173289223142, 0.9082173289223142, 0.9082173289223142, 0.9082173289223142, 0.9082173289223142, 0.9082173289223142, 0.9082173289223142, 0.9082173289223142, 0.9082173289223142, 0.9082173289223142, 0.9082173289223142, 0.9082173289223142, 0.9082173289223142, 0.9082173289223142, 0.9082173289223142, 0.9082173289223142, 0.9082173289223142, 0.9082173289223142, 0.9082173289223142, 0.9082173289223142, 0.9082173289223142, 0.9082173289223142, 0.9082173289223142, 0.9082173289223142, 0.9082173289223142, 0.9082173289223142, 0.9082173289223142, 0.9082173289223142, 0.9082173289223142, 0.910274761354677, 0.910274761354677]}], \"average_precision_score_weighted\": [{\"categories\": [\"0\", \"1\", \"2\", \"3\", \"4\", \"5\", \"6\", \"7\", \"8\", \"9\", \"10\", \"11\", \"12\", \"13\", \"14\", \"15\", \"16\", \"17\", \"18\", \"19\", \"20\", \"21\", \"22\", \"23\", \"24\", \"25\", \"26\", \"27\", \"28\", \"29\", \"30\", \"31\", \"32\", \"33\", \"34\", \"35\", \"36\", \"37\", \"38\", \"39\"], \"mode\": \"markers\", \"name\": \"average_precision_score_weighted\", \"stepped\": false, \"type\": \"scatter\", \"data\": [0.9061112830231934, 0.907154018724502, 0.9157644885185778, 0.9246634237752638, 0.9219893936841682, 0.9168650951096463, 0.7902984708289256, 0.9006152166437232, 0.9295869294717919, 0.9042677325897064, 0.9169513877065535, 0.89933312883859, 0.9177586180946771, 0.9060660336140408, 0.9119588313615263, 0.9185264340158863, 0.9213765034554801, 0.8764764478120824, 0.9036298442679177, 0.9213230566585363, 0.9126316253201778, 0.8954001909674698, 0.9128433838735328, 0.9059225487688318, 0.8838047598637869, 0.9070137255083891, 0.9139002185041992, 0.9173196075091612, 0.9203645115550527, 0.9195408690859812, 0.5827102655568768, 0.8910526567414232, 0.8970735335670106, 0.9141465458207684, 0.9150091013393709, 0.9084195140570891, 0.9153703825241953, 0.9170533744475462, 0.9316592851043881, 0.931914667966244]}, {\"categories\": [\"0\", \"1\", \"2\", \"3\", \"4\", \"5\", \"6\", \"7\", \"8\", \"9\", \"10\", \"11\", \"12\", \"13\", \"14\", \"15\", \"16\", \"17\", \"18\", \"19\", \"20\", \"21\", \"22\", \"23\", \"24\", \"25\", \"26\", \"27\", \"28\", \"29\", \"30\", \"31\", \"32\", \"33\", \"34\", \"35\", \"36\", \"37\", \"38\", \"39\"], \"mode\": \"lines\", \"name\": \"average_precision_score_weighted_max\", \"stepped\": true, \"type\": \"scatter\", \"data\": [0.9061112830231934, 0.907154018724502, 0.9157644885185778, 0.9246634237752638, 0.9246634237752638, 0.9246634237752638, 0.9246634237752638, 0.9246634237752638, 0.9295869294717919, 0.9295869294717919, 0.9295869294717919, 0.9295869294717919, 0.9295869294717919, 0.9295869294717919, 0.9295869294717919, 0.9295869294717919, 0.9295869294717919, 0.9295869294717919, 0.9295869294717919, 0.9295869294717919, 0.9295869294717919, 0.9295869294717919, 0.9295869294717919, 0.9295869294717919, 0.9295869294717919, 0.9295869294717919, 0.9295869294717919, 0.9295869294717919, 0.9295869294717919, 0.9295869294717919, 0.9295869294717919, 0.9295869294717919, 0.9295869294717919, 0.9295869294717919, 0.9295869294717919, 0.9295869294717919, 0.9295869294717919, 0.9295869294717919, 0.9316592851043881, 0.931914667966244]}], \"recall_score_micro\": [{\"categories\": [\"0\", \"1\", \"2\", \"3\", \"4\", \"5\", \"6\", \"7\", \"8\", \"9\", \"10\", \"11\", \"12\", \"13\", \"14\", \"15\", \"16\", \"17\", \"18\", \"19\", \"20\", \"21\", \"22\", \"23\", \"24\", \"25\", \"26\", \"27\", \"28\", \"29\", \"30\", \"31\", \"32\", \"33\", \"34\", \"35\", \"36\", \"37\", \"38\", \"39\"], \"mode\": \"markers\", \"name\": \"recall_score_micro\", \"stepped\": false, \"type\": \"scatter\", \"data\": [0.8359770114942527, 0.8358620689655172, 0.8328735632183907, 0.8459770114942529, 0.839080459770115, 0.8394252873563219, 0.7459770114942529, 0.8228735632183908, 0.8393103448275863, 0.8328735632183909, 0.8324137931034483, 0.8293103448275861, 0.8260919540229885, 0.8495402298850575, 0.7794252873563219, 0.8393103448275863, 0.8527586206896552, 0.8093103448275862, 0.8326436781609197, 0.8291954022988506, 0.8327586206896553, 0.8326436781609197, 0.8393103448275863, 0.8263218390804598, 0.7994252873563219, 0.8193103448275861, 0.8425287356321839, 0.8427586206896551, 0.8257471264367815, 0.8393103448275863, 0.6791954022988507, 0.8026436781609195, 0.8393103448275863, 0.8459770114942529, 0.822528735632184, 0.8496551724137931, 0.8424137931034481, 0.8260919540229885, 0.8829885057471264, 0.8696551724137931]}, {\"categories\": [\"0\", \"1\", \"2\", \"3\", \"4\", \"5\", \"6\", \"7\", \"8\", \"9\", \"10\", \"11\", \"12\", \"13\", \"14\", \"15\", \"16\", \"17\", \"18\", \"19\", \"20\", \"21\", \"22\", \"23\", \"24\", \"25\", \"26\", \"27\", \"28\", \"29\", \"30\", \"31\", \"32\", \"33\", \"34\", \"35\", \"36\", \"37\", \"38\", \"39\"], \"mode\": \"lines\", \"name\": \"recall_score_micro_max\", \"stepped\": true, \"type\": \"scatter\", \"data\": [0.8359770114942527, 0.8359770114942527, 0.8359770114942527, 0.8459770114942529, 0.8459770114942529, 0.8459770114942529, 0.8459770114942529, 0.8459770114942529, 0.8459770114942529, 0.8459770114942529, 0.8459770114942529, 0.8459770114942529, 0.8459770114942529, 0.8495402298850575, 0.8495402298850575, 0.8495402298850575, 0.8527586206896552, 0.8527586206896552, 0.8527586206896552, 0.8527586206896552, 0.8527586206896552, 0.8527586206896552, 0.8527586206896552, 0.8527586206896552, 0.8527586206896552, 0.8527586206896552, 0.8527586206896552, 0.8527586206896552, 0.8527586206896552, 0.8527586206896552, 0.8527586206896552, 0.8527586206896552, 0.8527586206896552, 0.8527586206896552, 0.8527586206896552, 0.8527586206896552, 0.8527586206896552, 0.8527586206896552, 0.8829885057471264, 0.8829885057471264]}], \"weighted_accuracy\": [{\"categories\": [\"0\", \"1\", \"2\", \"3\", \"4\", \"5\", \"6\", \"7\", \"8\", \"9\", \"10\", \"11\", \"12\", \"13\", \"14\", \"15\", \"16\", \"17\", \"18\", \"19\", \"20\", \"21\", \"22\", \"23\", \"24\", \"25\", \"26\", \"27\", \"28\", \"29\", \"30\", \"31\", \"32\", \"33\", \"34\", \"35\", \"36\", \"37\", \"38\", \"39\"], \"mode\": \"markers\", \"name\": \"weighted_accuracy\", \"stepped\": false, \"type\": \"scatter\", \"data\": [0.8541321922200625, 0.8502962163535492, 0.8494269818424716, 0.8688668130070341, 0.8513236874850992, 0.8698945269886729, 0.7977057438849234, 0.8459653173983817, 0.8585012925751725, 0.8537749403572639, 0.8584341262098413, 0.8572318293313085, 0.8683139582924287, 0.8734514076072569, 0.8471772199465175, 0.8669339017794584, 0.8754349402150415, 0.8385082313085942, 0.8523322550402659, 0.8599621775342495, 0.8682162374357162, 0.8603459377267029, 0.8685521836685911, 0.8536196399187947, 0.8582274054678187, 0.8514656444310891, 0.8627033459458465, 0.8643734969679018, 0.824398803342002, 0.8603752083127425, 0.7931711479234276, 0.8532830096702548, 0.8613171490646818, 0.8759680879737404, 0.8383988305753922, 0.8717232747264407, 0.8547138875369468, 0.848367545738499, 0.9035008884736214, 0.8867394771568368]}, {\"categories\": [\"0\", \"1\", \"2\", \"3\", \"4\", \"5\", \"6\", \"7\", \"8\", \"9\", \"10\", \"11\", \"12\", \"13\", \"14\", \"15\", \"16\", \"17\", \"18\", \"19\", \"20\", \"21\", \"22\", \"23\", \"24\", \"25\", \"26\", \"27\", \"28\", \"29\", \"30\", \"31\", \"32\", \"33\", \"34\", \"35\", \"36\", \"37\", \"38\", \"39\"], \"mode\": \"lines\", \"name\": \"weighted_accuracy_max\", \"stepped\": true, \"type\": \"scatter\", \"data\": [0.8541321922200625, 0.8541321922200625, 0.8541321922200625, 0.8688668130070341, 0.8688668130070341, 0.8698945269886729, 0.8698945269886729, 0.8698945269886729, 0.8698945269886729, 0.8698945269886729, 0.8698945269886729, 0.8698945269886729, 0.8698945269886729, 0.8734514076072569, 0.8734514076072569, 0.8734514076072569, 0.8754349402150415, 0.8754349402150415, 0.8754349402150415, 0.8754349402150415, 0.8754349402150415, 0.8754349402150415, 0.8754349402150415, 0.8754349402150415, 0.8754349402150415, 0.8754349402150415, 0.8754349402150415, 0.8754349402150415, 0.8754349402150415, 0.8754349402150415, 0.8754349402150415, 0.8754349402150415, 0.8754349402150415, 0.8759680879737404, 0.8759680879737404, 0.8759680879737404, 0.8759680879737404, 0.8759680879737404, 0.9035008884736214, 0.9035008884736214]}], \"balanced_accuracy\": [{\"categories\": [\"0\", \"1\", \"2\", \"3\", \"4\", \"5\", \"6\", \"7\", \"8\", \"9\", \"10\", \"11\", \"12\", \"13\", \"14\", \"15\", \"16\", \"17\", \"18\", \"19\", \"20\", \"21\", \"22\", \"23\", \"24\", \"25\", \"26\", \"27\", \"28\", \"29\", \"30\", \"31\", \"32\", \"33\", \"34\", \"35\", \"36\", \"37\", \"38\", \"39\"], \"mode\": \"markers\", \"name\": \"balanced_accuracy\", \"stepped\": false, \"type\": \"scatter\", \"data\": [0.8077082895810014, 0.8130249020938379, 0.8061130296095971, 0.8096364053249065, 0.8199936117467581, 0.7918447386582398, 0.669892186824109, 0.785013547950905, 0.8086349309538668, 0.7999603913439726, 0.7937365989908897, 0.7869737704769169, 0.7600986119779026, 0.810638899207835, 0.673970152654363, 0.7992019669562576, 0.8180780178377433, 0.758680183247975, 0.8015611669985241, 0.7838859496402402, 0.7787991037376049, 0.7904489955124967, 0.7958448240991147, 0.7790498888030352, 0.7054467360760267, 0.7680542178073643, 0.8119737704769168, 0.810522016090952, 0.8259779067233302, 0.8074221196106208, 0.5, 0.7237428799270904, 0.8059589161474173, 0.7996079374160037, 0.7988246856436215, 0.8156512596544061, 0.8234568152099616, 0.7918126005065365, 0.8513756682549589, 0.8436799298146551]}, {\"categories\": [\"0\", \"1\", \"2\", \"3\", \"4\", \"5\", \"6\", \"7\", \"8\", \"9\", \"10\", \"11\", \"12\", \"13\", \"14\", \"15\", \"16\", \"17\", \"18\", \"19\", \"20\", \"21\", \"22\", \"23\", \"24\", \"25\", \"26\", \"27\", \"28\", \"29\", \"30\", \"31\", \"32\", \"33\", \"34\", \"35\", \"36\", \"37\", \"38\", \"39\"], \"mode\": \"lines\", \"name\": \"balanced_accuracy_max\", \"stepped\": true, \"type\": \"scatter\", \"data\": [0.8077082895810014, 0.8130249020938379, 0.8130249020938379, 0.8130249020938379, 0.8199936117467581, 0.8199936117467581, 0.8199936117467581, 0.8199936117467581, 0.8199936117467581, 0.8199936117467581, 0.8199936117467581, 0.8199936117467581, 0.8199936117467581, 0.8199936117467581, 0.8199936117467581, 0.8199936117467581, 0.8199936117467581, 0.8199936117467581, 0.8199936117467581, 0.8199936117467581, 0.8199936117467581, 0.8199936117467581, 0.8199936117467581, 0.8199936117467581, 0.8199936117467581, 0.8199936117467581, 0.8199936117467581, 0.8199936117467581, 0.8259779067233302, 0.8259779067233302, 0.8259779067233302, 0.8259779067233302, 0.8259779067233302, 0.8259779067233302, 0.8259779067233302, 0.8259779067233302, 0.8259779067233302, 0.8259779067233302, 0.8513756682549589, 0.8513756682549589]}], \"f1_score_macro\": [{\"categories\": [\"0\", \"1\", \"2\", \"3\", \"4\", \"5\", \"6\", \"7\", \"8\", \"9\", \"10\", \"11\", \"12\", \"13\", \"14\", \"15\", \"16\", \"17\", \"18\", \"19\", \"20\", \"21\", \"22\", \"23\", \"24\", \"25\", \"26\", \"27\", \"28\", \"29\", \"30\", \"31\", \"32\", \"33\", \"34\", \"35\", \"36\", \"37\", \"38\", \"39\"], \"mode\": \"markers\", \"name\": \"f1_score_macro\", \"stepped\": false, \"type\": \"scatter\", \"data\": [0.8043314151248963, 0.8078501228997539, 0.7995871896412842, 0.8119973411831733, 0.8091352160043261, 0.80016463124057, 0.6562127841411233, 0.7844731356932927, 0.8058899098837211, 0.7985142741080727, 0.7939123413901049, 0.7897716503362009, 0.7754192497122441, 0.8139218100656445, 0.6818642366891708, 0.800592919675218, 0.822092770682701, 0.7603669925285953, 0.7981861218953605, 0.7847779238305554, 0.790418079895183, 0.7926584768670681, 0.8012883076904815, 0.7838989857244059, 0.7221320128454976, 0.7737893938798028, 0.8112085339848484, 0.8080076642132152, 0.8016399868079906, 0.8030301781100802, 0.4024893878511494, 0.7335658587307311, 0.8026096581295047, 0.8080219173843133, 0.7884662192488423, 0.8212910362589035, 0.8133524281490349, 0.7898632505846623, 0.8585347798273222, 0.8431500672124242]}, {\"categories\": [\"0\", \"1\", \"2\", \"3\", \"4\", \"5\", \"6\", \"7\", \"8\", \"9\", \"10\", \"11\", \"12\", \"13\", \"14\", \"15\", \"16\", \"17\", \"18\", \"19\", \"20\", \"21\", \"22\", \"23\", \"24\", \"25\", \"26\", \"27\", \"28\", \"29\", \"30\", \"31\", \"32\", \"33\", \"34\", \"35\", \"36\", \"37\", \"38\", \"39\"], \"mode\": \"lines\", \"name\": \"f1_score_macro_max\", \"stepped\": true, \"type\": \"scatter\", \"data\": [0.8043314151248963, 0.8078501228997539, 0.8078501228997539, 0.8119973411831733, 0.8119973411831733, 0.8119973411831733, 0.8119973411831733, 0.8119973411831733, 0.8119973411831733, 0.8119973411831733, 0.8119973411831733, 0.8119973411831733, 0.8119973411831733, 0.8139218100656445, 0.8139218100656445, 0.8139218100656445, 0.822092770682701, 0.822092770682701, 0.822092770682701, 0.822092770682701, 0.822092770682701, 0.822092770682701, 0.822092770682701, 0.822092770682701, 0.822092770682701, 0.822092770682701, 0.822092770682701, 0.822092770682701, 0.822092770682701, 0.822092770682701, 0.822092770682701, 0.822092770682701, 0.822092770682701, 0.822092770682701, 0.822092770682701, 0.822092770682701, 0.822092770682701, 0.822092770682701, 0.8585347798273222, 0.8585347798273222]}], \"recall_score_weighted\": [{\"categories\": [\"0\", \"1\", \"2\", \"3\", \"4\", \"5\", \"6\", \"7\", \"8\", \"9\", \"10\", \"11\", \"12\", \"13\", \"14\", \"15\", \"16\", \"17\", \"18\", \"19\", \"20\", \"21\", \"22\", \"23\", \"24\", \"25\", \"26\", \"27\", \"28\", \"29\", \"30\", \"31\", \"32\", \"33\", \"34\", \"35\", \"36\", \"37\", \"38\", \"39\"], \"mode\": \"markers\", \"name\": \"recall_score_weighted\", \"stepped\": false, \"type\": \"scatter\", \"data\": [0.8359770114942527, 0.8358620689655172, 0.8328735632183907, 0.8459770114942529, 0.839080459770115, 0.8394252873563219, 0.7459770114942529, 0.8228735632183908, 0.8393103448275863, 0.8328735632183909, 0.8324137931034483, 0.8293103448275861, 0.8260919540229885, 0.8495402298850575, 0.7794252873563219, 0.8393103448275863, 0.8527586206896552, 0.8093103448275862, 0.8326436781609197, 0.8291954022988506, 0.8327586206896553, 0.8326436781609197, 0.8393103448275863, 0.8263218390804598, 0.7994252873563219, 0.8193103448275861, 0.8425287356321839, 0.8427586206896551, 0.8257471264367815, 0.8393103448275863, 0.6791954022988507, 0.8026436781609195, 0.8393103448275863, 0.8459770114942529, 0.822528735632184, 0.8496551724137931, 0.8424137931034481, 0.8260919540229885, 0.8829885057471264, 0.8696551724137931]}, {\"categories\": [\"0\", \"1\", \"2\", \"3\", \"4\", \"5\", \"6\", \"7\", \"8\", \"9\", \"10\", \"11\", \"12\", \"13\", \"14\", \"15\", \"16\", \"17\", \"18\", \"19\", \"20\", \"21\", \"22\", \"23\", \"24\", \"25\", \"26\", \"27\", \"28\", \"29\", \"30\", \"31\", \"32\", \"33\", \"34\", \"35\", \"36\", \"37\", \"38\", \"39\"], \"mode\": \"lines\", \"name\": \"recall_score_weighted_max\", \"stepped\": true, \"type\": \"scatter\", \"data\": [0.8359770114942527, 0.8359770114942527, 0.8359770114942527, 0.8459770114942529, 0.8459770114942529, 0.8459770114942529, 0.8459770114942529, 0.8459770114942529, 0.8459770114942529, 0.8459770114942529, 0.8459770114942529, 0.8459770114942529, 0.8459770114942529, 0.8495402298850575, 0.8495402298850575, 0.8495402298850575, 0.8527586206896552, 0.8527586206896552, 0.8527586206896552, 0.8527586206896552, 0.8527586206896552, 0.8527586206896552, 0.8527586206896552, 0.8527586206896552, 0.8527586206896552, 0.8527586206896552, 0.8527586206896552, 0.8527586206896552, 0.8527586206896552, 0.8527586206896552, 0.8527586206896552, 0.8527586206896552, 0.8527586206896552, 0.8527586206896552, 0.8527586206896552, 0.8527586206896552, 0.8527586206896552, 0.8527586206896552, 0.8829885057471264, 0.8829885057471264]}], \"norm_macro_recall\": [{\"categories\": [\"0\", \"1\", \"2\", \"3\", \"4\", \"5\", \"6\", \"7\", \"8\", \"9\", \"10\", \"11\", \"12\", \"13\", \"14\", \"15\", \"16\", \"17\", \"18\", \"19\", \"20\", \"21\", \"22\", \"23\", \"24\", \"25\", \"26\", \"27\", \"28\", \"29\", \"30\", \"31\", \"32\", \"33\", \"34\", \"35\", \"36\", \"37\", \"38\", \"39\"], \"mode\": \"markers\", \"name\": \"norm_macro_recall\", \"stepped\": false, \"type\": \"scatter\", \"data\": [0.6154165791620023, 0.626049804187676, 0.6122260592191943, 0.6192728106498129, 0.6399872234935163, 0.5836894773164796, 0.35700925403099315, 0.5700270959018099, 0.6172698619077337, 0.5999207826879452, 0.5874731979817793, 0.5739475409538338, 0.5201972239558051, 0.6212777984156702, 0.3479403053087263, 0.598403933912515, 0.6361560356754865, 0.5173603664959501, 0.603122333997048, 0.5677718992804804, 0.5575982074752097, 0.5808979910249933, 0.5916896481982293, 0.5580997776060705, 0.41089347215205335, 0.5361084356147285, 0.6239475409538338, 0.621044032181904, 0.6519558134466601, 0.6148442392212414, 0.0, 0.4474857598541808, 0.6119178322948345, 0.5992158748320074, 0.597649371287243, 0.6313025193088121, 0.6469136304199233, 0.5836252010130729, 0.7027513365099176, 0.6873598596293103]}, {\"categories\": [\"0\", \"1\", \"2\", \"3\", \"4\", \"5\", \"6\", \"7\", \"8\", \"9\", \"10\", \"11\", \"12\", \"13\", \"14\", \"15\", \"16\", \"17\", \"18\", \"19\", \"20\", \"21\", \"22\", \"23\", \"24\", \"25\", \"26\", \"27\", \"28\", \"29\", \"30\", \"31\", \"32\", \"33\", \"34\", \"35\", \"36\", \"37\", \"38\", \"39\"], \"mode\": \"lines\", \"name\": \"norm_macro_recall_max\", \"stepped\": true, \"type\": \"scatter\", \"data\": [0.6154165791620023, 0.626049804187676, 0.626049804187676, 0.626049804187676, 0.6399872234935163, 0.6399872234935163, 0.6399872234935163, 0.6399872234935163, 0.6399872234935163, 0.6399872234935163, 0.6399872234935163, 0.6399872234935163, 0.6399872234935163, 0.6399872234935163, 0.6399872234935163, 0.6399872234935163, 0.6399872234935163, 0.6399872234935163, 0.6399872234935163, 0.6399872234935163, 0.6399872234935163, 0.6399872234935163, 0.6399872234935163, 0.6399872234935163, 0.6399872234935163, 0.6399872234935163, 0.6399872234935163, 0.6399872234935163, 0.6519558134466601, 0.6519558134466601, 0.6519558134466601, 0.6519558134466601, 0.6519558134466601, 0.6519558134466601, 0.6519558134466601, 0.6519558134466601, 0.6519558134466601, 0.6519558134466601, 0.7027513365099176, 0.7027513365099176]}], \"AUC_micro\": [{\"categories\": [\"0\", \"1\", \"2\", \"3\", \"4\", \"5\", \"6\", \"7\", \"8\", \"9\", \"10\", \"11\", \"12\", \"13\", \"14\", \"15\", \"16\", \"17\", \"18\", \"19\", \"20\", \"21\", \"22\", \"23\", \"24\", \"25\", \"26\", \"27\", \"28\", \"29\", \"30\", \"31\", \"32\", \"33\", \"34\", \"35\", \"36\", \"37\", \"38\", \"39\"], \"mode\": \"markers\", \"name\": \"AUC_micro\", \"stepped\": false, \"type\": \"scatter\", \"data\": [0.9035422116527941, 0.9042166732725592, 0.9094622803540757, 0.9121913066455278, 0.9131621086008719, 0.9094700753071742, 0.7914331483683446, 0.8925694279297133, 0.9205226582111242, 0.898694147179284, 0.9073063812921125, 0.8912654247588849, 0.8975012551195668, 0.9005986259743691, 0.8740743823490554, 0.9062068965517242, 0.9091307966706301, 0.8808599550799313, 0.8936493592284318, 0.9138189985467037, 0.9063901440084556, 0.9012878187343111, 0.9027644338750165, 0.8945108997225525, 0.8659437177962742, 0.895871581450654, 0.9113745541022592, 0.9104525036332408, 0.9034702074250232, 0.9118599550799313, 0.6791954022988507, 0.8734642621218127, 0.8984388954947814, 0.911238076364117, 0.9049964328180738, 0.9068189985467037, 0.9056728762055755, 0.9091874752279032, 0.9239085744484079, 0.9212574976879375]}, {\"categories\": [\"0\", \"1\", \"2\", \"3\", \"4\", \"5\", \"6\", \"7\", \"8\", \"9\", \"10\", \"11\", \"12\", \"13\", \"14\", \"15\", \"16\", \"17\", \"18\", \"19\", \"20\", \"21\", \"22\", \"23\", \"24\", \"25\", \"26\", \"27\", \"28\", \"29\", \"30\", \"31\", \"32\", \"33\", \"34\", \"35\", \"36\", \"37\", \"38\", \"39\"], \"mode\": \"lines\", \"name\": \"AUC_micro_max\", \"stepped\": true, \"type\": \"scatter\", \"data\": [0.9035422116527941, 0.9042166732725592, 0.9094622803540757, 0.9121913066455278, 0.9131621086008719, 0.9131621086008719, 0.9131621086008719, 0.9131621086008719, 0.9205226582111242, 0.9205226582111242, 0.9205226582111242, 0.9205226582111242, 0.9205226582111242, 0.9205226582111242, 0.9205226582111242, 0.9205226582111242, 0.9205226582111242, 0.9205226582111242, 0.9205226582111242, 0.9205226582111242, 0.9205226582111242, 0.9205226582111242, 0.9205226582111242, 0.9205226582111242, 0.9205226582111242, 0.9205226582111242, 0.9205226582111242, 0.9205226582111242, 0.9205226582111242, 0.9205226582111242, 0.9205226582111242, 0.9205226582111242, 0.9205226582111242, 0.9205226582111242, 0.9205226582111242, 0.9205226582111242, 0.9205226582111242, 0.9205226582111242, 0.9239085744484079, 0.9239085744484079]}], \"matthews_correlation\": [{\"categories\": [\"0\", \"1\", \"2\", \"3\", \"4\", \"5\", \"6\", \"7\", \"8\", \"9\", \"10\", \"11\", \"12\", \"13\", \"14\", \"15\", \"16\", \"17\", \"18\", \"19\", \"20\", \"21\", \"22\", \"23\", \"24\", \"25\", \"26\", \"27\", \"28\", \"29\", \"30\", \"31\", \"32\", \"33\", \"34\", \"35\", \"36\", \"37\", \"38\", \"39\"], \"mode\": \"markers\", \"name\": \"matthews_correlation\", \"stepped\": false, \"type\": \"scatter\", \"data\": [0.6231314496952846, 0.6345538749068885, 0.6222435531631442, 0.6345659602147155, 0.6399282973630143, 0.6328920836230064, 0.38654338415586886, 0.5926056841761447, 0.633467995676004, 0.6251514690683962, 0.6041560139238766, 0.6050404127354617, 0.5985307000342799, 0.6526669490817252, 0.4788202096540526, 0.6320897071733595, 0.6714956093600895, 0.5420631828594559, 0.6139727634936827, 0.5978408642457762, 0.6114375984181774, 0.6096637428722512, 0.6282666583697689, 0.5891367720950099, 0.5221871760685858, 0.5783545131178667, 0.6441816088928001, 0.638672086369902, 0.6216274965225139, 0.6254185975879218, 0.0, 0.538863619506813, 0.6284918095534159, 0.6403248657867768, 0.5999746766672065, 0.6659232023193736, 0.6459809614288233, 0.5903082617771032, 0.7408177418026314, 0.7058865405646012]}, {\"categories\": [\"0\", \"1\", \"2\", \"3\", \"4\", \"5\", \"6\", \"7\", \"8\", \"9\", \"10\", \"11\", \"12\", \"13\", \"14\", \"15\", \"16\", \"17\", \"18\", \"19\", \"20\", \"21\", \"22\", \"23\", \"24\", \"25\", \"26\", \"27\", \"28\", \"29\", \"30\", \"31\", \"32\", \"33\", \"34\", \"35\", \"36\", \"37\", \"38\", \"39\"], \"mode\": \"lines\", \"name\": \"matthews_correlation_max\", \"stepped\": true, \"type\": \"scatter\", \"data\": [0.6231314496952846, 0.6345538749068885, 0.6345538749068885, 0.6345659602147155, 0.6399282973630143, 0.6399282973630143, 0.6399282973630143, 0.6399282973630143, 0.6399282973630143, 0.6399282973630143, 0.6399282973630143, 0.6399282973630143, 0.6399282973630143, 0.6526669490817252, 0.6526669490817252, 0.6526669490817252, 0.6714956093600895, 0.6714956093600895, 0.6714956093600895, 0.6714956093600895, 0.6714956093600895, 0.6714956093600895, 0.6714956093600895, 0.6714956093600895, 0.6714956093600895, 0.6714956093600895, 0.6714956093600895, 0.6714956093600895, 0.6714956093600895, 0.6714956093600895, 0.6714956093600895, 0.6714956093600895, 0.6714956093600895, 0.6714956093600895, 0.6714956093600895, 0.6714956093600895, 0.6714956093600895, 0.6714956093600895, 0.7408177418026314, 0.7408177418026314]}], \"recall_score_macro\": [{\"categories\": [\"0\", \"1\", \"2\", \"3\", \"4\", \"5\", \"6\", \"7\", \"8\", \"9\", \"10\", \"11\", \"12\", \"13\", \"14\", \"15\", \"16\", \"17\", \"18\", \"19\", \"20\", \"21\", \"22\", \"23\", \"24\", \"25\", \"26\", \"27\", \"28\", \"29\", \"30\", \"31\", \"32\", \"33\", \"34\", \"35\", \"36\", \"37\", \"38\", \"39\"], \"mode\": \"markers\", \"name\": \"recall_score_macro\", \"stepped\": false, \"type\": \"scatter\", \"data\": [0.8077082895810014, 0.8130249020938379, 0.8061130296095971, 0.8096364053249065, 0.8199936117467581, 0.7918447386582398, 0.669892186824109, 0.785013547950905, 0.8086349309538668, 0.7999603913439726, 0.7937365989908897, 0.7869737704769169, 0.7600986119779026, 0.810638899207835, 0.673970152654363, 0.7992019669562576, 0.8180780178377433, 0.758680183247975, 0.8015611669985241, 0.7838859496402402, 0.7787991037376049, 0.7904489955124967, 0.7958448240991147, 0.7790498888030352, 0.7054467360760267, 0.7680542178073643, 0.8119737704769168, 0.810522016090952, 0.8259779067233302, 0.8074221196106208, 0.5, 0.7237428799270904, 0.8059589161474173, 0.7996079374160037, 0.7988246856436215, 0.8156512596544061, 0.8234568152099616, 0.7918126005065365, 0.8513756682549589, 0.8436799298146551]}, {\"categories\": [\"0\", \"1\", \"2\", \"3\", \"4\", \"5\", \"6\", \"7\", \"8\", \"9\", \"10\", \"11\", \"12\", \"13\", \"14\", \"15\", \"16\", \"17\", \"18\", \"19\", \"20\", \"21\", \"22\", \"23\", \"24\", \"25\", \"26\", \"27\", \"28\", \"29\", \"30\", \"31\", \"32\", \"33\", \"34\", \"35\", \"36\", \"37\", \"38\", \"39\"], \"mode\": \"lines\", \"name\": \"recall_score_macro_max\", \"stepped\": true, \"type\": \"scatter\", \"data\": [0.8077082895810014, 0.8130249020938379, 0.8130249020938379, 0.8130249020938379, 0.8199936117467581, 0.8199936117467581, 0.8199936117467581, 0.8199936117467581, 0.8199936117467581, 0.8199936117467581, 0.8199936117467581, 0.8199936117467581, 0.8199936117467581, 0.8199936117467581, 0.8199936117467581, 0.8199936117467581, 0.8199936117467581, 0.8199936117467581, 0.8199936117467581, 0.8199936117467581, 0.8199936117467581, 0.8199936117467581, 0.8199936117467581, 0.8199936117467581, 0.8199936117467581, 0.8199936117467581, 0.8199936117467581, 0.8199936117467581, 0.8259779067233302, 0.8259779067233302, 0.8259779067233302, 0.8259779067233302, 0.8259779067233302, 0.8259779067233302, 0.8259779067233302, 0.8259779067233302, 0.8259779067233302, 0.8259779067233302, 0.8513756682549589, 0.8513756682549589]}], \"log_loss\": [{\"categories\": [\"0\", \"1\", \"2\", \"3\", \"4\", \"5\", \"6\", \"7\", \"8\", \"9\", \"10\", \"11\", \"12\", \"13\", \"14\", \"15\", \"16\", \"17\", \"18\", \"19\", \"20\", \"21\", \"22\", \"23\", \"24\", \"25\", \"26\", \"27\", \"28\", \"29\", \"30\", \"31\", \"32\", \"33\", \"34\", \"35\", \"36\", \"37\", \"38\", \"39\"], \"mode\": \"markers\", \"name\": \"log_loss\", \"stepped\": false, \"type\": \"scatter\", \"data\": [0.4772179826627182, 0.41764279466886123, 0.38148393760725996, 0.3858374463006998, 0.3787906967204714, 0.3911365470913132, 0.5758837813867408, 0.4113226523427646, 0.3601428380773882, 0.412689902302552, 0.3980830159885046, 0.4509924561355497, 0.4227894568759668, 0.3964188793382829, 0.4807904268610071, 0.41916278548122055, 0.38639193828673324, 0.488972342400222, 0.4113560833718445, 0.38701932362348723, 0.40341655626232453, 0.49404195616565794, 0.41860634754545883, 0.42098105415732734, 0.4844134582185486, 0.3926074658506262, 0.36711678101912315, 0.39092052602396865, 0.4198624040155224, 0.38400389082719827, 0.63310061858098, 0.4569952585357953, 0.4630721184303791, 0.41398803984158156, 0.383825095356925, 0.4828328264319091, 0.39035259580844256, 0.3843646042362811, 0.39225797492567616, 0.37268426715649317]}, {\"categories\": [\"0\", \"1\", \"2\", \"3\", \"4\", \"5\", \"6\", \"7\", \"8\", \"9\", \"10\", \"11\", \"12\", \"13\", \"14\", \"15\", \"16\", \"17\", \"18\", \"19\", \"20\", \"21\", \"22\", \"23\", \"24\", \"25\", \"26\", \"27\", \"28\", \"29\", \"30\", \"31\", \"32\", \"33\", \"34\", \"35\", \"36\", \"37\", \"38\", \"39\"], \"mode\": \"lines\", \"name\": \"log_loss_min\", \"stepped\": true, \"type\": \"scatter\", \"data\": [0.4772179826627182, 0.41764279466886123, 0.38148393760725996, 0.38148393760725996, 0.3787906967204714, 0.3787906967204714, 0.3787906967204714, 0.3787906967204714, 0.3601428380773882, 0.3601428380773882, 0.3601428380773882, 0.3601428380773882, 0.3601428380773882, 0.3601428380773882, 0.3601428380773882, 0.3601428380773882, 0.3601428380773882, 0.3601428380773882, 0.3601428380773882, 0.3601428380773882, 0.3601428380773882, 0.3601428380773882, 0.3601428380773882, 0.3601428380773882, 0.3601428380773882, 0.3601428380773882, 0.3601428380773882, 0.3601428380773882, 0.3601428380773882, 0.3601428380773882, 0.3601428380773882, 0.3601428380773882, 0.3601428380773882, 0.3601428380773882, 0.3601428380773882, 0.3601428380773882, 0.3601428380773882, 0.3601428380773882, 0.3601428380773882, 0.3601428380773882]}], \"f1_score_weighted\": [{\"categories\": [\"0\", \"1\", \"2\", \"3\", \"4\", \"5\", \"6\", \"7\", \"8\", \"9\", \"10\", \"11\", \"12\", \"13\", \"14\", \"15\", \"16\", \"17\", \"18\", \"19\", \"20\", \"21\", \"22\", \"23\", \"24\", \"25\", \"26\", \"27\", \"28\", \"29\", \"30\", \"31\", \"32\", \"33\", \"34\", \"35\", \"36\", \"37\", \"38\", \"39\"], \"mode\": \"markers\", \"name\": \"f1_score_weighted\", \"stepped\": false, \"type\": \"scatter\", \"data\": [0.8333388901455894, 0.8342588560383983, 0.8306533531204459, 0.8437836791623374, 0.838847084343713, 0.8312915613757028, 0.7151453150123953, 0.8182849428892383, 0.8363471779022307, 0.8280418148453291, 0.8285879893371074, 0.8228378700361446, 0.8132634517824846, 0.8444890292067422, 0.7446772135867714, 0.8323341032522762, 0.8473051775442382, 0.8048217845216165, 0.8300769343567115, 0.8200050316289881, 0.8238765071943679, 0.8266339996795902, 0.832414726095011, 0.8209520950610459, 0.7783661164348802, 0.8120495061205647, 0.8395925776340063, 0.8379198439959781, 0.829828562213707, 0.8360965495224866, 0.5534120288954022, 0.7803166311449481, 0.8341644215726021, 0.8389655089739063, 0.8194319267939244, 0.8456168090267602, 0.8415483955461477, 0.8242198574197145, 0.8784963909107665, 0.8658339631226871]}, {\"categories\": [\"0\", \"1\", \"2\", \"3\", \"4\", \"5\", \"6\", \"7\", \"8\", \"9\", \"10\", \"11\", \"12\", \"13\", \"14\", \"15\", \"16\", \"17\", \"18\", \"19\", \"20\", \"21\", \"22\", \"23\", \"24\", \"25\", \"26\", \"27\", \"28\", \"29\", \"30\", \"31\", \"32\", \"33\", \"34\", \"35\", \"36\", \"37\", \"38\", \"39\"], \"mode\": \"lines\", \"name\": \"f1_score_weighted_max\", \"stepped\": true, \"type\": \"scatter\", \"data\": [0.8333388901455894, 0.8342588560383983, 0.8342588560383983, 0.8437836791623374, 0.8437836791623374, 0.8437836791623374, 0.8437836791623374, 0.8437836791623374, 0.8437836791623374, 0.8437836791623374, 0.8437836791623374, 0.8437836791623374, 0.8437836791623374, 0.8444890292067422, 0.8444890292067422, 0.8444890292067422, 0.8473051775442382, 0.8473051775442382, 0.8473051775442382, 0.8473051775442382, 0.8473051775442382, 0.8473051775442382, 0.8473051775442382, 0.8473051775442382, 0.8473051775442382, 0.8473051775442382, 0.8473051775442382, 0.8473051775442382, 0.8473051775442382, 0.8473051775442382, 0.8473051775442382, 0.8473051775442382, 0.8473051775442382, 0.8473051775442382, 0.8473051775442382, 0.8473051775442382, 0.8473051775442382, 0.8473051775442382, 0.8784963909107665, 0.8784963909107665]}], \"precision_score_micro\": [{\"categories\": [\"0\", \"1\", \"2\", \"3\", \"4\", \"5\", \"6\", \"7\", \"8\", \"9\", \"10\", \"11\", \"12\", \"13\", \"14\", \"15\", \"16\", \"17\", \"18\", \"19\", \"20\", \"21\", \"22\", \"23\", \"24\", \"25\", \"26\", \"27\", \"28\", \"29\", \"30\", \"31\", \"32\", \"33\", \"34\", \"35\", \"36\", \"37\", \"38\", \"39\"], \"mode\": \"markers\", \"name\": \"precision_score_micro\", \"stepped\": false, \"type\": \"scatter\", \"data\": [0.8359770114942527, 0.8358620689655172, 0.8328735632183907, 0.8459770114942529, 0.839080459770115, 0.8394252873563219, 0.7459770114942529, 0.8228735632183908, 0.8393103448275863, 0.8328735632183909, 0.8324137931034483, 0.8293103448275861, 0.8260919540229885, 0.8495402298850575, 0.7794252873563219, 0.8393103448275863, 0.8527586206896552, 0.8093103448275862, 0.8326436781609197, 0.8291954022988506, 0.8327586206896553, 0.8326436781609197, 0.8393103448275863, 0.8263218390804598, 0.7994252873563219, 0.8193103448275861, 0.8425287356321839, 0.8427586206896551, 0.8257471264367815, 0.8393103448275863, 0.6791954022988507, 0.8026436781609195, 0.8393103448275863, 0.8459770114942529, 0.822528735632184, 0.8496551724137931, 0.8424137931034481, 0.8260919540229885, 0.8829885057471264, 0.8696551724137931]}, {\"categories\": [\"0\", \"1\", \"2\", \"3\", \"4\", \"5\", \"6\", \"7\", \"8\", \"9\", \"10\", \"11\", \"12\", \"13\", \"14\", \"15\", \"16\", \"17\", \"18\", \"19\", \"20\", \"21\", \"22\", \"23\", \"24\", \"25\", \"26\", \"27\", \"28\", \"29\", \"30\", \"31\", \"32\", \"33\", \"34\", \"35\", \"36\", \"37\", \"38\", \"39\"], \"mode\": \"lines\", \"name\": \"precision_score_micro_max\", \"stepped\": true, \"type\": \"scatter\", \"data\": [0.8359770114942527, 0.8359770114942527, 0.8359770114942527, 0.8459770114942529, 0.8459770114942529, 0.8459770114942529, 0.8459770114942529, 0.8459770114942529, 0.8459770114942529, 0.8459770114942529, 0.8459770114942529, 0.8459770114942529, 0.8459770114942529, 0.8495402298850575, 0.8495402298850575, 0.8495402298850575, 0.8527586206896552, 0.8527586206896552, 0.8527586206896552, 0.8527586206896552, 0.8527586206896552, 0.8527586206896552, 0.8527586206896552, 0.8527586206896552, 0.8527586206896552, 0.8527586206896552, 0.8527586206896552, 0.8527586206896552, 0.8527586206896552, 0.8527586206896552, 0.8527586206896552, 0.8527586206896552, 0.8527586206896552, 0.8527586206896552, 0.8527586206896552, 0.8527586206896552, 0.8527586206896552, 0.8527586206896552, 0.8829885057471264, 0.8829885057471264]}], \"precision_score_weighted\": [{\"categories\": [\"0\", \"1\", \"2\", \"3\", \"4\", \"5\", \"6\", \"7\", \"8\", \"9\", \"10\", \"11\", \"12\", \"13\", \"14\", \"15\", \"16\", \"17\", \"18\", \"19\", \"20\", \"21\", \"22\", \"23\", \"24\", \"25\", \"26\", \"27\", \"28\", \"29\", \"30\", \"31\", \"32\", \"33\", \"34\", \"35\", \"36\", \"37\", \"38\", \"39\"], \"mode\": \"markers\", \"name\": \"precision_score_weighted\", \"stepped\": false, \"type\": \"scatter\", \"data\": [0.8443308716969533, 0.8506678986628277, 0.8506311822443757, 0.8522240836652382, 0.8586211306385749, 0.8554148822441926, 0.7647701689753413, 0.837153057106774, 0.8544323746496161, 0.8490463978799812, 0.8406271377298363, 0.8413490727579933, 0.8458189288953408, 0.8632553265105122, 0.8176354505897235, 0.8553606304186647, 0.8694222560977078, 0.8214794960088856, 0.8449564016692953, 0.8382863890761325, 0.8442509437588898, 0.8437373919775482, 0.8512215457548056, 0.8360052026656224, 0.8269224424223675, 0.8345004264850591, 0.8575584589739762, 0.8557506522333123, 0.8496715257528008, 0.8514136115759936, 0.47055053507728895, 0.8267503915217809, 0.8520676351939469, 0.8559991688480206, 0.8391902832830385, 0.8631754354812825, 0.8592771589571351, 0.8324546633040282, 0.8975650198718927, 0.8814872570549994]}, {\"categories\": [\"0\", \"1\", \"2\", \"3\", \"4\", \"5\", \"6\", \"7\", \"8\", \"9\", \"10\", \"11\", \"12\", \"13\", \"14\", \"15\", \"16\", \"17\", \"18\", \"19\", \"20\", \"21\", \"22\", \"23\", \"24\", \"25\", \"26\", \"27\", \"28\", \"29\", \"30\", \"31\", \"32\", \"33\", \"34\", \"35\", \"36\", \"37\", \"38\", \"39\"], \"mode\": \"lines\", \"name\": \"precision_score_weighted_max\", \"stepped\": true, \"type\": \"scatter\", \"data\": [0.8443308716969533, 0.8506678986628277, 0.8506678986628277, 0.8522240836652382, 0.8586211306385749, 0.8586211306385749, 0.8586211306385749, 0.8586211306385749, 0.8586211306385749, 0.8586211306385749, 0.8586211306385749, 0.8586211306385749, 0.8586211306385749, 0.8632553265105122, 0.8632553265105122, 0.8632553265105122, 0.8694222560977078, 0.8694222560977078, 0.8694222560977078, 0.8694222560977078, 0.8694222560977078, 0.8694222560977078, 0.8694222560977078, 0.8694222560977078, 0.8694222560977078, 0.8694222560977078, 0.8694222560977078, 0.8694222560977078, 0.8694222560977078, 0.8694222560977078, 0.8694222560977078, 0.8694222560977078, 0.8694222560977078, 0.8694222560977078, 0.8694222560977078, 0.8694222560977078, 0.8694222560977078, 0.8694222560977078, 0.8975650198718927, 0.8975650198718927]}], \"f1_score_micro\": [{\"categories\": [\"0\", \"1\", \"2\", \"3\", \"4\", \"5\", \"6\", \"7\", \"8\", \"9\", \"10\", \"11\", \"12\", \"13\", \"14\", \"15\", \"16\", \"17\", \"18\", \"19\", \"20\", \"21\", \"22\", \"23\", \"24\", \"25\", \"26\", \"27\", \"28\", \"29\", \"30\", \"31\", \"32\", \"33\", \"34\", \"35\", \"36\", \"37\", \"38\", \"39\"], \"mode\": \"markers\", \"name\": \"f1_score_micro\", \"stepped\": false, \"type\": \"scatter\", \"data\": [0.8359770114942527, 0.8358620689655172, 0.8328735632183909, 0.8459770114942529, 0.839080459770115, 0.8394252873563219, 0.7459770114942529, 0.8228735632183908, 0.8393103448275863, 0.8328735632183909, 0.8324137931034483, 0.8293103448275861, 0.8260919540229885, 0.8495402298850575, 0.7794252873563219, 0.8393103448275863, 0.8527586206896552, 0.8093103448275862, 0.8326436781609197, 0.8291954022988506, 0.8327586206896553, 0.8326436781609197, 0.8393103448275863, 0.8263218390804598, 0.7994252873563219, 0.8193103448275861, 0.842528735632184, 0.8427586206896551, 0.8257471264367815, 0.8393103448275863, 0.6791954022988507, 0.8026436781609195, 0.8393103448275863, 0.8459770114942529, 0.822528735632184, 0.8496551724137931, 0.8424137931034483, 0.8260919540229885, 0.8829885057471264, 0.8696551724137931]}, {\"categories\": [\"0\", \"1\", \"2\", \"3\", \"4\", \"5\", \"6\", \"7\", \"8\", \"9\", \"10\", \"11\", \"12\", \"13\", \"14\", \"15\", \"16\", \"17\", \"18\", \"19\", \"20\", \"21\", \"22\", \"23\", \"24\", \"25\", \"26\", \"27\", \"28\", \"29\", \"30\", \"31\", \"32\", \"33\", \"34\", \"35\", \"36\", \"37\", \"38\", \"39\"], \"mode\": \"lines\", \"name\": \"f1_score_micro_max\", \"stepped\": true, \"type\": \"scatter\", \"data\": [0.8359770114942527, 0.8359770114942527, 0.8359770114942527, 0.8459770114942529, 0.8459770114942529, 0.8459770114942529, 0.8459770114942529, 0.8459770114942529, 0.8459770114942529, 0.8459770114942529, 0.8459770114942529, 0.8459770114942529, 0.8459770114942529, 0.8495402298850575, 0.8495402298850575, 0.8495402298850575, 0.8527586206896552, 0.8527586206896552, 0.8527586206896552, 0.8527586206896552, 0.8527586206896552, 0.8527586206896552, 0.8527586206896552, 0.8527586206896552, 0.8527586206896552, 0.8527586206896552, 0.8527586206896552, 0.8527586206896552, 0.8527586206896552, 0.8527586206896552, 0.8527586206896552, 0.8527586206896552, 0.8527586206896552, 0.8527586206896552, 0.8527586206896552, 0.8527586206896552, 0.8527586206896552, 0.8527586206896552, 0.8829885057471264, 0.8829885057471264]}], \"average_precision_score_micro\": [{\"categories\": [\"0\", \"1\", \"2\", \"3\", \"4\", \"5\", \"6\", \"7\", \"8\", \"9\", \"10\", \"11\", \"12\", \"13\", \"14\", \"15\", \"16\", \"17\", \"18\", \"19\", \"20\", \"21\", \"22\", \"23\", \"24\", \"25\", \"26\", \"27\", \"28\", \"29\", \"30\", \"31\", \"32\", \"33\", \"34\", \"35\", \"36\", \"37\", \"38\", \"39\"], \"mode\": \"markers\", \"name\": \"average_precision_score_micro\", \"stepped\": false, \"type\": \"scatter\", \"data\": [0.9020054536251629, 0.9033793522124445, 0.9093920808454351, 0.9161762687661111, 0.9147273025242804, 0.9122457531271202, 0.7828748083700323, 0.895111815566743, 0.9240967328362901, 0.9019692978998345, 0.9113256438381863, 0.8905441744626564, 0.9045880262347422, 0.9015291478498986, 0.8834597513438405, 0.9100085270296232, 0.9116997112880789, 0.876380860099481, 0.8968288823748457, 0.918895498759967, 0.9080164422437822, 0.8978687884461332, 0.907380079578538, 0.8971108048480401, 0.8675677166157003, 0.9015898182130119, 0.9136348515728081, 0.9131918379998517, 0.902855731220827, 0.9153529070339858, 0.6309528339278636, 0.8776105133940522, 0.8950673049215215, 0.9099230667929221, 0.9093888983573329, 0.9024099662219006, 0.9086577874074294, 0.9116272511149954, 0.9276800327953099, 0.9249924947501718]}, {\"categories\": [\"0\", \"1\", \"2\", \"3\", \"4\", \"5\", \"6\", \"7\", \"8\", \"9\", \"10\", \"11\", \"12\", \"13\", \"14\", \"15\", \"16\", \"17\", \"18\", \"19\", \"20\", \"21\", \"22\", \"23\", \"24\", \"25\", \"26\", \"27\", \"28\", \"29\", \"30\", \"31\", \"32\", \"33\", \"34\", \"35\", \"36\", \"37\", \"38\", \"39\"], \"mode\": \"lines\", \"name\": \"average_precision_score_micro_max\", \"stepped\": true, \"type\": \"scatter\", \"data\": [0.9020054536251629, 0.9033793522124445, 0.9093920808454351, 0.9161762687661111, 0.9161762687661111, 0.9161762687661111, 0.9161762687661111, 0.9161762687661111, 0.9240967328362901, 0.9240967328362901, 0.9240967328362901, 0.9240967328362901, 0.9240967328362901, 0.9240967328362901, 0.9240967328362901, 0.9240967328362901, 0.9240967328362901, 0.9240967328362901, 0.9240967328362901, 0.9240967328362901, 0.9240967328362901, 0.9240967328362901, 0.9240967328362901, 0.9240967328362901, 0.9240967328362901, 0.9240967328362901, 0.9240967328362901, 0.9240967328362901, 0.9240967328362901, 0.9240967328362901, 0.9240967328362901, 0.9240967328362901, 0.9240967328362901, 0.9240967328362901, 0.9240967328362901, 0.9240967328362901, 0.9240967328362901, 0.9240967328362901, 0.9276800327953099, 0.9276800327953099]}], \"accuracy\": [{\"categories\": [\"0\", \"1\", \"2\", \"3\", \"4\", \"5\", \"6\", \"7\", \"8\", \"9\", \"10\", \"11\", \"12\", \"13\", \"14\", \"15\", \"16\", \"17\", \"18\", \"19\", \"20\", \"21\", \"22\", \"23\", \"24\", \"25\", \"26\", \"27\", \"28\", \"29\", \"30\", \"31\", \"32\", \"33\", \"34\", \"35\", \"36\", \"37\", \"38\", \"39\"], \"mode\": \"markers\", \"name\": \"accuracy\", \"stepped\": false, \"type\": \"scatter\", \"data\": [0.8359770114942527, 0.8358620689655172, 0.8328735632183907, 0.8459770114942529, 0.839080459770115, 0.8394252873563219, 0.7459770114942529, 0.8228735632183908, 0.8393103448275863, 0.8328735632183909, 0.8324137931034483, 0.8293103448275861, 0.8260919540229885, 0.8495402298850575, 0.7794252873563219, 0.8393103448275863, 0.8527586206896552, 0.8093103448275862, 0.8326436781609197, 0.8291954022988506, 0.8327586206896553, 0.8326436781609197, 0.8393103448275863, 0.8263218390804598, 0.7994252873563219, 0.8193103448275861, 0.8425287356321839, 0.8427586206896551, 0.8257471264367815, 0.8393103448275863, 0.6791954022988507, 0.8026436781609195, 0.8393103448275863, 0.8459770114942529, 0.822528735632184, 0.8496551724137931, 0.8424137931034481, 0.8260919540229885, 0.8829885057471264, 0.8696551724137931]}, {\"categories\": [\"0\", \"1\", \"2\", \"3\", \"4\", \"5\", \"6\", \"7\", \"8\", \"9\", \"10\", \"11\", \"12\", \"13\", \"14\", \"15\", \"16\", \"17\", \"18\", \"19\", \"20\", \"21\", \"22\", \"23\", \"24\", \"25\", \"26\", \"27\", \"28\", \"29\", \"30\", \"31\", \"32\", \"33\", \"34\", \"35\", \"36\", \"37\", \"38\", \"39\"], \"mode\": \"lines\", \"name\": \"accuracy_max\", \"stepped\": true, \"type\": \"scatter\", \"data\": [0.8359770114942527, 0.8359770114942527, 0.8359770114942527, 0.8459770114942529, 0.8459770114942529, 0.8459770114942529, 0.8459770114942529, 0.8459770114942529, 0.8459770114942529, 0.8459770114942529, 0.8459770114942529, 0.8459770114942529, 0.8459770114942529, 0.8495402298850575, 0.8495402298850575, 0.8495402298850575, 0.8527586206896552, 0.8527586206896552, 0.8527586206896552, 0.8527586206896552, 0.8527586206896552, 0.8527586206896552, 0.8527586206896552, 0.8527586206896552, 0.8527586206896552, 0.8527586206896552, 0.8527586206896552, 0.8527586206896552, 0.8527586206896552, 0.8527586206896552, 0.8527586206896552, 0.8527586206896552, 0.8527586206896552, 0.8527586206896552, 0.8527586206896552, 0.8527586206896552, 0.8527586206896552, 0.8527586206896552, 0.8829885057471264, 0.8829885057471264]}]}, \"metricName\": null, \"primaryMetricName\": \"accuracy\", \"showLegend\": false}, \"run_metrics\": [{\"name\": \"experiment_status\", \"run_id\": \"AutoML_f2207e5b-cc6f-4ff2-bdf6-32b2158456e2\", \"categories\": [0, 1, 2, 3, 4, 5, 6, 7, 8, 9, 10, 11, 12, 13], \"series\": [{\"data\": [\"DatasetEvaluation\", \"FeaturesGeneration\", \"DatasetFeaturization\", \"DatasetFeaturizationCompleted\", \"DatasetCrossValidationSplit\", \"ModelSelection\", \"BestRunExplainModel\", \"ModelExplanationDataSetSetup\", \"PickSurrogateModel\", \"EngineeredFeatureExplanations\", \"EngineeredFeatureExplanations\", \"RawFeaturesExplanations\", \"RawFeaturesExplanations\", \"BestRunExplainModel\"]}]}, {\"name\": \"experiment_status_description\", \"run_id\": \"AutoML_f2207e5b-cc6f-4ff2-bdf6-32b2158456e2\", \"categories\": [0, 1, 2, 3, 4, 5, 6, 7, 8, 9, 10, 11, 12, 13], \"series\": [{\"data\": [\"Gathering dataset statistics.\", \"Generating features for the dataset.\", \"Beginning to fit featurizers and featurize the dataset.\", \"Completed fit featurizers and featurizing the dataset.\", \"Generating individually featurized CV splits.\", \"Beginning model selection.\", \"Best run model explanations started\", \"Model explanations data setup completed\", \"Choosing LightGBM as the surrogate model for explanations\", \"Computation of engineered features started\", \"Computation of engineered features completed\", \"Computation of raw features started\", \"Computation of raw features completed\", \"Best run model explanations completed\"]}]}, {\"name\": \"AUC_weighted\", \"run_id\": \"AutoML_f2207e5b-cc6f-4ff2-bdf6-32b2158456e2\", \"categories\": [0], \"series\": [{\"data\": [0.9191021390212464]}]}, {\"name\": \"precision_score_micro\", \"run_id\": \"AutoML_f2207e5b-cc6f-4ff2-bdf6-32b2158456e2\", \"categories\": [0], \"series\": [{\"data\": [0.8829885057471264]}]}, {\"name\": \"average_precision_score_weighted\", \"run_id\": \"AutoML_f2207e5b-cc6f-4ff2-bdf6-32b2158456e2\", \"categories\": [0], \"series\": [{\"data\": [0.9316592851043881]}]}, {\"name\": \"f1_score_micro\", \"run_id\": \"AutoML_f2207e5b-cc6f-4ff2-bdf6-32b2158456e2\", \"categories\": [0], \"series\": [{\"data\": [0.8829885057471264]}]}, {\"name\": \"recall_score_weighted\", \"run_id\": \"AutoML_f2207e5b-cc6f-4ff2-bdf6-32b2158456e2\", \"categories\": [0], \"series\": [{\"data\": [0.8829885057471264]}]}, {\"name\": \"weighted_accuracy\", \"run_id\": \"AutoML_f2207e5b-cc6f-4ff2-bdf6-32b2158456e2\", \"categories\": [0], \"series\": [{\"data\": [0.9035008884736214]}]}, {\"name\": \"precision_score_macro\", \"run_id\": \"AutoML_f2207e5b-cc6f-4ff2-bdf6-32b2158456e2\", \"categories\": [0], \"series\": [{\"data\": [0.8923207465684582]}]}, {\"name\": \"log_loss\", \"run_id\": \"AutoML_f2207e5b-cc6f-4ff2-bdf6-32b2158456e2\", \"categories\": [0], \"series\": [{\"data\": [0.39225797492567616]}]}, {\"name\": \"precision_score_weighted\", \"run_id\": \"AutoML_f2207e5b-cc6f-4ff2-bdf6-32b2158456e2\", \"categories\": [0], \"series\": [{\"data\": [0.8975650198718927]}]}, {\"name\": \"f1_score_macro\", \"run_id\": \"AutoML_f2207e5b-cc6f-4ff2-bdf6-32b2158456e2\", \"categories\": [0], \"series\": [{\"data\": [0.8585347798273222]}]}, {\"name\": \"matthews_correlation\", \"run_id\": \"AutoML_f2207e5b-cc6f-4ff2-bdf6-32b2158456e2\", \"categories\": [0], \"series\": [{\"data\": [0.7408177418026314]}]}, {\"name\": \"AUC_macro\", \"run_id\": \"AutoML_f2207e5b-cc6f-4ff2-bdf6-32b2158456e2\", \"categories\": [0], \"series\": [{\"data\": [0.9191021390212464]}]}, {\"name\": \"accuracy\", \"run_id\": \"AutoML_f2207e5b-cc6f-4ff2-bdf6-32b2158456e2\", \"categories\": [0], \"series\": [{\"data\": [0.8829885057471264]}]}, {\"name\": \"average_precision_score_macro\", \"run_id\": \"AutoML_f2207e5b-cc6f-4ff2-bdf6-32b2158456e2\", \"categories\": [0], \"series\": [{\"data\": [0.910274761354677]}]}, {\"name\": \"recall_score_macro\", \"run_id\": \"AutoML_f2207e5b-cc6f-4ff2-bdf6-32b2158456e2\", \"categories\": [0], \"series\": [{\"data\": [0.8513756682549589]}]}, {\"name\": \"recall_score_micro\", \"run_id\": \"AutoML_f2207e5b-cc6f-4ff2-bdf6-32b2158456e2\", \"categories\": [0], \"series\": [{\"data\": [0.8829885057471264]}]}, {\"name\": \"AUC_micro\", \"run_id\": \"AutoML_f2207e5b-cc6f-4ff2-bdf6-32b2158456e2\", \"categories\": [0], \"series\": [{\"data\": [0.9239085744484079]}]}, {\"name\": \"average_precision_score_micro\", \"run_id\": \"AutoML_f2207e5b-cc6f-4ff2-bdf6-32b2158456e2\", \"categories\": [0], \"series\": [{\"data\": [0.9276800327953099]}]}, {\"name\": \"norm_macro_recall\", \"run_id\": \"AutoML_f2207e5b-cc6f-4ff2-bdf6-32b2158456e2\", \"categories\": [0], \"series\": [{\"data\": [0.7027513365099176]}]}, {\"name\": \"balanced_accuracy\", \"run_id\": \"AutoML_f2207e5b-cc6f-4ff2-bdf6-32b2158456e2\", \"categories\": [0], \"series\": [{\"data\": [0.8513756682549589]}]}, {\"name\": \"f1_score_weighted\", \"run_id\": \"AutoML_f2207e5b-cc6f-4ff2-bdf6-32b2158456e2\", \"categories\": [0], \"series\": [{\"data\": [0.8784963909107665]}]}], \"run_logs\": \"\\nRun is completed.\", \"graph\": {}, \"widget_settings\": {\"childWidgetDisplay\": \"popup\", \"send_telemetry\": false, \"log_level\": \"INFO\", \"sdk_version\": \"1.30.0\"}, \"loading\": false}"
          },
          "metadata": {}
        }
      ],
      "execution_count": 10,
      "metadata": {
        "gather": {
          "logged": 1624434024624
        },
        "jupyter": {
          "outputs_hidden": false,
          "source_hidden": false
        },
        "nteract": {
          "transient": {
            "deleting": false
          }
        }
      }
    },
    {
      "cell_type": "code",
      "source": [
        "# waiting for the run \r\n",
        "\r\n",
        "remote_run.wait_for_completion(show_output=True)"
      ],
      "outputs": [
        {
          "output_type": "execute_result",
          "execution_count": 11,
          "data": {
            "text/plain": "{'runId': 'AutoML_f2207e5b-cc6f-4ff2-bdf6-32b2158456e2',\n 'target': 'CapstoneAML',\n 'status': 'Completed',\n 'startTimeUtc': '2021-06-23T07:33:46.067103Z',\n 'endTimeUtc': '2021-06-23T07:46:38.89003Z',\n 'properties': {'num_iterations': '1000',\n  'training_type': 'TrainFull',\n  'acquisition_function': 'EI',\n  'primary_metric': 'accuracy',\n  'train_split': '0',\n  'acquisition_parameter': '0',\n  'num_cross_validation': None,\n  'target': 'CapstoneAML',\n  'AMLSettingsJsonString': '{\"path\":null,\"name\":\"CapstoneProject\",\"subscription_id\":\"f9d5a085-54dc-4215-9ba6-dad5d86e60a0\",\"resource_group\":\"aml-quickstarts-147759\",\"workspace_name\":\"quick-starts-ws-147759\",\"region\":\"southcentralus\",\"compute_target\":\"CapstoneAML\",\"spark_service\":null,\"azure_service\":\"remote\",\"many_models\":false,\"pipeline_fetch_max_batch_size\":1,\"enable_batch_run\":false,\"enable_run_restructure\":false,\"start_auxiliary_runs_before_parent_complete\":false,\"enable_code_generation\":false,\"iterations\":1000,\"primary_metric\":\"accuracy\",\"task_type\":\"classification\",\"data_script\":null,\"test_size\":0.0,\"validation_size\":0.0,\"n_cross_validations\":null,\"y_min\":null,\"y_max\":null,\"num_classes\":null,\"featurization\":\"auto\",\"_ignore_package_version_incompatibilities\":false,\"is_timeseries\":false,\"max_cores_per_iteration\":1,\"max_concurrent_iterations\":5,\"iteration_timeout_minutes\":null,\"mem_in_mb\":null,\"enforce_time_on_windows\":false,\"experiment_timeout_minutes\":20,\"experiment_exit_score\":null,\"whitelist_models\":null,\"blacklist_algos\":[\"TensorFlowLinearClassifier\",\"TensorFlowDNN\"],\"supported_models\":[\"LogisticRegression\",\"SVM\",\"ExtremeRandomTrees\",\"KNN\",\"GradientBoosting\",\"RandomForest\",\"SGD\",\"LinearSVM\",\"BernoulliNaiveBayes\",\"TensorFlowDNN\",\"XGBoostClassifier\",\"AveragedPerceptronClassifier\",\"MultinomialNaiveBayes\",\"TensorFlowLinearClassifier\",\"LightGBM\",\"DecisionTree\"],\"private_models\":[],\"auto_blacklist\":true,\"blacklist_samples_reached\":false,\"exclude_nan_labels\":true,\"verbosity\":20,\"_debug_log\":\"azureml_automl.log\",\"show_warnings\":false,\"model_explainability\":true,\"service_url\":null,\"sdk_url\":null,\"sdk_packages\":null,\"enable_onnx_compatible_models\":false,\"enable_split_onnx_featurizer_estimator_models\":false,\"vm_type\":\"STANDARD_DS3_V2\",\"telemetry_verbosity\":20,\"send_telemetry\":true,\"enable_dnn\":false,\"scenario\":\"SDK-1.13.0\",\"environment_label\":null,\"save_mlflow\":false,\"force_text_dnn\":false,\"enable_feature_sweeping\":true,\"enable_early_stopping\":true,\"early_stopping_n_iters\":10,\"metrics\":null,\"enable_metric_confidence\":false,\"enable_ensembling\":true,\"enable_stack_ensembling\":true,\"ensemble_iterations\":15,\"enable_tf\":false,\"enable_subsampling\":null,\"subsample_seed\":null,\"enable_nimbusml\":false,\"enable_streaming\":false,\"force_streaming\":false,\"track_child_runs\":true,\"allowed_private_models\":[],\"label_column_name\":\"DEATH_EVENT\",\"weight_column_name\":null,\"cv_split_column_names\":null,\"enable_local_managed\":false,\"_local_managed_run_id\":null,\"cost_mode\":1,\"lag_length\":0,\"metric_operation\":\"maximize\",\"preprocess\":true}',\n  'DataPrepJsonString': '{\\\\\"training_data\\\\\": {\\\\\"datasetId\\\\\": \\\\\"eaa40db1-4867-4f2b-b967-5b07db99c296\\\\\"}, \\\\\"datasets\\\\\": 0}',\n  'EnableSubsampling': None,\n  'runTemplate': 'AutoML',\n  'azureml.runsource': 'automl',\n  'display_task_type': 'classification',\n  'dependencies_versions': '{\"azureml-widgets\": \"1.30.0\", \"azureml-train\": \"1.30.0\", \"azureml-train-restclients-hyperdrive\": \"1.30.0\", \"azureml-train-core\": \"1.30.0\", \"azureml-train-automl\": \"1.30.0\", \"azureml-train-automl-runtime\": \"1.30.0\", \"azureml-train-automl-client\": \"1.30.0\", \"azureml-tensorboard\": \"1.30.0\", \"azureml-telemetry\": \"1.30.0\", \"azureml-sdk\": \"1.30.0\", \"azureml-samples\": \"0+unknown\", \"azureml-pipeline\": \"1.30.0\", \"azureml-pipeline-steps\": \"1.30.0\", \"azureml-pipeline-core\": \"1.30.0\", \"azureml-opendatasets\": \"1.30.0\", \"azureml-model-management-sdk\": \"1.0.1b6.post1\", \"azureml-mlflow\": \"1.30.0\", \"azureml-interpret\": \"1.30.0\", \"azureml-explain-model\": \"1.30.0\", \"azureml-defaults\": \"1.30.0\", \"azureml-dataset-runtime\": \"1.30.0\", \"azureml-dataprep\": \"2.15.1\", \"azureml-dataprep-rslex\": \"1.13.0\", \"azureml-dataprep-native\": \"33.0.0\", \"azureml-datadrift\": \"1.30.0\", \"azureml-core\": \"1.30.0\", \"azureml-contrib-services\": \"1.30.0\", \"azureml-contrib-server\": \"1.30.0\", \"azureml-contrib-reinforcementlearning\": \"1.30.0\", \"azureml-contrib-pipeline-steps\": \"1.30.0\", \"azureml-contrib-notebook\": \"1.30.0\", \"azureml-contrib-fairness\": \"1.30.0\", \"azureml-contrib-dataset\": \"1.30.0\", \"azureml-cli-common\": \"1.30.0\", \"azureml-automl-runtime\": \"1.30.0\", \"azureml-automl-dnn-nlp\": \"1.30.0\", \"azureml-automl-core\": \"1.30.0\", \"azureml-accel-models\": \"1.30.0\"}',\n  '_aml_system_scenario_identification': 'Remote.Parent',\n  'ClientType': 'SDK',\n  'environment_cpu_name': 'AzureML-AutoML',\n  'environment_cpu_label': 'prod',\n  'environment_gpu_name': 'AzureML-AutoML-GPU',\n  'environment_gpu_label': 'prod',\n  'root_attribution': 'automl',\n  'attribution': 'AutoML',\n  'Orchestrator': 'AutoML',\n  'CancelUri': 'https://southcentralus.api.azureml.ms/jasmine/v1.0/subscriptions/f9d5a085-54dc-4215-9ba6-dad5d86e60a0/resourceGroups/aml-quickstarts-147759/providers/Microsoft.MachineLearningServices/workspaces/quick-starts-ws-147759/experimentids/e56f77dd-2b29-47fb-abd9-b05a4150c043/cancel/AutoML_f2207e5b-cc6f-4ff2-bdf6-32b2158456e2',\n  'azureml.git.repository_uri': 'https://github.com/arunanshupandey/nd00333-capstone.git',\n  'mlflow.source.git.repoURL': 'https://github.com/arunanshupandey/nd00333-capstone.git',\n  'azureml.git.branch': 'master',\n  'mlflow.source.git.branch': 'master',\n  'azureml.git.commit': '013015e1e13d1efc29173edccdffcfc64763f47a',\n  'mlflow.source.git.commit': '013015e1e13d1efc29173edccdffcfc64763f47a',\n  'azureml.git.dirty': 'False',\n  'ClientSdkVersion': '1.30.0',\n  'snapshotId': '00000000-0000-0000-0000-000000000000',\n  'SetupRunId': 'AutoML_f2207e5b-cc6f-4ff2-bdf6-32b2158456e2_setup',\n  'SetupRunContainerId': 'dcid.AutoML_f2207e5b-cc6f-4ff2-bdf6-32b2158456e2_setup',\n  'FeaturizationRunJsonPath': 'featurizer_container.json',\n  'FeaturizationRunId': 'AutoML_f2207e5b-cc6f-4ff2-bdf6-32b2158456e2_featurize',\n  'ProblemInfoJsonString': '{\"dataset_num_categorical\": 0, \"is_sparse\": false, \"subsampling\": false, \"has_extra_col\": true, \"dataset_classes\": 2, \"dataset_features\": 12, \"dataset_samples\": 299, \"single_frequency_class_detected\": false}',\n  'ModelExplainRunId': 'AutoML_f2207e5b-cc6f-4ff2-bdf6-32b2158456e2_ModelExplain'},\n 'inputDatasets': [{'dataset': {'id': 'eaa40db1-4867-4f2b-b967-5b07db99c296'}, 'consumptionDetails': {'type': 'RunInput', 'inputName': 'training_data', 'mechanism': 'Direct'}}],\n 'outputDatasets': [],\n 'logFiles': {},\n 'submittedBy': 'ODL_User 147759'}"
          },
          "metadata": {}
        }
      ],
      "execution_count": 11,
      "metadata": {
        "collapsed": true,
        "jupyter": {
          "source_hidden": false,
          "outputs_hidden": false
        },
        "nteract": {
          "transient": {
            "deleting": false
          }
        },
        "gather": {
          "logged": 1624434404541
        }
      }
    },
    {
      "cell_type": "markdown",
      "source": [
        "## Best Model\n",
        "\n",
        "TODO: In the cell below, get the best model from the automl experiments and display all the properties of the model.\n",
        "\n"
      ],
      "metadata": {}
    },
    {
      "cell_type": "code",
      "source": [
        "# Best model\r\n",
        "\r\n",
        "# Retrieve best model from remote Run\r\n",
        "best_model_output = remote_run.get_pipeline_output(best_model_output_name)\r\n",
        "#best_run, model = remote_run.get_output()\r\n",
        "num_file_downloaded = best_model_output.download('.', show_progress=True)"
      ],
      "outputs": [
        {
          "output_type": "error",
          "ename": "AttributeError",
          "evalue": "'AutoMLRun' object has no attribute 'get_pipeline_output'",
          "traceback": [
            "\u001b[0;31m---------------------------------------------------------------------------\u001b[0m",
            "\u001b[0;31mAttributeError\u001b[0m                            Traceback (most recent call last)",
            "\u001b[0;32m<ipython-input-12-9c8ecbb0afbe>\u001b[0m in \u001b[0;36m<module>\u001b[0;34m\u001b[0m\n\u001b[1;32m      2\u001b[0m \u001b[0;34m\u001b[0m\u001b[0m\n\u001b[1;32m      3\u001b[0m \u001b[0;31m# Retrieve best model from remote Run\u001b[0m\u001b[0;34m\u001b[0m\u001b[0;34m\u001b[0m\u001b[0;34m\u001b[0m\u001b[0m\n\u001b[0;32m----> 4\u001b[0;31m \u001b[0mbest_model_output\u001b[0m \u001b[0;34m=\u001b[0m \u001b[0mremote_run\u001b[0m\u001b[0;34m.\u001b[0m\u001b[0mget_pipeline_output\u001b[0m\u001b[0;34m(\u001b[0m\u001b[0mbest_model_output_name\u001b[0m\u001b[0;34m)\u001b[0m\u001b[0;34m\u001b[0m\u001b[0;34m\u001b[0m\u001b[0m\n\u001b[0m\u001b[1;32m      5\u001b[0m \u001b[0mnum_file_downloaded\u001b[0m \u001b[0;34m=\u001b[0m \u001b[0mbest_model_output\u001b[0m\u001b[0;34m.\u001b[0m\u001b[0mdownload\u001b[0m\u001b[0;34m(\u001b[0m\u001b[0;34m'.'\u001b[0m\u001b[0;34m,\u001b[0m \u001b[0mshow_progress\u001b[0m\u001b[0;34m=\u001b[0m\u001b[0;32mTrue\u001b[0m\u001b[0;34m)\u001b[0m\u001b[0;34m\u001b[0m\u001b[0;34m\u001b[0m\u001b[0m\n",
            "\u001b[0;31mAttributeError\u001b[0m: 'AutoMLRun' object has no attribute 'get_pipeline_output'"
          ]
        }
      ],
      "execution_count": 12,
      "metadata": {
        "gather": {
          "logged": 1598431425670
        },
        "jupyter": {
          "outputs_hidden": false,
          "source_hidden": false
        },
        "nteract": {
          "transient": {
            "deleting": false
          }
        }
      }
    },
    {
      "cell_type": "code",
      "source": [
        "#properties\r\n",
        "\r\n",
        "import pickle\r\n",
        "\r\n",
        "with open(best_model_output._path_on_datastore, \"rb\" ) as f:\r\n",
        "    best_model = pickle.load(f)\r\n",
        "best_model"
      ],
      "outputs": [],
      "execution_count": null,
      "metadata": {
        "collapsed": true,
        "jupyter": {
          "source_hidden": false,
          "outputs_hidden": false
        },
        "nteract": {
          "transient": {
            "deleting": false
          }
        }
      }
    },
    {
      "cell_type": "code",
      "source": [
        "best_model.steps"
      ],
      "outputs": [],
      "execution_count": null,
      "metadata": {
        "collapsed": true,
        "jupyter": {
          "source_hidden": false,
          "outputs_hidden": false
        },
        "nteract": {
          "transient": {
            "deleting": false
          }
        }
      }
    },
    {
      "cell_type": "code",
      "source": [
        "#TODO: Save the best model\r\n",
        "model = best_model.register_model(model_name='best_aml_run', model_path='outputs/model.joblib')"
      ],
      "outputs": [],
      "execution_count": null,
      "metadata": {
        "gather": {
          "logged": 1598431426111
        },
        "jupyter": {
          "outputs_hidden": false,
          "source_hidden": false
        },
        "nteract": {
          "transient": {
            "deleting": false
          }
        }
      }
    },
    {
      "cell_type": "markdown",
      "source": [
        "## Model Deployment\n",
        "\n",
        "Remember you have to deploy only one of the two models you trained.. Perform the steps in the rest of this notebook only if you wish to deploy this model.\n",
        "\n",
        "TODO: In the cell below, register the model, create an inference config and deploy the model as a web service."
      ],
      "metadata": {}
    },
    {
      "cell_type": "code",
      "source": [],
      "outputs": [],
      "execution_count": null,
      "metadata": {
        "gather": {
          "logged": 1598431435189
        },
        "jupyter": {
          "outputs_hidden": false,
          "source_hidden": false
        },
        "nteract": {
          "transient": {
            "deleting": false
          }
        }
      }
    },
    {
      "cell_type": "markdown",
      "source": [
        "TODO: In the cell below, send a request to the web service you deployed to test it."
      ],
      "metadata": {
        "collapsed": true,
        "gather": {
          "logged": 1598431657736
        },
        "jupyter": {
          "outputs_hidden": false,
          "source_hidden": false
        },
        "nteract": {
          "transient": {
            "deleting": false
          }
        }
      }
    },
    {
      "cell_type": "code",
      "source": [],
      "outputs": [],
      "execution_count": null,
      "metadata": {
        "gather": {
          "logged": 1598432707604
        },
        "jupyter": {
          "outputs_hidden": false,
          "source_hidden": false
        },
        "nteract": {
          "transient": {
            "deleting": false
          }
        }
      }
    },
    {
      "cell_type": "markdown",
      "source": [
        "TODO: In the cell below, print the logs of the web service and delete the service"
      ],
      "metadata": {
        "collapsed": true,
        "gather": {
          "logged": 1598432765711
        },
        "jupyter": {
          "outputs_hidden": false,
          "source_hidden": false
        },
        "nteract": {
          "transient": {
            "deleting": false
          }
        }
      }
    },
    {
      "cell_type": "code",
      "source": [],
      "outputs": [],
      "execution_count": null,
      "metadata": {
        "jupyter": {
          "outputs_hidden": false,
          "source_hidden": false
        },
        "nteract": {
          "transient": {
            "deleting": false
          }
        }
      }
    }
  ],
  "metadata": {
    "kernel_info": {
      "name": "python3"
    },
    "kernelspec": {
      "name": "python3",
      "language": "python",
      "display_name": "Python 3"
    },
    "language_info": {
      "name": "python",
      "version": "3.6.9",
      "mimetype": "text/x-python",
      "codemirror_mode": {
        "name": "ipython",
        "version": 3
      },
      "pygments_lexer": "ipython3",
      "nbconvert_exporter": "python",
      "file_extension": ".py"
    },
    "nteract": {
      "version": "nteract-front-end@1.0.0"
    },
    "microsoft": {
      "host": {
        "AzureML": {
          "notebookHasBeenCompleted": true
        }
      }
    }
  },
  "nbformat": 4,
  "nbformat_minor": 2
}