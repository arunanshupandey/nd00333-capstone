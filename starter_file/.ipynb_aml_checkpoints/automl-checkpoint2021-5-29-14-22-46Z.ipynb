{
  "cells": [
    {
      "cell_type": "markdown",
      "source": [
        "# Automated ML\n",
        "\n",
        "TODO: Import Dependencies. In the cell below, import all the dependencies that you will need to complete the project."
      ],
      "metadata": {}
    },
    {
      "cell_type": "code",
      "source": [
        "import logging\r\n",
        "import os\r\n",
        "import csv\r\n",
        "\r\n",
        "from matplotlib import pyplot as plt\r\n",
        "import numpy as np\r\n",
        "import pandas as pd\r\n",
        "from sklearn import datasets\r\n",
        "import pkg_resources\r\n",
        "\r\n",
        "import azureml.core\r\n",
        "from azureml.core.experiment import Experiment\r\n",
        "from azureml.core.workspace import Workspace\r\n",
        "from azureml.train.automl import AutoMLConfig\r\n",
        "from azureml.core.dataset import Dataset\r\n",
        "\r\n",
        "from azureml.pipeline.steps import AutoMLStep\r\n",
        "\r\n",
        "# Check core SDK version number\r\n",
        "print(\"SDK version:\", azureml.core.VERSION)"
      ],
      "outputs": [
        {
          "output_type": "stream",
          "name": "stdout",
          "text": [
            "SDK version: 1.30.0\n"
          ]
        }
      ],
      "execution_count": 1,
      "metadata": {
        "gather": {
          "logged": 1624974430051
        },
        "jupyter": {
          "outputs_hidden": false,
          "source_hidden": false
        },
        "nteract": {
          "transient": {
            "deleting": false
          }
        }
      }
    },
    {
      "cell_type": "markdown",
      "source": [
        "## Dataset\n",
        "\n",
        "### Overview\n",
        "TODO: In this markdown cell, give an overview of the dataset you are using. Also mention the task you will be performing.\n",
        "\n",
        "\n",
        "TODO: Get data. In the cell below, write code to access the data you will be using in this project. Remember that the dataset needs to be external."
      ],
      "metadata": {}
    },
    {
      "cell_type": "code",
      "source": [
        "ws = Workspace.from_config()\n",
        "\n",
        "# choose a name for experiment\n",
        "experiment_name = 'CapstoneProject'\n",
        "project_folder = './capstone-project'\n",
        "\n",
        "experiment=Experiment(ws, experiment_name)\n",
        "experiment"
      ],
      "outputs": [
        {
          "output_type": "execute_result",
          "execution_count": 2,
          "data": {
            "text/plain": "Experiment(Name: CapstoneProject,\nWorkspace: quick-starts-ws-148168)",
            "text/html": "<table style=\"width:100%\"><tr><th>Name</th><th>Workspace</th><th>Report Page</th><th>Docs Page</th></tr><tr><td>CapstoneProject</td><td>quick-starts-ws-148168</td><td><a href=\"https://ml.azure.com/experiments/id/caf262e2-e82a-4a16-b9e5-4a4b0d5dfa41?wsid=/subscriptions/6971f5ac-8af1-446e-8034-05acea24681f/resourcegroups/aml-quickstarts-148168/workspaces/quick-starts-ws-148168&amp;tid=660b3398-b80e-49d2-bc5b-ac1dc93b5254\" target=\"_blank\" rel=\"noopener\">Link to Azure Machine Learning studio</a></td><td><a href=\"https://docs.microsoft.com/en-us/python/api/azureml-core/azureml.core.experiment.Experiment?view=azure-ml-py\" target=\"_blank\" rel=\"noopener\">Link to Documentation</a></td></tr></table>"
          },
          "metadata": {}
        }
      ],
      "execution_count": 2,
      "metadata": {
        "gather": {
          "logged": 1624974432410
        },
        "jupyter": {
          "outputs_hidden": false,
          "source_hidden": false
        },
        "nteract": {
          "transient": {
            "deleting": false
          }
        }
      }
    },
    {
      "cell_type": "code",
      "source": [
        "# Setting up the compute cluster\r\n",
        "\r\n",
        "from azureml.core.compute import AmlCompute\r\n",
        "from azureml.core.compute import ComputeTarget\r\n",
        "from azureml.core.compute_target import ComputeTargetException\r\n",
        "\r\n",
        "# NOTE: update the cluster name to match the existing cluster\r\n",
        "# Choose a name for your CPU cluster\r\n",
        "amlcompute_cluster_name = \"CapstoneAML\"\r\n",
        "\r\n",
        "# Verify that cluster does not exist already\r\n",
        "try:\r\n",
        "    compute_target = ComputeTarget(workspace=ws, name=amlcompute_cluster_name)\r\n",
        "    print('Found existing cluster, use it.')\r\n",
        "except ComputeTargetException:\r\n",
        "    compute_config = AmlCompute.provisioning_configuration(vm_size='STANDARD_DS3_V2',\r\n",
        "                                                           min_nodes=1, # for GPU, use \"STANDARD_NC6\"\r\n",
        "                                                           #vm_priority = 'lowpriority', # optional\r\n",
        "                                                           max_nodes=6)\r\n",
        "    compute_target = ComputeTarget.create(ws, amlcompute_cluster_name, compute_config)\r\n",
        "\r\n",
        "compute_target.wait_for_completion(show_output=True, min_node_count = 1, timeout_in_minutes = 10)\r\n",
        "# For a more detailed view of current AmlCompute status, use get_status()."
      ],
      "outputs": [
        {
          "output_type": "stream",
          "name": "stdout",
          "text": [
            "Creating......\n",
            "SucceededProvisioning operation finished, operation \"Succeeded\"\n",
            "Succeeded...............\n",
            "AmlCompute wait for completion finished\n",
            "\n",
            "Minimum number of nodes requested have been provisioned\n"
          ]
        }
      ],
      "execution_count": 3,
      "metadata": {
        "collapsed": true,
        "jupyter": {
          "source_hidden": false,
          "outputs_hidden": false
        },
        "nteract": {
          "transient": {
            "deleting": false
          }
        },
        "gather": {
          "logged": 1624974545104
        }
      }
    },
    {
      "cell_type": "code",
      "source": [
        "found = False\r\n",
        "key = \"HeartFailureRate\"\r\n",
        "description_text = \"Dataset for heart failure recommendation\"\r\n",
        "\r\n",
        "from azureml.core import Dataset\r\n",
        "\r\n",
        "datastore = ws.get_default_datastore()\r\n",
        "datastore.upload_files(files = ['../heart_failure_clinical_records_dataset.csv'],\r\n",
        "                       target_path = 'train-dataset/tabular/',\r\n",
        "                       overwrite = True,\r\n",
        "                       show_progress = True)\r\n",
        "\r\n",
        "if key in ws.datasets.keys(): \r\n",
        "        found = True\r\n",
        "        dataset = ws.datasets[key]\r\n",
        "        df = dataset.to_pandas_dataframe()\r\n",
        "\r\n",
        "else:\r\n",
        "        dataset = Dataset.Tabular.from_delimited_files(path = [(datastore, 'train-dataset/tabular/heart_failure_clinical_records_dataset.csv')])\r\n",
        "        # preview the first 3 rows of the dataset\r\n",
        "        df= dataset.to_pandas_dataframe()\r\n",
        "\r\n",
        "\r\n",
        "df.describe()\r\n",
        "\r\n"
      ],
      "outputs": [
        {
          "output_type": "stream",
          "name": "stdout",
          "text": [
            "Uploading an estimated of 1 files\n",
            "Uploading ../heart_failure_clinical_records_dataset.csv\n",
            "Uploaded ../heart_failure_clinical_records_dataset.csv, 1 files out of an estimated total of 1\n",
            "Uploaded 1 files\n"
          ]
        },
        {
          "output_type": "execute_result",
          "execution_count": 4,
          "data": {
            "text/plain": "              age     anaemia  creatinine_phosphokinase    diabetes  \\\ncount  299.000000  299.000000                299.000000  299.000000   \nmean    60.833893    0.431438                581.839465    0.418060   \nstd     11.894809    0.496107                970.287881    0.494067   \nmin     40.000000    0.000000                 23.000000    0.000000   \n25%     51.000000    0.000000                116.500000    0.000000   \n50%     60.000000    0.000000                250.000000    0.000000   \n75%     70.000000    1.000000                582.000000    1.000000   \nmax     95.000000    1.000000               7861.000000    1.000000   \n\n       ejection_fraction  high_blood_pressure      platelets  \\\ncount         299.000000           299.000000     299.000000   \nmean           38.083612             0.351171  263358.029264   \nstd            11.834841             0.478136   97804.236869   \nmin            14.000000             0.000000   25100.000000   \n25%            30.000000             0.000000  212500.000000   \n50%            38.000000             0.000000  262000.000000   \n75%            45.000000             1.000000  303500.000000   \nmax            80.000000             1.000000  850000.000000   \n\n       serum_creatinine  serum_sodium         sex    smoking        time  \\\ncount         299.00000    299.000000  299.000000  299.00000  299.000000   \nmean            1.39388    136.625418    0.648829    0.32107  130.260870   \nstd             1.03451      4.412477    0.478136    0.46767   77.614208   \nmin             0.50000    113.000000    0.000000    0.00000    4.000000   \n25%             0.90000    134.000000    0.000000    0.00000   73.000000   \n50%             1.10000    137.000000    1.000000    0.00000  115.000000   \n75%             1.40000    140.000000    1.000000    1.00000  203.000000   \nmax             9.40000    148.000000    1.000000    1.00000  285.000000   \n\n       DEATH_EVENT  \ncount    299.00000  \nmean       0.32107  \nstd        0.46767  \nmin        0.00000  \n25%        0.00000  \n50%        0.00000  \n75%        1.00000  \nmax        1.00000  ",
            "text/html": "<div>\n<style scoped>\n    .dataframe tbody tr th:only-of-type {\n        vertical-align: middle;\n    }\n\n    .dataframe tbody tr th {\n        vertical-align: top;\n    }\n\n    .dataframe thead th {\n        text-align: right;\n    }\n</style>\n<table border=\"1\" class=\"dataframe\">\n  <thead>\n    <tr style=\"text-align: right;\">\n      <th></th>\n      <th>age</th>\n      <th>anaemia</th>\n      <th>creatinine_phosphokinase</th>\n      <th>diabetes</th>\n      <th>ejection_fraction</th>\n      <th>high_blood_pressure</th>\n      <th>platelets</th>\n      <th>serum_creatinine</th>\n      <th>serum_sodium</th>\n      <th>sex</th>\n      <th>smoking</th>\n      <th>time</th>\n      <th>DEATH_EVENT</th>\n    </tr>\n  </thead>\n  <tbody>\n    <tr>\n      <th>count</th>\n      <td>299.000000</td>\n      <td>299.000000</td>\n      <td>299.000000</td>\n      <td>299.000000</td>\n      <td>299.000000</td>\n      <td>299.000000</td>\n      <td>299.000000</td>\n      <td>299.00000</td>\n      <td>299.000000</td>\n      <td>299.000000</td>\n      <td>299.00000</td>\n      <td>299.000000</td>\n      <td>299.00000</td>\n    </tr>\n    <tr>\n      <th>mean</th>\n      <td>60.833893</td>\n      <td>0.431438</td>\n      <td>581.839465</td>\n      <td>0.418060</td>\n      <td>38.083612</td>\n      <td>0.351171</td>\n      <td>263358.029264</td>\n      <td>1.39388</td>\n      <td>136.625418</td>\n      <td>0.648829</td>\n      <td>0.32107</td>\n      <td>130.260870</td>\n      <td>0.32107</td>\n    </tr>\n    <tr>\n      <th>std</th>\n      <td>11.894809</td>\n      <td>0.496107</td>\n      <td>970.287881</td>\n      <td>0.494067</td>\n      <td>11.834841</td>\n      <td>0.478136</td>\n      <td>97804.236869</td>\n      <td>1.03451</td>\n      <td>4.412477</td>\n      <td>0.478136</td>\n      <td>0.46767</td>\n      <td>77.614208</td>\n      <td>0.46767</td>\n    </tr>\n    <tr>\n      <th>min</th>\n      <td>40.000000</td>\n      <td>0.000000</td>\n      <td>23.000000</td>\n      <td>0.000000</td>\n      <td>14.000000</td>\n      <td>0.000000</td>\n      <td>25100.000000</td>\n      <td>0.50000</td>\n      <td>113.000000</td>\n      <td>0.000000</td>\n      <td>0.00000</td>\n      <td>4.000000</td>\n      <td>0.00000</td>\n    </tr>\n    <tr>\n      <th>25%</th>\n      <td>51.000000</td>\n      <td>0.000000</td>\n      <td>116.500000</td>\n      <td>0.000000</td>\n      <td>30.000000</td>\n      <td>0.000000</td>\n      <td>212500.000000</td>\n      <td>0.90000</td>\n      <td>134.000000</td>\n      <td>0.000000</td>\n      <td>0.00000</td>\n      <td>73.000000</td>\n      <td>0.00000</td>\n    </tr>\n    <tr>\n      <th>50%</th>\n      <td>60.000000</td>\n      <td>0.000000</td>\n      <td>250.000000</td>\n      <td>0.000000</td>\n      <td>38.000000</td>\n      <td>0.000000</td>\n      <td>262000.000000</td>\n      <td>1.10000</td>\n      <td>137.000000</td>\n      <td>1.000000</td>\n      <td>0.00000</td>\n      <td>115.000000</td>\n      <td>0.00000</td>\n    </tr>\n    <tr>\n      <th>75%</th>\n      <td>70.000000</td>\n      <td>1.000000</td>\n      <td>582.000000</td>\n      <td>1.000000</td>\n      <td>45.000000</td>\n      <td>1.000000</td>\n      <td>303500.000000</td>\n      <td>1.40000</td>\n      <td>140.000000</td>\n      <td>1.000000</td>\n      <td>1.00000</td>\n      <td>203.000000</td>\n      <td>1.00000</td>\n    </tr>\n    <tr>\n      <th>max</th>\n      <td>95.000000</td>\n      <td>1.000000</td>\n      <td>7861.000000</td>\n      <td>1.000000</td>\n      <td>80.000000</td>\n      <td>1.000000</td>\n      <td>850000.000000</td>\n      <td>9.40000</td>\n      <td>148.000000</td>\n      <td>1.000000</td>\n      <td>1.00000</td>\n      <td>285.000000</td>\n      <td>1.00000</td>\n    </tr>\n  </tbody>\n</table>\n</div>"
          },
          "metadata": {}
        }
      ],
      "execution_count": 4,
      "metadata": {
        "collapsed": true,
        "jupyter": {
          "source_hidden": false,
          "outputs_hidden": false
        },
        "nteract": {
          "transient": {
            "deleting": false
          }
        },
        "gather": {
          "logged": 1624974553995
        }
      }
    },
    {
      "cell_type": "markdown",
      "source": [
        "## AutoML Configuration\n",
        "\n",
        "TODO: Explain why you chose the automl settings and cofiguration you used below.\n",
        "\n",
        "I have chosen experimentation time out as the dataset is smaller and it can be covered within 20 minutes. \n",
        "The max concurrent iteration is 5 ( 1 less than total number of compute nodes in the cluster). \n",
        "The primary_metric is chosen as AUC_weighted orginally to handle balanced data better. \n"
      ],
      "metadata": {}
    },
    {
      "cell_type": "code",
      "source": [
        "# TODO: Put your automl settings here\n",
        "automl_settings = {\n",
        "    \"experiment_timeout_minutes\": 20,\n",
        "    \"max_concurrent_iterations\": 5,\n",
        "    \"primary_metric\" : 'accuracy'\n",
        "}\n",
        "\n",
        "# TODO: Put your automl config here\n",
        "automl_config = AutoMLConfig(compute_target=compute_target,\n",
        "                             task = \"classification\",\n",
        "                             training_data=dataset,\n",
        "                             label_column_name=\"DEATH_EVENT\",   \n",
        "                             path = project_folder,\n",
        "                             enable_early_stopping= True,\n",
        "                             featurization= 'auto',\n",
        "                             debug_log = \"automl_errors.log\",\n",
        "                             **automl_settings\n",
        "                            )"
      ],
      "outputs": [],
      "execution_count": 5,
      "metadata": {
        "gather": {
          "logged": 1624974554159
        },
        "jupyter": {
          "outputs_hidden": false,
          "source_hidden": false
        },
        "nteract": {
          "transient": {
            "deleting": false
          }
        }
      }
    },
    {
      "cell_type": "code",
      "source": [
        "# TODO: Submit your experiment\n",
        "remote_run = experiment.submit(automl_config,show_output=True)"
      ],
      "outputs": [
        {
          "output_type": "stream",
          "name": "stdout",
          "text": [
            "Submitting remote run.\n",
            "No run_configuration provided, running on CapstoneAML with default configuration\n",
            "Running on remote compute: CapstoneAML\n"
          ]
        },
        {
          "output_type": "display_data",
          "data": {
            "text/plain": "<IPython.core.display.HTML object>",
            "text/html": "<table style=\"width:100%\"><tr><th>Experiment</th><th>Id</th><th>Type</th><th>Status</th><th>Details Page</th><th>Docs Page</th></tr><tr><td>CapstoneProject</td><td>AutoML_1997416e-92ca-40de-85ee-6cb021542604</td><td>automl</td><td>NotStarted</td><td><a href=\"https://ml.azure.com/runs/AutoML_1997416e-92ca-40de-85ee-6cb021542604?wsid=/subscriptions/6971f5ac-8af1-446e-8034-05acea24681f/resourcegroups/aml-quickstarts-148168/workspaces/quick-starts-ws-148168&amp;tid=660b3398-b80e-49d2-bc5b-ac1dc93b5254\" target=\"_blank\" rel=\"noopener\">Link to Azure Machine Learning studio</a></td><td><a href=\"https://docs.microsoft.com/en-us/python/api/overview/azure/ml/intro?view=azure-ml-py\" target=\"_blank\" rel=\"noopener\">Link to Documentation</a></td></tr></table>"
          },
          "metadata": {}
        },
        {
          "output_type": "stream",
          "name": "stdout",
          "text": [
            "\n",
            "Current status: FeaturesGeneration. Generating features for the dataset.\n",
            "Current status: ModelSelection. Beginning model selection.\n",
            "\n",
            "****************************************************************************************************\n",
            "DATA GUARDRAILS: \n",
            "\n",
            "TYPE:         Cross validation\n",
            "STATUS:       DONE\n",
            "DESCRIPTION:  Each iteration of the trained model was validated through cross-validation.\n",
            "              \n",
            "DETAILS:      \n",
            "+---------------------------------+\n",
            "|Number of folds                  |\n",
            "+=================================+\n",
            "|10                               |\n",
            "+---------------------------------+\n",
            "\n",
            "****************************************************************************************************\n",
            "\n",
            "TYPE:         Class balancing detection\n",
            "STATUS:       PASSED\n",
            "DESCRIPTION:  Your inputs were analyzed, and all classes are balanced in your training data.\n",
            "              Learn more about imbalanced data: https://aka.ms/AutomatedMLImbalancedData\n",
            "\n",
            "****************************************************************************************************\n",
            "\n",
            "TYPE:         Missing feature values imputation\n",
            "STATUS:       PASSED\n",
            "DESCRIPTION:  No feature missing values were detected in the training data.\n",
            "              Learn more about missing value imputation: https://aka.ms/AutomatedMLFeaturization\n",
            "\n",
            "****************************************************************************************************\n",
            "\n",
            "TYPE:         High cardinality feature detection\n",
            "STATUS:       PASSED\n",
            "DESCRIPTION:  Your inputs were analyzed, and no high cardinality features were detected.\n",
            "              Learn more about high cardinality feature handling: https://aka.ms/AutomatedMLFeaturization\n",
            "\n",
            "****************************************************************************************************\n",
            "\n",
            "****************************************************************************************************\n",
            "ITERATION: The iteration being evaluated.\n",
            "PIPELINE: A summary description of the pipeline being evaluated.\n",
            "DURATION: Time taken for the current iteration.\n",
            "METRIC: The result of computing score on the fitted pipeline.\n",
            "BEST: The best observed score thus far.\n",
            "****************************************************************************************************\n",
            "\n",
            " ITERATION   PIPELINE                                       DURATION      METRIC      BEST\n",
            "         0   MaxAbsScaler LightGBM                          0:00:37       0.8360    0.8360\n",
            "         4   MinMaxScaler RandomForest                      0:00:37       0.8256    0.8360\n",
            "         3   MinMaxScaler RandomForest                      0:00:31       0.8292    0.8360\n",
            "         2   MinMaxScaler RandomForest                      0:00:48       0.8128    0.8360\n",
            "         1   MaxAbsScaler XGBoostClassifier                 0:01:36       0.8359    0.8360\n",
            "         6   StandardScalerWrapper KNN                      0:01:40       0.7393    0.8360\n",
            "         8   SparseNormalizer XGBoostClassifier             0:00:38       0.8229    0.8360\n",
            "         5   StandardScalerWrapper XGBoostClassifier        0:01:46       0.8493    0.8493\n",
            "         7   MinMaxScaler SVM                               0:01:49       0.7292    0.8493\n",
            "        10   SparseNormalizer LightGBM                      0:00:37       0.8329    0.8493\n",
            "        11   RobustScaler SVM                               0:00:37       0.7222    0.8493\n",
            "         9   MaxAbsScaler GradientBoosting                  0:00:35       0.8394    0.8493\n",
            "        12   StandardScalerWrapper RandomForest             0:00:40       0.8528    0.8528\n",
            "        13   MaxAbsScaler ExtremeRandomTrees                0:00:47       0.8462    0.8528\n",
            "        14   MaxAbsScaler LightGBM                          0:00:35       0.8293    0.8528\n",
            "        15   MaxAbsScaler LightGBM                          0:00:37       0.8393    0.8528\n",
            "        16   SparseNormalizer XGBoostClassifier             0:00:40       0.8495    0.8528\n",
            "        17   StandardScalerWrapper RandomForest             0:00:41       0.8361    0.8528\n",
            "        18   RobustScaler ExtremeRandomTrees                0:00:40       0.8630    0.8630\n",
            "        19   SparseNormalizer XGBoostClassifier             0:00:38       0.8362    0.8630\n",
            "        20   StandardScalerWrapper LightGBM                 0:00:38       0.8226    0.8630\n",
            "        21   SparseNormalizer XGBoostClassifier             0:00:38       0.8331    0.8630\n",
            "        22   MaxAbsScaler ExtremeRandomTrees                0:00:41       0.8162    0.8630\n",
            "        23   SparseNormalizer XGBoostClassifier             0:00:41       0.8262    0.8630\n",
            "        24   SparseNormalizer XGBoostClassifier             0:00:37       0.8395    0.8630\n",
            "        25   SparseNormalizer ExtremeRandomTrees            0:00:38       0.6423    0.8630\n",
            "        26   StandardScalerWrapper LightGBM                 0:00:38       0.8393    0.8630\n",
            "        27   StandardScalerWrapper LightGBM                 0:00:41       0.7359    0.8630\n",
            "        28   StandardScalerWrapper XGBoostClassifier        0:00:36       0.8393    0.8630\n",
            "        29   MaxAbsScaler RandomForest                      0:00:45       0.8190    0.8630\n",
            "        30   SparseNormalizer ExtremeRandomTrees            0:00:35       0.7325    0.8630\n",
            "        31   MinMaxScaler LightGBM                          0:00:37       0.8026    0.8630\n",
            "        32   MaxAbsScaler LightGBM                          0:00:41       0.8228    0.8630\n",
            "        33   MinMaxScaler RandomForest                      0:00:38       0.8326    0.8630\n",
            "        35                                                  0:00:10          nan    0.8630\n",
            "        34                                                  0:00:10          nan    0.8630\n",
            "        36                                                  0:00:19          nan    0.8630\n",
            "        37                                                  0:00:14          nan    0.8630\n",
            "        39    StackEnsemble                                 0:00:59       0.8594    0.8630\n",
            "        38    VotingEnsemble                                0:01:03       0.8697    0.8697\n"
          ]
        }
      ],
      "execution_count": 6,
      "metadata": {
        "gather": {
          "logged": 1624975412131
        },
        "jupyter": {
          "outputs_hidden": false,
          "source_hidden": false
        },
        "nteract": {
          "transient": {
            "deleting": false
          }
        }
      }
    },
    {
      "cell_type": "markdown",
      "source": [
        "## Run Details\n",
        "\n",
        "OPTIONAL: Write about the different models trained and their performance. Why do you think some models did better than others?\n",
        "\n",
        "TODO: In the cell below, use the `RunDetails` widget to show the different experiments."
      ],
      "metadata": {}
    },
    {
      "cell_type": "code",
      "source": [
        "from azureml.widgets import RunDetails\r\n",
        "RunDetails(remote_run).show()"
      ],
      "outputs": [
        {
          "output_type": "display_data",
          "data": {
            "text/plain": "_AutoMLWidget(widget_settings={'childWidgetDisplay': 'popup', 'send_telemetry': False, 'log_level': 'INFO', 's…",
            "application/vnd.jupyter.widget-view+json": {
              "version_major": 2,
              "version_minor": 0,
              "model_id": "4b610087176a411193e282e70c266a20"
            }
          },
          "metadata": {}
        },
        {
          "output_type": "display_data",
          "data": {
            "application/aml.mini.widget.v1": "{\"status\": \"Completed\", \"workbench_run_details_uri\": \"https://ml.azure.com/runs/AutoML_1997416e-92ca-40de-85ee-6cb021542604?wsid=/subscriptions/6971f5ac-8af1-446e-8034-05acea24681f/resourcegroups/aml-quickstarts-148168/workspaces/quick-starts-ws-148168&tid=660b3398-b80e-49d2-bc5b-ac1dc93b5254\", \"run_id\": \"AutoML_1997416e-92ca-40de-85ee-6cb021542604\", \"run_properties\": {\"run_id\": \"AutoML_1997416e-92ca-40de-85ee-6cb021542604\", \"created_utc\": \"2021-06-29T13:49:19.462361Z\", \"properties\": {\"num_iterations\": \"1000\", \"training_type\": \"TrainFull\", \"acquisition_function\": \"EI\", \"primary_metric\": \"accuracy\", \"train_split\": \"0\", \"acquisition_parameter\": \"0\", \"num_cross_validation\": null, \"target\": \"CapstoneAML\", \"AMLSettingsJsonString\": \"{\\\"path\\\":null,\\\"name\\\":\\\"CapstoneProject\\\",\\\"subscription_id\\\":\\\"6971f5ac-8af1-446e-8034-05acea24681f\\\",\\\"resource_group\\\":\\\"aml-quickstarts-148168\\\",\\\"workspace_name\\\":\\\"quick-starts-ws-148168\\\",\\\"region\\\":\\\"southcentralus\\\",\\\"compute_target\\\":\\\"CapstoneAML\\\",\\\"spark_service\\\":null,\\\"azure_service\\\":\\\"remote\\\",\\\"many_models\\\":false,\\\"pipeline_fetch_max_batch_size\\\":1,\\\"enable_batch_run\\\":false,\\\"enable_run_restructure\\\":false,\\\"start_auxiliary_runs_before_parent_complete\\\":false,\\\"enable_code_generation\\\":false,\\\"iterations\\\":1000,\\\"primary_metric\\\":\\\"accuracy\\\",\\\"task_type\\\":\\\"classification\\\",\\\"data_script\\\":null,\\\"test_size\\\":0.0,\\\"validation_size\\\":0.0,\\\"n_cross_validations\\\":null,\\\"y_min\\\":null,\\\"y_max\\\":null,\\\"num_classes\\\":null,\\\"featurization\\\":\\\"auto\\\",\\\"_ignore_package_version_incompatibilities\\\":false,\\\"is_timeseries\\\":false,\\\"max_cores_per_iteration\\\":1,\\\"max_concurrent_iterations\\\":5,\\\"iteration_timeout_minutes\\\":null,\\\"mem_in_mb\\\":null,\\\"enforce_time_on_windows\\\":false,\\\"experiment_timeout_minutes\\\":20,\\\"experiment_exit_score\\\":null,\\\"whitelist_models\\\":null,\\\"blacklist_algos\\\":[\\\"TensorFlowLinearClassifier\\\",\\\"TensorFlowDNN\\\"],\\\"supported_models\\\":[\\\"RandomForest\\\",\\\"ExtremeRandomTrees\\\",\\\"LinearSVM\\\",\\\"SVM\\\",\\\"DecisionTree\\\",\\\"MultinomialNaiveBayes\\\",\\\"TensorFlowDNN\\\",\\\"GradientBoosting\\\",\\\"SGD\\\",\\\"LogisticRegression\\\",\\\"BernoulliNaiveBayes\\\",\\\"LightGBM\\\",\\\"AveragedPerceptronClassifier\\\",\\\"TensorFlowLinearClassifier\\\",\\\"KNN\\\",\\\"XGBoostClassifier\\\"],\\\"private_models\\\":[],\\\"auto_blacklist\\\":true,\\\"blacklist_samples_reached\\\":false,\\\"exclude_nan_labels\\\":true,\\\"verbosity\\\":20,\\\"_debug_log\\\":\\\"azureml_automl.log\\\",\\\"show_warnings\\\":false,\\\"model_explainability\\\":true,\\\"service_url\\\":null,\\\"sdk_url\\\":null,\\\"sdk_packages\\\":null,\\\"enable_onnx_compatible_models\\\":false,\\\"enable_split_onnx_featurizer_estimator_models\\\":false,\\\"vm_type\\\":\\\"STANDARD_DS3_V2\\\",\\\"telemetry_verbosity\\\":20,\\\"send_telemetry\\\":true,\\\"enable_dnn\\\":false,\\\"scenario\\\":\\\"SDK-1.13.0\\\",\\\"environment_label\\\":null,\\\"save_mlflow\\\":false,\\\"force_text_dnn\\\":false,\\\"enable_feature_sweeping\\\":true,\\\"enable_early_stopping\\\":true,\\\"early_stopping_n_iters\\\":10,\\\"metrics\\\":null,\\\"enable_metric_confidence\\\":false,\\\"enable_ensembling\\\":true,\\\"enable_stack_ensembling\\\":true,\\\"ensemble_iterations\\\":15,\\\"enable_tf\\\":false,\\\"enable_subsampling\\\":null,\\\"subsample_seed\\\":null,\\\"enable_nimbusml\\\":false,\\\"enable_streaming\\\":false,\\\"force_streaming\\\":false,\\\"track_child_runs\\\":true,\\\"allowed_private_models\\\":[],\\\"label_column_name\\\":\\\"DEATH_EVENT\\\",\\\"weight_column_name\\\":null,\\\"cv_split_column_names\\\":null,\\\"enable_local_managed\\\":false,\\\"_local_managed_run_id\\\":null,\\\"cost_mode\\\":1,\\\"lag_length\\\":0,\\\"metric_operation\\\":\\\"maximize\\\",\\\"preprocess\\\":true}\", \"DataPrepJsonString\": \"{\\\\\\\"training_data\\\\\\\": {\\\\\\\"datasetId\\\\\\\": \\\\\\\"1fc0b9f7-f0ab-4cbd-b86d-9af24db46759\\\\\\\"}, \\\\\\\"datasets\\\\\\\": 0}\", \"EnableSubsampling\": null, \"runTemplate\": \"AutoML\", \"azureml.runsource\": \"automl\", \"display_task_type\": \"classification\", \"dependencies_versions\": \"{\\\"azureml-widgets\\\": \\\"1.30.0\\\", \\\"azureml-train\\\": \\\"1.30.0\\\", \\\"azureml-train-restclients-hyperdrive\\\": \\\"1.30.0\\\", \\\"azureml-train-core\\\": \\\"1.30.0\\\", \\\"azureml-train-automl\\\": \\\"1.30.0\\\", \\\"azureml-train-automl-runtime\\\": \\\"1.30.0\\\", \\\"azureml-train-automl-client\\\": \\\"1.30.0\\\", \\\"azureml-tensorboard\\\": \\\"1.30.0\\\", \\\"azureml-telemetry\\\": \\\"1.30.0\\\", \\\"azureml-sdk\\\": \\\"1.30.0\\\", \\\"azureml-samples\\\": \\\"0+unknown\\\", \\\"azureml-pipeline\\\": \\\"1.30.0\\\", \\\"azureml-pipeline-steps\\\": \\\"1.30.0\\\", \\\"azureml-pipeline-core\\\": \\\"1.30.0\\\", \\\"azureml-opendatasets\\\": \\\"1.30.0\\\", \\\"azureml-model-management-sdk\\\": \\\"1.0.1b6.post1\\\", \\\"azureml-mlflow\\\": \\\"1.30.0\\\", \\\"azureml-interpret\\\": \\\"1.30.0\\\", \\\"azureml-explain-model\\\": \\\"1.30.0\\\", \\\"azureml-defaults\\\": \\\"1.30.0\\\", \\\"azureml-dataset-runtime\\\": \\\"1.30.0\\\", \\\"azureml-dataprep\\\": \\\"2.15.1\\\", \\\"azureml-dataprep-rslex\\\": \\\"1.13.0\\\", \\\"azureml-dataprep-native\\\": \\\"33.0.0\\\", \\\"azureml-datadrift\\\": \\\"1.30.0\\\", \\\"azureml-core\\\": \\\"1.30.0\\\", \\\"azureml-contrib-services\\\": \\\"1.30.0\\\", \\\"azureml-contrib-server\\\": \\\"1.30.0\\\", \\\"azureml-contrib-reinforcementlearning\\\": \\\"1.30.0\\\", \\\"azureml-contrib-pipeline-steps\\\": \\\"1.30.0\\\", \\\"azureml-contrib-notebook\\\": \\\"1.30.0\\\", \\\"azureml-contrib-fairness\\\": \\\"1.30.0\\\", \\\"azureml-contrib-dataset\\\": \\\"1.30.0\\\", \\\"azureml-cli-common\\\": \\\"1.30.0\\\", \\\"azureml-automl-runtime\\\": \\\"1.30.0\\\", \\\"azureml-automl-dnn-nlp\\\": \\\"1.30.0\\\", \\\"azureml-automl-core\\\": \\\"1.30.0\\\", \\\"azureml-accel-models\\\": \\\"1.30.0\\\"}\", \"_aml_system_scenario_identification\": \"Remote.Parent\", \"ClientType\": \"SDK\", \"environment_cpu_name\": \"AzureML-AutoML\", \"environment_cpu_label\": \"prod\", \"environment_gpu_name\": \"AzureML-AutoML-GPU\", \"environment_gpu_label\": \"prod\", \"root_attribution\": \"automl\", \"attribution\": \"AutoML\", \"Orchestrator\": \"AutoML\", \"CancelUri\": \"https://southcentralus.api.azureml.ms/jasmine/v1.0/subscriptions/6971f5ac-8af1-446e-8034-05acea24681f/resourceGroups/aml-quickstarts-148168/providers/Microsoft.MachineLearningServices/workspaces/quick-starts-ws-148168/experimentids/caf262e2-e82a-4a16-b9e5-4a4b0d5dfa41/cancel/AutoML_1997416e-92ca-40de-85ee-6cb021542604\", \"ClientSdkVersion\": \"1.31.0\", \"snapshotId\": \"00000000-0000-0000-0000-000000000000\", \"SetupRunId\": \"AutoML_1997416e-92ca-40de-85ee-6cb021542604_setup\", \"SetupRunContainerId\": \"dcid.AutoML_1997416e-92ca-40de-85ee-6cb021542604_setup\", \"FeaturizationRunJsonPath\": \"featurizer_container.json\", \"FeaturizationRunId\": \"AutoML_1997416e-92ca-40de-85ee-6cb021542604_featurize\", \"ProblemInfoJsonString\": \"{\\\"dataset_num_categorical\\\": 0, \\\"is_sparse\\\": false, \\\"subsampling\\\": false, \\\"has_extra_col\\\": true, \\\"dataset_classes\\\": 2, \\\"dataset_features\\\": 12, \\\"dataset_samples\\\": 299, \\\"single_frequency_class_detected\\\": false}\", \"ModelExplainRunId\": \"AutoML_1997416e-92ca-40de-85ee-6cb021542604_ModelExplain\", \"azureml.git.repository_uri\": \"https://github.com/arunanshupandey/nd00333-capstone.git\", \"mlflow.source.git.repoURL\": \"https://github.com/arunanshupandey/nd00333-capstone.git\", \"azureml.git.branch\": \"master\", \"mlflow.source.git.branch\": \"master\", \"azureml.git.commit\": \"f16ec24cacb16217e380bb64de5b9bc9a72b77aa\", \"mlflow.source.git.commit\": \"f16ec24cacb16217e380bb64de5b9bc9a72b77aa\", \"azureml.git.dirty\": \"False\"}, \"tags\": {\"model_explain_run\": \"best_run\", \"_aml_system_azureml.automlComponent\": \"AutoML\", \"pipeline_id\": \"\", \"score\": \"\", \"predicted_cost\": \"\", \"fit_time\": \"\", \"training_percent\": \"\", \"iteration\": \"\", \"run_preprocessor\": \"\", \"run_algorithm\": \"\", \"dynamic_whitelisting_iterations\": \"<25>;<30>;<34>;\", \"automl_best_child_run_id\": \"AutoML_1997416e-92ca-40de-85ee-6cb021542604_38\", \"model_explain_best_run_child_id\": \"AutoML_1997416e-92ca-40de-85ee-6cb021542604_38\"}, \"end_time_utc\": \"2021-06-29T14:03:08.144839Z\", \"status\": \"Completed\", \"log_files\": {}, \"log_groups\": [], \"run_duration\": \"0:13:48\", \"run_number\": \"1\", \"run_queued_details\": {\"status\": \"Completed\", \"details\": null}}, \"child_runs\": [{\"run_id\": \"AutoML_1997416e-92ca-40de-85ee-6cb021542604_0\", \"run_number\": 5, \"metric\": null, \"status\": \"Completed\", \"run_type\": \"azureml.scriptrun\", \"training_percent\": \"100\", \"start_time\": \"2021-06-29T13:52:27.784471Z\", \"end_time\": \"2021-06-29T13:53:05.171738Z\", \"created_time\": \"2021-06-29T13:52:15.100734Z\", \"created_time_dt\": \"2021-06-29T13:52:15.100734Z\", \"duration\": \"0:00:50\", \"iteration\": \"0\", \"goal\": \"accuracy_max\", \"run_name\": \"MaxAbsScaler, LightGBM\", \"run_properties\": \"copy=True\", \"primary_metric\": 0.83597701, \"best_metric\": 0.83597701}, {\"run_id\": \"AutoML_1997416e-92ca-40de-85ee-6cb021542604_4\", \"run_number\": 6, \"metric\": null, \"status\": \"Completed\", \"run_type\": \"azureml.scriptrun\", \"training_percent\": \"100\", \"start_time\": \"2021-06-29T13:53:24.152819Z\", \"end_time\": \"2021-06-29T13:54:01.523018Z\", \"created_time\": \"2021-06-29T13:52:15.218856Z\", \"created_time_dt\": \"2021-06-29T13:52:15.218856Z\", \"duration\": \"0:01:46\", \"iteration\": \"4\", \"goal\": \"accuracy_max\", \"run_name\": \"MinMaxScaler, RandomForest\", \"run_properties\": \"copy=True, feature_range=(0, 1\", \"primary_metric\": 0.82563218, \"best_metric\": 0.83597701}, {\"run_id\": \"AutoML_1997416e-92ca-40de-85ee-6cb021542604_2\", \"run_number\": 7, \"metric\": null, \"status\": \"Completed\", \"run_type\": \"azureml.scriptrun\", \"training_percent\": \"100\", \"start_time\": \"2021-06-29T13:55:11.747415Z\", \"end_time\": \"2021-06-29T13:55:59.828741Z\", \"created_time\": \"2021-06-29T13:52:15.221326Z\", \"created_time_dt\": \"2021-06-29T13:52:15.221326Z\", \"duration\": \"0:03:44\", \"iteration\": \"2\", \"goal\": \"accuracy_max\", \"run_name\": \"MinMaxScaler, RandomForest\", \"run_properties\": \"copy=True, feature_range=(0, 1\", \"primary_metric\": 0.81275862, \"best_metric\": 0.83597701}, {\"run_id\": \"AutoML_1997416e-92ca-40de-85ee-6cb021542604_1\", \"run_number\": 8, \"metric\": null, \"status\": \"Completed\", \"run_type\": \"azureml.scriptrun\", \"training_percent\": \"100\", \"start_time\": \"2021-06-29T13:55:18.924979Z\", \"end_time\": \"2021-06-29T13:56:54.724932Z\", \"created_time\": \"2021-06-29T13:52:15.255028Z\", \"created_time_dt\": \"2021-06-29T13:52:15.255028Z\", \"duration\": \"0:04:39\", \"iteration\": \"1\", \"goal\": \"accuracy_max\", \"run_name\": \"MaxAbsScaler, XGBoostClassifier\", \"run_properties\": \"copy=True\", \"primary_metric\": 0.83586207, \"best_metric\": 0.83597701}, {\"run_id\": \"AutoML_1997416e-92ca-40de-85ee-6cb021542604_3\", \"run_number\": 9, \"metric\": null, \"status\": \"Completed\", \"run_type\": \"azureml.scriptrun\", \"training_percent\": \"100\", \"start_time\": \"2021-06-29T13:54:18.278339Z\", \"end_time\": \"2021-06-29T13:54:49.770392Z\", \"created_time\": \"2021-06-29T13:52:15.219124Z\", \"created_time_dt\": \"2021-06-29T13:52:15.219124Z\", \"duration\": \"0:02:34\", \"iteration\": \"3\", \"goal\": \"accuracy_max\", \"run_name\": \"MinMaxScaler, RandomForest\", \"run_properties\": \"copy=True, feature_range=(0, 1\", \"primary_metric\": 0.8291954, \"best_metric\": 0.83597701}, {\"run_id\": \"AutoML_1997416e-92ca-40de-85ee-6cb021542604_5\", \"run_number\": 10, \"metric\": null, \"status\": \"Completed\", \"run_type\": \"azureml.scriptrun\", \"training_percent\": \"100\", \"start_time\": \"2021-06-29T13:55:14.965966Z\", \"end_time\": \"2021-06-29T13:57:00.669541Z\", \"created_time\": \"2021-06-29T13:53:06.506725Z\", \"created_time_dt\": \"2021-06-29T13:53:06.506725Z\", \"duration\": \"0:03:54\", \"iteration\": \"5\", \"goal\": \"accuracy_max\", \"run_name\": \"StandardScalerWrapper, XGBoostClassifier\", \"run_properties\": \"\\n    copy=True,\\n    with_mean=False,\\n    with_std=False\\n\", \"primary_metric\": 0.84931034, \"best_metric\": 0.84931034}, {\"run_id\": \"AutoML_1997416e-92ca-40de-85ee-6cb021542604_6\", \"run_number\": 11, \"metric\": null, \"status\": \"Completed\", \"run_type\": \"azureml.scriptrun\", \"training_percent\": \"100\", \"start_time\": \"2021-06-29T13:55:13.278976Z\", \"end_time\": \"2021-06-29T13:56:53.039119Z\", \"created_time\": \"2021-06-29T13:54:04.571617Z\", \"created_time_dt\": \"2021-06-29T13:54:04.571617Z\", \"duration\": \"0:02:48\", \"iteration\": \"6\", \"goal\": \"accuracy_max\", \"run_name\": \"StandardScalerWrapper, KNN\", \"run_properties\": \"\\n    copy=True,\\n    with_mean=False,\\n    with_std=True\\n\", \"primary_metric\": 0.73931034, \"best_metric\": 0.84931034}, {\"run_id\": \"AutoML_1997416e-92ca-40de-85ee-6cb021542604_7\", \"run_number\": 12, \"metric\": null, \"status\": \"Completed\", \"run_type\": \"azureml.scriptrun\", \"training_percent\": \"100\", \"start_time\": \"2021-06-29T13:55:12.803726Z\", \"end_time\": \"2021-06-29T13:57:01.688118Z\", \"created_time\": \"2021-06-29T13:54:51.92028Z\", \"created_time_dt\": \"2021-06-29T13:54:51.92028Z\", \"duration\": \"0:02:09\", \"iteration\": \"7\", \"goal\": \"accuracy_max\", \"run_name\": \"MinMaxScaler, SVM\", \"run_properties\": \"copy=True, feature_range=(0, 1\", \"primary_metric\": 0.7291954, \"best_metric\": 0.84931034}, {\"run_id\": \"AutoML_1997416e-92ca-40de-85ee-6cb021542604_8\", \"run_number\": 13, \"metric\": null, \"status\": \"Completed\", \"run_type\": \"azureml.scriptrun\", \"training_percent\": \"100\", \"start_time\": \"2021-06-29T13:56:14.81534Z\", \"end_time\": \"2021-06-29T13:56:52.448336Z\", \"created_time\": \"2021-06-29T13:56:01.796846Z\", \"created_time_dt\": \"2021-06-29T13:56:01.796846Z\", \"duration\": \"0:00:50\", \"iteration\": \"8\", \"goal\": \"accuracy_max\", \"run_name\": \"SparseNormalizer, XGBoostClassifier\", \"run_properties\": \"copy=True, norm='l2'\", \"primary_metric\": 0.82287356, \"best_metric\": 0.84931034}, {\"run_id\": \"AutoML_1997416e-92ca-40de-85ee-6cb021542604_9\", \"run_number\": 14, \"metric\": null, \"status\": \"Completed\", \"run_type\": \"azureml.scriptrun\", \"training_percent\": \"100\", \"start_time\": \"2021-06-29T13:57:08.986844Z\", \"end_time\": \"2021-06-29T13:57:43.921077Z\", \"created_time\": \"2021-06-29T13:56:54.359306Z\", \"created_time_dt\": \"2021-06-29T13:56:54.359306Z\", \"duration\": \"0:00:49\", \"iteration\": \"9\", \"goal\": \"accuracy_max\", \"run_name\": \"MaxAbsScaler, GradientBoosting\", \"run_properties\": \"copy=True\", \"primary_metric\": 0.83942529, \"best_metric\": 0.84931034}, {\"run_id\": \"AutoML_1997416e-92ca-40de-85ee-6cb021542604_10\", \"run_number\": 15, \"metric\": null, \"status\": \"Completed\", \"run_type\": \"azureml.scriptrun\", \"training_percent\": \"100\", \"start_time\": \"2021-06-29T13:57:10.163428Z\", \"end_time\": \"2021-06-29T13:57:47.454441Z\", \"created_time\": \"2021-06-29T13:56:58.191774Z\", \"created_time_dt\": \"2021-06-29T13:56:58.191774Z\", \"duration\": \"0:00:49\", \"iteration\": \"10\", \"goal\": \"accuracy_max\", \"run_name\": \"SparseNormalizer, LightGBM\", \"run_properties\": \"copy=True, norm='l2'\", \"primary_metric\": 0.83287356, \"best_metric\": 0.84931034}, {\"run_id\": \"AutoML_1997416e-92ca-40de-85ee-6cb021542604_11\", \"run_number\": 16, \"metric\": null, \"status\": \"Completed\", \"run_type\": \"azureml.scriptrun\", \"training_percent\": \"100\", \"start_time\": \"2021-06-29T13:57:10.382688Z\", \"end_time\": \"2021-06-29T13:57:47.696692Z\", \"created_time\": \"2021-06-29T13:56:58.224682Z\", \"created_time_dt\": \"2021-06-29T13:56:58.224682Z\", \"duration\": \"0:00:49\", \"iteration\": \"11\", \"goal\": \"accuracy_max\", \"run_name\": \"RobustScaler, SVM\", \"run_properties\": \"copy=True, quantile_range=[10, 90], with_centering=True,\\n             with_scaling=True\", \"primary_metric\": 0.72218391, \"best_metric\": 0.84931034}, {\"run_id\": \"AutoML_1997416e-92ca-40de-85ee-6cb021542604_12\", \"run_number\": 17, \"metric\": null, \"status\": \"Completed\", \"run_type\": \"azureml.scriptrun\", \"training_percent\": \"100\", \"start_time\": \"2021-06-29T13:57:13.278745Z\", \"end_time\": \"2021-06-29T13:57:52.829417Z\", \"created_time\": \"2021-06-29T13:57:02.679058Z\", \"created_time_dt\": \"2021-06-29T13:57:02.679058Z\", \"duration\": \"0:00:50\", \"iteration\": \"12\", \"goal\": \"accuracy_max\", \"run_name\": \"StandardScalerWrapper, RandomForest\", \"run_properties\": \"\\n    copy=True,\\n    with_mean=False,\\n    with_std=True\\n\", \"primary_metric\": 0.85275862, \"best_metric\": 0.85275862}, {\"run_id\": \"AutoML_1997416e-92ca-40de-85ee-6cb021542604_13\", \"run_number\": 18, \"metric\": null, \"status\": \"Completed\", \"run_type\": \"azureml.scriptrun\", \"training_percent\": \"100\", \"start_time\": \"2021-06-29T13:57:16.877295Z\", \"end_time\": \"2021-06-29T13:58:03.829489Z\", \"created_time\": \"2021-06-29T13:57:06.67456Z\", \"created_time_dt\": \"2021-06-29T13:57:06.67456Z\", \"duration\": \"0:00:57\", \"iteration\": \"13\", \"goal\": \"accuracy_max\", \"run_name\": \"MaxAbsScaler, ExtremeRandomTrees\", \"run_properties\": \"copy=True\", \"primary_metric\": 0.8462069, \"best_metric\": 0.85275862}, {\"run_id\": \"AutoML_1997416e-92ca-40de-85ee-6cb021542604_14\", \"run_number\": 19, \"metric\": null, \"status\": \"Completed\", \"run_type\": \"azureml.scriptrun\", \"training_percent\": \"100\", \"start_time\": \"2021-06-29T13:58:01.168854Z\", \"end_time\": \"2021-06-29T13:58:36.208973Z\", \"created_time\": \"2021-06-29T13:57:46.443595Z\", \"created_time_dt\": \"2021-06-29T13:57:46.443595Z\", \"duration\": \"0:00:49\", \"iteration\": \"14\", \"goal\": \"accuracy_max\", \"run_name\": \"MaxAbsScaler, LightGBM\", \"run_properties\": \"copy=True\", \"primary_metric\": 0.82931034, \"best_metric\": 0.85275862}, {\"run_id\": \"AutoML_1997416e-92ca-40de-85ee-6cb021542604_15\", \"run_number\": 20, \"metric\": null, \"status\": \"Completed\", \"run_type\": \"azureml.scriptrun\", \"training_percent\": \"100\", \"start_time\": \"2021-06-29T13:58:02.225249Z\", \"end_time\": \"2021-06-29T13:58:39.492918Z\", \"created_time\": \"2021-06-29T13:57:50.201012Z\", \"created_time_dt\": \"2021-06-29T13:57:50.201012Z\", \"duration\": \"0:00:49\", \"iteration\": \"15\", \"goal\": \"accuracy_max\", \"run_name\": \"MaxAbsScaler, LightGBM\", \"run_properties\": \"copy=True\", \"primary_metric\": 0.83931034, \"best_metric\": 0.85275862}, {\"run_id\": \"AutoML_1997416e-92ca-40de-85ee-6cb021542604_16\", \"run_number\": 21, \"metric\": null, \"status\": \"Completed\", \"run_type\": \"azureml.scriptrun\", \"training_percent\": \"100\", \"start_time\": \"2021-06-29T13:58:00.678738Z\", \"end_time\": \"2021-06-29T13:58:40.255906Z\", \"created_time\": \"2021-06-29T13:57:50.226297Z\", \"created_time_dt\": \"2021-06-29T13:57:50.226297Z\", \"duration\": \"0:00:50\", \"iteration\": \"16\", \"goal\": \"accuracy_max\", \"run_name\": \"SparseNormalizer, XGBoostClassifier\", \"run_properties\": \"copy=True, norm='max'\", \"primary_metric\": 0.84954023, \"best_metric\": 0.85275862}, {\"run_id\": \"AutoML_1997416e-92ca-40de-85ee-6cb021542604_17\", \"run_number\": 22, \"metric\": null, \"status\": \"Completed\", \"run_type\": \"azureml.scriptrun\", \"training_percent\": \"100\", \"start_time\": \"2021-06-29T13:58:07.782234Z\", \"end_time\": \"2021-06-29T13:58:48.598034Z\", \"created_time\": \"2021-06-29T13:57:54.646679Z\", \"created_time_dt\": \"2021-06-29T13:57:54.646679Z\", \"duration\": \"0:00:53\", \"iteration\": \"17\", \"goal\": \"accuracy_max\", \"run_name\": \"StandardScalerWrapper, RandomForest\", \"run_properties\": \"\\n    copy=True,\\n    with_mean=False,\\n    with_std=True\\n\", \"primary_metric\": 0.83609195, \"best_metric\": 0.85275862}, {\"run_id\": \"AutoML_1997416e-92ca-40de-85ee-6cb021542604_18\", \"run_number\": 23, \"metric\": null, \"status\": \"Completed\", \"run_type\": \"azureml.scriptrun\", \"training_percent\": \"100\", \"start_time\": \"2021-06-29T13:58:16.105655Z\", \"end_time\": \"2021-06-29T13:58:55.862438Z\", \"created_time\": \"2021-06-29T13:58:05.650762Z\", \"created_time_dt\": \"2021-06-29T13:58:05.650762Z\", \"duration\": \"0:00:50\", \"iteration\": \"18\", \"goal\": \"accuracy_max\", \"run_name\": \"RobustScaler, ExtremeRandomTrees\", \"run_properties\": \"copy=True, quantile_range=[25, 75], with_centering=True,\\n             with_scaling=False\", \"primary_metric\": 0.86298851, \"best_metric\": 0.86298851}, {\"run_id\": \"AutoML_1997416e-92ca-40de-85ee-6cb021542604_19\", \"run_number\": 24, \"metric\": null, \"status\": \"Completed\", \"run_type\": \"azureml.scriptrun\", \"training_percent\": \"100\", \"start_time\": \"2021-06-29T13:58:51.987651Z\", \"end_time\": \"2021-06-29T13:59:30.3989Z\", \"created_time\": \"2021-06-29T13:58:38.190651Z\", \"created_time_dt\": \"2021-06-29T13:58:38.190651Z\", \"duration\": \"0:00:52\", \"iteration\": \"19\", \"goal\": \"accuracy_max\", \"run_name\": \"SparseNormalizer, XGBoostClassifier\", \"run_properties\": \"copy=True, norm='l1'\", \"primary_metric\": 0.8362069, \"best_metric\": 0.86298851}, {\"run_id\": \"AutoML_1997416e-92ca-40de-85ee-6cb021542604_20\", \"run_number\": 25, \"metric\": null, \"status\": \"Completed\", \"run_type\": \"azureml.scriptrun\", \"training_percent\": \"100\", \"start_time\": \"2021-06-29T13:58:55.369271Z\", \"end_time\": \"2021-06-29T13:59:33.711258Z\", \"created_time\": \"2021-06-29T13:58:47.874639Z\", \"created_time_dt\": \"2021-06-29T13:58:47.874639Z\", \"duration\": \"0:00:45\", \"iteration\": \"20\", \"goal\": \"accuracy_max\", \"run_name\": \"StandardScalerWrapper, LightGBM\", \"run_properties\": \"\\n    copy=True,\\n    with_mean=False,\\n    with_std=True\\n\", \"primary_metric\": 0.82264368, \"best_metric\": 0.86298851}, {\"run_id\": \"AutoML_1997416e-92ca-40de-85ee-6cb021542604_21\", \"run_number\": 26, \"metric\": null, \"status\": \"Completed\", \"run_type\": \"azureml.scriptrun\", \"training_percent\": \"100\", \"start_time\": \"2021-06-29T13:58:55.811223Z\", \"end_time\": \"2021-06-29T13:59:34.117Z\", \"created_time\": \"2021-06-29T13:58:47.904072Z\", \"created_time_dt\": \"2021-06-29T13:58:47.904072Z\", \"duration\": \"0:00:46\", \"iteration\": \"21\", \"goal\": \"accuracy_max\", \"run_name\": \"SparseNormalizer, XGBoostClassifier\", \"run_properties\": \"copy=True, norm='max'\", \"primary_metric\": 0.83310345, \"best_metric\": 0.86298851}, {\"run_id\": \"AutoML_1997416e-92ca-40de-85ee-6cb021542604_22\", \"run_number\": 27, \"metric\": null, \"status\": \"Completed\", \"run_type\": \"azureml.scriptrun\", \"training_percent\": \"100\", \"start_time\": \"2021-06-29T13:59:03.978584Z\", \"end_time\": \"2021-06-29T13:59:44.884793Z\", \"created_time\": \"2021-06-29T13:58:51.501538Z\", \"created_time_dt\": \"2021-06-29T13:58:51.501538Z\", \"duration\": \"0:00:53\", \"iteration\": \"22\", \"goal\": \"accuracy_max\", \"run_name\": \"MaxAbsScaler, ExtremeRandomTrees\", \"run_properties\": \"copy=True\", \"primary_metric\": 0.8162069, \"best_metric\": 0.86298851}, {\"run_id\": \"AutoML_1997416e-92ca-40de-85ee-6cb021542604_23\", \"run_number\": 28, \"metric\": null, \"status\": \"Completed\", \"run_type\": \"azureml.scriptrun\", \"training_percent\": \"100\", \"start_time\": \"2021-06-29T13:59:10.322874Z\", \"end_time\": \"2021-06-29T13:59:51.333057Z\", \"created_time\": \"2021-06-29T13:58:57.856344Z\", \"created_time_dt\": \"2021-06-29T13:58:57.856344Z\", \"duration\": \"0:00:53\", \"iteration\": \"23\", \"goal\": \"accuracy_max\", \"run_name\": \"SparseNormalizer, XGBoostClassifier\", \"run_properties\": \"copy=True, norm='l2'\", \"primary_metric\": 0.8262069, \"best_metric\": 0.86298851}, {\"run_id\": \"AutoML_1997416e-92ca-40de-85ee-6cb021542604_24\", \"run_number\": 29, \"metric\": null, \"status\": \"Completed\", \"run_type\": \"azureml.scriptrun\", \"training_percent\": \"100\", \"start_time\": \"2021-06-29T13:59:44.553248Z\", \"end_time\": \"2021-06-29T14:00:21.896003Z\", \"created_time\": \"2021-06-29T13:59:32.292904Z\", \"created_time_dt\": \"2021-06-29T13:59:32.292904Z\", \"duration\": \"0:00:49\", \"iteration\": \"24\", \"goal\": \"accuracy_max\", \"run_name\": \"SparseNormalizer, XGBoostClassifier\", \"run_properties\": \"copy=True, norm='max'\", \"primary_metric\": 0.83954023, \"best_metric\": 0.86298851}, {\"run_id\": \"AutoML_1997416e-92ca-40de-85ee-6cb021542604_26\", \"run_number\": 30, \"metric\": null, \"status\": \"Completed\", \"run_type\": \"azureml.scriptrun\", \"training_percent\": \"100\", \"start_time\": \"2021-06-29T13:59:55.371981Z\", \"end_time\": \"2021-06-29T14:00:33.724502Z\", \"created_time\": \"2021-06-29T13:59:37.000372Z\", \"created_time_dt\": \"2021-06-29T13:59:37.000372Z\", \"duration\": \"0:00:56\", \"iteration\": \"26\", \"goal\": \"accuracy_max\", \"run_name\": \"StandardScalerWrapper, LightGBM\", \"run_properties\": \"\\n    copy=True,\\n    with_mean=False,\\n    with_std=True\\n\", \"primary_metric\": 0.83931034, \"best_metric\": 0.86298851}, {\"run_id\": \"AutoML_1997416e-92ca-40de-85ee-6cb021542604_25\", \"run_number\": 31, \"metric\": null, \"status\": \"Completed\", \"run_type\": \"azureml.scriptrun\", \"training_percent\": \"100\", \"start_time\": \"2021-06-29T13:59:49.940676Z\", \"end_time\": \"2021-06-29T14:00:27.726136Z\", \"created_time\": \"2021-06-29T13:59:37.166262Z\", \"created_time_dt\": \"2021-06-29T13:59:37.166262Z\", \"duration\": \"0:00:50\", \"iteration\": \"25\", \"goal\": \"accuracy_max\", \"run_name\": \"SparseNormalizer, ExtremeRandomTrees\", \"run_properties\": \"copy=True, norm='l1'\", \"primary_metric\": 0.64229885, \"best_metric\": 0.86298851}, {\"run_id\": \"AutoML_1997416e-92ca-40de-85ee-6cb021542604_27\", \"run_number\": 32, \"metric\": null, \"status\": \"Completed\", \"run_type\": \"azureml.scriptrun\", \"training_percent\": \"100\", \"start_time\": \"2021-06-29T14:00:03.23859Z\", \"end_time\": \"2021-06-29T14:00:44.286814Z\", \"created_time\": \"2021-06-29T13:59:50.995651Z\", \"created_time_dt\": \"2021-06-29T13:59:50.995651Z\", \"duration\": \"0:00:53\", \"iteration\": \"27\", \"goal\": \"accuracy_max\", \"run_name\": \"StandardScalerWrapper, LightGBM\", \"run_properties\": \"\\n    copy=True,\\n    with_mean=True,\\n    with_std=True\\n\", \"primary_metric\": 0.73586207, \"best_metric\": 0.86298851}, {\"run_id\": \"AutoML_1997416e-92ca-40de-85ee-6cb021542604_28\", \"run_number\": 33, \"metric\": null, \"status\": \"Completed\", \"run_type\": \"azureml.scriptrun\", \"training_percent\": \"100\", \"start_time\": \"2021-06-29T14:00:06.208237Z\", \"end_time\": \"2021-06-29T14:00:42.40229Z\", \"created_time\": \"2021-06-29T13:59:55.903114Z\", \"created_time_dt\": \"2021-06-29T13:59:55.903114Z\", \"duration\": \"0:00:46\", \"iteration\": \"28\", \"goal\": \"accuracy_max\", \"run_name\": \"StandardScalerWrapper, XGBoostClassifier\", \"run_properties\": \"\\n    copy=True,\\n    with_mean=False,\\n    with_std=False\\n\", \"primary_metric\": 0.83931034, \"best_metric\": 0.86298851}, {\"run_id\": \"AutoML_1997416e-92ca-40de-85ee-6cb021542604_29\", \"run_number\": 34, \"metric\": null, \"status\": \"Completed\", \"run_type\": \"azureml.scriptrun\", \"training_percent\": \"100\", \"start_time\": \"2021-06-29T14:00:36.243528Z\", \"end_time\": \"2021-06-29T14:01:21.031259Z\", \"created_time\": \"2021-06-29T14:00:23.747923Z\", \"created_time_dt\": \"2021-06-29T14:00:23.747923Z\", \"duration\": \"0:00:57\", \"iteration\": \"29\", \"goal\": \"accuracy_max\", \"run_name\": \"MaxAbsScaler, RandomForest\", \"run_properties\": \"copy=True\", \"primary_metric\": 0.81896552, \"best_metric\": 0.86298851}, {\"run_id\": \"AutoML_1997416e-92ca-40de-85ee-6cb021542604_30\", \"run_number\": 35, \"metric\": null, \"status\": \"Completed\", \"run_type\": \"azureml.scriptrun\", \"training_percent\": \"100\", \"start_time\": \"2021-06-29T14:00:45.805667Z\", \"end_time\": \"2021-06-29T14:01:21.172628Z\", \"created_time\": \"2021-06-29T14:00:30.752119Z\", \"created_time_dt\": \"2021-06-29T14:00:30.752119Z\", \"duration\": \"0:00:50\", \"iteration\": \"30\", \"goal\": \"accuracy_max\", \"run_name\": \"SparseNormalizer, ExtremeRandomTrees\", \"run_properties\": \"copy=True, norm='l1'\", \"primary_metric\": 0.73252874, \"best_metric\": 0.86298851}, {\"run_id\": \"AutoML_1997416e-92ca-40de-85ee-6cb021542604_31\", \"run_number\": 36, \"metric\": null, \"status\": \"Completed\", \"run_type\": \"azureml.scriptrun\", \"training_percent\": \"100\", \"start_time\": \"2021-06-29T14:00:47.586977Z\", \"end_time\": \"2021-06-29T14:01:24.927053Z\", \"created_time\": \"2021-06-29T14:00:35.504275Z\", \"created_time_dt\": \"2021-06-29T14:00:35.504275Z\", \"duration\": \"0:00:49\", \"iteration\": \"31\", \"goal\": \"accuracy_max\", \"run_name\": \"MinMaxScaler, LightGBM\", \"run_properties\": \"copy=True, feature_range=(0, 1\", \"primary_metric\": 0.80264368, \"best_metric\": 0.86298851}, {\"run_id\": \"AutoML_1997416e-92ca-40de-85ee-6cb021542604_32\", \"run_number\": 37, \"metric\": null, \"status\": \"Completed\", \"run_type\": \"azureml.scriptrun\", \"training_percent\": \"100\", \"start_time\": \"2021-06-29T14:00:57.653309Z\", \"end_time\": \"2021-06-29T14:01:38.576735Z\", \"created_time\": \"2021-06-29T14:00:44.552229Z\", \"created_time_dt\": \"2021-06-29T14:00:44.552229Z\", \"duration\": \"0:00:54\", \"iteration\": \"32\", \"goal\": \"accuracy_max\", \"run_name\": \"MaxAbsScaler, LightGBM\", \"run_properties\": \"copy=True\", \"primary_metric\": 0.82275862, \"best_metric\": 0.86298851}, {\"run_id\": \"AutoML_1997416e-92ca-40de-85ee-6cb021542604_33\", \"run_number\": 38, \"metric\": null, \"status\": \"Completed\", \"run_type\": \"azureml.scriptrun\", \"training_percent\": \"100\", \"start_time\": \"2021-06-29T14:00:57.532236Z\", \"end_time\": \"2021-06-29T14:01:35.938978Z\", \"created_time\": \"2021-06-29T14:00:48.993706Z\", \"created_time_dt\": \"2021-06-29T14:00:48.993706Z\", \"duration\": \"0:00:46\", \"iteration\": \"33\", \"goal\": \"accuracy_max\", \"run_name\": \"MinMaxScaler, RandomForest\", \"run_properties\": \"copy=True, feature_range=(0, 1\", \"primary_metric\": 0.83264368, \"best_metric\": 0.86298851}, {\"run_id\": \"AutoML_1997416e-92ca-40de-85ee-6cb021542604_34\", \"run_number\": 39, \"metric\": null, \"status\": \"Canceled\", \"run_type\": \"azureml.scriptrun\", \"training_percent\": \"100\", \"start_time\": \"2021-06-29T14:01:36.436823Z\", \"end_time\": \"2021-06-29T14:01:46.272478Z\", \"created_time\": \"2021-06-29T14:01:24.458466Z\", \"created_time_dt\": \"2021-06-29T14:01:24.458466Z\", \"duration\": \"0:00:21\", \"iteration\": \"34\", \"goal\": null, \"run_name\": \"Canceled\", \"run_properties\": null}, {\"run_id\": \"AutoML_1997416e-92ca-40de-85ee-6cb021542604_35\", \"run_number\": 40, \"metric\": null, \"status\": \"Canceled\", \"run_type\": \"azureml.scriptrun\", \"training_percent\": \"100\", \"start_time\": \"2021-06-29T14:01:36.522994Z\", \"end_time\": \"2021-06-29T14:01:46.154606Z\", \"created_time\": \"2021-06-29T14:01:24.467421Z\", \"created_time_dt\": \"2021-06-29T14:01:24.467421Z\", \"duration\": \"0:00:21\", \"iteration\": \"35\", \"goal\": null, \"run_name\": \"Canceled\", \"run_properties\": null}, {\"run_id\": \"AutoML_1997416e-92ca-40de-85ee-6cb021542604_36\", \"run_number\": 41, \"metric\": null, \"status\": \"Canceled\", \"run_type\": \"azureml.scriptrun\", \"training_percent\": \"100\", \"start_time\": \"2021-06-29T14:01:27.74661Z\", \"end_time\": \"2021-06-29T14:01:46.489161Z\", \"created_time\": \"2021-06-29T14:01:27.74661Z\", \"created_time_dt\": \"2021-06-29T14:01:27.74661Z\", \"duration\": \"0:00:18\", \"iteration\": \"36\", \"goal\": null, \"run_name\": \"Canceled\", \"run_properties\": null}, {\"run_id\": \"AutoML_1997416e-92ca-40de-85ee-6cb021542604_37\", \"run_number\": 42, \"metric\": null, \"status\": \"Canceled\", \"run_type\": \"azureml.scriptrun\", \"training_percent\": \"100\", \"start_time\": \"2021-06-29T14:01:37.92691Z\", \"end_time\": \"2021-06-29T14:01:52.422014Z\", \"created_time\": \"2021-06-29T14:01:37.92691Z\", \"created_time_dt\": \"2021-06-29T14:01:37.92691Z\", \"duration\": \"0:00:14\", \"iteration\": \"37\", \"goal\": null, \"run_name\": \"Canceled\", \"run_properties\": null}, {\"run_id\": \"AutoML_1997416e-92ca-40de-85ee-6cb021542604_39\", \"run_number\": 43, \"metric\": null, \"status\": \"Completed\", \"run_type\": \"azureml.scriptrun\", \"training_percent\": \"100\", \"start_time\": \"2021-06-29T14:02:03.757206Z\", \"end_time\": \"2021-06-29T14:03:02.452734Z\", \"created_time\": \"2021-06-29T14:01:53.523466Z\", \"created_time_dt\": \"2021-06-29T14:01:53.523466Z\", \"duration\": \"0:01:08\", \"iteration\": \"39\", \"goal\": \"accuracy_max\", \"run_name\": \"StackEnsemble\", \"run_properties\": \"\\n    base_learners=[('18', Pipeline(memory=None,\\n             steps=[('robustscaler',\\n                     RobustScaler(copy=True, quantile_range=[25, 75],\\n                                  with_centering=True, with_scaling=False\", \"primary_metric\": 0.85942529, \"best_metric\": 0.86965517}, {\"run_id\": \"AutoML_1997416e-92ca-40de-85ee-6cb021542604_38\", \"run_number\": 44, \"metric\": null, \"status\": \"Completed\", \"run_type\": \"azureml.scriptrun\", \"training_percent\": \"100\", \"start_time\": \"2021-06-29T14:02:03.470647Z\", \"end_time\": \"2021-06-29T14:03:06.254926Z\", \"created_time\": \"2021-06-29T14:01:53.527256Z\", \"created_time_dt\": \"2021-06-29T14:01:53.527256Z\", \"duration\": \"0:01:12\", \"iteration\": \"38\", \"goal\": \"accuracy_max\", \"run_name\": \"VotingEnsemble\", \"run_properties\": \"\\n    estimators=[('18', Pipeline(memory=None,\\n             steps=[('robustscaler',\\n                     RobustScaler(copy=True, quantile_range=[25, 75],\\n                                  with_centering=True, with_scaling=False\", \"primary_metric\": 0.86965517, \"best_metric\": 0.86965517}], \"children_metrics\": {\"categories\": [0], \"series\": {\"recall_score_micro\": [{\"categories\": [\"0\", \"1\", \"2\", \"3\", \"4\", \"5\", \"6\", \"7\", \"8\", \"9\", \"10\", \"11\", \"12\", \"13\", \"14\", \"15\", \"16\", \"17\", \"18\", \"19\", \"20\", \"21\", \"22\", \"23\", \"24\", \"25\", \"26\", \"27\", \"28\", \"29\", \"30\", \"31\", \"32\", \"33\", \"38\", \"39\"], \"mode\": \"markers\", \"name\": \"recall_score_micro\", \"stepped\": false, \"type\": \"scatter\", \"data\": [0.8359770114942527, 0.8358620689655172, 0.8127586206896552, 0.8291954022988504, 0.825632183908046, 0.849310344827586, 0.7393103448275863, 0.7291954022988507, 0.8228735632183908, 0.8394252873563218, 0.8328735632183909, 0.7221839080459771, 0.8527586206896551, 0.8462068965517242, 0.8293103448275861, 0.8393103448275863, 0.8495402298850575, 0.8360919540229885, 0.8629885057471265, 0.8362068965517242, 0.8226436781609194, 0.8331034482758621, 0.8162068965517243, 0.8262068965517241, 0.8395402298850575, 0.6422988505747126, 0.8393103448275863, 0.7358620689655173, 0.8393103448275863, 0.8189655172413793, 0.732528735632184, 0.8026436781609195, 0.8227586206896552, 0.8326436781609194, 0.8696551724137931, 0.859425287356322]}, {\"categories\": [\"0\", \"1\", \"2\", \"3\", \"4\", \"5\", \"6\", \"7\", \"8\", \"9\", \"10\", \"11\", \"12\", \"13\", \"14\", \"15\", \"16\", \"17\", \"18\", \"19\", \"20\", \"21\", \"22\", \"23\", \"24\", \"25\", \"26\", \"27\", \"28\", \"29\", \"30\", \"31\", \"32\", \"33\", \"38\", \"39\"], \"mode\": \"lines\", \"name\": \"recall_score_micro_max\", \"stepped\": true, \"type\": \"scatter\", \"data\": [0.8359770114942527, 0.8359770114942527, 0.8359770114942527, 0.8359770114942527, 0.8359770114942527, 0.849310344827586, 0.849310344827586, 0.849310344827586, 0.849310344827586, 0.849310344827586, 0.849310344827586, 0.849310344827586, 0.8527586206896551, 0.8527586206896551, 0.8527586206896551, 0.8527586206896551, 0.8527586206896551, 0.8527586206896551, 0.8629885057471265, 0.8629885057471265, 0.8629885057471265, 0.8629885057471265, 0.8629885057471265, 0.8629885057471265, 0.8629885057471265, 0.8629885057471265, 0.8629885057471265, 0.8629885057471265, 0.8629885057471265, 0.8629885057471265, 0.8629885057471265, 0.8629885057471265, 0.8629885057471265, 0.8629885057471265, 0.8696551724137931, 0.8696551724137931]}], \"matthews_correlation\": [{\"categories\": [\"0\", \"1\", \"2\", \"3\", \"4\", \"5\", \"6\", \"7\", \"8\", \"9\", \"10\", \"11\", \"12\", \"13\", \"14\", \"15\", \"16\", \"17\", \"18\", \"19\", \"20\", \"21\", \"22\", \"23\", \"24\", \"25\", \"26\", \"27\", \"28\", \"29\", \"30\", \"31\", \"32\", \"33\", \"38\", \"39\"], \"mode\": \"markers\", \"name\": \"matthews_correlation\", \"stepped\": false, \"type\": \"scatter\", \"data\": [0.6231314496952846, 0.6345538749068885, 0.582110917427852, 0.595372260462971, 0.6144203108528835, 0.6487187373728609, 0.33869755306147586, 0.33995829503986974, 0.5926056841761447, 0.6339571643962969, 0.6251514690683962, 0.34425533853405016, 0.6574999941722945, 0.6503474394181177, 0.6050404127354617, 0.6320897071733595, 0.6526669490817252, 0.6258607787670316, 0.6963686559642623, 0.6291702367253744, 0.5839565871463948, 0.6123332816414019, 0.5913454911901381, 0.5928486670507654, 0.6245164485142192, 0.27986797347313275, 0.6282666583697689, 0.3298868025425274, 0.6284918095534159, 0.6156506092848838, 0.2671026310507577, 0.538863619506813, 0.5765543600946855, 0.6160026293649769, 0.7117967256622404, 0.6793462310043272]}, {\"categories\": [\"0\", \"1\", \"2\", \"3\", \"4\", \"5\", \"6\", \"7\", \"8\", \"9\", \"10\", \"11\", \"12\", \"13\", \"14\", \"15\", \"16\", \"17\", \"18\", \"19\", \"20\", \"21\", \"22\", \"23\", \"24\", \"25\", \"26\", \"27\", \"28\", \"29\", \"30\", \"31\", \"32\", \"33\", \"38\", \"39\"], \"mode\": \"lines\", \"name\": \"matthews_correlation_max\", \"stepped\": true, \"type\": \"scatter\", \"data\": [0.6231314496952846, 0.6345538749068885, 0.6345538749068885, 0.6345538749068885, 0.6345538749068885, 0.6487187373728609, 0.6487187373728609, 0.6487187373728609, 0.6487187373728609, 0.6487187373728609, 0.6487187373728609, 0.6487187373728609, 0.6574999941722945, 0.6574999941722945, 0.6574999941722945, 0.6574999941722945, 0.6574999941722945, 0.6574999941722945, 0.6963686559642623, 0.6963686559642623, 0.6963686559642623, 0.6963686559642623, 0.6963686559642623, 0.6963686559642623, 0.6963686559642623, 0.6963686559642623, 0.6963686559642623, 0.6963686559642623, 0.6963686559642623, 0.6963686559642623, 0.6963686559642623, 0.6963686559642623, 0.6963686559642623, 0.6963686559642623, 0.7117967256622404, 0.7117967256622404]}], \"precision_score_micro\": [{\"categories\": [\"0\", \"1\", \"2\", \"3\", \"4\", \"5\", \"6\", \"7\", \"8\", \"9\", \"10\", \"11\", \"12\", \"13\", \"14\", \"15\", \"16\", \"17\", \"18\", \"19\", \"20\", \"21\", \"22\", \"23\", \"24\", \"25\", \"26\", \"27\", \"28\", \"29\", \"30\", \"31\", \"32\", \"33\", \"38\", \"39\"], \"mode\": \"markers\", \"name\": \"precision_score_micro\", \"stepped\": false, \"type\": \"scatter\", \"data\": [0.8359770114942527, 0.8358620689655172, 0.8127586206896552, 0.8291954022988504, 0.825632183908046, 0.849310344827586, 0.7393103448275863, 0.7291954022988507, 0.8228735632183908, 0.8394252873563218, 0.8328735632183909, 0.7221839080459771, 0.8527586206896551, 0.8462068965517242, 0.8293103448275861, 0.8393103448275863, 0.8495402298850575, 0.8360919540229885, 0.8629885057471265, 0.8362068965517242, 0.8226436781609194, 0.8331034482758621, 0.8162068965517243, 0.8262068965517241, 0.8395402298850575, 0.6422988505747126, 0.8393103448275863, 0.7358620689655173, 0.8393103448275863, 0.8189655172413793, 0.732528735632184, 0.8026436781609195, 0.8227586206896552, 0.8326436781609194, 0.8696551724137931, 0.859425287356322]}, {\"categories\": [\"0\", \"1\", \"2\", \"3\", \"4\", \"5\", \"6\", \"7\", \"8\", \"9\", \"10\", \"11\", \"12\", \"13\", \"14\", \"15\", \"16\", \"17\", \"18\", \"19\", \"20\", \"21\", \"22\", \"23\", \"24\", \"25\", \"26\", \"27\", \"28\", \"29\", \"30\", \"31\", \"32\", \"33\", \"38\", \"39\"], \"mode\": \"lines\", \"name\": \"precision_score_micro_max\", \"stepped\": true, \"type\": \"scatter\", \"data\": [0.8359770114942527, 0.8359770114942527, 0.8359770114942527, 0.8359770114942527, 0.8359770114942527, 0.849310344827586, 0.849310344827586, 0.849310344827586, 0.849310344827586, 0.849310344827586, 0.849310344827586, 0.849310344827586, 0.8527586206896551, 0.8527586206896551, 0.8527586206896551, 0.8527586206896551, 0.8527586206896551, 0.8527586206896551, 0.8629885057471265, 0.8629885057471265, 0.8629885057471265, 0.8629885057471265, 0.8629885057471265, 0.8629885057471265, 0.8629885057471265, 0.8629885057471265, 0.8629885057471265, 0.8629885057471265, 0.8629885057471265, 0.8629885057471265, 0.8629885057471265, 0.8629885057471265, 0.8629885057471265, 0.8629885057471265, 0.8696551724137931, 0.8696551724137931]}], \"recall_score_macro\": [{\"categories\": [\"0\", \"1\", \"2\", \"3\", \"4\", \"5\", \"6\", \"7\", \"8\", \"9\", \"10\", \"11\", \"12\", \"13\", \"14\", \"15\", \"16\", \"17\", \"18\", \"19\", \"20\", \"21\", \"22\", \"23\", \"24\", \"25\", \"26\", \"27\", \"28\", \"29\", \"30\", \"31\", \"32\", \"33\", \"38\", \"39\"], \"mode\": \"markers\", \"name\": \"recall_score_macro\", \"stepped\": false, \"type\": \"scatter\", \"data\": [0.8077082895810014, 0.8130249020938379, 0.7904692800842688, 0.7845457079787743, 0.813251377372945, 0.8134780045469405, 0.6408432102159218, 0.6442499562476679, 0.785013547950905, 0.8124790867980227, 0.7999603913439726, 0.6548258314594128, 0.8123311155854062, 0.787006566564633, 0.7869737704769169, 0.7992019669562576, 0.810638899207835, 0.8063035276762394, 0.8172645030725695, 0.8095071398852862, 0.7647936289174846, 0.7631085639824198, 0.7670548633606414, 0.7560270344008903, 0.7804697700278365, 0.6507992098163722, 0.7958448240991147, 0.5944151922956271, 0.8059589161474173, 0.8237591657008133, 0.6042391774891774, 0.7237428799270904, 0.7466587082825642, 0.8037576810108273, 0.829358266796768, 0.8249773144158155]}, {\"categories\": [\"0\", \"1\", \"2\", \"3\", \"4\", \"5\", \"6\", \"7\", \"8\", \"9\", \"10\", \"11\", \"12\", \"13\", \"14\", \"15\", \"16\", \"17\", \"18\", \"19\", \"20\", \"21\", \"22\", \"23\", \"24\", \"25\", \"26\", \"27\", \"28\", \"29\", \"30\", \"31\", \"32\", \"33\", \"38\", \"39\"], \"mode\": \"lines\", \"name\": \"recall_score_macro_max\", \"stepped\": true, \"type\": \"scatter\", \"data\": [0.8077082895810014, 0.8130249020938379, 0.8130249020938379, 0.8130249020938379, 0.813251377372945, 0.8134780045469405, 0.8134780045469405, 0.8134780045469405, 0.8134780045469405, 0.8134780045469405, 0.8134780045469405, 0.8134780045469405, 0.8134780045469405, 0.8134780045469405, 0.8134780045469405, 0.8134780045469405, 0.8134780045469405, 0.8134780045469405, 0.8172645030725695, 0.8172645030725695, 0.8172645030725695, 0.8172645030725695, 0.8172645030725695, 0.8172645030725695, 0.8172645030725695, 0.8172645030725695, 0.8172645030725695, 0.8172645030725695, 0.8172645030725695, 0.8237591657008133, 0.8237591657008133, 0.8237591657008133, 0.8237591657008133, 0.8237591657008133, 0.829358266796768, 0.829358266796768]}], \"average_precision_score_macro\": [{\"categories\": [\"0\", \"1\", \"2\", \"3\", \"4\", \"5\", \"6\", \"7\", \"8\", \"9\", \"10\", \"11\", \"12\", \"13\", \"14\", \"15\", \"16\", \"17\", \"18\", \"19\", \"20\", \"21\", \"22\", \"23\", \"24\", \"25\", \"26\", \"27\", \"28\", \"29\", \"30\", \"31\", \"32\", \"33\", \"38\", \"39\"], \"mode\": \"markers\", \"name\": \"average_precision_score_macro\", \"stepped\": false, \"type\": \"scatter\", \"data\": [0.8807888197525153, 0.8807340475847678, 0.8771576080397981, 0.8831798992529343, 0.8935106228682447, 0.8857572857222639, 0.7249031312558578, 0.745469896825244, 0.8749745008185043, 0.9054053866337337, 0.8793971710929904, 0.7827606185608855, 0.8927928398622385, 0.8849743354828293, 0.8701230666969517, 0.8918742359962035, 0.8801441796559588, 0.8897744852779441, 0.8940856345210019, 0.8819949781809319, 0.8893073017964932, 0.8718346611014851, 0.8769508135101931, 0.8601718304566159, 0.8700478818385461, 0.67994872413116, 0.8833412239264323, 0.8625837385267724, 0.8670051871471305, 0.8775997642127444, 0.7906051344283267, 0.8618577753040094, 0.8833614240300468, 0.8935187479408642, 0.9023428485902094, 0.9016068444614795]}, {\"categories\": [\"0\", \"1\", \"2\", \"3\", \"4\", \"5\", \"6\", \"7\", \"8\", \"9\", \"10\", \"11\", \"12\", \"13\", \"14\", \"15\", \"16\", \"17\", \"18\", \"19\", \"20\", \"21\", \"22\", \"23\", \"24\", \"25\", \"26\", \"27\", \"28\", \"29\", \"30\", \"31\", \"32\", \"33\", \"38\", \"39\"], \"mode\": \"lines\", \"name\": \"average_precision_score_macro_max\", \"stepped\": true, \"type\": \"scatter\", \"data\": [0.8807888197525153, 0.8807888197525153, 0.8807888197525153, 0.8831798992529343, 0.8935106228682447, 0.8935106228682447, 0.8935106228682447, 0.8935106228682447, 0.8935106228682447, 0.9054053866337337, 0.9054053866337337, 0.9054053866337337, 0.9054053866337337, 0.9054053866337337, 0.9054053866337337, 0.9054053866337337, 0.9054053866337337, 0.9054053866337337, 0.9054053866337337, 0.9054053866337337, 0.9054053866337337, 0.9054053866337337, 0.9054053866337337, 0.9054053866337337, 0.9054053866337337, 0.9054053866337337, 0.9054053866337337, 0.9054053866337337, 0.9054053866337337, 0.9054053866337337, 0.9054053866337337, 0.9054053866337337, 0.9054053866337337, 0.9054053866337337, 0.9054053866337337, 0.9054053866337337]}], \"AUC_weighted\": [{\"categories\": [\"0\", \"1\", \"2\", \"3\", \"4\", \"5\", \"6\", \"7\", \"8\", \"9\", \"10\", \"11\", \"12\", \"13\", \"14\", \"15\", \"16\", \"17\", \"18\", \"19\", \"20\", \"21\", \"22\", \"23\", \"24\", \"25\", \"26\", \"27\", \"28\", \"29\", \"30\", \"31\", \"32\", \"33\", \"38\", \"39\"], \"mode\": \"markers\", \"name\": \"AUC_weighted\", \"stepped\": false, \"type\": \"scatter\", \"data\": [0.8840955354735103, 0.8847369443591411, 0.8916555348351116, 0.8906057865348481, 0.9010285264654829, 0.8967005303388026, 0.7338741791347054, 0.747228730835653, 0.879342659940915, 0.9112214241136437, 0.8877728841757445, 0.7982397874764866, 0.8956108931749664, 0.8875424330754422, 0.8922546979548123, 0.9022516357593588, 0.8905101635291566, 0.901197599345311, 0.901597757376533, 0.8879981568848561, 0.9041695342055182, 0.8767071191098079, 0.8800628060324283, 0.8679325057676032, 0.8777909415199174, 0.6839641090814432, 0.8951857931224636, 0.875739003608054, 0.8890898286146856, 0.8886756612931098, 0.8153705762952617, 0.8588236855313515, 0.8965557482584371, 0.9070547773143882, 0.9105738158252461, 0.9115079590720322]}, {\"categories\": [\"0\", \"1\", \"2\", \"3\", \"4\", \"5\", \"6\", \"7\", \"8\", \"9\", \"10\", \"11\", \"12\", \"13\", \"14\", \"15\", \"16\", \"17\", \"18\", \"19\", \"20\", \"21\", \"22\", \"23\", \"24\", \"25\", \"26\", \"27\", \"28\", \"29\", \"30\", \"31\", \"32\", \"33\", \"38\", \"39\"], \"mode\": \"lines\", \"name\": \"AUC_weighted_max\", \"stepped\": true, \"type\": \"scatter\", \"data\": [0.8840955354735103, 0.8847369443591411, 0.8916555348351116, 0.8916555348351116, 0.9010285264654829, 0.9010285264654829, 0.9010285264654829, 0.9010285264654829, 0.9010285264654829, 0.9112214241136437, 0.9112214241136437, 0.9112214241136437, 0.9112214241136437, 0.9112214241136437, 0.9112214241136437, 0.9112214241136437, 0.9112214241136437, 0.9112214241136437, 0.9112214241136437, 0.9112214241136437, 0.9112214241136437, 0.9112214241136437, 0.9112214241136437, 0.9112214241136437, 0.9112214241136437, 0.9112214241136437, 0.9112214241136437, 0.9112214241136437, 0.9112214241136437, 0.9112214241136437, 0.9112214241136437, 0.9112214241136437, 0.9112214241136437, 0.9112214241136437, 0.9112214241136437, 0.9115079590720322]}], \"precision_score_weighted\": [{\"categories\": [\"0\", \"1\", \"2\", \"3\", \"4\", \"5\", \"6\", \"7\", \"8\", \"9\", \"10\", \"11\", \"12\", \"13\", \"14\", \"15\", \"16\", \"17\", \"18\", \"19\", \"20\", \"21\", \"22\", \"23\", \"24\", \"25\", \"26\", \"27\", \"28\", \"29\", \"30\", \"31\", \"32\", \"33\", \"38\", \"39\"], \"mode\": \"markers\", \"name\": \"precision_score_weighted\", \"stepped\": false, \"type\": \"scatter\", \"data\": [0.8443308716969533, 0.8506678986628277, 0.8270838841016767, 0.8399638335214561, 0.8458617712864538, 0.8590042686088413, 0.7386935161641809, 0.7489416704651337, 0.837153057106774, 0.8546245852542704, 0.8490463978799812, 0.7415123642918245, 0.8630202686511048, 0.8635704583605633, 0.8413490727579933, 0.8553606304186647, 0.8632553265105122, 0.8490678354526693, 0.8784833697878438, 0.8464264202888815, 0.8349369327241142, 0.8502544768741169, 0.8369138244147989, 0.8400947182123595, 0.8495984832739956, 0.7094919428348743, 0.8512215457548056, 0.7886978865338359, 0.8520676351939469, 0.8517458155923647, 0.642316508439814, 0.8267503915217809, 0.8401994456632151, 0.8438045760865233, 0.8852340077463765, 0.8727045045298418]}, {\"categories\": [\"0\", \"1\", \"2\", \"3\", \"4\", \"5\", \"6\", \"7\", \"8\", \"9\", \"10\", \"11\", \"12\", \"13\", \"14\", \"15\", \"16\", \"17\", \"18\", \"19\", \"20\", \"21\", \"22\", \"23\", \"24\", \"25\", \"26\", \"27\", \"28\", \"29\", \"30\", \"31\", \"32\", \"33\", \"38\", \"39\"], \"mode\": \"lines\", \"name\": \"precision_score_weighted_max\", \"stepped\": true, \"type\": \"scatter\", \"data\": [0.8443308716969533, 0.8506678986628277, 0.8506678986628277, 0.8506678986628277, 0.8506678986628277, 0.8590042686088413, 0.8590042686088413, 0.8590042686088413, 0.8590042686088413, 0.8590042686088413, 0.8590042686088413, 0.8590042686088413, 0.8630202686511048, 0.8635704583605633, 0.8635704583605633, 0.8635704583605633, 0.8635704583605633, 0.8635704583605633, 0.8784833697878438, 0.8784833697878438, 0.8784833697878438, 0.8784833697878438, 0.8784833697878438, 0.8784833697878438, 0.8784833697878438, 0.8784833697878438, 0.8784833697878438, 0.8784833697878438, 0.8784833697878438, 0.8784833697878438, 0.8784833697878438, 0.8784833697878438, 0.8784833697878438, 0.8784833697878438, 0.8852340077463765, 0.8852340077463765]}], \"accuracy\": [{\"categories\": [\"0\", \"1\", \"2\", \"3\", \"4\", \"5\", \"6\", \"7\", \"8\", \"9\", \"10\", \"11\", \"12\", \"13\", \"14\", \"15\", \"16\", \"17\", \"18\", \"19\", \"20\", \"21\", \"22\", \"23\", \"24\", \"25\", \"26\", \"27\", \"28\", \"29\", \"30\", \"31\", \"32\", \"33\", \"38\", \"39\"], \"mode\": \"markers\", \"name\": \"accuracy\", \"stepped\": false, \"type\": \"scatter\", \"data\": [0.8359770114942527, 0.8358620689655172, 0.8127586206896552, 0.8291954022988504, 0.825632183908046, 0.849310344827586, 0.7393103448275863, 0.7291954022988507, 0.8228735632183908, 0.8394252873563218, 0.8328735632183909, 0.7221839080459771, 0.8527586206896551, 0.8462068965517242, 0.8293103448275861, 0.8393103448275863, 0.8495402298850575, 0.8360919540229885, 0.8629885057471265, 0.8362068965517242, 0.8226436781609194, 0.8331034482758621, 0.8162068965517243, 0.8262068965517241, 0.8395402298850575, 0.6422988505747126, 0.8393103448275863, 0.7358620689655173, 0.8393103448275863, 0.8189655172413793, 0.732528735632184, 0.8026436781609195, 0.8227586206896552, 0.8326436781609194, 0.8696551724137931, 0.859425287356322]}, {\"categories\": [\"0\", \"1\", \"2\", \"3\", \"4\", \"5\", \"6\", \"7\", \"8\", \"9\", \"10\", \"11\", \"12\", \"13\", \"14\", \"15\", \"16\", \"17\", \"18\", \"19\", \"20\", \"21\", \"22\", \"23\", \"24\", \"25\", \"26\", \"27\", \"28\", \"29\", \"30\", \"31\", \"32\", \"33\", \"38\", \"39\"], \"mode\": \"lines\", \"name\": \"accuracy_max\", \"stepped\": true, \"type\": \"scatter\", \"data\": [0.8359770114942527, 0.8359770114942527, 0.8359770114942527, 0.8359770114942527, 0.8359770114942527, 0.849310344827586, 0.849310344827586, 0.849310344827586, 0.849310344827586, 0.849310344827586, 0.849310344827586, 0.849310344827586, 0.8527586206896551, 0.8527586206896551, 0.8527586206896551, 0.8527586206896551, 0.8527586206896551, 0.8527586206896551, 0.8629885057471265, 0.8629885057471265, 0.8629885057471265, 0.8629885057471265, 0.8629885057471265, 0.8629885057471265, 0.8629885057471265, 0.8629885057471265, 0.8629885057471265, 0.8629885057471265, 0.8629885057471265, 0.8629885057471265, 0.8629885057471265, 0.8629885057471265, 0.8629885057471265, 0.8629885057471265, 0.8696551724137931, 0.8696551724137931]}], \"AUC_macro\": [{\"categories\": [\"0\", \"1\", \"2\", \"3\", \"4\", \"5\", \"6\", \"7\", \"8\", \"9\", \"10\", \"11\", \"12\", \"13\", \"14\", \"15\", \"16\", \"17\", \"18\", \"19\", \"20\", \"21\", \"22\", \"23\", \"24\", \"25\", \"26\", \"27\", \"28\", \"29\", \"30\", \"31\", \"32\", \"33\", \"38\", \"39\"], \"mode\": \"markers\", \"name\": \"AUC_macro\", \"stepped\": false, \"type\": \"scatter\", \"data\": [0.8840955354735103, 0.8847369443591411, 0.8916555348351116, 0.8906057865348481, 0.9010285264654829, 0.8967005303388026, 0.7338741791347055, 0.7472287308356531, 0.879342659940915, 0.9112214241136438, 0.8877728841757445, 0.7982397874764866, 0.8956108931749664, 0.8875424330754422, 0.8922546979548123, 0.9022516357593588, 0.8905101635291567, 0.901197599345311, 0.901597757376533, 0.8879981568848561, 0.9041695342055182, 0.8767071191098079, 0.8800628060324284, 0.867932505767603, 0.8777909415199174, 0.6839641090814432, 0.8951857931224636, 0.875739003608054, 0.8890898286146856, 0.8886756612931098, 0.8153705762952616, 0.8588236855313515, 0.8965557482584371, 0.9070547773143882, 0.9105738158252461, 0.9115079590720322]}, {\"categories\": [\"0\", \"1\", \"2\", \"3\", \"4\", \"5\", \"6\", \"7\", \"8\", \"9\", \"10\", \"11\", \"12\", \"13\", \"14\", \"15\", \"16\", \"17\", \"18\", \"19\", \"20\", \"21\", \"22\", \"23\", \"24\", \"25\", \"26\", \"27\", \"28\", \"29\", \"30\", \"31\", \"32\", \"33\", \"38\", \"39\"], \"mode\": \"lines\", \"name\": \"AUC_macro_max\", \"stepped\": true, \"type\": \"scatter\", \"data\": [0.8840955354735103, 0.8847369443591411, 0.8916555348351116, 0.8916555348351116, 0.9010285264654829, 0.9010285264654829, 0.9010285264654829, 0.9010285264654829, 0.9010285264654829, 0.9112214241136438, 0.9112214241136438, 0.9112214241136438, 0.9112214241136438, 0.9112214241136438, 0.9112214241136438, 0.9112214241136438, 0.9112214241136438, 0.9112214241136438, 0.9112214241136438, 0.9112214241136438, 0.9112214241136438, 0.9112214241136438, 0.9112214241136438, 0.9112214241136438, 0.9112214241136438, 0.9112214241136438, 0.9112214241136438, 0.9112214241136438, 0.9112214241136438, 0.9112214241136438, 0.9112214241136438, 0.9112214241136438, 0.9112214241136438, 0.9112214241136438, 0.9112214241136438, 0.9115079590720322]}], \"balanced_accuracy\": [{\"categories\": [\"0\", \"1\", \"2\", \"3\", \"4\", \"5\", \"6\", \"7\", \"8\", \"9\", \"10\", \"11\", \"12\", \"13\", \"14\", \"15\", \"16\", \"17\", \"18\", \"19\", \"20\", \"21\", \"22\", \"23\", \"24\", \"25\", \"26\", \"27\", \"28\", \"29\", \"30\", \"31\", \"32\", \"33\", \"38\", \"39\"], \"mode\": \"markers\", \"name\": \"balanced_accuracy\", \"stepped\": false, \"type\": \"scatter\", \"data\": [0.8077082895810014, 0.8130249020938379, 0.7904692800842688, 0.7845457079787743, 0.813251377372945, 0.8134780045469405, 0.6408432102159218, 0.6442499562476679, 0.785013547950905, 0.8124790867980227, 0.7999603913439726, 0.6548258314594128, 0.8123311155854062, 0.787006566564633, 0.7869737704769169, 0.7992019669562576, 0.810638899207835, 0.8063035276762394, 0.8172645030725695, 0.8095071398852862, 0.7647936289174846, 0.7631085639824198, 0.7670548633606414, 0.7560270344008903, 0.7804697700278365, 0.6507992098163722, 0.7958448240991147, 0.5944151922956271, 0.8059589161474173, 0.8237591657008133, 0.6042391774891774, 0.7237428799270904, 0.7466587082825642, 0.8037576810108273, 0.829358266796768, 0.8249773144158155]}, {\"categories\": [\"0\", \"1\", \"2\", \"3\", \"4\", \"5\", \"6\", \"7\", \"8\", \"9\", \"10\", \"11\", \"12\", \"13\", \"14\", \"15\", \"16\", \"17\", \"18\", \"19\", \"20\", \"21\", \"22\", \"23\", \"24\", \"25\", \"26\", \"27\", \"28\", \"29\", \"30\", \"31\", \"32\", \"33\", \"38\", \"39\"], \"mode\": \"lines\", \"name\": \"balanced_accuracy_max\", \"stepped\": true, \"type\": \"scatter\", \"data\": [0.8077082895810014, 0.8130249020938379, 0.8130249020938379, 0.8130249020938379, 0.813251377372945, 0.8134780045469405, 0.8134780045469405, 0.8134780045469405, 0.8134780045469405, 0.8134780045469405, 0.8134780045469405, 0.8134780045469405, 0.8134780045469405, 0.8134780045469405, 0.8134780045469405, 0.8134780045469405, 0.8134780045469405, 0.8134780045469405, 0.8172645030725695, 0.8172645030725695, 0.8172645030725695, 0.8172645030725695, 0.8172645030725695, 0.8172645030725695, 0.8172645030725695, 0.8172645030725695, 0.8172645030725695, 0.8172645030725695, 0.8172645030725695, 0.8237591657008133, 0.8237591657008133, 0.8237591657008133, 0.8237591657008133, 0.8237591657008133, 0.829358266796768, 0.829358266796768]}], \"weighted_accuracy\": [{\"categories\": [\"0\", \"1\", \"2\", \"3\", \"4\", \"5\", \"6\", \"7\", \"8\", \"9\", \"10\", \"11\", \"12\", \"13\", \"14\", \"15\", \"16\", \"17\", \"18\", \"19\", \"20\", \"21\", \"22\", \"23\", \"24\", \"25\", \"26\", \"27\", \"28\", \"29\", \"30\", \"31\", \"32\", \"33\", \"38\", \"39\"], \"mode\": \"markers\", \"name\": \"weighted_accuracy\", \"stepped\": false, \"type\": \"scatter\", \"data\": [0.8541321922200625, 0.8502962163535492, 0.8270599847460478, 0.8548070972548303, 0.8329904512399177, 0.8721105463957326, 0.8055639677829423, 0.7871484485244135, 0.8459653173983817, 0.8568964459979711, 0.8537749403572639, 0.7692682027808742, 0.8785866387534658, 0.8846201573595429, 0.8572318293313085, 0.8669339017794584, 0.8734514076072569, 0.8561244586124024, 0.8928926453591544, 0.8535480316158818, 0.8613850227996014, 0.87580944966903, 0.8471736340522312, 0.8700946692224327, 0.8756560262051872, 0.6374685152868695, 0.8685521836685911, 0.8257118481344199, 0.8613171490646818, 0.8154190656536521, 0.8128923563116155, 0.8532830096702548, 0.8715116333437019, 0.8512935904299848, 0.8954838047763145, 0.8816416606260905]}, {\"categories\": [\"0\", \"1\", \"2\", \"3\", \"4\", \"5\", \"6\", \"7\", \"8\", \"9\", \"10\", \"11\", \"12\", \"13\", \"14\", \"15\", \"16\", \"17\", \"18\", \"19\", \"20\", \"21\", \"22\", \"23\", \"24\", \"25\", \"26\", \"27\", \"28\", \"29\", \"30\", \"31\", \"32\", \"33\", \"38\", \"39\"], \"mode\": \"lines\", \"name\": \"weighted_accuracy_max\", \"stepped\": true, \"type\": \"scatter\", \"data\": [0.8541321922200625, 0.8541321922200625, 0.8541321922200625, 0.8548070972548303, 0.8548070972548303, 0.8721105463957326, 0.8721105463957326, 0.8721105463957326, 0.8721105463957326, 0.8721105463957326, 0.8721105463957326, 0.8721105463957326, 0.8785866387534658, 0.8846201573595429, 0.8846201573595429, 0.8846201573595429, 0.8846201573595429, 0.8846201573595429, 0.8928926453591544, 0.8928926453591544, 0.8928926453591544, 0.8928926453591544, 0.8928926453591544, 0.8928926453591544, 0.8928926453591544, 0.8928926453591544, 0.8928926453591544, 0.8928926453591544, 0.8928926453591544, 0.8928926453591544, 0.8928926453591544, 0.8928926453591544, 0.8928926453591544, 0.8928926453591544, 0.8954838047763145, 0.8954838047763145]}], \"f1_score_micro\": [{\"categories\": [\"0\", \"1\", \"2\", \"3\", \"4\", \"5\", \"6\", \"7\", \"8\", \"9\", \"10\", \"11\", \"12\", \"13\", \"14\", \"15\", \"16\", \"17\", \"18\", \"19\", \"20\", \"21\", \"22\", \"23\", \"24\", \"25\", \"26\", \"27\", \"28\", \"29\", \"30\", \"31\", \"32\", \"33\", \"38\", \"39\"], \"mode\": \"markers\", \"name\": \"f1_score_micro\", \"stepped\": false, \"type\": \"scatter\", \"data\": [0.8359770114942527, 0.8358620689655172, 0.8127586206896552, 0.8291954022988504, 0.825632183908046, 0.8493103448275864, 0.7393103448275863, 0.7291954022988507, 0.8228735632183908, 0.8394252873563218, 0.8328735632183909, 0.7221839080459771, 0.8527586206896551, 0.8462068965517242, 0.8293103448275861, 0.8393103448275863, 0.8495402298850575, 0.8360919540229885, 0.8629885057471265, 0.8362068965517242, 0.8226436781609194, 0.8331034482758621, 0.8162068965517243, 0.8262068965517241, 0.8395402298850575, 0.6422988505747126, 0.8393103448275863, 0.7358620689655173, 0.8393103448275863, 0.8189655172413793, 0.732528735632184, 0.8026436781609195, 0.8227586206896552, 0.8326436781609197, 0.8696551724137931, 0.859425287356322]}, {\"categories\": [\"0\", \"1\", \"2\", \"3\", \"4\", \"5\", \"6\", \"7\", \"8\", \"9\", \"10\", \"11\", \"12\", \"13\", \"14\", \"15\", \"16\", \"17\", \"18\", \"19\", \"20\", \"21\", \"22\", \"23\", \"24\", \"25\", \"26\", \"27\", \"28\", \"29\", \"30\", \"31\", \"32\", \"33\", \"38\", \"39\"], \"mode\": \"lines\", \"name\": \"f1_score_micro_max\", \"stepped\": true, \"type\": \"scatter\", \"data\": [0.8359770114942527, 0.8359770114942527, 0.8359770114942527, 0.8359770114942527, 0.8359770114942527, 0.8493103448275864, 0.8493103448275864, 0.8493103448275864, 0.8493103448275864, 0.8493103448275864, 0.8493103448275864, 0.8493103448275864, 0.8527586206896551, 0.8527586206896551, 0.8527586206896551, 0.8527586206896551, 0.8527586206896551, 0.8527586206896551, 0.8629885057471265, 0.8629885057471265, 0.8629885057471265, 0.8629885057471265, 0.8629885057471265, 0.8629885057471265, 0.8629885057471265, 0.8629885057471265, 0.8629885057471265, 0.8629885057471265, 0.8629885057471265, 0.8629885057471265, 0.8629885057471265, 0.8629885057471265, 0.8629885057471265, 0.8629885057471265, 0.8696551724137931, 0.8696551724137931]}], \"log_loss\": [{\"categories\": [\"0\", \"1\", \"2\", \"3\", \"4\", \"5\", \"6\", \"7\", \"8\", \"9\", \"10\", \"11\", \"12\", \"13\", \"14\", \"15\", \"16\", \"17\", \"18\", \"19\", \"20\", \"21\", \"22\", \"23\", \"24\", \"25\", \"26\", \"27\", \"28\", \"29\", \"30\", \"31\", \"32\", \"33\", \"38\", \"39\"], \"mode\": \"markers\", \"name\": \"log_loss\", \"stepped\": false, \"type\": \"scatter\", \"data\": [0.4772179826627182, 0.41764279466886123, 0.3884928650313237, 0.40132188927893, 0.381449867522406, 0.37561685659410826, 1.3006809621060935, 0.5781700693863907, 0.4113226523427646, 0.357861222117923, 0.412689902302552, 0.5274258109316456, 0.4091201167645959, 0.42624293413294956, 0.4509924561355497, 0.41916278548122055, 0.3964188793382829, 0.36204056532635104, 0.3962963260235943, 0.4182362547689416, 0.45853779779480364, 0.5230151187022564, 0.5039058311137053, 0.5061456218604579, 0.43327333587640726, 0.6909097811298122, 0.41860634754545883, 0.5141830605745976, 0.4630721184303791, 0.5478272957060737, 0.5294828449625109, 0.4569952585357953, 0.4643326429266845, 0.3605765674227098, 0.3884727281588379, 0.3786130130377916]}, {\"categories\": [\"0\", \"1\", \"2\", \"3\", \"4\", \"5\", \"6\", \"7\", \"8\", \"9\", \"10\", \"11\", \"12\", \"13\", \"14\", \"15\", \"16\", \"17\", \"18\", \"19\", \"20\", \"21\", \"22\", \"23\", \"24\", \"25\", \"26\", \"27\", \"28\", \"29\", \"30\", \"31\", \"32\", \"33\", \"38\", \"39\"], \"mode\": \"lines\", \"name\": \"log_loss_min\", \"stepped\": true, \"type\": \"scatter\", \"data\": [0.4772179826627182, 0.41764279466886123, 0.3884928650313237, 0.3884928650313237, 0.381449867522406, 0.37561685659410826, 0.37561685659410826, 0.37561685659410826, 0.37561685659410826, 0.357861222117923, 0.357861222117923, 0.357861222117923, 0.357861222117923, 0.357861222117923, 0.357861222117923, 0.357861222117923, 0.357861222117923, 0.357861222117923, 0.357861222117923, 0.357861222117923, 0.357861222117923, 0.357861222117923, 0.357861222117923, 0.357861222117923, 0.357861222117923, 0.357861222117923, 0.357861222117923, 0.357861222117923, 0.357861222117923, 0.357861222117923, 0.357861222117923, 0.357861222117923, 0.357861222117923, 0.357861222117923, 0.357861222117923, 0.357861222117923]}], \"f1_score_weighted\": [{\"categories\": [\"0\", \"1\", \"2\", \"3\", \"4\", \"5\", \"6\", \"7\", \"8\", \"9\", \"10\", \"11\", \"12\", \"13\", \"14\", \"15\", \"16\", \"17\", \"18\", \"19\", \"20\", \"21\", \"22\", \"23\", \"24\", \"25\", \"26\", \"27\", \"28\", \"29\", \"30\", \"31\", \"32\", \"33\", \"38\", \"39\"], \"mode\": \"markers\", \"name\": \"f1_score_weighted\", \"stepped\": false, \"type\": \"scatter\", \"data\": [0.8333388901455894, 0.8342588560383983, 0.8113879118439258, 0.8235290659422215, 0.8272877554625241, 0.8450935889875157, 0.706684560642662, 0.6934293249558736, 0.8182849428892383, 0.8358350483908644, 0.8280418148453291, 0.6989974418969079, 0.8476640267488319, 0.8357318121036776, 0.8228378700361446, 0.8323341032522762, 0.8444890292067422, 0.8317139038905852, 0.8555018400397983, 0.8330919162782356, 0.8099817042890736, 0.8210007234363339, 0.8083036760072249, 0.8149112006988377, 0.8314689642730556, 0.6551837433967871, 0.832414726095011, 0.6659544671846801, 0.8341644215726021, 0.8252627989359425, 0.6582321468896504, 0.7803166311449481, 0.8056964937961487, 0.8302553005822257, 0.8633877804474779, 0.8541437525329053]}, {\"categories\": [\"0\", \"1\", \"2\", \"3\", \"4\", \"5\", \"6\", \"7\", \"8\", \"9\", \"10\", \"11\", \"12\", \"13\", \"14\", \"15\", \"16\", \"17\", \"18\", \"19\", \"20\", \"21\", \"22\", \"23\", \"24\", \"25\", \"26\", \"27\", \"28\", \"29\", \"30\", \"31\", \"32\", \"33\", \"38\", \"39\"], \"mode\": \"lines\", \"name\": \"f1_score_weighted_max\", \"stepped\": true, \"type\": \"scatter\", \"data\": [0.8333388901455894, 0.8342588560383983, 0.8342588560383983, 0.8342588560383983, 0.8342588560383983, 0.8450935889875157, 0.8450935889875157, 0.8450935889875157, 0.8450935889875157, 0.8450935889875157, 0.8450935889875157, 0.8450935889875157, 0.8476640267488319, 0.8476640267488319, 0.8476640267488319, 0.8476640267488319, 0.8476640267488319, 0.8476640267488319, 0.8555018400397983, 0.8555018400397983, 0.8555018400397983, 0.8555018400397983, 0.8555018400397983, 0.8555018400397983, 0.8555018400397983, 0.8555018400397983, 0.8555018400397983, 0.8555018400397983, 0.8555018400397983, 0.8555018400397983, 0.8555018400397983, 0.8555018400397983, 0.8555018400397983, 0.8555018400397983, 0.8633877804474779, 0.8633877804474779]}], \"recall_score_weighted\": [{\"categories\": [\"0\", \"1\", \"2\", \"3\", \"4\", \"5\", \"6\", \"7\", \"8\", \"9\", \"10\", \"11\", \"12\", \"13\", \"14\", \"15\", \"16\", \"17\", \"18\", \"19\", \"20\", \"21\", \"22\", \"23\", \"24\", \"25\", \"26\", \"27\", \"28\", \"29\", \"30\", \"31\", \"32\", \"33\", \"38\", \"39\"], \"mode\": \"markers\", \"name\": \"recall_score_weighted\", \"stepped\": false, \"type\": \"scatter\", \"data\": [0.8359770114942527, 0.8358620689655172, 0.8127586206896552, 0.8291954022988504, 0.825632183908046, 0.849310344827586, 0.7393103448275863, 0.7291954022988507, 0.8228735632183908, 0.8394252873563218, 0.8328735632183909, 0.7221839080459771, 0.8527586206896551, 0.8462068965517242, 0.8293103448275861, 0.8393103448275863, 0.8495402298850575, 0.8360919540229885, 0.8629885057471265, 0.8362068965517242, 0.8226436781609194, 0.8331034482758621, 0.8162068965517243, 0.8262068965517241, 0.8395402298850575, 0.6422988505747126, 0.8393103448275863, 0.7358620689655173, 0.8393103448275863, 0.8189655172413793, 0.732528735632184, 0.8026436781609195, 0.8227586206896552, 0.8326436781609194, 0.8696551724137931, 0.859425287356322]}, {\"categories\": [\"0\", \"1\", \"2\", \"3\", \"4\", \"5\", \"6\", \"7\", \"8\", \"9\", \"10\", \"11\", \"12\", \"13\", \"14\", \"15\", \"16\", \"17\", \"18\", \"19\", \"20\", \"21\", \"22\", \"23\", \"24\", \"25\", \"26\", \"27\", \"28\", \"29\", \"30\", \"31\", \"32\", \"33\", \"38\", \"39\"], \"mode\": \"lines\", \"name\": \"recall_score_weighted_max\", \"stepped\": true, \"type\": \"scatter\", \"data\": [0.8359770114942527, 0.8359770114942527, 0.8359770114942527, 0.8359770114942527, 0.8359770114942527, 0.849310344827586, 0.849310344827586, 0.849310344827586, 0.849310344827586, 0.849310344827586, 0.849310344827586, 0.849310344827586, 0.8527586206896551, 0.8527586206896551, 0.8527586206896551, 0.8527586206896551, 0.8527586206896551, 0.8527586206896551, 0.8629885057471265, 0.8629885057471265, 0.8629885057471265, 0.8629885057471265, 0.8629885057471265, 0.8629885057471265, 0.8629885057471265, 0.8629885057471265, 0.8629885057471265, 0.8629885057471265, 0.8629885057471265, 0.8629885057471265, 0.8629885057471265, 0.8629885057471265, 0.8629885057471265, 0.8629885057471265, 0.8696551724137931, 0.8696551724137931]}], \"f1_score_macro\": [{\"categories\": [\"0\", \"1\", \"2\", \"3\", \"4\", \"5\", \"6\", \"7\", \"8\", \"9\", \"10\", \"11\", \"12\", \"13\", \"14\", \"15\", \"16\", \"17\", \"18\", \"19\", \"20\", \"21\", \"22\", \"23\", \"24\", \"25\", \"26\", \"27\", \"28\", \"29\", \"30\", \"31\", \"32\", \"33\", \"38\", \"39\"], \"mode\": \"markers\", \"name\": \"f1_score_macro\", \"stepped\": false, \"type\": \"scatter\", \"data\": [0.8043314151248963, 0.8078501228997539, 0.7820629934916096, 0.786238583375038, 0.7981645570795388, 0.8149876716277371, 0.6347124845213103, 0.6268211403867445, 0.7844731356932927, 0.8055133507220853, 0.7985142741080727, 0.6384410091966651, 0.8182110805605284, 0.8042580976736836, 0.7897716503362009, 0.800592919675218, 0.8139218100656445, 0.8021471291394537, 0.8320049506908761, 0.8062936525373925, 0.7728404384842704, 0.7830451555584783, 0.7760619889861713, 0.7757918730447664, 0.7978571152341175, 0.615360919265616, 0.8012883076904815, 0.5658140930065483, 0.8026096581295047, 0.7957719023127757, 0.563202711828721, 0.7335658587307311, 0.7601091329803753, 0.8000364032412417, 0.8410298684858167, 0.8277229486822361]}, {\"categories\": [\"0\", \"1\", \"2\", \"3\", \"4\", \"5\", \"6\", \"7\", \"8\", \"9\", \"10\", \"11\", \"12\", \"13\", \"14\", \"15\", \"16\", \"17\", \"18\", \"19\", \"20\", \"21\", \"22\", \"23\", \"24\", \"25\", \"26\", \"27\", \"28\", \"29\", \"30\", \"31\", \"32\", \"33\", \"38\", \"39\"], \"mode\": \"lines\", \"name\": \"f1_score_macro_max\", \"stepped\": true, \"type\": \"scatter\", \"data\": [0.8043314151248963, 0.8078501228997539, 0.8078501228997539, 0.8078501228997539, 0.8078501228997539, 0.8149876716277371, 0.8149876716277371, 0.8149876716277371, 0.8149876716277371, 0.8149876716277371, 0.8149876716277371, 0.8149876716277371, 0.8182110805605284, 0.8182110805605284, 0.8182110805605284, 0.8182110805605284, 0.8182110805605284, 0.8182110805605284, 0.8320049506908761, 0.8320049506908761, 0.8320049506908761, 0.8320049506908761, 0.8320049506908761, 0.8320049506908761, 0.8320049506908761, 0.8320049506908761, 0.8320049506908761, 0.8320049506908761, 0.8320049506908761, 0.8320049506908761, 0.8320049506908761, 0.8320049506908761, 0.8320049506908761, 0.8320049506908761, 0.8410298684858167, 0.8410298684858167]}], \"average_precision_score_micro\": [{\"categories\": [\"0\", \"1\", \"2\", \"3\", \"4\", \"5\", \"6\", \"7\", \"8\", \"9\", \"10\", \"11\", \"12\", \"13\", \"14\", \"15\", \"16\", \"17\", \"18\", \"19\", \"20\", \"21\", \"22\", \"23\", \"24\", \"25\", \"26\", \"27\", \"28\", \"29\", \"30\", \"31\", \"32\", \"33\", \"38\", \"39\"], \"mode\": \"markers\", \"name\": \"average_precision_score_micro\", \"stepped\": false, \"type\": \"scatter\", \"data\": [0.9020054536251629, 0.9033793522124445, 0.9005720548290206, 0.9041093132961828, 0.9088756833215268, 0.9104175983932355, 0.7870227291425151, 0.7854583939264445, 0.895111815566743, 0.9232400173917465, 0.9019692978998345, 0.8226473060344567, 0.9086787143945936, 0.896455689163114, 0.8905441744626564, 0.9100085270296232, 0.9015291478498986, 0.9154521769506181, 0.9144222945443939, 0.8969673089031585, 0.8974845578120805, 0.8819667353190452, 0.8920453119651401, 0.8724569354642544, 0.8881132139418128, 0.6762218973420986, 0.907380079578538, 0.8589388718276755, 0.8950673049215215, 0.8974652516166646, 0.8272642948028274, 0.8776105133940522, 0.8947040310707111, 0.9162690727702019, 0.9202769030825475, 0.9175369384043457]}, {\"categories\": [\"0\", \"1\", \"2\", \"3\", \"4\", \"5\", \"6\", \"7\", \"8\", \"9\", \"10\", \"11\", \"12\", \"13\", \"14\", \"15\", \"16\", \"17\", \"18\", \"19\", \"20\", \"21\", \"22\", \"23\", \"24\", \"25\", \"26\", \"27\", \"28\", \"29\", \"30\", \"31\", \"32\", \"33\", \"38\", \"39\"], \"mode\": \"lines\", \"name\": \"average_precision_score_micro_max\", \"stepped\": true, \"type\": \"scatter\", \"data\": [0.9020054536251629, 0.9033793522124445, 0.9033793522124445, 0.9041093132961828, 0.9088756833215268, 0.9104175983932355, 0.9104175983932355, 0.9104175983932355, 0.9104175983932355, 0.9232400173917465, 0.9232400173917465, 0.9232400173917465, 0.9232400173917465, 0.9232400173917465, 0.9232400173917465, 0.9232400173917465, 0.9232400173917465, 0.9232400173917465, 0.9232400173917465, 0.9232400173917465, 0.9232400173917465, 0.9232400173917465, 0.9232400173917465, 0.9232400173917465, 0.9232400173917465, 0.9232400173917465, 0.9232400173917465, 0.9232400173917465, 0.9232400173917465, 0.9232400173917465, 0.9232400173917465, 0.9232400173917465, 0.9232400173917465, 0.9232400173917465, 0.9232400173917465, 0.9232400173917465]}], \"AUC_micro\": [{\"categories\": [\"0\", \"1\", \"2\", \"3\", \"4\", \"5\", \"6\", \"7\", \"8\", \"9\", \"10\", \"11\", \"12\", \"13\", \"14\", \"15\", \"16\", \"17\", \"18\", \"19\", \"20\", \"21\", \"22\", \"23\", \"24\", \"25\", \"26\", \"27\", \"28\", \"29\", \"30\", \"31\", \"32\", \"33\", \"38\", \"39\"], \"mode\": \"markers\", \"name\": \"AUC_micro\", \"stepped\": false, \"type\": \"scatter\", \"data\": [0.9035422116527941, 0.9042166732725592, 0.9004505218655041, 0.9021387237415774, 0.907014004492007, 0.9097644338750165, 0.7896261064869863, 0.7930959175584621, 0.8925694279297133, 0.9193569824283262, 0.898694147179284, 0.8165881226053641, 0.9070412207689259, 0.8953180076628353, 0.8912654247588849, 0.9062068965517242, 0.9005986259743691, 0.9150899722552517, 0.9114836834456334, 0.8939495309816357, 0.8919398863786497, 0.8883432421720174, 0.8949203329369798, 0.8774056017968027, 0.8885206764433875, 0.6738134495970407, 0.9027644338750165, 0.8479184832870921, 0.8984388954947814, 0.8949400184964988, 0.8249672347734179, 0.8734642621218127, 0.8878599550799313, 0.9138443651737351, 0.919546043070419, 0.917403752146915]}, {\"categories\": [\"0\", \"1\", \"2\", \"3\", \"4\", \"5\", \"6\", \"7\", \"8\", \"9\", \"10\", \"11\", \"12\", \"13\", \"14\", \"15\", \"16\", \"17\", \"18\", \"19\", \"20\", \"21\", \"22\", \"23\", \"24\", \"25\", \"26\", \"27\", \"28\", \"29\", \"30\", \"31\", \"32\", \"33\", \"38\", \"39\"], \"mode\": \"lines\", \"name\": \"AUC_micro_max\", \"stepped\": true, \"type\": \"scatter\", \"data\": [0.9035422116527941, 0.9042166732725592, 0.9042166732725592, 0.9042166732725592, 0.907014004492007, 0.9097644338750165, 0.9097644338750165, 0.9097644338750165, 0.9097644338750165, 0.9193569824283262, 0.9193569824283262, 0.9193569824283262, 0.9193569824283262, 0.9193569824283262, 0.9193569824283262, 0.9193569824283262, 0.9193569824283262, 0.9193569824283262, 0.9193569824283262, 0.9193569824283262, 0.9193569824283262, 0.9193569824283262, 0.9193569824283262, 0.9193569824283262, 0.9193569824283262, 0.9193569824283262, 0.9193569824283262, 0.9193569824283262, 0.9193569824283262, 0.9193569824283262, 0.9193569824283262, 0.9193569824283262, 0.9193569824283262, 0.9193569824283262, 0.919546043070419, 0.919546043070419]}], \"precision_score_macro\": [{\"categories\": [\"0\", \"1\", \"2\", \"3\", \"4\", \"5\", \"6\", \"7\", \"8\", \"9\", \"10\", \"11\", \"12\", \"13\", \"14\", \"15\", \"16\", \"17\", \"18\", \"19\", \"20\", \"21\", \"22\", \"23\", \"24\", \"25\", \"26\", \"27\", \"28\", \"29\", \"30\", \"31\", \"32\", \"33\", \"38\", \"39\"], \"mode\": \"markers\", \"name\": \"precision_score_macro\", \"stepped\": false, \"type\": \"scatter\", \"data\": [0.8167365852764965, 0.8232986049897815, 0.7930534153967658, 0.8137682273866483, 0.8023731203007518, 0.8369284145805885, 0.7075286050503442, 0.7179732244683518, 0.8098152219970096, 0.8237109056402534, 0.8302320007731906, 0.7031291727596075, 0.8476781111942305, 0.8720865185539098, 0.8206159767006449, 0.8366777806592385, 0.8451538107313784, 0.8214148678679571, 0.884361478338595, 0.8208112856094415, 0.8236542443064183, 0.8594646935190413, 0.8316246869072955, 0.8457606640541423, 0.8487330419813258, 0.630616958879427, 0.8347272430087076, 0.7945839262908228, 0.82479852876592, 0.7939554517979441, 0.6052145137748586, 0.829479990621295, 0.8426351462970455, 0.8133319027893332, 0.8869885887694812, 0.856751176359872]}, {\"categories\": [\"0\", \"1\", \"2\", \"3\", \"4\", \"5\", \"6\", \"7\", \"8\", \"9\", \"10\", \"11\", \"12\", \"13\", \"14\", \"15\", \"16\", \"17\", \"18\", \"19\", \"20\", \"21\", \"22\", \"23\", \"24\", \"25\", \"26\", \"27\", \"28\", \"29\", \"30\", \"31\", \"32\", \"33\", \"38\", \"39\"], \"mode\": \"lines\", \"name\": \"precision_score_macro_max\", \"stepped\": true, \"type\": \"scatter\", \"data\": [0.8167365852764965, 0.8232986049897815, 0.8232986049897815, 0.8232986049897815, 0.8232986049897815, 0.8369284145805885, 0.8369284145805885, 0.8369284145805885, 0.8369284145805885, 0.8369284145805885, 0.8369284145805885, 0.8369284145805885, 0.8476781111942305, 0.8720865185539098, 0.8720865185539098, 0.8720865185539098, 0.8720865185539098, 0.8720865185539098, 0.884361478338595, 0.884361478338595, 0.884361478338595, 0.884361478338595, 0.884361478338595, 0.884361478338595, 0.884361478338595, 0.884361478338595, 0.884361478338595, 0.884361478338595, 0.884361478338595, 0.884361478338595, 0.884361478338595, 0.884361478338595, 0.884361478338595, 0.884361478338595, 0.8869885887694812, 0.8869885887694812]}], \"norm_macro_recall\": [{\"categories\": [\"0\", \"1\", \"2\", \"3\", \"4\", \"5\", \"6\", \"7\", \"8\", \"9\", \"10\", \"11\", \"12\", \"13\", \"14\", \"15\", \"16\", \"17\", \"18\", \"19\", \"20\", \"21\", \"22\", \"23\", \"24\", \"25\", \"26\", \"27\", \"28\", \"29\", \"30\", \"31\", \"32\", \"33\", \"38\", \"39\"], \"mode\": \"markers\", \"name\": \"norm_macro_recall\", \"stepped\": false, \"type\": \"scatter\", \"data\": [0.6154165791620023, 0.626049804187676, 0.5809385601685373, 0.5690914159575486, 0.6265027547458898, 0.6269560090938808, 0.293648142919882, 0.30046163498337414, 0.5700270959018099, 0.6249581735960456, 0.5999207826879452, 0.3125224763159546, 0.6246622311708123, 0.5740131331292659, 0.5739475409538338, 0.598403933912515, 0.6212777984156702, 0.6126070553524786, 0.6345290061451389, 0.6190142797705727, 0.5295872578349694, 0.5262171279648397, 0.5341097267212829, 0.5120540688017805, 0.5609395400556728, 0.32213413391845885, 0.5916896481982293, 0.18883038459125417, 0.6119178322948345, 0.6475183314016266, 0.20847835497835496, 0.4474857598541808, 0.4933174165651281, 0.6075153620216549, 0.6587165335935359, 0.6499546288316311]}, {\"categories\": [\"0\", \"1\", \"2\", \"3\", \"4\", \"5\", \"6\", \"7\", \"8\", \"9\", \"10\", \"11\", \"12\", \"13\", \"14\", \"15\", \"16\", \"17\", \"18\", \"19\", \"20\", \"21\", \"22\", \"23\", \"24\", \"25\", \"26\", \"27\", \"28\", \"29\", \"30\", \"31\", \"32\", \"33\", \"38\", \"39\"], \"mode\": \"lines\", \"name\": \"norm_macro_recall_max\", \"stepped\": true, \"type\": \"scatter\", \"data\": [0.6154165791620023, 0.626049804187676, 0.626049804187676, 0.626049804187676, 0.6265027547458898, 0.6269560090938808, 0.6269560090938808, 0.6269560090938808, 0.6269560090938808, 0.6269560090938808, 0.6269560090938808, 0.6269560090938808, 0.6269560090938808, 0.6269560090938808, 0.6269560090938808, 0.6269560090938808, 0.6269560090938808, 0.6269560090938808, 0.6345290061451389, 0.6345290061451389, 0.6345290061451389, 0.6345290061451389, 0.6345290061451389, 0.6345290061451389, 0.6345290061451389, 0.6345290061451389, 0.6345290061451389, 0.6345290061451389, 0.6345290061451389, 0.6475183314016266, 0.6475183314016266, 0.6475183314016266, 0.6475183314016266, 0.6475183314016266, 0.6587165335935359, 0.6587165335935359]}], \"average_precision_score_weighted\": [{\"categories\": [\"0\", \"1\", \"2\", \"3\", \"4\", \"5\", \"6\", \"7\", \"8\", \"9\", \"10\", \"11\", \"12\", \"13\", \"14\", \"15\", \"16\", \"17\", \"18\", \"19\", \"20\", \"21\", \"22\", \"23\", \"24\", \"25\", \"26\", \"27\", \"28\", \"29\", \"30\", \"31\", \"32\", \"33\", \"38\", \"39\"], \"mode\": \"markers\", \"name\": \"average_precision_score_weighted\", \"stepped\": false, \"type\": \"scatter\", \"data\": [0.9061112830231934, 0.907154018724502, 0.9049291946829495, 0.9106605671892455, 0.9181806019705588, 0.9132710190810599, 0.7793513201701203, 0.7902984708289256, 0.9006152166437232, 0.9281322915230874, 0.9042677325897064, 0.8266773551675792, 0.9151074867679279, 0.9086279909676216, 0.89933312883859, 0.9185264340158863, 0.9060660336140408, 0.9149138494864453, 0.9175828337671328, 0.9051350361494794, 0.916358520578126, 0.894761696592598, 0.9002345506965792, 0.8805846193007794, 0.8945988572874958, 0.7463688375662075, 0.9128433838735328, 0.8966962535727994, 0.8970735335670106, 0.9093689216329492, 0.8342673269711097, 0.8910526567414232, 0.9113621541073096, 0.92090932462135, 0.9240107185451883, 0.924056109427893]}, {\"categories\": [\"0\", \"1\", \"2\", \"3\", \"4\", \"5\", \"6\", \"7\", \"8\", \"9\", \"10\", \"11\", \"12\", \"13\", \"14\", \"15\", \"16\", \"17\", \"18\", \"19\", \"20\", \"21\", \"22\", \"23\", \"24\", \"25\", \"26\", \"27\", \"28\", \"29\", \"30\", \"31\", \"32\", \"33\", \"38\", \"39\"], \"mode\": \"lines\", \"name\": \"average_precision_score_weighted_max\", \"stepped\": true, \"type\": \"scatter\", \"data\": [0.9061112830231934, 0.907154018724502, 0.907154018724502, 0.9106605671892455, 0.9181806019705588, 0.9181806019705588, 0.9181806019705588, 0.9181806019705588, 0.9181806019705588, 0.9281322915230874, 0.9281322915230874, 0.9281322915230874, 0.9281322915230874, 0.9281322915230874, 0.9281322915230874, 0.9281322915230874, 0.9281322915230874, 0.9281322915230874, 0.9281322915230874, 0.9281322915230874, 0.9281322915230874, 0.9281322915230874, 0.9281322915230874, 0.9281322915230874, 0.9281322915230874, 0.9281322915230874, 0.9281322915230874, 0.9281322915230874, 0.9281322915230874, 0.9281322915230874, 0.9281322915230874, 0.9281322915230874, 0.9281322915230874, 0.9281322915230874, 0.9281322915230874, 0.9281322915230874]}]}, \"metricName\": null, \"primaryMetricName\": \"accuracy\", \"showLegend\": false}, \"run_metrics\": [{\"name\": \"experiment_status\", \"run_id\": \"AutoML_1997416e-92ca-40de-85ee-6cb021542604\", \"categories\": [0, 1, 2, 3, 4, 5, 6, 7, 8, 9, 10, 11, 12, 13], \"series\": [{\"data\": [\"DatasetEvaluation\", \"FeaturesGeneration\", \"DatasetFeaturization\", \"DatasetFeaturizationCompleted\", \"DatasetCrossValidationSplit\", \"ModelSelection\", \"BestRunExplainModel\", \"ModelExplanationDataSetSetup\", \"PickSurrogateModel\", \"EngineeredFeatureExplanations\", \"EngineeredFeatureExplanations\", \"RawFeaturesExplanations\", \"RawFeaturesExplanations\", \"BestRunExplainModel\"]}]}, {\"name\": \"experiment_status_description\", \"run_id\": \"AutoML_1997416e-92ca-40de-85ee-6cb021542604\", \"categories\": [0, 1, 2, 3, 4, 5, 6, 7, 8, 9, 10, 11, 12, 13], \"series\": [{\"data\": [\"Gathering dataset statistics.\", \"Generating features for the dataset.\", \"Beginning to fit featurizers and featurize the dataset.\", \"Completed fit featurizers and featurizing the dataset.\", \"Generating individually featurized CV splits.\", \"Beginning model selection.\", \"Best run model explanations started\", \"Model explanations data setup completed\", \"Choosing LightGBM as the surrogate model for explanations\", \"Computation of engineered features started\", \"Computation of engineered features completed\", \"Computation of raw features started\", \"Computation of raw features completed\", \"Best run model explanations completed\"]}]}, {\"name\": \"recall_score_weighted\", \"run_id\": \"AutoML_1997416e-92ca-40de-85ee-6cb021542604\", \"categories\": [0], \"series\": [{\"data\": [0.8696551724137931]}]}, {\"name\": \"recall_score_micro\", \"run_id\": \"AutoML_1997416e-92ca-40de-85ee-6cb021542604\", \"categories\": [0], \"series\": [{\"data\": [0.8696551724137931]}]}, {\"name\": \"weighted_accuracy\", \"run_id\": \"AutoML_1997416e-92ca-40de-85ee-6cb021542604\", \"categories\": [0], \"series\": [{\"data\": [0.8954838047763145]}]}, {\"name\": \"f1_score_macro\", \"run_id\": \"AutoML_1997416e-92ca-40de-85ee-6cb021542604\", \"categories\": [0], \"series\": [{\"data\": [0.8410298684858167]}]}, {\"name\": \"AUC_weighted\", \"run_id\": \"AutoML_1997416e-92ca-40de-85ee-6cb021542604\", \"categories\": [0], \"series\": [{\"data\": [0.9105738158252461]}]}, {\"name\": \"precision_score_micro\", \"run_id\": \"AutoML_1997416e-92ca-40de-85ee-6cb021542604\", \"categories\": [0], \"series\": [{\"data\": [0.8696551724137931]}]}, {\"name\": \"precision_score_macro\", \"run_id\": \"AutoML_1997416e-92ca-40de-85ee-6cb021542604\", \"categories\": [0], \"series\": [{\"data\": [0.8869885887694812]}]}, {\"name\": \"norm_macro_recall\", \"run_id\": \"AutoML_1997416e-92ca-40de-85ee-6cb021542604\", \"categories\": [0], \"series\": [{\"data\": [0.6587165335935359]}]}, {\"name\": \"average_precision_score_macro\", \"run_id\": \"AutoML_1997416e-92ca-40de-85ee-6cb021542604\", \"categories\": [0], \"series\": [{\"data\": [0.9023428485902094]}]}, {\"name\": \"f1_score_micro\", \"run_id\": \"AutoML_1997416e-92ca-40de-85ee-6cb021542604\", \"categories\": [0], \"series\": [{\"data\": [0.8696551724137931]}]}, {\"name\": \"AUC_macro\", \"run_id\": \"AutoML_1997416e-92ca-40de-85ee-6cb021542604\", \"categories\": [0], \"series\": [{\"data\": [0.9105738158252461]}]}, {\"name\": \"matthews_correlation\", \"run_id\": \"AutoML_1997416e-92ca-40de-85ee-6cb021542604\", \"categories\": [0], \"series\": [{\"data\": [0.7117967256622404]}]}, {\"name\": \"recall_score_macro\", \"run_id\": \"AutoML_1997416e-92ca-40de-85ee-6cb021542604\", \"categories\": [0], \"series\": [{\"data\": [0.829358266796768]}]}, {\"name\": \"average_precision_score_micro\", \"run_id\": \"AutoML_1997416e-92ca-40de-85ee-6cb021542604\", \"categories\": [0], \"series\": [{\"data\": [0.9202769030825475]}]}, {\"name\": \"log_loss\", \"run_id\": \"AutoML_1997416e-92ca-40de-85ee-6cb021542604\", \"categories\": [0], \"series\": [{\"data\": [0.3884727281588379]}]}, {\"name\": \"f1_score_weighted\", \"run_id\": \"AutoML_1997416e-92ca-40de-85ee-6cb021542604\", \"categories\": [0], \"series\": [{\"data\": [0.8633877804474779]}]}, {\"name\": \"average_precision_score_weighted\", \"run_id\": \"AutoML_1997416e-92ca-40de-85ee-6cb021542604\", \"categories\": [0], \"series\": [{\"data\": [0.9240107185451883]}]}, {\"name\": \"AUC_micro\", \"run_id\": \"AutoML_1997416e-92ca-40de-85ee-6cb021542604\", \"categories\": [0], \"series\": [{\"data\": [0.919546043070419]}]}, {\"name\": \"accuracy\", \"run_id\": \"AutoML_1997416e-92ca-40de-85ee-6cb021542604\", \"categories\": [0], \"series\": [{\"data\": [0.8696551724137931]}]}, {\"name\": \"precision_score_weighted\", \"run_id\": \"AutoML_1997416e-92ca-40de-85ee-6cb021542604\", \"categories\": [0], \"series\": [{\"data\": [0.8852340077463765]}]}, {\"name\": \"balanced_accuracy\", \"run_id\": \"AutoML_1997416e-92ca-40de-85ee-6cb021542604\", \"categories\": [0], \"series\": [{\"data\": [0.829358266796768]}]}], \"run_logs\": \"\\nRun is completed.\", \"graph\": {}, \"widget_settings\": {\"childWidgetDisplay\": \"popup\", \"send_telemetry\": false, \"log_level\": \"INFO\", \"sdk_version\": \"1.30.0\"}, \"loading\": false}"
          },
          "metadata": {}
        }
      ],
      "execution_count": 7,
      "metadata": {
        "gather": {
          "logged": 1624975412610
        },
        "jupyter": {
          "outputs_hidden": false,
          "source_hidden": false
        },
        "nteract": {
          "transient": {
            "deleting": false
          }
        }
      }
    },
    {
      "cell_type": "code",
      "source": [
        "# waiting for the run \r\n",
        "\r\n",
        "remote_run.wait_for_completion(show_output=True)"
      ],
      "outputs": [
        {
          "output_type": "display_data",
          "data": {
            "text/plain": "<IPython.core.display.HTML object>",
            "text/html": "<table style=\"width:100%\"><tr><th>Experiment</th><th>Id</th><th>Type</th><th>Status</th><th>Details Page</th><th>Docs Page</th></tr><tr><td>CapstoneProject</td><td>AutoML_1997416e-92ca-40de-85ee-6cb021542604</td><td>automl</td><td>Completed</td><td><a href=\"https://ml.azure.com/runs/AutoML_1997416e-92ca-40de-85ee-6cb021542604?wsid=/subscriptions/6971f5ac-8af1-446e-8034-05acea24681f/resourcegroups/aml-quickstarts-148168/workspaces/quick-starts-ws-148168&amp;tid=660b3398-b80e-49d2-bc5b-ac1dc93b5254\" target=\"_blank\" rel=\"noopener\">Link to Azure Machine Learning studio</a></td><td><a href=\"https://docs.microsoft.com/en-us/python/api/overview/azure/ml/intro?view=azure-ml-py\" target=\"_blank\" rel=\"noopener\">Link to Documentation</a></td></tr></table>"
          },
          "metadata": {}
        },
        {
          "output_type": "stream",
          "name": "stdout",
          "text": [
            "\n",
            "\n",
            "****************************************************************************************************\n",
            "DATA GUARDRAILS: \n",
            "\n",
            "TYPE:         Cross validation\n",
            "STATUS:       DONE\n",
            "DESCRIPTION:  Each iteration of the trained model was validated through cross-validation.\n",
            "              \n",
            "DETAILS:      \n",
            "+---------------------------------+\n",
            "|Number of folds                  |\n",
            "+=================================+\n",
            "|10                               |\n",
            "+---------------------------------+\n",
            "\n",
            "****************************************************************************************************\n",
            "\n",
            "TYPE:         Class balancing detection\n",
            "STATUS:       PASSED\n",
            "DESCRIPTION:  Your inputs were analyzed, and all classes are balanced in your training data.\n",
            "              Learn more about imbalanced data: https://aka.ms/AutomatedMLImbalancedData\n",
            "\n",
            "****************************************************************************************************\n",
            "\n",
            "TYPE:         Missing feature values imputation\n",
            "STATUS:       PASSED\n",
            "DESCRIPTION:  No feature missing values were detected in the training data.\n",
            "              Learn more about missing value imputation: https://aka.ms/AutomatedMLFeaturization\n",
            "\n",
            "****************************************************************************************************\n",
            "\n",
            "TYPE:         High cardinality feature detection\n",
            "STATUS:       PASSED\n",
            "DESCRIPTION:  Your inputs were analyzed, and no high cardinality features were detected.\n",
            "              Learn more about high cardinality feature handling: https://aka.ms/AutomatedMLFeaturization\n",
            "\n",
            "****************************************************************************************************\n",
            "\n",
            "****************************************************************************************************\n",
            "ITERATION: The iteration being evaluated.\n",
            "PIPELINE: A summary description of the pipeline being evaluated.\n",
            "DURATION: Time taken for the current iteration.\n",
            "METRIC: The result of computing score on the fitted pipeline.\n",
            "BEST: The best observed score thus far.\n",
            "****************************************************************************************************\n",
            "\n",
            " ITERATION   PIPELINE                                       DURATION      METRIC      BEST\n",
            "         0   MaxAbsScaler LightGBM                          0:00:37       0.8360    0.8360\n",
            "         1   MaxAbsScaler XGBoostClassifier                 0:01:36       0.8359    0.8360\n",
            "         2   MinMaxScaler RandomForest                      0:00:48       0.8128    0.8360\n",
            "         3   MinMaxScaler RandomForest                      0:00:31       0.8292    0.8360\n",
            "         4   MinMaxScaler RandomForest                      0:00:37       0.8256    0.8360\n",
            "         5   StandardScalerWrapper XGBoostClassifier        0:01:46       0.8493    0.8493\n",
            "         6   StandardScalerWrapper KNN                      0:01:40       0.7393    0.8493\n",
            "         7   MinMaxScaler SVM                               0:01:49       0.7292    0.8493\n",
            "         8   SparseNormalizer XGBoostClassifier             0:00:38       0.8229    0.8493\n",
            "         9   MaxAbsScaler GradientBoosting                  0:00:35       0.8394    0.8493\n",
            "        10   SparseNormalizer LightGBM                      0:00:37       0.8329    0.8493\n",
            "        11   RobustScaler SVM                               0:00:37       0.7222    0.8493\n",
            "        12   StandardScalerWrapper RandomForest             0:00:40       0.8528    0.8528\n",
            "        13   MaxAbsScaler ExtremeRandomTrees                0:00:47       0.8462    0.8528\n",
            "        14   MaxAbsScaler LightGBM                          0:00:35       0.8293    0.8528\n",
            "        15   MaxAbsScaler LightGBM                          0:00:37       0.8393    0.8528\n",
            "        16   SparseNormalizer XGBoostClassifier             0:00:40       0.8495    0.8528\n",
            "        17   StandardScalerWrapper RandomForest             0:00:41       0.8361    0.8528\n",
            "        18   RobustScaler ExtremeRandomTrees                0:00:40       0.8630    0.8630\n",
            "        19   SparseNormalizer XGBoostClassifier             0:00:38       0.8362    0.8630\n",
            "        20   StandardScalerWrapper LightGBM                 0:00:38       0.8226    0.8630\n",
            "        21   SparseNormalizer XGBoostClassifier             0:00:38       0.8331    0.8630\n",
            "        22   MaxAbsScaler ExtremeRandomTrees                0:00:41       0.8162    0.8630\n",
            "        23   SparseNormalizer XGBoostClassifier             0:00:41       0.8262    0.8630\n",
            "        24   SparseNormalizer XGBoostClassifier             0:00:37       0.8395    0.8630\n",
            "        25   SparseNormalizer ExtremeRandomTrees            0:00:38       0.6423    0.8630\n",
            "        26   StandardScalerWrapper LightGBM                 0:00:38       0.8393    0.8630\n",
            "        27   StandardScalerWrapper LightGBM                 0:00:41       0.7359    0.8630\n",
            "        28   StandardScalerWrapper XGBoostClassifier        0:00:36       0.8393    0.8630\n",
            "        29   MaxAbsScaler RandomForest                      0:00:45       0.8190    0.8630\n",
            "        30   SparseNormalizer ExtremeRandomTrees            0:00:35       0.7325    0.8630\n",
            "        31   MinMaxScaler LightGBM                          0:00:37       0.8026    0.8630\n",
            "        32   MaxAbsScaler LightGBM                          0:00:41       0.8228    0.8630\n",
            "        33   MinMaxScaler RandomForest                      0:00:38       0.8326    0.8630\n",
            "        34                                                  0:00:10          nan    0.8630\n",
            "        35                                                  0:00:10          nan    0.8630\n",
            "        36                                                  0:00:19          nan    0.8630\n",
            "        37                                                  0:00:14          nan    0.8630\n",
            "        38    VotingEnsemble                                0:01:03       0.8697    0.8697\n",
            "        39    StackEnsemble                                 0:00:59       0.8594    0.8697\n"
          ]
        },
        {
          "output_type": "execute_result",
          "execution_count": 8,
          "data": {
            "text/plain": "{'runId': 'AutoML_1997416e-92ca-40de-85ee-6cb021542604',\n 'target': 'CapstoneAML',\n 'status': 'Completed',\n 'startTimeUtc': '2021-06-29T13:49:36.095641Z',\n 'endTimeUtc': '2021-06-29T14:03:08.144839Z',\n 'properties': {'num_iterations': '1000',\n  'training_type': 'TrainFull',\n  'acquisition_function': 'EI',\n  'primary_metric': 'accuracy',\n  'train_split': '0',\n  'acquisition_parameter': '0',\n  'num_cross_validation': None,\n  'target': 'CapstoneAML',\n  'AMLSettingsJsonString': '{\"path\":null,\"name\":\"CapstoneProject\",\"subscription_id\":\"6971f5ac-8af1-446e-8034-05acea24681f\",\"resource_group\":\"aml-quickstarts-148168\",\"workspace_name\":\"quick-starts-ws-148168\",\"region\":\"southcentralus\",\"compute_target\":\"CapstoneAML\",\"spark_service\":null,\"azure_service\":\"remote\",\"many_models\":false,\"pipeline_fetch_max_batch_size\":1,\"enable_batch_run\":false,\"enable_run_restructure\":false,\"start_auxiliary_runs_before_parent_complete\":false,\"enable_code_generation\":false,\"iterations\":1000,\"primary_metric\":\"accuracy\",\"task_type\":\"classification\",\"data_script\":null,\"test_size\":0.0,\"validation_size\":0.0,\"n_cross_validations\":null,\"y_min\":null,\"y_max\":null,\"num_classes\":null,\"featurization\":\"auto\",\"_ignore_package_version_incompatibilities\":false,\"is_timeseries\":false,\"max_cores_per_iteration\":1,\"max_concurrent_iterations\":5,\"iteration_timeout_minutes\":null,\"mem_in_mb\":null,\"enforce_time_on_windows\":false,\"experiment_timeout_minutes\":20,\"experiment_exit_score\":null,\"whitelist_models\":null,\"blacklist_algos\":[\"TensorFlowLinearClassifier\",\"TensorFlowDNN\"],\"supported_models\":[\"RandomForest\",\"ExtremeRandomTrees\",\"LinearSVM\",\"SVM\",\"DecisionTree\",\"MultinomialNaiveBayes\",\"TensorFlowDNN\",\"GradientBoosting\",\"SGD\",\"LogisticRegression\",\"BernoulliNaiveBayes\",\"LightGBM\",\"AveragedPerceptronClassifier\",\"TensorFlowLinearClassifier\",\"KNN\",\"XGBoostClassifier\"],\"private_models\":[],\"auto_blacklist\":true,\"blacklist_samples_reached\":false,\"exclude_nan_labels\":true,\"verbosity\":20,\"_debug_log\":\"azureml_automl.log\",\"show_warnings\":false,\"model_explainability\":true,\"service_url\":null,\"sdk_url\":null,\"sdk_packages\":null,\"enable_onnx_compatible_models\":false,\"enable_split_onnx_featurizer_estimator_models\":false,\"vm_type\":\"STANDARD_DS3_V2\",\"telemetry_verbosity\":20,\"send_telemetry\":true,\"enable_dnn\":false,\"scenario\":\"SDK-1.13.0\",\"environment_label\":null,\"save_mlflow\":false,\"force_text_dnn\":false,\"enable_feature_sweeping\":true,\"enable_early_stopping\":true,\"early_stopping_n_iters\":10,\"metrics\":null,\"enable_metric_confidence\":false,\"enable_ensembling\":true,\"enable_stack_ensembling\":true,\"ensemble_iterations\":15,\"enable_tf\":false,\"enable_subsampling\":null,\"subsample_seed\":null,\"enable_nimbusml\":false,\"enable_streaming\":false,\"force_streaming\":false,\"track_child_runs\":true,\"allowed_private_models\":[],\"label_column_name\":\"DEATH_EVENT\",\"weight_column_name\":null,\"cv_split_column_names\":null,\"enable_local_managed\":false,\"_local_managed_run_id\":null,\"cost_mode\":1,\"lag_length\":0,\"metric_operation\":\"maximize\",\"preprocess\":true}',\n  'DataPrepJsonString': '{\\\\\"training_data\\\\\": {\\\\\"datasetId\\\\\": \\\\\"1fc0b9f7-f0ab-4cbd-b86d-9af24db46759\\\\\"}, \\\\\"datasets\\\\\": 0}',\n  'EnableSubsampling': None,\n  'runTemplate': 'AutoML',\n  'azureml.runsource': 'automl',\n  'display_task_type': 'classification',\n  'dependencies_versions': '{\"azureml-widgets\": \"1.30.0\", \"azureml-train\": \"1.30.0\", \"azureml-train-restclients-hyperdrive\": \"1.30.0\", \"azureml-train-core\": \"1.30.0\", \"azureml-train-automl\": \"1.30.0\", \"azureml-train-automl-runtime\": \"1.30.0\", \"azureml-train-automl-client\": \"1.30.0\", \"azureml-tensorboard\": \"1.30.0\", \"azureml-telemetry\": \"1.30.0\", \"azureml-sdk\": \"1.30.0\", \"azureml-samples\": \"0+unknown\", \"azureml-pipeline\": \"1.30.0\", \"azureml-pipeline-steps\": \"1.30.0\", \"azureml-pipeline-core\": \"1.30.0\", \"azureml-opendatasets\": \"1.30.0\", \"azureml-model-management-sdk\": \"1.0.1b6.post1\", \"azureml-mlflow\": \"1.30.0\", \"azureml-interpret\": \"1.30.0\", \"azureml-explain-model\": \"1.30.0\", \"azureml-defaults\": \"1.30.0\", \"azureml-dataset-runtime\": \"1.30.0\", \"azureml-dataprep\": \"2.15.1\", \"azureml-dataprep-rslex\": \"1.13.0\", \"azureml-dataprep-native\": \"33.0.0\", \"azureml-datadrift\": \"1.30.0\", \"azureml-core\": \"1.30.0\", \"azureml-contrib-services\": \"1.30.0\", \"azureml-contrib-server\": \"1.30.0\", \"azureml-contrib-reinforcementlearning\": \"1.30.0\", \"azureml-contrib-pipeline-steps\": \"1.30.0\", \"azureml-contrib-notebook\": \"1.30.0\", \"azureml-contrib-fairness\": \"1.30.0\", \"azureml-contrib-dataset\": \"1.30.0\", \"azureml-cli-common\": \"1.30.0\", \"azureml-automl-runtime\": \"1.30.0\", \"azureml-automl-dnn-nlp\": \"1.30.0\", \"azureml-automl-core\": \"1.30.0\", \"azureml-accel-models\": \"1.30.0\"}',\n  '_aml_system_scenario_identification': 'Remote.Parent',\n  'ClientType': 'SDK',\n  'environment_cpu_name': 'AzureML-AutoML',\n  'environment_cpu_label': 'prod',\n  'environment_gpu_name': 'AzureML-AutoML-GPU',\n  'environment_gpu_label': 'prod',\n  'root_attribution': 'automl',\n  'attribution': 'AutoML',\n  'Orchestrator': 'AutoML',\n  'CancelUri': 'https://southcentralus.api.azureml.ms/jasmine/v1.0/subscriptions/6971f5ac-8af1-446e-8034-05acea24681f/resourceGroups/aml-quickstarts-148168/providers/Microsoft.MachineLearningServices/workspaces/quick-starts-ws-148168/experimentids/caf262e2-e82a-4a16-b9e5-4a4b0d5dfa41/cancel/AutoML_1997416e-92ca-40de-85ee-6cb021542604',\n  'ClientSdkVersion': '1.31.0',\n  'snapshotId': '00000000-0000-0000-0000-000000000000',\n  'SetupRunId': 'AutoML_1997416e-92ca-40de-85ee-6cb021542604_setup',\n  'SetupRunContainerId': 'dcid.AutoML_1997416e-92ca-40de-85ee-6cb021542604_setup',\n  'FeaturizationRunJsonPath': 'featurizer_container.json',\n  'FeaturizationRunId': 'AutoML_1997416e-92ca-40de-85ee-6cb021542604_featurize',\n  'ProblemInfoJsonString': '{\"dataset_num_categorical\": 0, \"is_sparse\": false, \"subsampling\": false, \"has_extra_col\": true, \"dataset_classes\": 2, \"dataset_features\": 12, \"dataset_samples\": 299, \"single_frequency_class_detected\": false}',\n  'ModelExplainRunId': 'AutoML_1997416e-92ca-40de-85ee-6cb021542604_ModelExplain',\n  'azureml.git.repository_uri': 'https://github.com/arunanshupandey/nd00333-capstone.git',\n  'mlflow.source.git.repoURL': 'https://github.com/arunanshupandey/nd00333-capstone.git',\n  'azureml.git.branch': 'master',\n  'mlflow.source.git.branch': 'master',\n  'azureml.git.commit': 'f16ec24cacb16217e380bb64de5b9bc9a72b77aa',\n  'mlflow.source.git.commit': 'f16ec24cacb16217e380bb64de5b9bc9a72b77aa',\n  'azureml.git.dirty': 'False'},\n 'inputDatasets': [{'dataset': {'id': '1fc0b9f7-f0ab-4cbd-b86d-9af24db46759'}, 'consumptionDetails': {'type': 'RunInput', 'inputName': 'training_data', 'mechanism': 'Direct'}}],\n 'outputDatasets': [],\n 'logFiles': {},\n 'submittedBy': 'ODL_User 148168'}"
          },
          "metadata": {}
        }
      ],
      "execution_count": 8,
      "metadata": {
        "collapsed": true,
        "jupyter": {
          "source_hidden": false,
          "outputs_hidden": false
        },
        "nteract": {
          "transient": {
            "deleting": false
          }
        },
        "gather": {
          "logged": 1624975594412
        }
      }
    },
    {
      "cell_type": "markdown",
      "source": [
        "## Best Model\n",
        "\n",
        "TODO: In the cell below, get the best model from the automl experiments and display all the properties of the model.\n",
        "\n"
      ],
      "metadata": {}
    },
    {
      "cell_type": "code",
      "source": [
        "# Best model\r\n",
        "\r\n",
        "# Retrieve best model from remote Run\r\n",
        "#best_model_output = remote_run.get_pipeline_output(best_model_output_name)\r\n",
        "best_run, model = remote_run.get_output()\r\n"
      ],
      "outputs": [
        {
          "output_type": "stream",
          "name": "stderr",
          "text": [
            "WARNING:root:The version of the SDK does not match the version the model was trained on.\n",
            "WARNING:root:The consistency in the result may not be guaranteed.\n",
            "WARNING:root:Package:azureml-automl-core, training version:1.31.0, current version:1.30.0\n",
            "Package:azureml-automl-runtime, training version:1.31.0, current version:1.30.0\n",
            "Package:azureml-core, training version:1.31.0, current version:1.30.0\n",
            "Package:azureml-dataprep, training version:2.18.0, current version:2.15.1\n",
            "Package:azureml-dataprep-native, training version:36.0.0, current version:33.0.0\n",
            "Package:azureml-dataprep-rslex, training version:1.16.0, current version:1.13.0\n",
            "Package:azureml-dataset-runtime, training version:1.31.0, current version:1.30.0\n",
            "Package:azureml-defaults, training version:1.31.0, current version:1.30.0\n",
            "Package:azureml-interpret, training version:1.31.0, current version:1.30.0\n",
            "Package:azureml-mlflow, training version:1.31.0, current version:1.30.0\n",
            "Package:azureml-pipeline-core, training version:1.31.0, current version:1.30.0\n",
            "Package:azureml-telemetry, training version:1.31.0, current version:1.30.0\n",
            "Package:azureml-train-automl-client, training version:1.31.0, current version:1.30.0\n",
            "Package:azureml-train-automl-runtime, training version:1.31.0, current version:1.30.0\n",
            "WARNING:root:Please ensure the version of your local conda dependencies match the version on which your model was trained in order to properly retrieve your model.\n"
          ]
        }
      ],
      "execution_count": 9,
      "metadata": {
        "gather": {
          "logged": 1624975615825
        },
        "jupyter": {
          "outputs_hidden": false,
          "source_hidden": false
        },
        "nteract": {
          "transient": {
            "deleting": false
          }
        }
      }
    },
    {
      "cell_type": "code",
      "source": [
        "model"
      ],
      "outputs": [
        {
          "output_type": "execute_result",
          "execution_count": 10,
          "data": {
            "text/plain": "Pipeline(memory=None,\n         steps=[('datatransformer',\n                 DataTransformer(enable_dnn=False, enable_feature_sweeping=True, feature_sweeping_config={}, feature_sweeping_timeout=86400, featurization_config=None, force_text_dnn=False, is_cross_validation=True, is_onnx_compatible=False, observer=None, task='classification', working_dir='/mnt/batch/tasks/shared/LS_root/mount...\n), random_state=0, reg_alpha=0.4166666666666667, reg_lambda=0.20833333333333334, subsample=0.5, tree_method='auto'))], verbose=False)), ('13', Pipeline(memory=None, steps=[('maxabsscaler', MaxAbsScaler(copy=True)), ('extratreesclassifier', ExtraTreesClassifier(bootstrap=True, ccp_alpha=0.0, class_weight=None, criterion='gini', max_depth=None, max_features=0.7, max_leaf_nodes=None, max_samples=None, min_impurity_decrease=0.0, min_impurity_split=None, min_samples_leaf=0.035789473684210524, min_samples_split=0.01, min_weight_fraction_leaf=0.0, n_estimators=400, n_jobs=1, oob_score=True, random_state=None, verbose=0, warm_start=False))], verbose=False))], flatten_transform=None, weights=[0.3333333333333333, 0.16666666666666666, 0.16666666666666666, 0.16666666666666666, 0.16666666666666666]))],\n         verbose=False)"
          },
          "metadata": {}
        }
      ],
      "execution_count": 10,
      "metadata": {
        "collapsed": true,
        "jupyter": {
          "source_hidden": false,
          "outputs_hidden": false
        },
        "nteract": {
          "transient": {
            "deleting": false
          }
        },
        "gather": {
          "logged": 1624975615993
        }
      }
    },
    {
      "cell_type": "code",
      "source": [
        "model.steps"
      ],
      "outputs": [
        {
          "output_type": "execute_result",
          "execution_count": 11,
          "data": {
            "text/plain": "[('datatransformer',\n  DataTransformer(\n      task='classification',\n      is_onnx_compatible=False,\n      enable_feature_sweeping=True,\n      enable_dnn=False,\n      force_text_dnn=False,\n      feature_sweeping_timeout=86400,\n      featurization_config=None,\n      is_cross_validation=True,\n      feature_sweeping_config={}\n  )),\n ('prefittedsoftvotingclassifier',\n  PreFittedSoftVotingClassifier(\n      estimators=[('18', Pipeline(memory=None,\n               steps=[('robustscaler',\n                       RobustScaler(copy=True, quantile_range=[25, 75],\n                                    with_centering=True, with_scaling=False)),\n                      ('extratreesclassifier',\n                       ExtraTreesClassifier(bootstrap=False, ccp_alpha=0.0,\n                                            class_weight=None, criterion='entropy',\n                                            max_depth=None, max_features=0.8,\n                                            max_leaf_nodes=None, max_samples=None,\n                                            min_impurity_decrease=0.0,\n                                            min_impurity_split=None,\n                                            min_samples_leaf=0.01,\n                                            min_samples_split=0.2442105263157895,\n                                            min_weight_fraction_leaf=0.0,\n                                            n_estimators=100, n_jobs=1,\n                                            oob_score=False, random_state=None,\n                                            verbose=0, warm_start=False))],\n               verbose=False)), ('12', Pipeline(memory=None,\n               steps=[('standardscalerwrapper',\n                       StandardScalerWrapper(\n          copy=True,\n          with_mean=False,\n          with_std=True\n      )),\n                      ('randomforestclassifier',\n                       RandomForestClassifier(bootstrap=False, ccp_alpha=0.0,\n                                              class_weight=None, criterion='entropy',\n                                              max_depth=None, max_features=0.2,\n                                              max_leaf_nodes=None, max_samples=None,\n                                              min_impurity_decrease=0.0,\n                                              min_impurity_split=None,\n                                              min_samples_leaf=0.01,\n                                              min_samples_split=0.10368421052631578,\n                                              min_weight_fraction_leaf=0.0,\n                                              n_estimators=25, n_jobs=1,\n                                              oob_score=False, random_state=None,\n                                              verbose=0, warm_start=False))],\n               verbose=False)), ('16', Pipeline(memory=None,\n               steps=[('sparsenormalizer', Normalizer(copy=True, norm='max')),\n                      ('xgboostclassifier',\n                       XGBoostClassifier(booster='gbtree', colsample_bytree=0.9, eta=0.3, gamma=0, max_depth=10, max_leaves=15, n_estimators=25, n_jobs=1, objective='reg:logistic', problem_info=ProblemInfo(\n          dataset_samples=299,\n          dataset_features=12,\n          dataset_classes=2,\n          dataset_num_cat...\n          iteration_timeout_mode=0,\n          iteration_timeout_param=None,\n          feature_column_names=None,\n          label_column_name=None,\n          weight_column_name=None,\n          cv_split_column_names=None,\n          enable_streaming=None,\n          timeseries_param_dict=None,\n          gpu_training_param_dict={'processing_unit_type': 'cpu'}\n      ), random_state=0, reg_alpha=0, reg_lambda=0.5208333333333334, subsample=0.6, tree_method='auto'))],\n               verbose=False)), ('5', Pipeline(memory=None,\n               steps=[('standardscalerwrapper',\n                       StandardScalerWrapper(\n          copy=True,\n          with_mean=False,\n          with_std=False\n      )),\n                      ('xgboostclassifier',\n                       XGBoostClassifier(booster='gbtree', colsample_bytree=0.9, eta=0.001, gamma=0.1, max_depth=7, max_leaves=0, n_estimators=25, n_jobs=1, objective='reg:logistic', problem_info=ProblemInfo(\n          dataset_samples=299,\n          dataset_feature...\n          iteration_timeout_param=None,\n          feature_column_names=None,\n          label_column_name=None,\n          weight_column_name=None,\n          cv_split_column_names=None,\n          enable_streaming=None,\n          timeseries_param_dict=None,\n          gpu_training_param_dict={'processing_unit_type': 'cpu'}\n      ), random_state=0, reg_alpha=0.4166666666666667, reg_lambda=0.20833333333333334, subsample=0.5, tree_method='auto'))],\n               verbose=False)), ('13', Pipeline(memory=None,\n               steps=[('maxabsscaler', MaxAbsScaler(copy=True)),\n                      ('extratreesclassifier',\n                       ExtraTreesClassifier(bootstrap=True, ccp_alpha=0.0,\n                                            class_weight=None, criterion='gini',\n                                            max_depth=None, max_features=0.7,\n                                            max_leaf_nodes=None, max_samples=None,\n                                            min_impurity_decrease=0.0,\n                                            min_impurity_split=None,\n                                            min_samples_leaf=0.035789473684210524,\n                                            min_samples_split=0.01,\n                                            min_weight_fraction_leaf=0.0,\n                                            n_estimators=400, n_jobs=1,\n                                            oob_score=True, random_state=None,\n                                            verbose=0, warm_start=False))],\n               verbose=False))],\n      weights=[0.3333333333333333, 0.16666666666666666, 0.16666666666666666, 0.16666666666666666, 0.16666666666666666],\n      flatten_transform=None,\n      classification_labels=array([1, 0])\n  ))]"
          },
          "metadata": {}
        }
      ],
      "execution_count": 11,
      "metadata": {
        "collapsed": true,
        "jupyter": {
          "source_hidden": false,
          "outputs_hidden": false
        },
        "nteract": {
          "transient": {
            "deleting": false
          }
        },
        "gather": {
          "logged": 1624975616185
        }
      }
    },
    {
      "cell_type": "code",
      "source": [
        "# https://docs.microsoft.com/en-us/azure/machine-learning/how-to-configure-auto-train#data-featurization\r\n",
        "\r\n",
        "model_name = best_run.properties['model_name']\r\n",
        "description = 'AutoML forecast example'\r\n",
        "tags = None\r\n",
        "\r\n",
        "model = remote_run.register_model(model_name = model_name, \r\n",
        "                                  description = description, \r\n",
        "                                  tags = tags)"
      ],
      "outputs": [],
      "execution_count": 13,
      "metadata": {
        "collapsed": true,
        "jupyter": {
          "source_hidden": false,
          "outputs_hidden": false
        },
        "nteract": {
          "transient": {
            "deleting": false
          }
        },
        "gather": {
          "logged": 1624975863126
        }
      }
    },
    {
      "cell_type": "code",
      "source": [
        "model"
      ],
      "outputs": [
        {
          "output_type": "execute_result",
          "execution_count": 14,
          "data": {
            "text/plain": "Model(workspace=Workspace.create(name='quick-starts-ws-148168', subscription_id='6971f5ac-8af1-446e-8034-05acea24681f', resource_group='aml-quickstarts-148168'), name=AutoML1997416e938, id=AutoML1997416e938:1, version=1, tags={}, properties={})"
          },
          "metadata": {}
        }
      ],
      "execution_count": 14,
      "metadata": {
        "collapsed": true,
        "jupyter": {
          "source_hidden": false,
          "outputs_hidden": false
        },
        "nteract": {
          "transient": {
            "deleting": false
          }
        },
        "gather": {
          "logged": 1624975881666
        }
      }
    },
    {
      "cell_type": "markdown",
      "source": [
        "## Model Deployment\n",
        "\n",
        "Remember you have to deploy only one of the two models you trained.. Perform the steps in the rest of this notebook only if you wish to deploy this model.\n",
        "\n",
        "TODO: In the cell below, register the model, create an inference config and deploy the model as a web service."
      ],
      "metadata": {}
    },
    {
      "cell_type": "code",
      "source": [
        "# create inference_config\r\n",
        "# trying default environment instead of env.yml file\r\n",
        "from azureml.core.model import InferenceConfig\r\n",
        "from azureml.core.environment import Environment\r\n",
        "\r\n",
        "inference_config = InferenceConfig(entry_script=\"score.py\")"
      ],
      "outputs": [],
      "execution_count": 16,
      "metadata": {
        "gather": {
          "logged": 1624976096454
        },
        "jupyter": {
          "outputs_hidden": false,
          "source_hidden": false
        },
        "nteract": {
          "transient": {
            "deleting": false
          }
        }
      }
    },
    {
      "cell_type": "markdown",
      "source": [
        "TODO: In the cell below, send a request to the web service you deployed to test it."
      ],
      "metadata": {
        "collapsed": true,
        "gather": {
          "logged": 1598431657736
        },
        "jupyter": {
          "outputs_hidden": false,
          "source_hidden": false
        },
        "nteract": {
          "transient": {
            "deleting": false
          }
        }
      }
    },
    {
      "cell_type": "code",
      "source": [
        "from azureml.core.webservice import Webservice, AciWebservice\r\n",
        "deployment_config = AciWebservice.deploy_configuration(cpu_cores=1, memory_gb = 1)\r\n",
        "\r\n",
        "\r\n",
        "#deploy the model\r\n",
        "service=model.deploy(workspace=ws,\r\n",
        "                    name=\"heart-failure\",\r\n",
        "                    models=[model],\r\n",
        "                    inference_config=inference_config,\r\n",
        "                    deployment_config=deployment_config)\r\n",
        "service.wait_for_deployment(show_output=True)"
      ],
      "outputs": [
        {
          "output_type": "stream",
          "name": "stdout",
          "text": [
            "Tips: You can try get_logs(): https://aka.ms/debugimage#dockerlog or local deployment: https://aka.ms/debugimage#debug-locally to debug if deployment takes longer than 10 minutes.\n",
            "Running\n",
            "2021-06-29 14:15:35+00:00 Creating Container Registry if not exists..\n",
            "2021-06-29 14:15:47+00:00 Generating deployment configuration.\n",
            "2021-06-29 14:15:48+00:00 Submitting deployment to compute.\n",
            "2021-06-29 14:15:51+00:00 Checking the status of deployment heart-failure..\n",
            "2021-06-29 14:21:02+00:00 Checking the status of inference endpoint heart-failure.\n",
            "Succeeded\n",
            "ACI service creation operation finished, operation \"Succeeded\"\n"
          ]
        }
      ],
      "execution_count": 18,
      "metadata": {
        "gather": {
          "logged": 1624976469167
        },
        "jupyter": {
          "outputs_hidden": false,
          "source_hidden": false
        },
        "nteract": {
          "transient": {
            "deleting": false
          }
        }
      }
    },
    {
      "cell_type": "markdown",
      "source": [
        "TODO: In the cell below, print the logs of the web service and delete the service"
      ],
      "metadata": {
        "collapsed": true,
        "gather": {
          "logged": 1598432765711
        },
        "jupyter": {
          "outputs_hidden": false,
          "source_hidden": false
        },
        "nteract": {
          "transient": {
            "deleting": false
          }
        }
      }
    },
    {
      "cell_type": "code",
      "source": [
        "print(service.get_logs())"
      ],
      "outputs": [
        {
          "output_type": "stream",
          "name": "stdout",
          "text": [
            "2021-06-29T14:20:54,875287500+00:00 - iot-server/run \n",
            "2021-06-29T14:20:54,876057800+00:00 - rsyslog/run \n",
            "2021-06-29T14:20:54,885521500+00:00 - gunicorn/run \n",
            "2021-06-29T14:20:54,955684700+00:00 - nginx/run \n",
            "/usr/sbin/nginx: /azureml-envs/azureml_429e58b1641c78c2352efc8ad21c49d9/lib/libcrypto.so.1.0.0: no version information available (required by /usr/sbin/nginx)\n",
            "/usr/sbin/nginx: /azureml-envs/azureml_429e58b1641c78c2352efc8ad21c49d9/lib/libcrypto.so.1.0.0: no version information available (required by /usr/sbin/nginx)\n",
            "/usr/sbin/nginx: /azureml-envs/azureml_429e58b1641c78c2352efc8ad21c49d9/lib/libssl.so.1.0.0: no version information available (required by /usr/sbin/nginx)\n",
            "/usr/sbin/nginx: /azureml-envs/azureml_429e58b1641c78c2352efc8ad21c49d9/lib/libssl.so.1.0.0: no version information available (required by /usr/sbin/nginx)\n",
            "/usr/sbin/nginx: /azureml-envs/azureml_429e58b1641c78c2352efc8ad21c49d9/lib/libssl.so.1.0.0: no version information available (required by /usr/sbin/nginx)\n",
            "rsyslogd: /azureml-envs/azureml_429e58b1641c78c2352efc8ad21c49d9/lib/libuuid.so.1: no version information available (required by rsyslogd)\n",
            "EdgeHubConnectionString and IOTEDGE_IOTHUBHOSTNAME are not set. Exiting...\n",
            "2021-06-29T14:20:55,400767900+00:00 - iot-server/finish 1 0\n",
            "2021-06-29T14:20:55,409370300+00:00 - Exit code 1 is normal. Not restarting iot-server.\n",
            "Starting gunicorn 20.1.0\n",
            "Listening at: http://127.0.0.1:31311 (67)\n",
            "Using worker: sync\n",
            "worker timeout is set to 300\n",
            "Booting worker with pid: 96\n",
            "SPARK_HOME not set. Skipping PySpark Initialization.\n",
            "Initializing logger\n",
            "2021-06-29 14:20:56,788 | root | INFO | Starting up app insights client\n",
            "2021-06-29 14:20:56,788 | root | INFO | Starting up request id generator\n",
            "2021-06-29 14:20:56,789 | root | INFO | Starting up app insight hooks\n",
            "2021-06-29 14:20:56,792 | root | INFO | Invoking user's init function\n",
            "This is init\n",
            "Generating new fontManager, this may take some time...\n",
            "2021-06-29 14:21:03,857 | azureml.core | WARNING | Failure while loading azureml_run_type_providers. Failed to load entrypoint automl = azureml.train.automl.run:AutoMLRun._from_run_dto with exception cannot import name 'RunType'.\n",
            "Failure while loading azureml_run_type_providers. Failed to load entrypoint automl = azureml.train.automl.run:AutoMLRun._from_run_dto with exception cannot import name 'RunType'.\n",
            "2021-06-29 14:21:04,738 | root | INFO | Users's init has completed successfully\n",
            "2021-06-29 14:21:04,746 | root | INFO | Skipping middleware: dbg_model_info as it's not enabled.\n",
            "2021-06-29 14:21:04,747 | root | INFO | Skipping middleware: dbg_resource_usage as it's not enabled.\n",
            "2021-06-29 14:21:04,749 | root | INFO | Scoring timeout is found from os.environ: 60000 ms\n",
            "2021-06-29 14:21:04,953 | root | INFO | Swagger file not present\n",
            "2021-06-29 14:21:04,957 | root | INFO | 404\n",
            "127.0.0.1 - - [29/Jun/2021:14:21:04 +0000] \"GET /swagger.json HTTP/1.0\" 404 19 \"-\" \"Go-http-client/1.1\"\n",
            "2021-06-29 14:21:08,841 | root | INFO | Swagger file not present\n",
            "2021-06-29 14:21:08,842 | root | INFO | 404\n",
            "127.0.0.1 - - [29/Jun/2021:14:21:08 +0000] \"GET /swagger.json HTTP/1.0\" 404 19 \"-\" \"Go-http-client/1.1\"\n",
            "\n"
          ]
        }
      ],
      "execution_count": 19,
      "metadata": {
        "jupyter": {
          "outputs_hidden": false,
          "source_hidden": false
        },
        "nteract": {
          "transient": {
            "deleting": false
          }
        },
        "gather": {
          "logged": 1624976469589
        }
      }
    },
    {
      "cell_type": "markdown",
      "source": [
        "Test the Model"
      ],
      "metadata": {
        "nteract": {
          "transient": {
            "deleting": false
          }
        }
      }
    },
    {
      "cell_type": "code",
      "source": [
        "scoring_uri = service.scoring_uri\r\n",
        "\r\n",
        "print(f'\\nservice state: {service.state}\\n')\r\n",
        "print(f'scoring URI: \\n{service.scoring_uri}\\n')\r\n",
        "\r\n",
        "print(service.scoring_uri)\r\n"
      ],
      "outputs": [
        {
          "output_type": "stream",
          "name": "stdout",
          "text": [
            "\n",
            "service state: Healthy\n",
            "\n",
            "scoring URI: \n",
            "http://7799d541-3f89-414c-b8fc-9819557262b2.southcentralus.azurecontainer.io/score\n",
            "\n",
            "swagger URI: \n",
            "http://7799d541-3f89-414c-b8fc-9819557262b2.southcentralus.azurecontainer.io/swagger.json\n",
            "\n",
            "http://7799d541-3f89-414c-b8fc-9819557262b2.southcentralus.azurecontainer.io/score\n",
            "http://7799d541-3f89-414c-b8fc-9819557262b2.southcentralus.azurecontainer.io/swagger.json\n"
          ]
        }
      ],
      "execution_count": 20,
      "metadata": {
        "collapsed": true,
        "jupyter": {
          "source_hidden": false,
          "outputs_hidden": false
        },
        "nteract": {
          "transient": {
            "deleting": false
          }
        },
        "gather": {
          "logged": 1624976488857
        }
      }
    },
    {
      "cell_type": "code",
      "source": [
        "import requests\r\n",
        "import json\r\n",
        "\r\n",
        "data={\"data\":\r\n",
        "  [{'age': 87.0,\r\n",
        "  'anaemia': 0,\r\n",
        "  'creatinine_phosphokinase': 981,\r\n",
        "  'diabetes': 0,\r\n",
        "  'ejection_fraction': 55,\r\n",
        "  'high_blood_pressure': 1,\r\n",
        "  'platelets': 368000,\r\n",
        "  'serum_creatinine': 3.5,\r\n",
        "  'serum_sodium': 137,\r\n",
        "  'sex': 0,\r\n",
        "  'smoking': 0,\r\n",
        "  'time': 4}]\r\n",
        "  }\r\n",
        "\r\n",
        "input_data=json.dumps(data)\r\n",
        "\r\n",
        "with open(\"data.json\",\"w\") as file:\r\n",
        "    file.write(input_data)\r\n",
        "\r\n",
        "headers={\"Content-Type\":\"application/json\"}\r\n",
        "\r\n",
        "result=requests.post(scoring_uri, input_data, headers=headers)\r\n",
        "print(\"The output is: \",result.json())\r\n",
        "\r\n",
        "result.status_code"
      ],
      "outputs": [
        {
          "output_type": "stream",
          "name": "stdout",
          "text": [
            "The output is:  Must pass 2-d input\n"
          ]
        },
        {
          "output_type": "execute_result",
          "execution_count": 21,
          "data": {
            "text/plain": "200"
          },
          "metadata": {}
        }
      ],
      "execution_count": 21,
      "metadata": {
        "collapsed": true,
        "jupyter": {
          "source_hidden": false,
          "outputs_hidden": false
        },
        "nteract": {
          "transient": {
            "deleting": false
          }
        },
        "gather": {
          "logged": 1624976497461
        }
      }
    },
    {
      "cell_type": "code",
      "source": [],
      "outputs": [],
      "execution_count": null,
      "metadata": {
        "collapsed": true,
        "jupyter": {
          "source_hidden": false,
          "outputs_hidden": false
        },
        "nteract": {
          "transient": {
            "deleting": false
          }
        }
      }
    }
  ],
  "metadata": {
    "kernel_info": {
      "name": "python3"
    },
    "kernelspec": {
      "name": "python3",
      "language": "python",
      "display_name": "Python 3"
    },
    "language_info": {
      "name": "python",
      "version": "3.6.9",
      "mimetype": "text/x-python",
      "codemirror_mode": {
        "name": "ipython",
        "version": 3
      },
      "pygments_lexer": "ipython3",
      "nbconvert_exporter": "python",
      "file_extension": ".py"
    },
    "nteract": {
      "version": "nteract-front-end@1.0.0"
    },
    "microsoft": {
      "host": {
        "AzureML": {
          "notebookHasBeenCompleted": true
        }
      }
    }
  },
  "nbformat": 4,
  "nbformat_minor": 2
}