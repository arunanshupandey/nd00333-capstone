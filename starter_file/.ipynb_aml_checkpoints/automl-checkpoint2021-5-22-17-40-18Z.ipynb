{
  "cells": [
    {
      "cell_type": "markdown",
      "source": [
        "# Automated ML\n",
        "\n",
        "TODO: Import Dependencies. In the cell below, import all the dependencies that you will need to complete the project."
      ],
      "metadata": {}
    },
    {
      "cell_type": "code",
      "source": [
        "import logging\r\n",
        "import os\r\n",
        "import csv\r\n",
        "\r\n",
        "from matplotlib import pyplot as plt\r\n",
        "import numpy as np\r\n",
        "import pandas as pd\r\n",
        "from sklearn import datasets\r\n",
        "import pkg_resources\r\n",
        "\r\n",
        "import azureml.core\r\n",
        "from azureml.core.experiment import Experiment\r\n",
        "from azureml.core.workspace import Workspace\r\n",
        "from azureml.train.automl import AutoMLConfig\r\n",
        "from azureml.core.dataset import Dataset\r\n",
        "\r\n",
        "from azureml.pipeline.steps import AutoMLStep\r\n",
        "\r\n",
        "# Check core SDK version number\r\n",
        "print(\"SDK version:\", azureml.core.VERSION)"
      ],
      "outputs": [
        {
          "output_type": "stream",
          "name": "stdout",
          "text": [
            "SDK version: 1.30.0\n"
          ]
        }
      ],
      "execution_count": 1,
      "metadata": {
        "gather": {
          "logged": 1624381604177
        },
        "jupyter": {
          "outputs_hidden": false,
          "source_hidden": false
        },
        "nteract": {
          "transient": {
            "deleting": false
          }
        }
      }
    },
    {
      "cell_type": "markdown",
      "source": [
        "## Dataset\n",
        "\n",
        "### Overview\n",
        "TODO: In this markdown cell, give an overview of the dataset you are using. Also mention the task you will be performing.\n",
        "\n",
        "\n",
        "TODO: Get data. In the cell below, write code to access the data you will be using in this project. Remember that the dataset needs to be external."
      ],
      "metadata": {}
    },
    {
      "cell_type": "code",
      "source": [
        "ws = Workspace.from_config()\n",
        "\n",
        "# choose a name for experiment\n",
        "experiment_name = 'CapstoneProject'\n",
        "project_folder = './capstone-project'\n",
        "\n",
        "experiment=Experiment(ws, experiment_name)\n",
        "experiment"
      ],
      "outputs": [
        {
          "output_type": "execute_result",
          "execution_count": 7,
          "data": {
            "text/plain": "Experiment(Name: CapstoneProject,\nWorkspace: quick-starts-ws-147713)",
            "text/html": "<table style=\"width:100%\"><tr><th>Name</th><th>Workspace</th><th>Report Page</th><th>Docs Page</th></tr><tr><td>CapstoneProject</td><td>quick-starts-ws-147713</td><td><a href=\"https://ml.azure.com/experiments/id/392252e2-e260-483f-a413-f89694efadb0?wsid=/subscriptions/5a4ab2ba-6c51-4805-8155-58759ad589d8/resourcegroups/aml-quickstarts-147713/workspaces/quick-starts-ws-147713&amp;tid=660b3398-b80e-49d2-bc5b-ac1dc93b5254\" target=\"_blank\" rel=\"noopener\">Link to Azure Machine Learning studio</a></td><td><a href=\"https://docs.microsoft.com/en-us/python/api/azureml-core/azureml.core.experiment.Experiment?view=azure-ml-py\" target=\"_blank\" rel=\"noopener\">Link to Documentation</a></td></tr></table>"
          },
          "metadata": {}
        }
      ],
      "execution_count": 7,
      "metadata": {
        "gather": {
          "logged": 1624382367741
        },
        "jupyter": {
          "outputs_hidden": false,
          "source_hidden": false
        },
        "nteract": {
          "transient": {
            "deleting": false
          }
        }
      }
    },
    {
      "cell_type": "code",
      "source": [
        "# Setting up the compute cluster\r\n",
        "\r\n",
        "from azureml.core.compute import AmlCompute\r\n",
        "from azureml.core.compute import ComputeTarget\r\n",
        "from azureml.core.compute_target import ComputeTargetException\r\n",
        "\r\n",
        "# NOTE: update the cluster name to match the existing cluster\r\n",
        "# Choose a name for your CPU cluster\r\n",
        "amlcompute_cluster_name = \"CapstoneAML\"\r\n",
        "\r\n",
        "# Verify that cluster does not exist already\r\n",
        "try:\r\n",
        "    compute_target = ComputeTarget(workspace=ws, name=amlcompute_cluster_name)\r\n",
        "    print('Found existing cluster, use it.')\r\n",
        "except ComputeTargetException:\r\n",
        "    compute_config = AmlCompute.provisioning_configuration(vm_size='STANDARD_DS3_V2',\r\n",
        "                                                           min_nodes=1, # for GPU, use \"STANDARD_NC6\"\r\n",
        "                                                           #vm_priority = 'lowpriority', # optional\r\n",
        "                                                           max_nodes=6)\r\n",
        "    compute_target = ComputeTarget.create(ws, amlcompute_cluster_name, compute_config)\r\n",
        "\r\n",
        "compute_target.wait_for_completion(show_output=True, min_node_count = 1, timeout_in_minutes = 10)\r\n",
        "# For a more detailed view of current AmlCompute status, use get_status()."
      ],
      "outputs": [
        {
          "output_type": "stream",
          "name": "stdout",
          "text": [
            "Creating.........\n",
            "SucceededProvisioning operation finished, operation \"Succeeded\"\n",
            "Succeeded.................\n",
            "AmlCompute wait for completion finished\n",
            "\n",
            "Minimum number of nodes requested have been provisioned\n"
          ]
        }
      ],
      "execution_count": 5,
      "metadata": {
        "collapsed": true,
        "jupyter": {
          "source_hidden": false,
          "outputs_hidden": false
        },
        "nteract": {
          "transient": {
            "deleting": false
          }
        },
        "gather": {
          "logged": 1624382331402
        }
      }
    },
    {
      "cell_type": "code",
      "source": [
        "found = False\r\n",
        "key = \"HeartRate\"\r\n",
        "description_text = \"Dataset for heart failure recommendation\"\r\n",
        "\r\n",
        "if key in ws.datasets.keys(): \r\n",
        "        found = True\r\n",
        "        dataset = ws.datasets[key] \r\n",
        "\r\n",
        "df = dataset.to_pandas_dataframe()\r\n",
        "df.describe()"
      ],
      "outputs": [
        {
          "output_type": "execute_result",
          "execution_count": 3,
          "data": {
            "text/plain": "              age     anaemia  creatinine_phosphokinase    diabetes  \\\ncount  299.000000  299.000000                299.000000  299.000000   \nmean    60.833893    0.431438                581.839465    0.418060   \nstd     11.894809    0.496107                970.287881    0.494067   \nmin     40.000000    0.000000                 23.000000    0.000000   \n25%     51.000000    0.000000                116.500000    0.000000   \n50%     60.000000    0.000000                250.000000    0.000000   \n75%     70.000000    1.000000                582.000000    1.000000   \nmax     95.000000    1.000000               7861.000000    1.000000   \n\n       ejection_fraction  high_blood_pressure      platelets  \\\ncount         299.000000           299.000000     299.000000   \nmean           38.083612             0.351171  263358.029264   \nstd            11.834841             0.478136   97804.236869   \nmin            14.000000             0.000000   25100.000000   \n25%            30.000000             0.000000  212500.000000   \n50%            38.000000             0.000000  262000.000000   \n75%            45.000000             1.000000  303500.000000   \nmax            80.000000             1.000000  850000.000000   \n\n       serum_creatinine  serum_sodium         sex    smoking        time  \\\ncount         299.00000    299.000000  299.000000  299.00000  299.000000   \nmean            1.39388    136.625418    0.648829    0.32107  130.260870   \nstd             1.03451      4.412477    0.478136    0.46767   77.614208   \nmin             0.50000    113.000000    0.000000    0.00000    4.000000   \n25%             0.90000    134.000000    0.000000    0.00000   73.000000   \n50%             1.10000    137.000000    1.000000    0.00000  115.000000   \n75%             1.40000    140.000000    1.000000    1.00000  203.000000   \nmax             9.40000    148.000000    1.000000    1.00000  285.000000   \n\n       DEATH_EVENT  \ncount    299.00000  \nmean       0.32107  \nstd        0.46767  \nmin        0.00000  \n25%        0.00000  \n50%        0.00000  \n75%        1.00000  \nmax        1.00000  ",
            "text/html": "<div>\n<style scoped>\n    .dataframe tbody tr th:only-of-type {\n        vertical-align: middle;\n    }\n\n    .dataframe tbody tr th {\n        vertical-align: top;\n    }\n\n    .dataframe thead th {\n        text-align: right;\n    }\n</style>\n<table border=\"1\" class=\"dataframe\">\n  <thead>\n    <tr style=\"text-align: right;\">\n      <th></th>\n      <th>age</th>\n      <th>anaemia</th>\n      <th>creatinine_phosphokinase</th>\n      <th>diabetes</th>\n      <th>ejection_fraction</th>\n      <th>high_blood_pressure</th>\n      <th>platelets</th>\n      <th>serum_creatinine</th>\n      <th>serum_sodium</th>\n      <th>sex</th>\n      <th>smoking</th>\n      <th>time</th>\n      <th>DEATH_EVENT</th>\n    </tr>\n  </thead>\n  <tbody>\n    <tr>\n      <th>count</th>\n      <td>299.000000</td>\n      <td>299.000000</td>\n      <td>299.000000</td>\n      <td>299.000000</td>\n      <td>299.000000</td>\n      <td>299.000000</td>\n      <td>299.000000</td>\n      <td>299.00000</td>\n      <td>299.000000</td>\n      <td>299.000000</td>\n      <td>299.00000</td>\n      <td>299.000000</td>\n      <td>299.00000</td>\n    </tr>\n    <tr>\n      <th>mean</th>\n      <td>60.833893</td>\n      <td>0.431438</td>\n      <td>581.839465</td>\n      <td>0.418060</td>\n      <td>38.083612</td>\n      <td>0.351171</td>\n      <td>263358.029264</td>\n      <td>1.39388</td>\n      <td>136.625418</td>\n      <td>0.648829</td>\n      <td>0.32107</td>\n      <td>130.260870</td>\n      <td>0.32107</td>\n    </tr>\n    <tr>\n      <th>std</th>\n      <td>11.894809</td>\n      <td>0.496107</td>\n      <td>970.287881</td>\n      <td>0.494067</td>\n      <td>11.834841</td>\n      <td>0.478136</td>\n      <td>97804.236869</td>\n      <td>1.03451</td>\n      <td>4.412477</td>\n      <td>0.478136</td>\n      <td>0.46767</td>\n      <td>77.614208</td>\n      <td>0.46767</td>\n    </tr>\n    <tr>\n      <th>min</th>\n      <td>40.000000</td>\n      <td>0.000000</td>\n      <td>23.000000</td>\n      <td>0.000000</td>\n      <td>14.000000</td>\n      <td>0.000000</td>\n      <td>25100.000000</td>\n      <td>0.50000</td>\n      <td>113.000000</td>\n      <td>0.000000</td>\n      <td>0.00000</td>\n      <td>4.000000</td>\n      <td>0.00000</td>\n    </tr>\n    <tr>\n      <th>25%</th>\n      <td>51.000000</td>\n      <td>0.000000</td>\n      <td>116.500000</td>\n      <td>0.000000</td>\n      <td>30.000000</td>\n      <td>0.000000</td>\n      <td>212500.000000</td>\n      <td>0.90000</td>\n      <td>134.000000</td>\n      <td>0.000000</td>\n      <td>0.00000</td>\n      <td>73.000000</td>\n      <td>0.00000</td>\n    </tr>\n    <tr>\n      <th>50%</th>\n      <td>60.000000</td>\n      <td>0.000000</td>\n      <td>250.000000</td>\n      <td>0.000000</td>\n      <td>38.000000</td>\n      <td>0.000000</td>\n      <td>262000.000000</td>\n      <td>1.10000</td>\n      <td>137.000000</td>\n      <td>1.000000</td>\n      <td>0.00000</td>\n      <td>115.000000</td>\n      <td>0.00000</td>\n    </tr>\n    <tr>\n      <th>75%</th>\n      <td>70.000000</td>\n      <td>1.000000</td>\n      <td>582.000000</td>\n      <td>1.000000</td>\n      <td>45.000000</td>\n      <td>1.000000</td>\n      <td>303500.000000</td>\n      <td>1.40000</td>\n      <td>140.000000</td>\n      <td>1.000000</td>\n      <td>1.00000</td>\n      <td>203.000000</td>\n      <td>1.00000</td>\n    </tr>\n    <tr>\n      <th>max</th>\n      <td>95.000000</td>\n      <td>1.000000</td>\n      <td>7861.000000</td>\n      <td>1.000000</td>\n      <td>80.000000</td>\n      <td>1.000000</td>\n      <td>850000.000000</td>\n      <td>9.40000</td>\n      <td>148.000000</td>\n      <td>1.000000</td>\n      <td>1.00000</td>\n      <td>285.000000</td>\n      <td>1.00000</td>\n    </tr>\n  </tbody>\n</table>\n</div>"
          },
          "metadata": {}
        }
      ],
      "execution_count": 3,
      "metadata": {
        "collapsed": true,
        "jupyter": {
          "source_hidden": false,
          "outputs_hidden": false
        },
        "nteract": {
          "transient": {
            "deleting": false
          }
        },
        "gather": {
          "logged": 1624381956219
        }
      }
    },
    {
      "cell_type": "markdown",
      "source": [
        "## AutoML Configuration\n",
        "\n",
        "TODO: Explain why you chose the automl settings and cofiguration you used below.\n",
        "\n",
        "I have chosen experimentation time out as the dataset is smaller and it can be covered within 20 minutes. \n",
        "The max concurrent iteration is 5 ( 1 less than total number of compute nodes in the cluster). \n",
        "The primary_metric is chosen as AUC_weighted orginally to handle balanced data better. \n"
      ],
      "metadata": {}
    },
    {
      "cell_type": "code",
      "source": [
        "# TODO: Put your automl settings here\n",
        "automl_settings = {\n",
        "    \"experiment_timeout_minutes\": 20,\n",
        "    \"max_concurrent_iterations\": 5,\n",
        "    \"primary_metric\" : 'AUC_weighted'\n",
        "}\n",
        "\n",
        "# TODO: Put your automl config here\n",
        "automl_config = AutoMLConfig(compute_target=compute_target,\n",
        "                             task = \"classification\",\n",
        "                             training_data=dataset,\n",
        "                             label_column_name=\"DEATH_EVENT\",   \n",
        "                             path = project_folder,\n",
        "                             enable_early_stopping= True,\n",
        "                             featurization= 'auto',\n",
        "                             debug_log = \"automl_errors.log\",\n",
        "                             **automl_settings\n",
        "                            )"
      ],
      "outputs": [],
      "execution_count": 14,
      "metadata": {
        "gather": {
          "logged": 1624382826574
        },
        "jupyter": {
          "outputs_hidden": false,
          "source_hidden": false
        },
        "nteract": {
          "transient": {
            "deleting": false
          }
        }
      }
    },
    {
      "cell_type": "code",
      "source": [
        "# TODO: Submit your experiment\n",
        "remote_run = experiment.submit(automl_config)"
      ],
      "outputs": [
        {
          "output_type": "stream",
          "name": "stdout",
          "text": [
            "Submitting remote run.\n"
          ]
        },
        {
          "output_type": "display_data",
          "data": {
            "text/plain": "<IPython.core.display.HTML object>",
            "text/html": "<table style=\"width:100%\"><tr><th>Experiment</th><th>Id</th><th>Type</th><th>Status</th><th>Details Page</th><th>Docs Page</th></tr><tr><td>CapstoneProject</td><td>AutoML_bd0b099e-b97b-4fd1-993f-6bc161325d61</td><td>automl</td><td>NotStarted</td><td><a href=\"https://ml.azure.com/runs/AutoML_bd0b099e-b97b-4fd1-993f-6bc161325d61?wsid=/subscriptions/5a4ab2ba-6c51-4805-8155-58759ad589d8/resourcegroups/aml-quickstarts-147713/workspaces/quick-starts-ws-147713&amp;tid=660b3398-b80e-49d2-bc5b-ac1dc93b5254\" target=\"_blank\" rel=\"noopener\">Link to Azure Machine Learning studio</a></td><td><a href=\"https://docs.microsoft.com/en-us/python/api/overview/azure/ml/intro?view=azure-ml-py\" target=\"_blank\" rel=\"noopener\">Link to Documentation</a></td></tr></table>"
          },
          "metadata": {}
        }
      ],
      "execution_count": 15,
      "metadata": {
        "gather": {
          "logged": 1624382838335
        },
        "jupyter": {
          "outputs_hidden": false,
          "source_hidden": false
        },
        "nteract": {
          "transient": {
            "deleting": false
          }
        }
      }
    },
    {
      "cell_type": "markdown",
      "source": [
        "## Run Details\n",
        "\n",
        "OPTIONAL: Write about the different models trained and their performance. Why do you think some models did better than others?\n",
        "\n",
        "TODO: In the cell below, use the `RunDetails` widget to show the different experiments."
      ],
      "metadata": {}
    },
    {
      "cell_type": "code",
      "source": [
        "from azureml.widgets import RunDetails\r\n",
        "RunDetails(remote_run).show()"
      ],
      "outputs": [
        {
          "output_type": "display_data",
          "data": {
            "text/plain": "_AutoMLWidget(widget_settings={'childWidgetDisplay': 'popup', 'send_telemetry': False, 'log_level': 'INFO', 's…",
            "application/vnd.jupyter.widget-view+json": {
              "version_major": 2,
              "version_minor": 0,
              "model_id": "4478bd4757424a0f9e63e3f2b5173da1"
            }
          },
          "metadata": {}
        },
        {
          "output_type": "display_data",
          "data": {
            "application/aml.mini.widget.v1": "{\"status\": \"Running\", \"workbench_run_details_uri\": \"https://ml.azure.com/runs/AutoML_bd0b099e-b97b-4fd1-993f-6bc161325d61?wsid=/subscriptions/5a4ab2ba-6c51-4805-8155-58759ad589d8/resourcegroups/aml-quickstarts-147713/workspaces/quick-starts-ws-147713&tid=660b3398-b80e-49d2-bc5b-ac1dc93b5254\", \"run_id\": \"AutoML_bd0b099e-b97b-4fd1-993f-6bc161325d61\", \"run_properties\": {\"run_id\": \"AutoML_bd0b099e-b97b-4fd1-993f-6bc161325d61\", \"created_utc\": \"2021-06-22T17:27:16.082899Z\", \"properties\": {\"num_iterations\": \"1000\", \"training_type\": \"TrainFull\", \"acquisition_function\": \"EI\", \"primary_metric\": \"AUC_weighted\", \"train_split\": \"0\", \"acquisition_parameter\": \"0\", \"num_cross_validation\": null, \"target\": \"CapstoneAML\", \"AMLSettingsJsonString\": \"{\\\"path\\\":null,\\\"name\\\":\\\"CapstoneProject\\\",\\\"subscription_id\\\":\\\"5a4ab2ba-6c51-4805-8155-58759ad589d8\\\",\\\"resource_group\\\":\\\"aml-quickstarts-147713\\\",\\\"workspace_name\\\":\\\"quick-starts-ws-147713\\\",\\\"region\\\":\\\"southcentralus\\\",\\\"compute_target\\\":\\\"CapstoneAML\\\",\\\"spark_service\\\":null,\\\"azure_service\\\":\\\"remote\\\",\\\"many_models\\\":false,\\\"pipeline_fetch_max_batch_size\\\":1,\\\"enable_batch_run\\\":false,\\\"enable_run_restructure\\\":false,\\\"start_auxiliary_runs_before_parent_complete\\\":false,\\\"enable_code_generation\\\":false,\\\"iterations\\\":1000,\\\"primary_metric\\\":\\\"AUC_weighted\\\",\\\"task_type\\\":\\\"classification\\\",\\\"data_script\\\":null,\\\"test_size\\\":0.0,\\\"validation_size\\\":0.0,\\\"n_cross_validations\\\":null,\\\"y_min\\\":null,\\\"y_max\\\":null,\\\"num_classes\\\":null,\\\"featurization\\\":\\\"auto\\\",\\\"_ignore_package_version_incompatibilities\\\":false,\\\"is_timeseries\\\":false,\\\"max_cores_per_iteration\\\":1,\\\"max_concurrent_iterations\\\":5,\\\"iteration_timeout_minutes\\\":null,\\\"mem_in_mb\\\":null,\\\"enforce_time_on_windows\\\":false,\\\"experiment_timeout_minutes\\\":20,\\\"experiment_exit_score\\\":null,\\\"whitelist_models\\\":null,\\\"blacklist_algos\\\":[\\\"TensorFlowLinearClassifier\\\",\\\"TensorFlowDNN\\\"],\\\"supported_models\\\":[\\\"TensorFlowDNN\\\",\\\"LinearSVM\\\",\\\"MultinomialNaiveBayes\\\",\\\"TensorFlowLinearClassifier\\\",\\\"RandomForest\\\",\\\"SVM\\\",\\\"BernoulliNaiveBayes\\\",\\\"GradientBoosting\\\",\\\"SGD\\\",\\\"DecisionTree\\\",\\\"XGBoostClassifier\\\",\\\"LogisticRegression\\\",\\\"LightGBM\\\",\\\"AveragedPerceptronClassifier\\\",\\\"ExtremeRandomTrees\\\",\\\"KNN\\\"],\\\"private_models\\\":[],\\\"auto_blacklist\\\":true,\\\"blacklist_samples_reached\\\":false,\\\"exclude_nan_labels\\\":true,\\\"verbosity\\\":20,\\\"_debug_log\\\":\\\"azureml_automl.log\\\",\\\"show_warnings\\\":false,\\\"model_explainability\\\":true,\\\"service_url\\\":null,\\\"sdk_url\\\":null,\\\"sdk_packages\\\":null,\\\"enable_onnx_compatible_models\\\":false,\\\"enable_split_onnx_featurizer_estimator_models\\\":false,\\\"vm_type\\\":\\\"STANDARD_DS3_V2\\\",\\\"telemetry_verbosity\\\":20,\\\"send_telemetry\\\":true,\\\"enable_dnn\\\":false,\\\"scenario\\\":\\\"SDK-1.13.0\\\",\\\"environment_label\\\":null,\\\"save_mlflow\\\":false,\\\"force_text_dnn\\\":false,\\\"enable_feature_sweeping\\\":true,\\\"enable_early_stopping\\\":true,\\\"early_stopping_n_iters\\\":10,\\\"metrics\\\":null,\\\"enable_metric_confidence\\\":false,\\\"enable_ensembling\\\":true,\\\"enable_stack_ensembling\\\":true,\\\"ensemble_iterations\\\":15,\\\"enable_tf\\\":false,\\\"enable_subsampling\\\":null,\\\"subsample_seed\\\":null,\\\"enable_nimbusml\\\":false,\\\"enable_streaming\\\":false,\\\"force_streaming\\\":false,\\\"track_child_runs\\\":true,\\\"allowed_private_models\\\":[],\\\"label_column_name\\\":\\\"DEATH_EVENT\\\",\\\"weight_column_name\\\":null,\\\"cv_split_column_names\\\":null,\\\"enable_local_managed\\\":false,\\\"_local_managed_run_id\\\":null,\\\"cost_mode\\\":1,\\\"lag_length\\\":0,\\\"metric_operation\\\":\\\"maximize\\\",\\\"preprocess\\\":true}\", \"DataPrepJsonString\": \"{\\\\\\\"training_data\\\\\\\": {\\\\\\\"datasetId\\\\\\\": \\\\\\\"4c0f1ee9-2911-41b1-be38-9aee6af4446a\\\\\\\"}, \\\\\\\"datasets\\\\\\\": 0}\", \"EnableSubsampling\": null, \"runTemplate\": \"AutoML\", \"azureml.runsource\": \"automl\", \"display_task_type\": \"classification\", \"dependencies_versions\": \"{\\\"azureml-widgets\\\": \\\"1.30.0\\\", \\\"azureml-train\\\": \\\"1.30.0\\\", \\\"azureml-train-restclients-hyperdrive\\\": \\\"1.30.0\\\", \\\"azureml-train-core\\\": \\\"1.30.0\\\", \\\"azureml-train-automl\\\": \\\"1.30.0\\\", \\\"azureml-train-automl-runtime\\\": \\\"1.30.0\\\", \\\"azureml-train-automl-client\\\": \\\"1.30.0\\\", \\\"azureml-tensorboard\\\": \\\"1.30.0\\\", \\\"azureml-telemetry\\\": \\\"1.30.0\\\", \\\"azureml-sdk\\\": \\\"1.30.0\\\", \\\"azureml-samples\\\": \\\"0+unknown\\\", \\\"azureml-pipeline\\\": \\\"1.30.0\\\", \\\"azureml-pipeline-steps\\\": \\\"1.30.0\\\", \\\"azureml-pipeline-core\\\": \\\"1.30.0\\\", \\\"azureml-opendatasets\\\": \\\"1.30.0\\\", \\\"azureml-model-management-sdk\\\": \\\"1.0.1b6.post1\\\", \\\"azureml-mlflow\\\": \\\"1.30.0\\\", \\\"azureml-interpret\\\": \\\"1.30.0\\\", \\\"azureml-explain-model\\\": \\\"1.30.0\\\", \\\"azureml-defaults\\\": \\\"1.30.0\\\", \\\"azureml-dataset-runtime\\\": \\\"1.30.0\\\", \\\"azureml-dataprep\\\": \\\"2.15.1\\\", \\\"azureml-dataprep-rslex\\\": \\\"1.13.0\\\", \\\"azureml-dataprep-native\\\": \\\"33.0.0\\\", \\\"azureml-datadrift\\\": \\\"1.30.0\\\", \\\"azureml-core\\\": \\\"1.30.0\\\", \\\"azureml-contrib-services\\\": \\\"1.30.0\\\", \\\"azureml-contrib-server\\\": \\\"1.30.0\\\", \\\"azureml-contrib-reinforcementlearning\\\": \\\"1.30.0\\\", \\\"azureml-contrib-pipeline-steps\\\": \\\"1.30.0\\\", \\\"azureml-contrib-notebook\\\": \\\"1.30.0\\\", \\\"azureml-contrib-fairness\\\": \\\"1.30.0\\\", \\\"azureml-contrib-dataset\\\": \\\"1.30.0\\\", \\\"azureml-cli-common\\\": \\\"1.30.0\\\", \\\"azureml-automl-runtime\\\": \\\"1.30.0\\\", \\\"azureml-automl-dnn-nlp\\\": \\\"1.30.0\\\", \\\"azureml-automl-core\\\": \\\"1.30.0\\\", \\\"azureml-accel-models\\\": \\\"1.30.0\\\"}\", \"_aml_system_scenario_identification\": \"Remote.Parent\", \"ClientType\": \"SDK\", \"environment_cpu_name\": \"AzureML-AutoML\", \"environment_cpu_label\": \"prod\", \"environment_gpu_name\": \"AzureML-AutoML-GPU\", \"environment_gpu_label\": \"prod\", \"root_attribution\": \"automl\", \"attribution\": \"AutoML\", \"Orchestrator\": \"AutoML\", \"CancelUri\": \"https://southcentralus.api.azureml.ms/jasmine/v1.0/subscriptions/5a4ab2ba-6c51-4805-8155-58759ad589d8/resourceGroups/aml-quickstarts-147713/providers/Microsoft.MachineLearningServices/workspaces/quick-starts-ws-147713/experimentids/392252e2-e260-483f-a413-f89694efadb0/cancel/AutoML_bd0b099e-b97b-4fd1-993f-6bc161325d61\", \"azureml.git.repository_uri\": \"https://github.com/arunanshupandey/nd00333-capstone.git\", \"mlflow.source.git.repoURL\": \"https://github.com/arunanshupandey/nd00333-capstone.git\", \"azureml.git.branch\": \"master\", \"mlflow.source.git.branch\": \"master\", \"azureml.git.commit\": \"bb8bb394f2d1a40e23f582b5c1b308628e329b33\", \"mlflow.source.git.commit\": \"bb8bb394f2d1a40e23f582b5c1b308628e329b33\", \"azureml.git.dirty\": \"False\", \"ClientSdkVersion\": \"1.30.0\", \"snapshotId\": \"00000000-0000-0000-0000-000000000000\", \"SetupRunId\": \"AutoML_bd0b099e-b97b-4fd1-993f-6bc161325d61_setup\", \"SetupRunContainerId\": \"dcid.AutoML_bd0b099e-b97b-4fd1-993f-6bc161325d61_setup\", \"FeaturizationRunJsonPath\": \"featurizer_container.json\", \"FeaturizationRunId\": \"AutoML_bd0b099e-b97b-4fd1-993f-6bc161325d61_featurize\", \"ProblemInfoJsonString\": \"{\\\"dataset_num_categorical\\\": 0, \\\"is_sparse\\\": false, \\\"subsampling\\\": false, \\\"has_extra_col\\\": true, \\\"dataset_classes\\\": 2, \\\"dataset_features\\\": 12, \\\"dataset_samples\\\": 299, \\\"single_frequency_class_detected\\\": false}\"}, \"tags\": {\"model_explain_run\": \"best_run\", \"_aml_system_azureml.automlComponent\": \"AutoML\", \"pipeline_id\": \"<5dfac790c5c209f98a1da2dc1c7fb76f0397324f>;<cf1dc9b7ea4a50d759bce352343ec6737501695a>;<62c0e30b2e9113b3ecd95bcf5b31423c72074070>;<8de8c085d2a4b23d3f4cc392a2f2660d23d38c14>;<032c2f067189c1f56172ca21b98c8843539dd9de>;<b19eeb61727e9c4fbb5aa45fb6e9fe3fab5b1f04>;<c7af0367625be6ac5c2fecbfc72ed444cb7a2111>;<713f188a27b176644f73e8664c667c674a2d3d62>;<4d4be808b8b6dd0f67e8354c79eddd3d712440a5>;<0b53a0ee85548e5ca038c9528fe2b2c6bdca344c>;<f74eba2157312718bd99b95a26c10ce8d0507265>;<6faa1bb6e5420ca429456af6f3430ed61c0680bb>;<84f353ee505484d17af765441b00eb466a22fd74>;<64d243434fd3324240f2d6ec53b7c85072a706f0>;<9c42f57095570c60c75cb03f9135641fb2e8b07e>;<7e356d205674f1e9bc1a12a8f1e724ef7f5703bd>;<22ff711585f7d612cb5545b13e4f726a7baea08b>;<644b67c67a3167cae43bb632e070a07c98f8e659>;<1fd5868c208aedafb2bfd358f8d40174211c5606>;<ce2643edf3d450b10c86c7d034a9bc952dc282d3>;<784a782a98099dfe65001ce6234d77bbeb4dbbb4>;<19ffa0b5813a11fb58f0307c4b67f7c2427d4abe>;<a8d83e5d39ed50730081dbb8d2d0b046d6e55998>;<5deecfce5e556e579298341c0ed1f8e9dc8537ab>;<d94789ecf0b6084791fa7d1e8af3d45c373c7a88>;<2a4d6884653b914a3c776e7938f6ae32acfc26c6>;<eac31ac3cd2663835005205e4a76caaeb85d7a31>;<82b44c1c0d90d743925aa4a3a87da0fcdb3ccc6e>;<c1585b6467058f1f248e3c9070c4749e410885fd>;<9934b96a8517b85cc7738ce046bc68a8b57d1779>;<512db1e211e02eeae02805cee9881c0fb6a004fc>;<78f9975d7004fd132eedc64ba4da0f322ed443aa>;<46066aec7a7e1f329ccb68989636d5484f726ae4>;<fce9cbb45e12a1de9e002997fb16ef7abff5a367>;<6dc8c469a4a277b3587f6d2dac831f7f1bae5409>;<2f68ae9684024cbd6c382ec1dbb6ac3f1fe27f9a>;<95b7ed39fb7f297981efc3fca8efe065ef8e066e>;\", \"score\": \"<0.8840955354735103>;<0.8940867722116005>;<0.8706414242952573>;<0.8930946552261199>;<0.9065489482929985>;<0.8890849668637998>;<0.8847369443591411>;<0.8923564744513138>;<0.8875562310200182>;<0.7496161006793443>;<0.8771395804233905>;<0.9000766522146384>;<0.8828882340072843>;<0.8683008014106413>;<0.8808236181142359>;<0.5203053263648802>;<0.8898846274942958>;<0.8294716760335182>;<0.8912371696148582>;<0.8882747730794927>;<0.882213208306229>;<0.8683651495889482>;<0.9071499795272107>;<0.9089099837731132>;<0.9026675435569601>;<0.9105575982666372>;<0.9008185924847252>;<0.9064204097749864>;<0.8972491004355421>;<0.8833026769272765>;<0.800591686933077>;<0.8558387721059347>;<0.9012169939836415>;<0.9084755895833128>;<0.9070536300126688>;<0.8783078448756939>;<0.9069372666955047>;\", \"predicted_cost\": \"<0>;<0.5>;<0.5>;<0.03162277359681643>;<0.5>;<0.5>;<0>;<0.01823559999999999>;<0.028567663767342575>;<0.002049540745214492>;<0.03057941262794885>;<0.0284737819522272>;<0.029504149332557444>;<0.014982361074937865>;<0.025822792600012762>;<0.024238572049892465>;<0.03269161199741856>;<0.03608529869718827>;<0.03633726061880009>;<0.03709418783813341>;<0.026806019317674224>;<0.04701107453415128>;<0.04318276101679343>;<0.022097166230131547>;<0.035282976668090535>;<0.030025313497605628>;<0.05682326582718797>;<0.03788246303365464>;<0.05800629431584987>;<0.05670854291498095>;<0.04354862796154825>;<0.025307302926228657>;<0.02676517092701481>;<0.08628049281614497>;<0.11481333494641731>;<0.03732822261961281>;<0.07713226148239392>;\", \"fit_time\": \"<0.027548499999999997>;<0.018235599999999998>;<0.06558420000000001>;<0.0234008>;<0.0523716>;<0.0234889>;<0.0280095>;<0.022423799999999997>;<0.0519405>;<0.003939>;<0.042062999999999996>;<0.0502109>;<0.0324208>;<0.004366899999999999>;<0.0237917>;<0.0060482>;<0.0380657>;<0.0975985>;<0.0672281>;<0.0195039>;<0.0240896>;<0.09117639999999999>;<0.1549189>;<0.006306600000000001>;<0.033174600000000005>;<0.0188674>;<0.066309>;<0.0959615>;<0.07466060000000001>;<0.12965220000000002>;<0.19198980000000002>;<0.0089822>;<0.0100125>;<0.6904429999999999>;<0.0607162>;<0.024565700000000003>;<0.0378326>;\", \"training_percent\": \"<100>;<100>;<100>;<100>;<100>;<100>;<100>;<100>;<100>;<100>;<100>;<100>;<100>;<100>;<100>;<100>;<100>;<100>;<100>;<100>;<100>;<100>;<100>;<100>;<100>;<100>;<100>;<100>;<100>;<100>;<100>;<100>;<100>;<100>;<100>;<100>;<100>;\", \"iteration\": \"<0>;<2>;<3>;<7>;<4>;<5>;<1>;<6>;<8>;<9>;<11>;<12>;<10>;<13>;<14>;<15>;<16>;<17>;<18>;<20>;<21>;<22>;<23>;<19>;<24>;<25>;<26>;<27>;<28>;<29>;<30>;<31>;<32>;<33>;<34>;<35>;<36>;\", \"run_preprocessor\": \"<MaxAbsScaler>;<MinMaxScaler>;<RobustScaler>;<MinMaxScaler>;<MinMaxScaler>;<MinMaxScaler>;<MaxAbsScaler>;<StandardScalerWrapper>;<MinMaxScaler>;<SparseNormalizer>;<RobustScaler>;<StandardScalerWrapper>;<MinMaxScaler>;<StandardScalerWrapper>;<RobustScaler>;<StandardScalerWrapper>;<MinMaxScaler>;<MinMaxScaler>;<MaxAbsScaler>;<MaxAbsScaler>;<MaxAbsScaler>;<MaxAbsScaler>;<MinMaxScaler>;<StandardScalerWrapper>;<StandardScalerWrapper>;<MinMaxScaler>;<StandardScalerWrapper>;<MinMaxScaler>;<StandardScalerWrapper>;<MaxAbsScaler>;<StandardScalerWrapper>;<StandardScalerWrapper>;<RobustScaler>;<RobustScaler>;<MaxAbsScaler>;<MaxAbsScaler>;<StandardScalerWrapper>;\", \"run_algorithm\": \"<LightGBM>;<RandomForest>;<ExtremeRandomTrees>;<ExtremeRandomTrees>;<RandomForest>;<RandomForest>;<XGBoostClassifier>;<RandomForest>;<ExtremeRandomTrees>;<KNN>;<ExtremeRandomTrees>;<RandomForest>;<ExtremeRandomTrees>;<SGD>;<RandomForest>;<KNN>;<RandomForest>;<ExtremeRandomTrees>;<RandomForest>;<RandomForest>;<ExtremeRandomTrees>;<ExtremeRandomTrees>;<RandomForest>;<XGBoostClassifier>;<XGBoostClassifier>;<RandomForest>;<XGBoostClassifier>;<ExtremeRandomTrees>;<XGBoostClassifier>;<RandomForest>;<RandomForest>;<LightGBM>;<LightGBM>;<RandomForest>;<LightGBM>;<RandomForest>;<LightGBM>;\", \"dynamic_whitelisting_iterations\": \"<25>;<30>;<35>;<40>;\"}, \"end_time_utc\": null, \"status\": \"Running\", \"log_files\": {}, \"log_groups\": [], \"run_duration\": \"0:12:47\", \"run_number\": \"1\", \"run_queued_details\": {\"status\": \"Running\", \"details\": null}}, \"child_runs\": [{\"run_id\": \"AutoML_bd0b099e-b97b-4fd1-993f-6bc161325d61_0\", \"run_number\": 5, \"metric\": null, \"status\": \"Completed\", \"run_type\": \"azureml.scriptrun\", \"training_percent\": \"100\", \"start_time\": \"2021-06-22T17:30:30.146309Z\", \"end_time\": \"2021-06-22T17:31:10.025092Z\", \"created_time\": \"2021-06-22T17:30:17.424258Z\", \"created_time_dt\": \"2021-06-22T17:30:17.424258Z\", \"duration\": \"0:00:52\", \"iteration\": \"0\", \"goal\": \"AUC_weighted_max\", \"run_name\": \"MaxAbsScaler, LightGBM\", \"run_properties\": \"copy=True\", \"primary_metric\": 0.88409554, \"best_metric\": 0.88409554}, {\"run_id\": \"AutoML_bd0b099e-b97b-4fd1-993f-6bc161325d61_4\", \"run_number\": 6, \"metric\": null, \"status\": \"Completed\", \"run_type\": \"azureml.scriptrun\", \"training_percent\": \"100\", \"start_time\": \"2021-06-22T17:32:36.156016Z\", \"end_time\": \"2021-06-22T17:34:12.950568Z\", \"created_time\": \"2021-06-22T17:30:17.454579Z\", \"created_time_dt\": \"2021-06-22T17:30:17.454579Z\", \"duration\": \"0:03:55\", \"iteration\": \"4\", \"goal\": \"AUC_weighted_max\", \"run_name\": \"MinMaxScaler, RandomForest\", \"run_properties\": \"copy=True, feature_range=(0, 1\", \"primary_metric\": 0.90654895, \"best_metric\": 0.90654895}, {\"run_id\": \"AutoML_bd0b099e-b97b-4fd1-993f-6bc161325d61_1\", \"run_number\": 7, \"metric\": null, \"status\": \"Completed\", \"run_type\": \"azureml.scriptrun\", \"training_percent\": \"100\", \"start_time\": \"2021-06-22T17:32:35.904794Z\", \"end_time\": \"2021-06-22T17:34:18.490956Z\", \"created_time\": \"2021-06-22T17:30:17.474435Z\", \"created_time_dt\": \"2021-06-22T17:30:17.474435Z\", \"duration\": \"0:04:01\", \"iteration\": \"1\", \"goal\": \"AUC_weighted_max\", \"run_name\": \"MaxAbsScaler, XGBoostClassifier\", \"run_properties\": \"copy=True\", \"primary_metric\": 0.88473694, \"best_metric\": 0.88473694}, {\"run_id\": \"AutoML_bd0b099e-b97b-4fd1-993f-6bc161325d61_3\", \"run_number\": 8, \"metric\": null, \"status\": \"Completed\", \"run_type\": \"azureml.scriptrun\", \"training_percent\": \"100\", \"start_time\": \"2021-06-22T17:32:20.069874Z\", \"end_time\": \"2021-06-22T17:32:57.523859Z\", \"created_time\": \"2021-06-22T17:30:17.476411Z\", \"created_time_dt\": \"2021-06-22T17:30:17.476411Z\", \"duration\": \"0:02:40\", \"iteration\": \"3\", \"goal\": \"AUC_weighted_max\", \"run_name\": \"RobustScaler, ExtremeRandomTrees\", \"run_properties\": \"copy=True, quantile_range=[10, 90], with_centering=False,\\n             with_scaling=False\", \"primary_metric\": 0.87064142, \"best_metric\": 0.89408677}, {\"run_id\": \"AutoML_bd0b099e-b97b-4fd1-993f-6bc161325d61_2\", \"run_number\": 9, \"metric\": null, \"status\": \"Completed\", \"run_type\": \"azureml.scriptrun\", \"training_percent\": \"100\", \"start_time\": \"2021-06-22T17:31:24.555648Z\", \"end_time\": \"2021-06-22T17:32:04.593069Z\", \"created_time\": \"2021-06-22T17:30:17.53892Z\", \"created_time_dt\": \"2021-06-22T17:30:17.53892Z\", \"duration\": \"0:01:47\", \"iteration\": \"2\", \"goal\": \"AUC_weighted_max\", \"run_name\": \"MinMaxScaler, RandomForest\", \"run_properties\": \"copy=True, feature_range=(0, 1\", \"primary_metric\": 0.89408677, \"best_metric\": 0.89408677}, {\"run_id\": \"AutoML_bd0b099e-b97b-4fd1-993f-6bc161325d61_5\", \"run_number\": 10, \"metric\": null, \"status\": \"Completed\", \"run_type\": \"azureml.scriptrun\", \"training_percent\": \"100\", \"start_time\": \"2021-06-22T17:32:37.065481Z\", \"end_time\": \"2021-06-22T17:34:18.511435Z\", \"created_time\": \"2021-06-22T17:31:11.720422Z\", \"created_time_dt\": \"2021-06-22T17:31:11.720422Z\", \"duration\": \"0:03:06\", \"iteration\": \"5\", \"goal\": \"AUC_weighted_max\", \"run_name\": \"MinMaxScaler, RandomForest\", \"run_properties\": \"copy=True, feature_range=(0, 1\", \"primary_metric\": 0.88908497, \"best_metric\": 0.90654895}, {\"run_id\": \"AutoML_bd0b099e-b97b-4fd1-993f-6bc161325d61_6\", \"run_number\": 11, \"metric\": null, \"status\": \"Completed\", \"run_type\": \"azureml.scriptrun\", \"training_percent\": \"100\", \"start_time\": \"2021-06-22T17:32:34.599323Z\", \"end_time\": \"2021-06-22T17:34:25.145833Z\", \"created_time\": \"2021-06-22T17:32:07.648284Z\", \"created_time_dt\": \"2021-06-22T17:32:07.648284Z\", \"duration\": \"0:02:17\", \"iteration\": \"6\", \"goal\": \"AUC_weighted_max\", \"run_name\": \"StandardScalerWrapper, RandomForest\", \"run_properties\": \"\\n    copy=True,\\n    with_mean=True,\\n    with_std=False\\n\", \"primary_metric\": 0.89235647, \"best_metric\": 0.90654895}, {\"run_id\": \"AutoML_bd0b099e-b97b-4fd1-993f-6bc161325d61_7\", \"run_number\": 12, \"metric\": null, \"status\": \"Completed\", \"run_type\": \"azureml.scriptrun\", \"training_percent\": \"100\", \"start_time\": \"2021-06-22T17:33:12.853462Z\", \"end_time\": \"2021-06-22T17:33:49.931134Z\", \"created_time\": \"2021-06-22T17:33:00.793663Z\", \"created_time_dt\": \"2021-06-22T17:33:00.793663Z\", \"duration\": \"0:00:49\", \"iteration\": \"7\", \"goal\": \"AUC_weighted_max\", \"run_name\": \"MinMaxScaler, ExtremeRandomTrees\", \"run_properties\": \"copy=True, feature_range=(0, 1\", \"primary_metric\": 0.89309466, \"best_metric\": 0.90654895}, {\"run_id\": \"AutoML_bd0b099e-b97b-4fd1-993f-6bc161325d61_8\", \"run_number\": 13, \"metric\": null, \"status\": \"Completed\", \"run_type\": \"azureml.scriptrun\", \"training_percent\": \"100\", \"start_time\": \"2021-06-22T17:34:05.753801Z\", \"end_time\": \"2021-06-22T17:34:51.263929Z\", \"created_time\": \"2021-06-22T17:33:53.379758Z\", \"created_time_dt\": \"2021-06-22T17:33:53.379758Z\", \"duration\": \"0:00:57\", \"iteration\": \"8\", \"goal\": \"AUC_weighted_max\", \"run_name\": \"MinMaxScaler, ExtremeRandomTrees\", \"run_properties\": \"copy=True, feature_range=(0, 1\", \"primary_metric\": 0.88755623, \"best_metric\": 0.90654895}, {\"run_id\": \"AutoML_bd0b099e-b97b-4fd1-993f-6bc161325d61_9\", \"run_number\": 14, \"metric\": null, \"status\": \"Completed\", \"run_type\": \"azureml.scriptrun\", \"training_percent\": \"100\", \"start_time\": \"2021-06-22T17:34:30.450951Z\", \"end_time\": \"2021-06-22T17:35:05.184095Z\", \"created_time\": \"2021-06-22T17:34:15.846128Z\", \"created_time_dt\": \"2021-06-22T17:34:15.846128Z\", \"duration\": \"0:00:49\", \"iteration\": \"9\", \"goal\": \"AUC_weighted_max\", \"run_name\": \"SparseNormalizer, KNN\", \"run_properties\": \"copy=True, norm='l2'\", \"primary_metric\": 0.7496161, \"best_metric\": 0.90654895}, {\"run_id\": \"AutoML_bd0b099e-b97b-4fd1-993f-6bc161325d61_10\", \"run_number\": 15, \"metric\": null, \"status\": \"Completed\", \"run_type\": \"azureml.scriptrun\", \"training_percent\": \"100\", \"start_time\": \"2021-06-22T17:34:32.050094Z\", \"end_time\": \"2021-06-22T17:35:11.488469Z\", \"created_time\": \"2021-06-22T17:34:21.650669Z\", \"created_time_dt\": \"2021-06-22T17:34:21.650669Z\", \"duration\": \"0:00:49\", \"iteration\": \"10\", \"goal\": \"AUC_weighted_max\", \"run_name\": \"MinMaxScaler, ExtremeRandomTrees\", \"run_properties\": \"copy=True, feature_range=(0, 1\", \"primary_metric\": 0.88288823, \"best_metric\": 0.90654895}, {\"run_id\": \"AutoML_bd0b099e-b97b-4fd1-993f-6bc161325d61_11\", \"run_number\": 16, \"metric\": null, \"status\": \"Completed\", \"run_type\": \"azureml.scriptrun\", \"training_percent\": \"100\", \"start_time\": \"2021-06-22T17:34:29.367897Z\", \"end_time\": \"2021-06-22T17:35:08.028163Z\", \"created_time\": \"2021-06-22T17:34:21.657853Z\", \"created_time_dt\": \"2021-06-22T17:34:21.657853Z\", \"duration\": \"0:00:46\", \"iteration\": \"11\", \"goal\": \"AUC_weighted_max\", \"run_name\": \"RobustScaler, ExtremeRandomTrees\", \"run_properties\": \"copy=True, quantile_range=[10, 90], with_centering=True,\\n             with_scaling=False\", \"primary_metric\": 0.87713958, \"best_metric\": 0.90654895}, {\"run_id\": \"AutoML_bd0b099e-b97b-4fd1-993f-6bc161325d61_12\", \"run_number\": 17, \"metric\": null, \"status\": \"Completed\", \"run_type\": \"azureml.scriptrun\", \"training_percent\": \"100\", \"start_time\": \"2021-06-22T17:34:39.410156Z\", \"end_time\": \"2021-06-22T17:35:16.090835Z\", \"created_time\": \"2021-06-22T17:34:29.00641Z\", \"created_time_dt\": \"2021-06-22T17:34:29.00641Z\", \"duration\": \"0:00:47\", \"iteration\": \"12\", \"goal\": \"AUC_weighted_max\", \"run_name\": \"StandardScalerWrapper, RandomForest\", \"run_properties\": \"\\n    copy=True,\\n    with_mean=True,\\n    with_std=False\\n\", \"primary_metric\": 0.90007665, \"best_metric\": 0.90654895}, {\"run_id\": \"AutoML_bd0b099e-b97b-4fd1-993f-6bc161325d61_13\", \"run_number\": 18, \"metric\": null, \"status\": \"Completed\", \"run_type\": \"azureml.scriptrun\", \"training_percent\": \"100\", \"start_time\": \"2021-06-22T17:35:08.659331Z\", \"end_time\": \"2021-06-22T17:35:46.258763Z\", \"created_time\": \"2021-06-22T17:34:54.406349Z\", \"created_time_dt\": \"2021-06-22T17:34:54.406349Z\", \"duration\": \"0:00:51\", \"iteration\": \"13\", \"goal\": \"AUC_weighted_max\", \"run_name\": \"StandardScalerWrapper, SGD\", \"run_properties\": \"\\n    copy=True,\\n    with_mean=True,\\n    with_std=True\\n\", \"primary_metric\": 0.8683008, \"best_metric\": 0.90654895}, {\"run_id\": \"AutoML_bd0b099e-b97b-4fd1-993f-6bc161325d61_14\", \"run_number\": 19, \"metric\": null, \"status\": \"Completed\", \"run_type\": \"azureml.scriptrun\", \"training_percent\": \"100\", \"start_time\": \"2021-06-22T17:35:21.176444Z\", \"end_time\": \"2021-06-22T17:35:58.257479Z\", \"created_time\": \"2021-06-22T17:35:08.684717Z\", \"created_time_dt\": \"2021-06-22T17:35:08.684717Z\", \"duration\": \"0:00:49\", \"iteration\": \"14\", \"goal\": \"AUC_weighted_max\", \"run_name\": \"RobustScaler, RandomForest\", \"run_properties\": \"copy=True, quantile_range=[10, 90], with_centering=True,\\n             with_scaling=False\", \"primary_metric\": 0.88082362, \"best_metric\": 0.90654895}, {\"run_id\": \"AutoML_bd0b099e-b97b-4fd1-993f-6bc161325d61_15\", \"run_number\": 20, \"metric\": null, \"status\": \"Completed\", \"run_type\": \"azureml.scriptrun\", \"training_percent\": \"100\", \"start_time\": \"2021-06-22T17:35:27.395486Z\", \"end_time\": \"2021-06-22T17:36:03.400609Z\", \"created_time\": \"2021-06-22T17:35:17.942016Z\", \"created_time_dt\": \"2021-06-22T17:35:17.942016Z\", \"duration\": \"0:00:45\", \"iteration\": \"15\", \"goal\": \"AUC_weighted_max\", \"run_name\": \"StandardScalerWrapper, KNN\", \"run_properties\": \"\\n    copy=True,\\n    with_mean=True,\\n    with_std=False\\n\", \"primary_metric\": 0.52030533, \"best_metric\": 0.90654895}, {\"run_id\": \"AutoML_bd0b099e-b97b-4fd1-993f-6bc161325d61_16\", \"run_number\": 21, \"metric\": null, \"status\": \"Completed\", \"run_type\": \"azureml.scriptrun\", \"training_percent\": \"100\", \"start_time\": \"2021-06-22T17:35:31.585881Z\", \"end_time\": \"2021-06-22T17:36:10.128826Z\", \"created_time\": \"2021-06-22T17:35:24.155673Z\", \"created_time_dt\": \"2021-06-22T17:35:24.155673Z\", \"duration\": \"0:00:45\", \"iteration\": \"16\", \"goal\": \"AUC_weighted_max\", \"run_name\": \"MinMaxScaler, RandomForest\", \"run_properties\": \"copy=True, feature_range=(0, 1\", \"primary_metric\": 0.88988463, \"best_metric\": 0.90654895}, {\"run_id\": \"AutoML_bd0b099e-b97b-4fd1-993f-6bc161325d61_17\", \"run_number\": 22, \"metric\": null, \"status\": \"Completed\", \"run_type\": \"azureml.scriptrun\", \"training_percent\": \"100\", \"start_time\": \"2021-06-22T17:35:32.204095Z\", \"end_time\": \"2021-06-22T17:36:10.886881Z\", \"created_time\": \"2021-06-22T17:35:24.16696Z\", \"created_time_dt\": \"2021-06-22T17:35:24.16696Z\", \"duration\": \"0:00:46\", \"iteration\": \"17\", \"goal\": \"AUC_weighted_max\", \"run_name\": \"MinMaxScaler, ExtremeRandomTrees\", \"run_properties\": \"copy=True, feature_range=(0, 1\", \"primary_metric\": 0.82947168, \"best_metric\": 0.90654895}, {\"run_id\": \"AutoML_bd0b099e-b97b-4fd1-993f-6bc161325d61_18\", \"run_number\": 23, \"metric\": null, \"status\": \"Completed\", \"run_type\": \"azureml.scriptrun\", \"training_percent\": \"100\", \"start_time\": \"2021-06-22T17:36:04.168032Z\", \"end_time\": \"2021-06-22T17:36:42.069431Z\", \"created_time\": \"2021-06-22T17:35:49.414227Z\", \"created_time_dt\": \"2021-06-22T17:35:49.414227Z\", \"duration\": \"0:00:52\", \"iteration\": \"18\", \"goal\": \"AUC_weighted_max\", \"run_name\": \"MaxAbsScaler, RandomForest\", \"run_properties\": \"copy=True\", \"primary_metric\": 0.89123717, \"best_metric\": 0.90654895}, {\"run_id\": \"AutoML_bd0b099e-b97b-4fd1-993f-6bc161325d61_19\", \"run_number\": 24, \"metric\": null, \"status\": \"Completed\", \"run_type\": \"azureml.scriptrun\", \"training_percent\": \"100\", \"start_time\": \"2021-06-22T17:36:11.514061Z\", \"end_time\": \"2021-06-22T17:37:40.894704Z\", \"created_time\": \"2021-06-22T17:36:01.721605Z\", \"created_time_dt\": \"2021-06-22T17:36:01.721605Z\", \"duration\": \"0:01:39\", \"iteration\": \"19\", \"goal\": \"AUC_weighted_max\", \"run_name\": \"StandardScalerWrapper, XGBoostClassifier\", \"run_properties\": \"\\n    copy=True,\\n    with_mean=False,\\n    with_std=False\\n\", \"primary_metric\": 0.90890998, \"best_metric\": 0.90890998}, {\"run_id\": \"AutoML_bd0b099e-b97b-4fd1-993f-6bc161325d61_20\", \"run_number\": 25, \"metric\": null, \"status\": \"Completed\", \"run_type\": \"azureml.scriptrun\", \"training_percent\": \"100\", \"start_time\": \"2021-06-22T17:36:15.500924Z\", \"end_time\": \"2021-06-22T17:36:51.310579Z\", \"created_time\": \"2021-06-22T17:36:06.734134Z\", \"created_time_dt\": \"2021-06-22T17:36:06.734134Z\", \"duration\": \"0:00:44\", \"iteration\": \"20\", \"goal\": \"AUC_weighted_max\", \"run_name\": \"MaxAbsScaler, RandomForest\", \"run_properties\": \"copy=True\", \"primary_metric\": 0.88827477, \"best_metric\": 0.90890998}, {\"run_id\": \"AutoML_bd0b099e-b97b-4fd1-993f-6bc161325d61_21\", \"run_number\": 26, \"metric\": null, \"status\": \"Completed\", \"run_type\": \"azureml.scriptrun\", \"training_percent\": \"100\", \"start_time\": \"2021-06-22T17:36:21.428553Z\", \"end_time\": \"2021-06-22T17:37:02.866148Z\", \"created_time\": \"2021-06-22T17:36:13.869302Z\", \"created_time_dt\": \"2021-06-22T17:36:13.869302Z\", \"duration\": \"0:00:48\", \"iteration\": \"21\", \"goal\": \"AUC_weighted_max\", \"run_name\": \"MaxAbsScaler, ExtremeRandomTrees\", \"run_properties\": \"copy=True\", \"primary_metric\": 0.88221321, \"best_metric\": 0.90890998}, {\"run_id\": \"AutoML_bd0b099e-b97b-4fd1-993f-6bc161325d61_22\", \"run_number\": 27, \"metric\": null, \"status\": \"Completed\", \"run_type\": \"azureml.scriptrun\", \"training_percent\": \"100\", \"start_time\": \"2021-06-22T17:36:27.932846Z\", \"end_time\": \"2021-06-22T17:37:06.415145Z\", \"created_time\": \"2021-06-22T17:36:18.605724Z\", \"created_time_dt\": \"2021-06-22T17:36:18.605724Z\", \"duration\": \"0:00:47\", \"iteration\": \"22\", \"goal\": \"AUC_weighted_max\", \"run_name\": \"MaxAbsScaler, ExtremeRandomTrees\", \"run_properties\": \"copy=True\", \"primary_metric\": 0.86836515, \"best_metric\": 0.90890998}, {\"run_id\": \"AutoML_bd0b099e-b97b-4fd1-993f-6bc161325d61_23\", \"run_number\": 28, \"metric\": null, \"status\": \"Completed\", \"run_type\": \"azureml.scriptrun\", \"training_percent\": \"100\", \"start_time\": \"2021-06-22T17:36:53.287359Z\", \"end_time\": \"2021-06-22T17:37:34.699714Z\", \"created_time\": \"2021-06-22T17:36:45.558469Z\", \"created_time_dt\": \"2021-06-22T17:36:45.558469Z\", \"duration\": \"0:00:49\", \"iteration\": \"23\", \"goal\": \"AUC_weighted_max\", \"run_name\": \"MinMaxScaler, RandomForest\", \"run_properties\": \"copy=True, feature_range=(0, 1\", \"primary_metric\": 0.90714998, \"best_metric\": 0.90890998}, {\"run_id\": \"AutoML_bd0b099e-b97b-4fd1-993f-6bc161325d61_24\", \"run_number\": 29, \"metric\": null, \"status\": \"Completed\", \"run_type\": \"azureml.scriptrun\", \"training_percent\": \"100\", \"start_time\": \"2021-06-22T17:37:03.510601Z\", \"end_time\": \"2021-06-22T17:37:42.117389Z\", \"created_time\": \"2021-06-22T17:36:54.2526Z\", \"created_time_dt\": \"2021-06-22T17:36:54.2526Z\", \"duration\": \"0:00:47\", \"iteration\": \"24\", \"goal\": \"AUC_weighted_max\", \"run_name\": \"StandardScalerWrapper, XGBoostClassifier\", \"run_properties\": \"\\n    copy=True,\\n    with_mean=False,\\n    with_std=False\\n\", \"primary_metric\": 0.90266754, \"best_metric\": 0.90890998}, {\"run_id\": \"AutoML_bd0b099e-b97b-4fd1-993f-6bc161325d61_25\", \"run_number\": 30, \"metric\": null, \"status\": \"Completed\", \"run_type\": \"azureml.scriptrun\", \"training_percent\": \"100\", \"start_time\": \"2021-06-22T17:37:18.337395Z\", \"end_time\": \"2021-06-22T17:37:54.911405Z\", \"created_time\": \"2021-06-22T17:37:08.062298Z\", \"created_time_dt\": \"2021-06-22T17:37:08.062298Z\", \"duration\": \"0:00:46\", \"iteration\": \"25\", \"goal\": \"AUC_weighted_max\", \"run_name\": \"MinMaxScaler, RandomForest\", \"run_properties\": \"copy=True, feature_range=(0, 1\", \"primary_metric\": 0.9105576, \"best_metric\": 0.9105576}, {\"run_id\": \"AutoML_bd0b099e-b97b-4fd1-993f-6bc161325d61_26\", \"run_number\": 31, \"metric\": null, \"status\": \"Completed\", \"run_type\": \"azureml.scriptrun\", \"training_percent\": \"100\", \"start_time\": \"2021-06-22T17:37:19.587789Z\", \"end_time\": \"2021-06-22T17:37:55.533164Z\", \"created_time\": \"2021-06-22T17:37:11.75822Z\", \"created_time_dt\": \"2021-06-22T17:37:11.75822Z\", \"duration\": \"0:00:43\", \"iteration\": \"26\", \"goal\": \"AUC_weighted_max\", \"run_name\": \"StandardScalerWrapper, XGBoostClassifier\", \"run_properties\": \"\\n    copy=True,\\n    with_mean=False,\\n    with_std=False\\n\", \"primary_metric\": 0.90081859, \"best_metric\": 0.9105576}, {\"run_id\": \"AutoML_bd0b099e-b97b-4fd1-993f-6bc161325d61_27\", \"run_number\": 32, \"metric\": null, \"status\": \"Completed\", \"run_type\": \"azureml.scriptrun\", \"training_percent\": \"100\", \"start_time\": \"2021-06-22T17:37:47.41107Z\", \"end_time\": \"2021-06-22T17:38:23.969433Z\", \"created_time\": \"2021-06-22T17:37:37.434287Z\", \"created_time_dt\": \"2021-06-22T17:37:37.434287Z\", \"duration\": \"0:00:46\", \"iteration\": \"27\", \"goal\": \"AUC_weighted_max\", \"run_name\": \"MinMaxScaler, ExtremeRandomTrees\", \"run_properties\": \"copy=True, feature_range=(0, 1\", \"primary_metric\": 0.90642041, \"best_metric\": 0.9105576}, {\"run_id\": \"AutoML_bd0b099e-b97b-4fd1-993f-6bc161325d61_28\", \"run_number\": 33, \"metric\": null, \"status\": \"Completed\", \"run_type\": \"azureml.scriptrun\", \"training_percent\": \"100\", \"start_time\": \"2021-06-22T17:37:50.961464Z\", \"end_time\": \"2021-06-22T17:38:29.534528Z\", \"created_time\": \"2021-06-22T17:37:43.143294Z\", \"created_time_dt\": \"2021-06-22T17:37:43.143294Z\", \"duration\": \"0:00:46\", \"iteration\": \"28\", \"goal\": \"AUC_weighted_max\", \"run_name\": \"StandardScalerWrapper, XGBoostClassifier\", \"run_properties\": \"\\n    copy=True,\\n    with_mean=False,\\n    with_std=False\\n\", \"primary_metric\": 0.8972491, \"best_metric\": 0.9105576}, {\"run_id\": \"AutoML_bd0b099e-b97b-4fd1-993f-6bc161325d61_29\", \"run_number\": 34, \"metric\": null, \"status\": \"Completed\", \"run_type\": \"azureml.scriptrun\", \"training_percent\": \"100\", \"start_time\": \"2021-06-22T17:37:56.267769Z\", \"end_time\": \"2021-06-22T17:38:35.47606Z\", \"created_time\": \"2021-06-22T17:37:46.486561Z\", \"created_time_dt\": \"2021-06-22T17:37:46.486561Z\", \"duration\": \"0:00:48\", \"iteration\": \"29\", \"goal\": \"AUC_weighted_max\", \"run_name\": \"MaxAbsScaler, RandomForest\", \"run_properties\": \"copy=True\", \"primary_metric\": 0.88330268, \"best_metric\": 0.9105576}, {\"run_id\": \"AutoML_bd0b099e-b97b-4fd1-993f-6bc161325d61_30\", \"run_number\": 35, \"metric\": null, \"status\": \"Completed\", \"run_type\": \"azureml.scriptrun\", \"training_percent\": \"100\", \"start_time\": \"2021-06-22T17:38:07.942108Z\", \"end_time\": \"2021-06-22T17:38:47.102886Z\", \"created_time\": \"2021-06-22T17:37:58.013428Z\", \"created_time_dt\": \"2021-06-22T17:37:58.013428Z\", \"duration\": \"0:00:49\", \"iteration\": \"30\", \"goal\": \"AUC_weighted_max\", \"run_name\": \"StandardScalerWrapper, RandomForest\", \"run_properties\": \"\\n    copy=True,\\n    with_mean=False,\\n    with_std=False\\n\", \"primary_metric\": 0.80059169, \"best_metric\": 0.9105576}, {\"run_id\": \"AutoML_bd0b099e-b97b-4fd1-993f-6bc161325d61_31\", \"run_number\": 36, \"metric\": null, \"status\": \"Completed\", \"run_type\": \"azureml.scriptrun\", \"training_percent\": \"100\", \"start_time\": \"2021-06-22T17:38:13.502643Z\", \"end_time\": \"2021-06-22T17:38:47.917491Z\", \"created_time\": \"2021-06-22T17:38:01.422833Z\", \"created_time_dt\": \"2021-06-22T17:38:01.422833Z\", \"duration\": \"0:00:46\", \"iteration\": \"31\", \"goal\": \"AUC_weighted_max\", \"run_name\": \"StandardScalerWrapper, LightGBM\", \"run_properties\": \"\\n    copy=True,\\n    with_mean=False,\\n    with_std=False\\n\", \"primary_metric\": 0.85583877, \"best_metric\": 0.9105576}, {\"run_id\": \"AutoML_bd0b099e-b97b-4fd1-993f-6bc161325d61_32\", \"run_number\": 37, \"metric\": null, \"status\": \"Completed\", \"run_type\": \"azureml.scriptrun\", \"training_percent\": \"100\", \"start_time\": \"2021-06-22T17:38:35.873252Z\", \"end_time\": \"2021-06-22T17:39:15.137867Z\", \"created_time\": \"2021-06-22T17:38:25.988453Z\", \"created_time_dt\": \"2021-06-22T17:38:25.988453Z\", \"duration\": \"0:00:49\", \"iteration\": \"32\", \"goal\": \"AUC_weighted_max\", \"run_name\": \"RobustScaler, LightGBM\", \"run_properties\": \"copy=True, quantile_range=[10, 90], with_centering=True,\\n             with_scaling=True\", \"primary_metric\": 0.90121699, \"best_metric\": 0.9105576}, {\"run_id\": \"AutoML_bd0b099e-b97b-4fd1-993f-6bc161325d61_33\", \"run_number\": 38, \"metric\": null, \"status\": \"Completed\", \"run_type\": \"azureml.scriptrun\", \"training_percent\": \"100\", \"start_time\": \"2021-06-22T17:38:39.577274Z\", \"end_time\": \"2021-06-22T17:39:23.673249Z\", \"created_time\": \"2021-06-22T17:38:31.559361Z\", \"created_time_dt\": \"2021-06-22T17:38:31.559361Z\", \"duration\": \"0:00:52\", \"iteration\": \"33\", \"goal\": \"AUC_weighted_max\", \"run_name\": \"RobustScaler, RandomForest\", \"run_properties\": \"copy=True, quantile_range=[25, 75], with_centering=True,\\n             with_scaling=False\", \"primary_metric\": 0.90847559, \"best_metric\": 0.9105576}, {\"run_id\": \"AutoML_bd0b099e-b97b-4fd1-993f-6bc161325d61_34\", \"run_number\": 39, \"metric\": null, \"status\": \"Completed\", \"run_type\": \"azureml.scriptrun\", \"training_percent\": \"100\", \"start_time\": \"2021-06-22T17:38:47.546837Z\", \"end_time\": \"2021-06-22T17:39:26.778043Z\", \"created_time\": \"2021-06-22T17:38:37.664438Z\", \"created_time_dt\": \"2021-06-22T17:38:37.664438Z\", \"duration\": \"0:00:49\", \"iteration\": \"34\", \"goal\": \"AUC_weighted_max\", \"run_name\": \"MaxAbsScaler, LightGBM\", \"run_properties\": \"copy=True\", \"primary_metric\": 0.90705363, \"best_metric\": 0.9105576}, {\"run_id\": \"AutoML_bd0b099e-b97b-4fd1-993f-6bc161325d61_35\", \"run_number\": 40, \"metric\": null, \"status\": \"Completed\", \"run_type\": \"azureml.scriptrun\", \"training_percent\": \"100\", \"start_time\": \"2021-06-22T17:38:57.935706Z\", \"end_time\": \"2021-06-22T17:39:33.860112Z\", \"created_time\": \"2021-06-22T17:38:50.193626Z\", \"created_time_dt\": \"2021-06-22T17:38:50.193626Z\", \"duration\": \"0:00:43\", \"iteration\": \"35\", \"goal\": \"AUC_weighted_max\", \"run_name\": \"MaxAbsScaler, RandomForest\", \"run_properties\": \"copy=True\", \"primary_metric\": 0.87830784, \"best_metric\": 0.9105576}, {\"run_id\": \"AutoML_bd0b099e-b97b-4fd1-993f-6bc161325d61_36\", \"run_number\": 41, \"metric\": null, \"status\": \"Completed\", \"run_type\": \"azureml.scriptrun\", \"training_percent\": \"100\", \"start_time\": \"2021-06-22T17:39:03.764387Z\", \"end_time\": \"2021-06-22T17:39:40.19186Z\", \"created_time\": \"2021-06-22T17:38:53.942338Z\", \"created_time_dt\": \"2021-06-22T17:38:53.942338Z\", \"duration\": \"0:00:46\", \"iteration\": \"36\", \"goal\": \"AUC_weighted_max\", \"run_name\": \"StandardScalerWrapper, LightGBM\", \"run_properties\": \"\\n    copy=True,\\n    with_mean=False,\\n    with_std=True\\n\", \"primary_metric\": 0.90693727, \"best_metric\": 0.9105576}, {\"run_id\": \"AutoML_bd0b099e-b97b-4fd1-993f-6bc161325d61_37\", \"run_number\": 42, \"metric\": null, \"status\": \"Completed\", \"run_type\": \"azureml.scriptrun\", \"training_percent\": \"100\", \"start_time\": \"2021-06-22T17:39:25.710694Z\", \"end_time\": \"2021-06-22T17:40:01.623702Z\", \"created_time\": \"2021-06-22T17:39:17.557498Z\", \"created_time_dt\": \"2021-06-22T17:39:17.557498Z\", \"duration\": \"0:00:44\", \"iteration\": \"37\", \"goal\": \"AUC_weighted_max\", \"run_name\": \"RobustScaler, LightGBM\", \"run_properties\": \"copy=True, quantile_range=[25, 75], with_centering=False,\\n             with_scaling=True\", \"primary_metric\": 0.9079882, \"best_metric\": 0.9105576}, {\"run_id\": \"AutoML_bd0b099e-b97b-4fd1-993f-6bc161325d61_38\", \"run_number\": 43, \"metric\": null, \"status\": \"Finalizing\", \"run_type\": \"azureml.scriptrun\", \"training_percent\": \"100\", \"start_time\": \"2021-06-22T17:39:33.532881Z\", \"end_time\": \"\", \"created_time\": \"2021-06-22T17:39:25.782387Z\", \"created_time_dt\": \"2021-06-22T17:39:25.782387Z\", \"duration\": \"0:00:38\", \"iteration\": \"38\", \"goal\": \"AUC_weighted_max\", \"run_name\": \"MaxAbsScaler, LightGBM\", \"run_properties\": \"copy=True\", \"primary_metric\": 0.90435467, \"best_metric\": 0.9105576}, {\"run_id\": \"AutoML_bd0b099e-b97b-4fd1-993f-6bc161325d61_39\", \"run_number\": 44, \"metric\": null, \"status\": \"Running\", \"run_type\": \"azureml.scriptrun\", \"training_percent\": \"100\", \"start_time\": \"2021-06-22T17:39:38.988116Z\", \"end_time\": \"\", \"created_time\": \"2021-06-22T17:39:29.12272Z\", \"created_time_dt\": \"2021-06-22T17:39:29.12272Z\", \"duration\": \"0:00:35\", \"iteration\": \"39\", \"goal\": \"AUC_weighted_max\", \"run_name\": \"RobustScaler, LightGBM\", \"run_properties\": \"copy=True, quantile_range=[10, 90], with_centering=False,\\n             with_scaling=False\", \"primary_metric\": 0.89877713, \"best_metric\": 0.9105576}, {\"run_id\": \"AutoML_bd0b099e-b97b-4fd1-993f-6bc161325d61_40\", \"run_number\": 45, \"metric\": null, \"status\": \"Running\", \"run_type\": \"azureml.scriptrun\", \"training_percent\": \"100\", \"start_time\": \"2021-06-22T17:39:45.626402Z\", \"end_time\": \"\", \"created_time\": \"2021-06-22T17:39:36.952163Z\", \"created_time_dt\": \"2021-06-22T17:39:36.952163Z\", \"duration\": \"0:00:27\", \"iteration\": \"40\", \"goal\": \"AUC_weighted_max\", \"run_name\": \"TruncatedSVDWrapper, RandomForest\", \"run_properties\": \"n_components=0.3068421052631579, random_state=None\", \"primary_metric\": 0.75236994, \"best_metric\": 0.9105576}, {\"run_id\": \"AutoML_bd0b099e-b97b-4fd1-993f-6bc161325d61_41\", \"run_number\": 46, \"metric\": null, \"status\": \"Running\", \"run_type\": \"azureml.scriptrun\", \"training_percent\": \"100\", \"start_time\": \"2021-06-22T17:39:49.984647Z\", \"end_time\": \"\", \"created_time\": \"2021-06-22T17:39:42.241252Z\", \"created_time_dt\": \"2021-06-22T17:39:42.241252Z\", \"duration\": \"0:00:21\", \"iteration\": \"41\", \"goal\": null, \"run_name\": \"StandardScalerWrapper, XGBoostClassifier\", \"run_properties\": null, \"primary_metric\": 0.90024259, \"best_metric\": 0.9105576}], \"children_metrics\": {\"categories\": [0], \"series\": {\"AUC_weighted\": [{\"categories\": [\"0\", \"1\", \"2\", \"3\", \"4\", \"5\", \"6\", \"7\", \"8\", \"9\", \"10\", \"11\", \"12\", \"13\", \"14\", \"15\", \"16\", \"17\", \"18\", \"19\", \"20\", \"21\", \"22\", \"23\", \"24\", \"25\", \"26\", \"27\", \"28\", \"29\", \"30\", \"31\", \"32\", \"33\", \"34\", \"35\", \"36\", \"37\", \"38\", \"39\", \"40\", \"41\"], \"mode\": \"markers\", \"name\": \"AUC_weighted\", \"stepped\": false, \"type\": \"scatter\", \"data\": [0.8840955354735103, 0.8847369443591411, 0.8940867722116005, 0.8706414242952573, 0.9065489482929985, 0.8890849668637998, 0.8923564744513138, 0.8930946552261199, 0.8875562310200182, 0.7496161006793443, 0.8828882340072843, 0.8771395804233905, 0.9000766522146384, 0.8683008014106413, 0.8808236181142359, 0.5203053263648802, 0.8898846274942958, 0.8294716760335182, 0.8912371696148582, 0.9089099837731132, 0.8882747730794927, 0.882213208306229, 0.8683651495889482, 0.9071499795272107, 0.9026675435569601, 0.9105575982666372, 0.9008185924847252, 0.9064204097749864, 0.8972491004355421, 0.8833026769272765, 0.800591686933077, 0.8558387721059347, 0.9012169939836415, 0.9084755895833128, 0.9070536300126688, 0.8783078448756939, 0.9069372666955047, 0.9079881997759, 0.9043546664476297, 0.8987771296103675, 0.7523699371672483, 0.9002425889052891]}, {\"categories\": [\"0\", \"1\", \"2\", \"3\", \"4\", \"5\", \"6\", \"7\", \"8\", \"9\", \"10\", \"11\", \"12\", \"13\", \"14\", \"15\", \"16\", \"17\", \"18\", \"19\", \"20\", \"21\", \"22\", \"23\", \"24\", \"25\", \"26\", \"27\", \"28\", \"29\", \"30\", \"31\", \"32\", \"33\", \"34\", \"35\", \"36\", \"37\", \"38\", \"39\", \"40\", \"41\"], \"mode\": \"lines\", \"name\": \"AUC_weighted_max\", \"stepped\": true, \"type\": \"scatter\", \"data\": [0.8840955354735103, 0.8847369443591411, 0.8940867722116005, 0.8940867722116005, 0.9065489482929985, 0.9065489482929985, 0.9065489482929985, 0.9065489482929985, 0.9065489482929985, 0.9065489482929985, 0.9065489482929985, 0.9065489482929985, 0.9065489482929985, 0.9065489482929985, 0.9065489482929985, 0.9065489482929985, 0.9065489482929985, 0.9065489482929985, 0.9065489482929985, 0.9089099837731132, 0.9089099837731132, 0.9089099837731132, 0.9089099837731132, 0.9089099837731132, 0.9089099837731132, 0.9105575982666372, 0.9105575982666372, 0.9105575982666372, 0.9105575982666372, 0.9105575982666372, 0.9105575982666372, 0.9105575982666372, 0.9105575982666372, 0.9105575982666372, 0.9105575982666372, 0.9105575982666372, 0.9105575982666372, 0.9105575982666372, 0.9105575982666372, 0.9105575982666372, 0.9105575982666372, 0.9105575982666372]}], \"average_precision_score_macro\": [{\"categories\": [\"0\", \"1\", \"2\", \"3\", \"4\", \"5\", \"6\", \"7\", \"8\", \"9\", \"10\", \"11\", \"12\", \"13\", \"14\", \"15\", \"16\", \"17\", \"18\", \"19\", \"20\", \"21\", \"22\", \"23\", \"24\", \"25\", \"26\", \"27\", \"28\", \"29\", \"30\", \"31\", \"32\", \"33\", \"34\", \"35\", \"36\", \"37\", \"38\", \"39\", \"40\"], \"mode\": \"markers\", \"name\": \"average_precision_score_macro\", \"stepped\": false, \"type\": \"scatter\", \"data\": [0.8807888197525153, 0.8807340475847678, 0.8858257291685707, 0.8720951504284817, 0.8907384182758064, 0.8751208203915738, 0.8820375295317848, 0.8881871244474604, 0.8832167447908563, 0.7610796181270093, 0.8808020559637235, 0.8796580078830853, 0.8935944157703206, 0.8571553196253564, 0.8641098458802293, 0.5793782772753733, 0.8861516167560053, 0.8296229311891118, 0.8795604652407014, 0.8985389415472792, 0.8808810263421163, 0.8749080721247783, 0.8689675696698261, 0.9069186978180837, 0.8927821626180146, 0.8996564018481091, 0.8922081998044877, 0.8970034527268927, 0.8899079547823548, 0.8773547416310498, 0.7740540622655675, 0.8493907592342117, 0.8845525197702238, 0.9025499202528605, 0.8971000953875263, 0.848466492719145, 0.9005597426779138, 0.8989069367598566, 0.8942153989018264, 0.8900069107613318, 0.7417645426044663]}, {\"categories\": [\"0\", \"1\", \"2\", \"3\", \"4\", \"5\", \"6\", \"7\", \"8\", \"9\", \"10\", \"11\", \"12\", \"13\", \"14\", \"15\", \"16\", \"17\", \"18\", \"19\", \"20\", \"21\", \"22\", \"23\", \"24\", \"25\", \"26\", \"27\", \"28\", \"29\", \"30\", \"31\", \"32\", \"33\", \"34\", \"35\", \"36\", \"37\", \"38\", \"39\", \"40\"], \"mode\": \"lines\", \"name\": \"average_precision_score_macro_max\", \"stepped\": true, \"type\": \"scatter\", \"data\": [0.8807888197525153, 0.8807888197525153, 0.8858257291685707, 0.8858257291685707, 0.8907384182758064, 0.8907384182758064, 0.8907384182758064, 0.8907384182758064, 0.8907384182758064, 0.8907384182758064, 0.8907384182758064, 0.8907384182758064, 0.8935944157703206, 0.8935944157703206, 0.8935944157703206, 0.8935944157703206, 0.8935944157703206, 0.8935944157703206, 0.8935944157703206, 0.8985389415472792, 0.8985389415472792, 0.8985389415472792, 0.8985389415472792, 0.9069186978180837, 0.9069186978180837, 0.9069186978180837, 0.9069186978180837, 0.9069186978180837, 0.9069186978180837, 0.9069186978180837, 0.9069186978180837, 0.9069186978180837, 0.9069186978180837, 0.9069186978180837, 0.9069186978180837, 0.9069186978180837, 0.9069186978180837, 0.9069186978180837, 0.9069186978180837, 0.9069186978180837, 0.9069186978180837]}], \"recall_score_weighted\": [{\"categories\": [\"0\", \"1\", \"2\", \"3\", \"4\", \"5\", \"6\", \"7\", \"8\", \"9\", \"10\", \"11\", \"12\", \"13\", \"14\", \"15\", \"16\", \"17\", \"18\", \"19\", \"20\", \"21\", \"22\", \"23\", \"24\", \"25\", \"26\", \"27\", \"28\", \"29\", \"30\", \"31\", \"32\", \"33\", \"34\", \"35\", \"36\", \"37\", \"38\", \"39\", \"40\", \"41\"], \"mode\": \"markers\", \"name\": \"recall_score_weighted\", \"stepped\": false, \"type\": \"scatter\", \"data\": [0.8359770114942527, 0.8358620689655172, 0.8428735632183908, 0.8128735632183908, 0.8291954022988506, 0.8257471264367815, 0.8056321839080459, 0.859425287356322, 0.7927586206896552, 0.7659770114942528, 0.8028735632183908, 0.8162068965517241, 0.8089655172413794, 0.8258620689655173, 0.8257471264367815, 0.6389655172413793, 0.7895402298850575, 0.765632183908046, 0.8322988505747126, 0.8258620689655173, 0.8294252873563218, 0.8022988505747126, 0.8391954022988506, 0.8495402298850575, 0.8459770114942529, 0.8255172413793105, 0.8425287356321839, 0.835977011494253, 0.8527586206896552, 0.8227586206896552, 0.7554022988505747, 0.7025287356321839, 0.8293103448275861, 0.8290804597701149, 0.8358620689655172, 0.8394252873563219, 0.8527586206896552, 0.8462068965517242, 0.8493103448275863, 0.8560919540229885, 0.692528735632184, 0.8359770114942527]}, {\"categories\": [\"0\", \"1\", \"2\", \"3\", \"4\", \"5\", \"6\", \"7\", \"8\", \"9\", \"10\", \"11\", \"12\", \"13\", \"14\", \"15\", \"16\", \"17\", \"18\", \"19\", \"20\", \"21\", \"22\", \"23\", \"24\", \"25\", \"26\", \"27\", \"28\", \"29\", \"30\", \"31\", \"32\", \"33\", \"34\", \"35\", \"36\", \"37\", \"38\", \"39\", \"40\", \"41\"], \"mode\": \"lines\", \"name\": \"recall_score_weighted_max\", \"stepped\": true, \"type\": \"scatter\", \"data\": [0.8359770114942527, 0.8359770114942527, 0.8428735632183908, 0.8428735632183908, 0.8428735632183908, 0.8428735632183908, 0.8428735632183908, 0.859425287356322, 0.859425287356322, 0.859425287356322, 0.859425287356322, 0.859425287356322, 0.859425287356322, 0.859425287356322, 0.859425287356322, 0.859425287356322, 0.859425287356322, 0.859425287356322, 0.859425287356322, 0.859425287356322, 0.859425287356322, 0.859425287356322, 0.859425287356322, 0.859425287356322, 0.859425287356322, 0.859425287356322, 0.859425287356322, 0.859425287356322, 0.859425287356322, 0.859425287356322, 0.859425287356322, 0.859425287356322, 0.859425287356322, 0.859425287356322, 0.859425287356322, 0.859425287356322, 0.859425287356322, 0.859425287356322, 0.859425287356322, 0.859425287356322, 0.859425287356322, 0.859425287356322]}], \"matthews_correlation\": [{\"categories\": [\"0\", \"1\", \"2\", \"3\", \"4\", \"5\", \"6\", \"7\", \"8\", \"9\", \"10\", \"11\", \"12\", \"13\", \"14\", \"15\", \"16\", \"17\", \"18\", \"19\", \"20\", \"21\", \"22\", \"23\", \"24\", \"25\", \"26\", \"27\", \"28\", \"29\", \"30\", \"31\", \"32\", \"33\", \"34\", \"35\", \"36\", \"37\", \"38\", \"39\", \"40\", \"41\"], \"mode\": \"markers\", \"name\": \"matthews_correlation\", \"stepped\": false, \"type\": \"scatter\", \"data\": [0.6231314496952846, 0.6345538749068885, 0.6325996650457262, 0.5731180041387542, 0.6098675704207722, 0.5907594832621093, 0.5550429360416558, 0.6803872706830297, 0.5014795227955071, 0.4352854456898543, 0.5434457136314126, 0.5689922979778734, 0.6099473746795432, 0.6112552415194101, 0.6118632452582513, 0.10426477830980234, 0.48176451932509473, 0.4937834895244796, 0.6302522521938683, 0.591194297640371, 0.6079208270927656, 0.5675639372493329, 0.6399995815620814, 0.6513379574826242, 0.6427151348676664, 0.6274554894167952, 0.6466372773600422, 0.6262569737754519, 0.6677643390133987, 0.5749710321011569, 0.47934185100640436, 0.15790440461326574, 0.5978057098886025, 0.6232808264477991, 0.622115703375182, 0.6280246466727848, 0.6700116905837972, 0.6436233334789339, 0.6481620223760249, 0.6754044349492638, 0.08976957482524454, 0.6342693240268018]}, {\"categories\": [\"0\", \"1\", \"2\", \"3\", \"4\", \"5\", \"6\", \"7\", \"8\", \"9\", \"10\", \"11\", \"12\", \"13\", \"14\", \"15\", \"16\", \"17\", \"18\", \"19\", \"20\", \"21\", \"22\", \"23\", \"24\", \"25\", \"26\", \"27\", \"28\", \"29\", \"30\", \"31\", \"32\", \"33\", \"34\", \"35\", \"36\", \"37\", \"38\", \"39\", \"40\", \"41\"], \"mode\": \"lines\", \"name\": \"matthews_correlation_max\", \"stepped\": true, \"type\": \"scatter\", \"data\": [0.6231314496952846, 0.6345538749068885, 0.6345538749068885, 0.6345538749068885, 0.6345538749068885, 0.6345538749068885, 0.6345538749068885, 0.6803872706830297, 0.6803872706830297, 0.6803872706830297, 0.6803872706830297, 0.6803872706830297, 0.6803872706830297, 0.6803872706830297, 0.6803872706830297, 0.6803872706830297, 0.6803872706830297, 0.6803872706830297, 0.6803872706830297, 0.6803872706830297, 0.6803872706830297, 0.6803872706830297, 0.6803872706830297, 0.6803872706830297, 0.6803872706830297, 0.6803872706830297, 0.6803872706830297, 0.6803872706830297, 0.6803872706830297, 0.6803872706830297, 0.6803872706830297, 0.6803872706830297, 0.6803872706830297, 0.6803872706830297, 0.6803872706830297, 0.6803872706830297, 0.6803872706830297, 0.6803872706830297, 0.6803872706830297, 0.6803872706830297, 0.6803872706830297, 0.6803872706830297]}], \"recall_score_macro\": [{\"categories\": [\"0\", \"1\", \"2\", \"3\", \"4\", \"5\", \"6\", \"7\", \"8\", \"9\", \"10\", \"11\", \"12\", \"13\", \"14\", \"15\", \"16\", \"17\", \"18\", \"19\", \"20\", \"21\", \"22\", \"23\", \"24\", \"25\", \"26\", \"27\", \"28\", \"29\", \"30\", \"31\", \"32\", \"33\", \"34\", \"35\", \"36\", \"37\", \"38\", \"39\", \"40\", \"41\"], \"mode\": \"markers\", \"name\": \"recall_score_macro\", \"stepped\": false, \"type\": \"scatter\", \"data\": [0.8077082895810014, 0.8130249020938379, 0.8095979313402081, 0.7308155806182122, 0.8098133315006886, 0.7782233147922508, 0.7767848095205074, 0.8161529049071955, 0.6918708703577124, 0.6780357113964093, 0.7119681780208096, 0.7437908378489042, 0.8227265900257891, 0.7952894687311163, 0.8085999885253317, 0.5513534193685796, 0.6851868059476756, 0.7535632695870109, 0.8258339264663634, 0.7831479179668539, 0.8029799886739246, 0.7955122320788796, 0.8197017969000235, 0.8126937646322657, 0.801691270749337, 0.8299625653395676, 0.8207850980382444, 0.8085361167246179, 0.826300123249494, 0.7498378208366767, 0.7559492811409287, 0.5371031746031745, 0.7687618828857387, 0.8259835202300877, 0.8040277567271275, 0.7929520932601596, 0.8232160997850357, 0.805065306134242, 0.8167061791501151, 0.8280862296551655, 0.521875, 0.8192491720077533]}, {\"categories\": [\"0\", \"1\", \"2\", \"3\", \"4\", \"5\", \"6\", \"7\", \"8\", \"9\", \"10\", \"11\", \"12\", \"13\", \"14\", \"15\", \"16\", \"17\", \"18\", \"19\", \"20\", \"21\", \"22\", \"23\", \"24\", \"25\", \"26\", \"27\", \"28\", \"29\", \"30\", \"31\", \"32\", \"33\", \"34\", \"35\", \"36\", \"37\", \"38\", \"39\", \"40\", \"41\"], \"mode\": \"lines\", \"name\": \"recall_score_macro_max\", \"stepped\": true, \"type\": \"scatter\", \"data\": [0.8077082895810014, 0.8130249020938379, 0.8130249020938379, 0.8130249020938379, 0.8130249020938379, 0.8130249020938379, 0.8130249020938379, 0.8161529049071955, 0.8161529049071955, 0.8161529049071955, 0.8161529049071955, 0.8161529049071955, 0.8227265900257891, 0.8227265900257891, 0.8227265900257891, 0.8227265900257891, 0.8227265900257891, 0.8227265900257891, 0.8258339264663634, 0.8258339264663634, 0.8258339264663634, 0.8258339264663634, 0.8258339264663634, 0.8258339264663634, 0.8258339264663634, 0.8299625653395676, 0.8299625653395676, 0.8299625653395676, 0.8299625653395676, 0.8299625653395676, 0.8299625653395676, 0.8299625653395676, 0.8299625653395676, 0.8299625653395676, 0.8299625653395676, 0.8299625653395676, 0.8299625653395676, 0.8299625653395676, 0.8299625653395676, 0.8299625653395676, 0.8299625653395676, 0.8299625653395676]}], \"precision_score_weighted\": [{\"categories\": [\"0\", \"1\", \"2\", \"3\", \"4\", \"5\", \"6\", \"7\", \"8\", \"9\", \"10\", \"11\", \"12\", \"13\", \"14\", \"15\", \"16\", \"17\", \"18\", \"19\", \"20\", \"21\", \"22\", \"23\", \"24\", \"25\", \"26\", \"27\", \"28\", \"29\", \"30\", \"31\", \"32\", \"33\", \"34\", \"35\", \"36\", \"37\", \"38\", \"39\", \"40\"], \"mode\": \"markers\", \"name\": \"precision_score_weighted\", \"stepped\": false, \"type\": \"scatter\", \"data\": [0.8443308716969533, 0.8506678986628277, 0.8524467107056841, 0.8444624240170215, 0.8428187042842217, 0.8371647839094999, 0.8176606854401083, 0.8712892000275808, 0.8232492691937969, 0.7837569262377359, 0.8380758821638132, 0.8333390653574313, 0.8486437657530856, 0.8471006595557314, 0.8453665238879322, 0.6261394969463244, 0.8187148332538138, 0.7915415463760587, 0.8559857918120759, 0.8350718081947862, 0.8413891608346354, 0.8295018879923599, 0.8541837543416259, 0.8583420329878351, 0.8564709906951287, 0.8543582389580575, 0.856914803316382, 0.8479660626795283, 0.8639893703223803, 0.8393871701774644, 0.7870771471015413, 0.6517995772228828, 0.8421278292671845, 0.8496544305536572, 0.8505545517700689, 0.8504939078080007, 0.8654258625740899, 0.8600331043920644, 0.8635619782100292, 0.8678496030847869, 0.5861502796494473]}, {\"categories\": [\"0\", \"1\", \"2\", \"3\", \"4\", \"5\", \"6\", \"7\", \"8\", \"9\", \"10\", \"11\", \"12\", \"13\", \"14\", \"15\", \"16\", \"17\", \"18\", \"19\", \"20\", \"21\", \"22\", \"23\", \"24\", \"25\", \"26\", \"27\", \"28\", \"29\", \"30\", \"31\", \"32\", \"33\", \"34\", \"35\", \"36\", \"37\", \"38\", \"39\", \"40\"], \"mode\": \"lines\", \"name\": \"precision_score_weighted_max\", \"stepped\": true, \"type\": \"scatter\", \"data\": [0.8443308716969533, 0.8506678986628277, 0.8524467107056841, 0.8524467107056841, 0.8524467107056841, 0.8524467107056841, 0.8524467107056841, 0.8712892000275808, 0.8712892000275808, 0.8712892000275808, 0.8712892000275808, 0.8712892000275808, 0.8712892000275808, 0.8712892000275808, 0.8712892000275808, 0.8712892000275808, 0.8712892000275808, 0.8712892000275808, 0.8712892000275808, 0.8712892000275808, 0.8712892000275808, 0.8712892000275808, 0.8712892000275808, 0.8712892000275808, 0.8712892000275808, 0.8712892000275808, 0.8712892000275808, 0.8712892000275808, 0.8712892000275808, 0.8712892000275808, 0.8712892000275808, 0.8712892000275808, 0.8712892000275808, 0.8712892000275808, 0.8712892000275808, 0.8712892000275808, 0.8712892000275808, 0.8712892000275808, 0.8712892000275808, 0.8712892000275808, 0.8712892000275808]}], \"precision_score_macro\": [{\"categories\": [\"0\", \"1\", \"2\", \"3\", \"4\", \"5\", \"6\", \"7\", \"8\", \"9\", \"10\", \"11\", \"12\", \"13\", \"14\", \"15\", \"16\", \"17\", \"18\", \"19\", \"20\", \"21\", \"22\", \"23\", \"24\", \"25\", \"26\", \"27\", \"28\", \"29\", \"30\", \"31\", \"32\", \"33\", \"34\", \"35\", \"36\", \"37\", \"38\", \"39\", \"40\"], \"mode\": \"markers\", \"name\": \"precision_score_macro\", \"stepped\": false, \"type\": \"scatter\", \"data\": [0.8167365852764965, 0.8232986049897815, 0.824740936812548, 0.8614182114182114, 0.8009388528138528, 0.816363187908147, 0.7792626184202271, 0.8671947315969055, 0.8406782366115199, 0.7703082497212932, 0.8550736855736856, 0.8356406142167012, 0.7893521435994345, 0.8181375040863028, 0.8042202472861041, 0.5543597592139792, 0.8260156052509876, 0.7415137736790213, 0.8057960117685518, 0.8096246520451326, 0.8066331837498886, 0.7741742614111035, 0.8218811987357553, 0.840610784206894, 0.8433799642386599, 0.7995322805849121, 0.8272331187567762, 0.8188656089334009, 0.8429787919525772, 0.8333882193321553, 0.7256902273852738, 0.5978735632183908, 0.8342430830039526, 0.7986601112483633, 0.8203334238860555, 0.838100414078675, 0.8491763263022853, 0.8421012104473202, 0.8339355668486101, 0.8494247735072543, 0.5079616858237548]}, {\"categories\": [\"0\", \"1\", \"2\", \"3\", \"4\", \"5\", \"6\", \"7\", \"8\", \"9\", \"10\", \"11\", \"12\", \"13\", \"14\", \"15\", \"16\", \"17\", \"18\", \"19\", \"20\", \"21\", \"22\", \"23\", \"24\", \"25\", \"26\", \"27\", \"28\", \"29\", \"30\", \"31\", \"32\", \"33\", \"34\", \"35\", \"36\", \"37\", \"38\", \"39\", \"40\"], \"mode\": \"lines\", \"name\": \"precision_score_macro_max\", \"stepped\": true, \"type\": \"scatter\", \"data\": [0.8167365852764965, 0.8232986049897815, 0.824740936812548, 0.8614182114182114, 0.8614182114182114, 0.8614182114182114, 0.8614182114182114, 0.8671947315969055, 0.8671947315969055, 0.8671947315969055, 0.8671947315969055, 0.8671947315969055, 0.8671947315969055, 0.8671947315969055, 0.8671947315969055, 0.8671947315969055, 0.8671947315969055, 0.8671947315969055, 0.8671947315969055, 0.8671947315969055, 0.8671947315969055, 0.8671947315969055, 0.8671947315969055, 0.8671947315969055, 0.8671947315969055, 0.8671947315969055, 0.8671947315969055, 0.8671947315969055, 0.8671947315969055, 0.8671947315969055, 0.8671947315969055, 0.8671947315969055, 0.8671947315969055, 0.8671947315969055, 0.8671947315969055, 0.8671947315969055, 0.8671947315969055, 0.8671947315969055, 0.8671947315969055, 0.8671947315969055, 0.8671947315969055]}], \"f1_score_weighted\": [{\"categories\": [\"0\", \"1\", \"2\", \"3\", \"4\", \"5\", \"6\", \"7\", \"8\", \"9\", \"10\", \"11\", \"12\", \"13\", \"14\", \"15\", \"16\", \"17\", \"18\", \"19\", \"20\", \"21\", \"22\", \"23\", \"24\", \"25\", \"26\", \"27\", \"28\", \"29\", \"30\", \"31\", \"32\", \"33\", \"34\", \"35\", \"36\", \"37\", \"38\", \"39\", \"40\"], \"mode\": \"markers\", \"name\": \"f1_score_weighted\", \"stepped\": false, \"type\": \"scatter\", \"data\": [0.8333388901455894, 0.8342588560383983, 0.8415628461700301, 0.7918628111014521, 0.8297909983797181, 0.818961261264753, 0.8041430000189337, 0.8540332802337179, 0.7670455520005826, 0.743922190318357, 0.7770801597498368, 0.8008186115915776, 0.8145568582579269, 0.8229661234123661, 0.8262913746620489, 0.6071892452709331, 0.7598559521097865, 0.7704891398218595, 0.8367200751031619, 0.8208423832388133, 0.8280373642259699, 0.8082346101826016, 0.8402348303470337, 0.8446307668220185, 0.8390148039522632, 0.8312257536504871, 0.8408055292781123, 0.8333450169837754, 0.8513159987919836, 0.8093404162502293, 0.7619756752604683, 0.6012070505523693, 0.8176558550810734, 0.8335468152985367, 0.8330609342824914, 0.8322446830488206, 0.8482115030624963, 0.8405229075778019, 0.8451775767970544, 0.8530452340819169, 0.5928140145415817]}, {\"categories\": [\"0\", \"1\", \"2\", \"3\", \"4\", \"5\", \"6\", \"7\", \"8\", \"9\", \"10\", \"11\", \"12\", \"13\", \"14\", \"15\", \"16\", \"17\", \"18\", \"19\", \"20\", \"21\", \"22\", \"23\", \"24\", \"25\", \"26\", \"27\", \"28\", \"29\", \"30\", \"31\", \"32\", \"33\", \"34\", \"35\", \"36\", \"37\", \"38\", \"39\", \"40\"], \"mode\": \"lines\", \"name\": \"f1_score_weighted_max\", \"stepped\": true, \"type\": \"scatter\", \"data\": [0.8333388901455894, 0.8342588560383983, 0.8415628461700301, 0.8415628461700301, 0.8415628461700301, 0.8415628461700301, 0.8415628461700301, 0.8540332802337179, 0.8540332802337179, 0.8540332802337179, 0.8540332802337179, 0.8540332802337179, 0.8540332802337179, 0.8540332802337179, 0.8540332802337179, 0.8540332802337179, 0.8540332802337179, 0.8540332802337179, 0.8540332802337179, 0.8540332802337179, 0.8540332802337179, 0.8540332802337179, 0.8540332802337179, 0.8540332802337179, 0.8540332802337179, 0.8540332802337179, 0.8540332802337179, 0.8540332802337179, 0.8540332802337179, 0.8540332802337179, 0.8540332802337179, 0.8540332802337179, 0.8540332802337179, 0.8540332802337179, 0.8540332802337179, 0.8540332802337179, 0.8540332802337179, 0.8540332802337179, 0.8540332802337179, 0.8540332802337179, 0.8540332802337179]}], \"precision_score_micro\": [{\"categories\": [\"0\", \"1\", \"2\", \"3\", \"4\", \"5\", \"6\", \"7\", \"8\", \"9\", \"10\", \"11\", \"12\", \"13\", \"14\", \"15\", \"16\", \"17\", \"18\", \"19\", \"20\", \"21\", \"22\", \"23\", \"24\", \"25\", \"26\", \"27\", \"28\", \"29\", \"30\", \"31\", \"32\", \"33\", \"34\", \"35\", \"36\", \"37\", \"38\", \"39\", \"40\", \"41\"], \"mode\": \"markers\", \"name\": \"precision_score_micro\", \"stepped\": false, \"type\": \"scatter\", \"data\": [0.8359770114942527, 0.8358620689655172, 0.8428735632183908, 0.8128735632183908, 0.8291954022988506, 0.8257471264367815, 0.8056321839080459, 0.859425287356322, 0.7927586206896552, 0.7659770114942528, 0.8028735632183908, 0.8162068965517241, 0.8089655172413794, 0.8258620689655173, 0.8257471264367815, 0.6389655172413793, 0.7895402298850575, 0.765632183908046, 0.8322988505747126, 0.8258620689655173, 0.8294252873563218, 0.8022988505747126, 0.8391954022988506, 0.8495402298850575, 0.8459770114942529, 0.8255172413793105, 0.8425287356321839, 0.835977011494253, 0.8527586206896552, 0.8227586206896552, 0.7554022988505747, 0.7025287356321839, 0.8293103448275861, 0.8290804597701149, 0.8358620689655172, 0.8394252873563219, 0.8527586206896552, 0.8462068965517242, 0.8493103448275863, 0.8560919540229885, 0.692528735632184, 0.8359770114942527]}, {\"categories\": [\"0\", \"1\", \"2\", \"3\", \"4\", \"5\", \"6\", \"7\", \"8\", \"9\", \"10\", \"11\", \"12\", \"13\", \"14\", \"15\", \"16\", \"17\", \"18\", \"19\", \"20\", \"21\", \"22\", \"23\", \"24\", \"25\", \"26\", \"27\", \"28\", \"29\", \"30\", \"31\", \"32\", \"33\", \"34\", \"35\", \"36\", \"37\", \"38\", \"39\", \"40\", \"41\"], \"mode\": \"lines\", \"name\": \"precision_score_micro_max\", \"stepped\": true, \"type\": \"scatter\", \"data\": [0.8359770114942527, 0.8359770114942527, 0.8428735632183908, 0.8428735632183908, 0.8428735632183908, 0.8428735632183908, 0.8428735632183908, 0.859425287356322, 0.859425287356322, 0.859425287356322, 0.859425287356322, 0.859425287356322, 0.859425287356322, 0.859425287356322, 0.859425287356322, 0.859425287356322, 0.859425287356322, 0.859425287356322, 0.859425287356322, 0.859425287356322, 0.859425287356322, 0.859425287356322, 0.859425287356322, 0.859425287356322, 0.859425287356322, 0.859425287356322, 0.859425287356322, 0.859425287356322, 0.859425287356322, 0.859425287356322, 0.859425287356322, 0.859425287356322, 0.859425287356322, 0.859425287356322, 0.859425287356322, 0.859425287356322, 0.859425287356322, 0.859425287356322, 0.859425287356322, 0.859425287356322, 0.859425287356322, 0.859425287356322]}], \"AUC_micro\": [{\"categories\": [\"0\", \"1\", \"2\", \"3\", \"4\", \"5\", \"6\", \"7\", \"8\", \"9\", \"10\", \"11\", \"12\", \"13\", \"14\", \"15\", \"16\", \"17\", \"18\", \"19\", \"20\", \"21\", \"22\", \"23\", \"24\", \"25\", \"26\", \"27\", \"28\", \"29\", \"30\", \"31\", \"32\", \"33\", \"34\", \"35\", \"36\", \"37\", \"38\", \"39\", \"40\"], \"mode\": \"markers\", \"name\": \"AUC_micro\", \"stepped\": false, \"type\": \"scatter\", \"data\": [0.9035422116527941, 0.9042166732725592, 0.9079515127493725, 0.8757312722948871, 0.9114408772625182, 0.9057196459241643, 0.902845422116528, 0.9061835116924296, 0.8788189985467036, 0.8096416963931828, 0.8742400581318537, 0.8860178359096313, 0.8930159862597437, 0.88485414189457, 0.8901153388822831, 0.6464215880565465, 0.874029462280354, 0.8371817941603912, 0.8956534548817544, 0.9104369137270446, 0.9046854274012419, 0.8787314044127361, 0.8922733518298323, 0.9182868278504428, 0.911778042013476, 0.9056164618840006, 0.9082166732725593, 0.9109846743295019, 0.9086903157616595, 0.8934876469811073, 0.8342695204122078, 0.8314876469811072, 0.8922186550402961, 0.9070705509314309, 0.9154525036332408, 0.8952868278504427, 0.9176883339939227, 0.9181093935790725, 0.9170274805126171, 0.9142946228035408, 0.7856767076232]}, {\"categories\": [\"0\", \"1\", \"2\", \"3\", \"4\", \"5\", \"6\", \"7\", \"8\", \"9\", \"10\", \"11\", \"12\", \"13\", \"14\", \"15\", \"16\", \"17\", \"18\", \"19\", \"20\", \"21\", \"22\", \"23\", \"24\", \"25\", \"26\", \"27\", \"28\", \"29\", \"30\", \"31\", \"32\", \"33\", \"34\", \"35\", \"36\", \"37\", \"38\", \"39\", \"40\"], \"mode\": \"lines\", \"name\": \"AUC_micro_max\", \"stepped\": true, \"type\": \"scatter\", \"data\": [0.9035422116527941, 0.9042166732725592, 0.9079515127493725, 0.9079515127493725, 0.9114408772625182, 0.9114408772625182, 0.9114408772625182, 0.9114408772625182, 0.9114408772625182, 0.9114408772625182, 0.9114408772625182, 0.9114408772625182, 0.9114408772625182, 0.9114408772625182, 0.9114408772625182, 0.9114408772625182, 0.9114408772625182, 0.9114408772625182, 0.9114408772625182, 0.9114408772625182, 0.9114408772625182, 0.9114408772625182, 0.9114408772625182, 0.9182868278504428, 0.9182868278504428, 0.9182868278504428, 0.9182868278504428, 0.9182868278504428, 0.9182868278504428, 0.9182868278504428, 0.9182868278504428, 0.9182868278504428, 0.9182868278504428, 0.9182868278504428, 0.9182868278504428, 0.9182868278504428, 0.9182868278504428, 0.9182868278504428, 0.9182868278504428, 0.9182868278504428, 0.9182868278504428]}], \"average_precision_score_micro\": [{\"categories\": [\"0\", \"1\", \"2\", \"3\", \"4\", \"5\", \"6\", \"7\", \"8\", \"9\", \"10\", \"11\", \"12\", \"13\", \"14\", \"15\", \"16\", \"17\", \"18\", \"19\", \"20\", \"21\", \"22\", \"23\", \"24\", \"25\", \"26\", \"27\", \"28\", \"29\", \"30\", \"31\", \"32\", \"33\", \"34\", \"35\", \"36\", \"37\", \"38\", \"39\", \"40\", \"41\"], \"mode\": \"markers\", \"name\": \"average_precision_score_micro\", \"stepped\": false, \"type\": \"scatter\", \"data\": [0.9020054536251629, 0.9033793522124445, 0.9058069148128395, 0.8782522979288881, 0.914730954396247, 0.9091795099267193, 0.9081837547026221, 0.9086850528032684, 0.8846933681513978, 0.7964089391804331, 0.8788356768785505, 0.8884386054055069, 0.8953703691509531, 0.8888680676853943, 0.8889319354860247, 0.6466874753087125, 0.8812965053621866, 0.8377160213335342, 0.8942559722279448, 0.9145380507917885, 0.902968303186511, 0.878782894976799, 0.8915141754723537, 0.9221142679284992, 0.9136177096350201, 0.9070092622623855, 0.9107272494838071, 0.9066192746436359, 0.9111051060172054, 0.8982428369633487, 0.8307944827149136, 0.847334298201066, 0.8937346070170612, 0.9091231139768896, 0.9200971568115465, 0.8770087481332158, 0.9201852745831353, 0.9213096228579941, 0.9196641530581706, 0.9168524670627113, 0.7873980277396351, 0.9143726169770401]}, {\"categories\": [\"0\", \"1\", \"2\", \"3\", \"4\", \"5\", \"6\", \"7\", \"8\", \"9\", \"10\", \"11\", \"12\", \"13\", \"14\", \"15\", \"16\", \"17\", \"18\", \"19\", \"20\", \"21\", \"22\", \"23\", \"24\", \"25\", \"26\", \"27\", \"28\", \"29\", \"30\", \"31\", \"32\", \"33\", \"34\", \"35\", \"36\", \"37\", \"38\", \"39\", \"40\", \"41\"], \"mode\": \"lines\", \"name\": \"average_precision_score_micro_max\", \"stepped\": true, \"type\": \"scatter\", \"data\": [0.9020054536251629, 0.9033793522124445, 0.9058069148128395, 0.9058069148128395, 0.914730954396247, 0.914730954396247, 0.914730954396247, 0.914730954396247, 0.914730954396247, 0.914730954396247, 0.914730954396247, 0.914730954396247, 0.914730954396247, 0.914730954396247, 0.914730954396247, 0.914730954396247, 0.914730954396247, 0.914730954396247, 0.914730954396247, 0.914730954396247, 0.914730954396247, 0.914730954396247, 0.914730954396247, 0.9221142679284992, 0.9221142679284992, 0.9221142679284992, 0.9221142679284992, 0.9221142679284992, 0.9221142679284992, 0.9221142679284992, 0.9221142679284992, 0.9221142679284992, 0.9221142679284992, 0.9221142679284992, 0.9221142679284992, 0.9221142679284992, 0.9221142679284992, 0.9221142679284992, 0.9221142679284992, 0.9221142679284992, 0.9221142679284992, 0.9221142679284992]}], \"average_precision_score_weighted\": [{\"categories\": [\"0\", \"1\", \"2\", \"3\", \"4\", \"5\", \"6\", \"7\", \"8\", \"9\", \"10\", \"11\", \"12\", \"13\", \"14\", \"15\", \"16\", \"17\", \"18\", \"19\", \"20\", \"21\", \"22\", \"23\", \"24\", \"25\", \"26\", \"27\", \"28\", \"29\", \"30\", \"31\", \"32\", \"33\", \"34\", \"35\", \"36\", \"37\", \"38\", \"39\", \"40\", \"41\"], \"mode\": \"markers\", \"name\": \"average_precision_score_weighted\", \"stepped\": false, \"type\": \"scatter\", \"data\": [0.9061112830231934, 0.907154018724502, 0.9094807489550826, 0.8972498272577834, 0.9194785550047735, 0.9073677178178181, 0.9115414272257112, 0.914715278083008, 0.9070486084181212, 0.7960613547349917, 0.9035934691356129, 0.9036877154114707, 0.917082158209996, 0.8917942937838064, 0.8982201903027665, 0.6358285919365991, 0.9109989848878559, 0.8596639819238618, 0.9096292625122702, 0.9235801903509394, 0.9054570965815743, 0.9024132491281369, 0.8946049713398556, 0.9279119753847105, 0.9170694578897397, 0.9233873193272304, 0.9182422412674297, 0.9211223621283307, 0.9156161129856415, 0.9059413293578604, 0.821296753729273, 0.8858347630289444, 0.9104481826698162, 0.9254492834483541, 0.9228499176149343, 0.8756060425133103, 0.9237640649615168, 0.9240450785681368, 0.9210527969169957, 0.9158945675715214, 0.7899842400820101, 0.9178372491517482]}, {\"categories\": [\"0\", \"1\", \"2\", \"3\", \"4\", \"5\", \"6\", \"7\", \"8\", \"9\", \"10\", \"11\", \"12\", \"13\", \"14\", \"15\", \"16\", \"17\", \"18\", \"19\", \"20\", \"21\", \"22\", \"23\", \"24\", \"25\", \"26\", \"27\", \"28\", \"29\", \"30\", \"31\", \"32\", \"33\", \"34\", \"35\", \"36\", \"37\", \"38\", \"39\", \"40\", \"41\"], \"mode\": \"lines\", \"name\": \"average_precision_score_weighted_max\", \"stepped\": true, \"type\": \"scatter\", \"data\": [0.9061112830231934, 0.907154018724502, 0.9094807489550826, 0.9094807489550826, 0.9194785550047735, 0.9194785550047735, 0.9194785550047735, 0.9194785550047735, 0.9194785550047735, 0.9194785550047735, 0.9194785550047735, 0.9194785550047735, 0.9194785550047735, 0.9194785550047735, 0.9194785550047735, 0.9194785550047735, 0.9194785550047735, 0.9194785550047735, 0.9194785550047735, 0.9235801903509394, 0.9235801903509394, 0.9235801903509394, 0.9235801903509394, 0.9279119753847105, 0.9279119753847105, 0.9279119753847105, 0.9279119753847105, 0.9279119753847105, 0.9279119753847105, 0.9279119753847105, 0.9279119753847105, 0.9279119753847105, 0.9279119753847105, 0.9279119753847105, 0.9279119753847105, 0.9279119753847105, 0.9279119753847105, 0.9279119753847105, 0.9279119753847105, 0.9279119753847105, 0.9279119753847105, 0.9279119753847105]}], \"f1_score_macro\": [{\"categories\": [\"0\", \"1\", \"2\", \"3\", \"4\", \"5\", \"6\", \"7\", \"8\", \"9\", \"10\", \"11\", \"12\", \"13\", \"14\", \"15\", \"16\", \"17\", \"18\", \"19\", \"20\", \"21\", \"22\", \"23\", \"24\", \"25\", \"26\", \"27\", \"28\", \"29\", \"30\", \"31\", \"32\", \"33\", \"34\", \"35\", \"36\", \"37\", \"38\", \"39\", \"40\"], \"mode\": \"markers\", \"name\": \"f1_score_macro\", \"stepped\": false, \"type\": \"scatter\", \"data\": [0.8043314151248963, 0.8078501228997539, 0.8094100515764546, 0.747281512605042, 0.7983485614300728, 0.7820524754294776, 0.7698577473223192, 0.828251092732517, 0.7046772610790125, 0.6844538166645457, 0.7259213993415559, 0.7583486442782068, 0.7887365499239333, 0.7916974537093727, 0.7962293435530634, 0.5251633085767229, 0.6943327636166858, 0.7373160328807362, 0.8064529139925355, 0.7859560894600321, 0.7962183333705072, 0.7740564872090511, 0.812622416936415, 0.8160592513320399, 0.8090542496437623, 0.8029890998856896, 0.8142438147248068, 0.8044840087672906, 0.8262619022743494, 0.7645922302541723, 0.7280855710461951, 0.4714787051275791, 0.7800442186857623, 0.8046601309438657, 0.800269597323741, 0.8009548917860789, 0.8237268694980224, 0.8085227146791351, 0.8122726079299565, 0.8281845109330028, 0.45478362894111024]}, {\"categories\": [\"0\", \"1\", \"2\", \"3\", \"4\", \"5\", \"6\", \"7\", \"8\", \"9\", \"10\", \"11\", \"12\", \"13\", \"14\", \"15\", \"16\", \"17\", \"18\", \"19\", \"20\", \"21\", \"22\", \"23\", \"24\", \"25\", \"26\", \"27\", \"28\", \"29\", \"30\", \"31\", \"32\", \"33\", \"34\", \"35\", \"36\", \"37\", \"38\", \"39\", \"40\"], \"mode\": \"lines\", \"name\": \"f1_score_macro_max\", \"stepped\": true, \"type\": \"scatter\", \"data\": [0.8043314151248963, 0.8078501228997539, 0.8094100515764546, 0.8094100515764546, 0.8094100515764546, 0.8094100515764546, 0.8094100515764546, 0.828251092732517, 0.828251092732517, 0.828251092732517, 0.828251092732517, 0.828251092732517, 0.828251092732517, 0.828251092732517, 0.828251092732517, 0.828251092732517, 0.828251092732517, 0.828251092732517, 0.828251092732517, 0.828251092732517, 0.828251092732517, 0.828251092732517, 0.828251092732517, 0.828251092732517, 0.828251092732517, 0.828251092732517, 0.828251092732517, 0.828251092732517, 0.828251092732517, 0.828251092732517, 0.828251092732517, 0.828251092732517, 0.828251092732517, 0.828251092732517, 0.828251092732517, 0.828251092732517, 0.828251092732517, 0.828251092732517, 0.828251092732517, 0.828251092732517, 0.828251092732517]}], \"weighted_accuracy\": [{\"categories\": [\"0\", \"1\", \"2\", \"3\", \"4\", \"5\", \"6\", \"7\", \"8\", \"9\", \"10\", \"11\", \"12\", \"13\", \"14\", \"15\", \"16\", \"17\", \"18\", \"19\", \"20\", \"21\", \"22\", \"23\", \"24\", \"25\", \"26\", \"27\", \"28\", \"29\", \"30\", \"31\", \"32\", \"33\", \"34\", \"35\", \"36\", \"37\", \"38\", \"39\", \"40\", \"41\"], \"mode\": \"markers\", \"name\": \"weighted_accuracy\", \"stepped\": false, \"type\": \"scatter\", \"data\": [0.8541321922200625, 0.8502962163535492, 0.8630840799902897, 0.866646691699948, 0.8410778841096453, 0.8540637085895424, 0.8240974496093398, 0.8882307435452343, 0.8536085112495904, 0.8227930918585225, 0.8605050743269806, 0.8641197995277432, 0.7986419719985692, 0.8452325747397215, 0.8355047180351909, 0.6980167624045801, 0.8554766921464749, 0.7720148450102103, 0.8353728332954609, 0.8533454461004967, 0.8468098597253368, 0.8072731724552862, 0.8513123060252445, 0.8735097915653807, 0.8748638394242365, 0.8227632442441986, 0.85627736471018, 0.8533550793404135, 0.8690531957355143, 0.8688125600911226, 0.755923184617155, 0.8069402200087714, 0.8698785636398008, 0.8303355553569057, 0.8553190521046888, 0.8694855881354794, 0.8715220921866678, 0.8711136558919115, 0.8688466649921557, 0.8737021839120084, 0.800709331239554, 0.8475355554010442]}, {\"categories\": [\"0\", \"1\", \"2\", \"3\", \"4\", \"5\", \"6\", \"7\", \"8\", \"9\", \"10\", \"11\", \"12\", \"13\", \"14\", \"15\", \"16\", \"17\", \"18\", \"19\", \"20\", \"21\", \"22\", \"23\", \"24\", \"25\", \"26\", \"27\", \"28\", \"29\", \"30\", \"31\", \"32\", \"33\", \"34\", \"35\", \"36\", \"37\", \"38\", \"39\", \"40\", \"41\"], \"mode\": \"lines\", \"name\": \"weighted_accuracy_max\", \"stepped\": true, \"type\": \"scatter\", \"data\": [0.8541321922200625, 0.8541321922200625, 0.8630840799902897, 0.866646691699948, 0.866646691699948, 0.866646691699948, 0.866646691699948, 0.8882307435452343, 0.8882307435452343, 0.8882307435452343, 0.8882307435452343, 0.8882307435452343, 0.8882307435452343, 0.8882307435452343, 0.8882307435452343, 0.8882307435452343, 0.8882307435452343, 0.8882307435452343, 0.8882307435452343, 0.8882307435452343, 0.8882307435452343, 0.8882307435452343, 0.8882307435452343, 0.8882307435452343, 0.8882307435452343, 0.8882307435452343, 0.8882307435452343, 0.8882307435452343, 0.8882307435452343, 0.8882307435452343, 0.8882307435452343, 0.8882307435452343, 0.8882307435452343, 0.8882307435452343, 0.8882307435452343, 0.8882307435452343, 0.8882307435452343, 0.8882307435452343, 0.8882307435452343, 0.8882307435452343, 0.8882307435452343, 0.8882307435452343]}], \"accuracy\": [{\"categories\": [\"0\", \"1\", \"2\", \"3\", \"4\", \"5\", \"6\", \"7\", \"8\", \"9\", \"10\", \"11\", \"12\", \"13\", \"14\", \"15\", \"16\", \"17\", \"18\", \"19\", \"20\", \"21\", \"22\", \"23\", \"24\", \"25\", \"26\", \"27\", \"28\", \"29\", \"30\", \"31\", \"32\", \"33\", \"34\", \"35\", \"36\", \"37\", \"38\", \"39\", \"40\", \"41\"], \"mode\": \"markers\", \"name\": \"accuracy\", \"stepped\": false, \"type\": \"scatter\", \"data\": [0.8359770114942527, 0.8358620689655172, 0.8428735632183908, 0.8128735632183908, 0.8291954022988506, 0.8257471264367815, 0.8056321839080459, 0.859425287356322, 0.7927586206896552, 0.7659770114942528, 0.8028735632183908, 0.8162068965517241, 0.8089655172413794, 0.8258620689655173, 0.8257471264367815, 0.6389655172413793, 0.7895402298850575, 0.765632183908046, 0.8322988505747126, 0.8258620689655173, 0.8294252873563218, 0.8022988505747126, 0.8391954022988506, 0.8495402298850575, 0.8459770114942529, 0.8255172413793105, 0.8425287356321839, 0.835977011494253, 0.8527586206896552, 0.8227586206896552, 0.7554022988505747, 0.7025287356321839, 0.8293103448275861, 0.8290804597701149, 0.8358620689655172, 0.8394252873563219, 0.8527586206896552, 0.8462068965517242, 0.8493103448275863, 0.8560919540229885, 0.692528735632184, 0.8359770114942527]}, {\"categories\": [\"0\", \"1\", \"2\", \"3\", \"4\", \"5\", \"6\", \"7\", \"8\", \"9\", \"10\", \"11\", \"12\", \"13\", \"14\", \"15\", \"16\", \"17\", \"18\", \"19\", \"20\", \"21\", \"22\", \"23\", \"24\", \"25\", \"26\", \"27\", \"28\", \"29\", \"30\", \"31\", \"32\", \"33\", \"34\", \"35\", \"36\", \"37\", \"38\", \"39\", \"40\", \"41\"], \"mode\": \"lines\", \"name\": \"accuracy_max\", \"stepped\": true, \"type\": \"scatter\", \"data\": [0.8359770114942527, 0.8359770114942527, 0.8428735632183908, 0.8428735632183908, 0.8428735632183908, 0.8428735632183908, 0.8428735632183908, 0.859425287356322, 0.859425287356322, 0.859425287356322, 0.859425287356322, 0.859425287356322, 0.859425287356322, 0.859425287356322, 0.859425287356322, 0.859425287356322, 0.859425287356322, 0.859425287356322, 0.859425287356322, 0.859425287356322, 0.859425287356322, 0.859425287356322, 0.859425287356322, 0.859425287356322, 0.859425287356322, 0.859425287356322, 0.859425287356322, 0.859425287356322, 0.859425287356322, 0.859425287356322, 0.859425287356322, 0.859425287356322, 0.859425287356322, 0.859425287356322, 0.859425287356322, 0.859425287356322, 0.859425287356322, 0.859425287356322, 0.859425287356322, 0.859425287356322, 0.859425287356322, 0.859425287356322]}], \"f1_score_micro\": [{\"categories\": [\"0\", \"1\", \"2\", \"3\", \"4\", \"5\", \"6\", \"7\", \"8\", \"9\", \"10\", \"11\", \"12\", \"13\", \"14\", \"15\", \"16\", \"17\", \"18\", \"19\", \"20\", \"21\", \"22\", \"23\", \"24\", \"25\", \"26\", \"27\", \"28\", \"29\", \"30\", \"31\", \"32\", \"33\", \"34\", \"35\", \"36\", \"37\", \"38\", \"39\", \"40\", \"41\"], \"mode\": \"markers\", \"name\": \"f1_score_micro\", \"stepped\": false, \"type\": \"scatter\", \"data\": [0.8359770114942527, 0.8358620689655172, 0.8428735632183908, 0.8128735632183908, 0.8291954022988506, 0.8257471264367815, 0.8056321839080459, 0.859425287356322, 0.7927586206896552, 0.7659770114942528, 0.8028735632183908, 0.8162068965517241, 0.8089655172413794, 0.8258620689655173, 0.8257471264367815, 0.6389655172413793, 0.7895402298850575, 0.765632183908046, 0.8322988505747126, 0.8258620689655173, 0.8294252873563218, 0.8022988505747126, 0.8391954022988506, 0.8495402298850575, 0.8459770114942529, 0.8255172413793105, 0.842528735632184, 0.835977011494253, 0.8527586206896552, 0.8227586206896552, 0.7554022988505747, 0.7025287356321839, 0.8293103448275861, 0.829080459770115, 0.8358620689655172, 0.8394252873563219, 0.8527586206896552, 0.8462068965517242, 0.8493103448275863, 0.8560919540229885, 0.692528735632184, 0.835977011494253]}, {\"categories\": [\"0\", \"1\", \"2\", \"3\", \"4\", \"5\", \"6\", \"7\", \"8\", \"9\", \"10\", \"11\", \"12\", \"13\", \"14\", \"15\", \"16\", \"17\", \"18\", \"19\", \"20\", \"21\", \"22\", \"23\", \"24\", \"25\", \"26\", \"27\", \"28\", \"29\", \"30\", \"31\", \"32\", \"33\", \"34\", \"35\", \"36\", \"37\", \"38\", \"39\", \"40\", \"41\"], \"mode\": \"lines\", \"name\": \"f1_score_micro_max\", \"stepped\": true, \"type\": \"scatter\", \"data\": [0.8359770114942527, 0.8359770114942527, 0.8428735632183908, 0.8428735632183908, 0.8428735632183908, 0.8428735632183908, 0.8428735632183908, 0.859425287356322, 0.859425287356322, 0.859425287356322, 0.859425287356322, 0.859425287356322, 0.859425287356322, 0.859425287356322, 0.859425287356322, 0.859425287356322, 0.859425287356322, 0.859425287356322, 0.859425287356322, 0.859425287356322, 0.859425287356322, 0.859425287356322, 0.859425287356322, 0.859425287356322, 0.859425287356322, 0.859425287356322, 0.859425287356322, 0.859425287356322, 0.859425287356322, 0.859425287356322, 0.859425287356322, 0.859425287356322, 0.859425287356322, 0.859425287356322, 0.859425287356322, 0.859425287356322, 0.859425287356322, 0.859425287356322, 0.859425287356322, 0.859425287356322, 0.859425287356322, 0.859425287356322]}], \"balanced_accuracy\": [{\"categories\": [\"0\", \"1\", \"2\", \"3\", \"4\", \"5\", \"6\", \"7\", \"8\", \"9\", \"10\", \"11\", \"12\", \"13\", \"14\", \"15\", \"16\", \"17\", \"18\", \"19\", \"20\", \"21\", \"22\", \"23\", \"24\", \"25\", \"26\", \"27\", \"28\", \"29\", \"30\", \"31\", \"32\", \"33\", \"34\", \"35\", \"36\", \"37\", \"38\", \"39\", \"40\", \"41\"], \"mode\": \"markers\", \"name\": \"balanced_accuracy\", \"stepped\": false, \"type\": \"scatter\", \"data\": [0.8077082895810014, 0.8130249020938379, 0.8095979313402081, 0.7308155806182122, 0.8098133315006886, 0.7782233147922508, 0.7767848095205074, 0.8161529049071955, 0.6918708703577124, 0.6780357113964093, 0.7119681780208096, 0.7437908378489042, 0.8227265900257891, 0.7952894687311163, 0.8085999885253317, 0.5513534193685796, 0.6851868059476756, 0.7535632695870109, 0.8258339264663634, 0.7831479179668539, 0.8029799886739246, 0.7955122320788796, 0.8197017969000235, 0.8126937646322657, 0.801691270749337, 0.8299625653395676, 0.8207850980382444, 0.8085361167246179, 0.826300123249494, 0.7498378208366767, 0.7559492811409287, 0.5371031746031745, 0.7687618828857387, 0.8259835202300877, 0.8040277567271275, 0.7929520932601596, 0.8232160997850357, 0.805065306134242, 0.8167061791501151, 0.8280862296551655, 0.521875, 0.8192491720077533]}, {\"categories\": [\"0\", \"1\", \"2\", \"3\", \"4\", \"5\", \"6\", \"7\", \"8\", \"9\", \"10\", \"11\", \"12\", \"13\", \"14\", \"15\", \"16\", \"17\", \"18\", \"19\", \"20\", \"21\", \"22\", \"23\", \"24\", \"25\", \"26\", \"27\", \"28\", \"29\", \"30\", \"31\", \"32\", \"33\", \"34\", \"35\", \"36\", \"37\", \"38\", \"39\", \"40\", \"41\"], \"mode\": \"lines\", \"name\": \"balanced_accuracy_max\", \"stepped\": true, \"type\": \"scatter\", \"data\": [0.8077082895810014, 0.8130249020938379, 0.8130249020938379, 0.8130249020938379, 0.8130249020938379, 0.8130249020938379, 0.8130249020938379, 0.8161529049071955, 0.8161529049071955, 0.8161529049071955, 0.8161529049071955, 0.8161529049071955, 0.8227265900257891, 0.8227265900257891, 0.8227265900257891, 0.8227265900257891, 0.8227265900257891, 0.8227265900257891, 0.8258339264663634, 0.8258339264663634, 0.8258339264663634, 0.8258339264663634, 0.8258339264663634, 0.8258339264663634, 0.8258339264663634, 0.8299625653395676, 0.8299625653395676, 0.8299625653395676, 0.8299625653395676, 0.8299625653395676, 0.8299625653395676, 0.8299625653395676, 0.8299625653395676, 0.8299625653395676, 0.8299625653395676, 0.8299625653395676, 0.8299625653395676, 0.8299625653395676, 0.8299625653395676, 0.8299625653395676, 0.8299625653395676, 0.8299625653395676]}], \"recall_score_micro\": [{\"categories\": [\"0\", \"1\", \"2\", \"3\", \"4\", \"5\", \"6\", \"7\", \"8\", \"9\", \"10\", \"11\", \"12\", \"13\", \"14\", \"15\", \"16\", \"17\", \"18\", \"19\", \"20\", \"21\", \"22\", \"23\", \"24\", \"25\", \"26\", \"27\", \"28\", \"29\", \"30\", \"31\", \"32\", \"33\", \"34\", \"35\", \"36\", \"37\", \"38\", \"39\", \"40\"], \"mode\": \"markers\", \"name\": \"recall_score_micro\", \"stepped\": false, \"type\": \"scatter\", \"data\": [0.8359770114942527, 0.8358620689655172, 0.8428735632183908, 0.8128735632183908, 0.8291954022988506, 0.8257471264367815, 0.8056321839080459, 0.859425287356322, 0.7927586206896552, 0.7659770114942528, 0.8028735632183908, 0.8162068965517241, 0.8089655172413794, 0.8258620689655173, 0.8257471264367815, 0.6389655172413793, 0.7895402298850575, 0.765632183908046, 0.8322988505747126, 0.8258620689655173, 0.8294252873563218, 0.8022988505747126, 0.8391954022988506, 0.8495402298850575, 0.8459770114942529, 0.8255172413793105, 0.8425287356321839, 0.835977011494253, 0.8527586206896552, 0.8227586206896552, 0.7554022988505747, 0.7025287356321839, 0.8293103448275861, 0.8290804597701149, 0.8358620689655172, 0.8394252873563219, 0.8527586206896552, 0.8462068965517242, 0.8493103448275863, 0.8560919540229885, 0.692528735632184]}, {\"categories\": [\"0\", \"1\", \"2\", \"3\", \"4\", \"5\", \"6\", \"7\", \"8\", \"9\", \"10\", \"11\", \"12\", \"13\", \"14\", \"15\", \"16\", \"17\", \"18\", \"19\", \"20\", \"21\", \"22\", \"23\", \"24\", \"25\", \"26\", \"27\", \"28\", \"29\", \"30\", \"31\", \"32\", \"33\", \"34\", \"35\", \"36\", \"37\", \"38\", \"39\", \"40\"], \"mode\": \"lines\", \"name\": \"recall_score_micro_max\", \"stepped\": true, \"type\": \"scatter\", \"data\": [0.8359770114942527, 0.8359770114942527, 0.8428735632183908, 0.8428735632183908, 0.8428735632183908, 0.8428735632183908, 0.8428735632183908, 0.859425287356322, 0.859425287356322, 0.859425287356322, 0.859425287356322, 0.859425287356322, 0.859425287356322, 0.859425287356322, 0.859425287356322, 0.859425287356322, 0.859425287356322, 0.859425287356322, 0.859425287356322, 0.859425287356322, 0.859425287356322, 0.859425287356322, 0.859425287356322, 0.859425287356322, 0.859425287356322, 0.859425287356322, 0.859425287356322, 0.859425287356322, 0.859425287356322, 0.859425287356322, 0.859425287356322, 0.859425287356322, 0.859425287356322, 0.859425287356322, 0.859425287356322, 0.859425287356322, 0.859425287356322, 0.859425287356322, 0.859425287356322, 0.859425287356322, 0.859425287356322]}], \"log_loss\": [{\"categories\": [\"0\", \"1\", \"2\", \"3\", \"4\", \"5\", \"6\", \"7\", \"8\", \"9\", \"10\", \"11\", \"12\", \"13\", \"14\", \"15\", \"16\", \"17\", \"18\", \"19\", \"20\", \"21\", \"22\", \"23\", \"24\", \"25\", \"26\", \"27\", \"28\", \"29\", \"30\", \"31\", \"32\", \"33\", \"34\", \"35\", \"36\", \"37\", \"38\", \"39\", \"40\", \"41\"], \"mode\": \"markers\", \"name\": \"log_loss\", \"stepped\": false, \"type\": \"scatter\", \"data\": [0.4772179826627182, 0.41764279466886123, 0.4930546113930852, 0.45885866573375117, 0.3794009618213995, 0.3978844456006672, 0.38350041564497256, 0.39585200651161906, 0.46057697589074503, 1.2837639362986895, 0.46745853003997073, 0.43820590396040515, 0.4259918678430618, 0.41835246135481163, 0.44949521331537595, 0.7617709563916407, 0.4690359707780295, 0.6426000175166907, 0.5206669683714499, 0.4652367527361444, 0.48979402940059824, 0.5113672227988462, 0.47988680641079906, 0.3904520016646445, 0.39327957313824913, 0.43198689886871317, 0.3812103997786803, 0.38601098199897654, 0.41574399491775516, 0.44135719722913275, 0.5261388050228286, 0.5528108867980152, 0.4535041639358635, 0.4131776092021215, 0.36488031273931326, 0.39929908553500726, 0.35630025791434355, 0.3601344323199459, 0.37515613334613496, 0.36212295909847575, 0.5762194113761938, 0.42744636968097904]}, {\"categories\": [\"0\", \"1\", \"2\", \"3\", \"4\", \"5\", \"6\", \"7\", \"8\", \"9\", \"10\", \"11\", \"12\", \"13\", \"14\", \"15\", \"16\", \"17\", \"18\", \"19\", \"20\", \"21\", \"22\", \"23\", \"24\", \"25\", \"26\", \"27\", \"28\", \"29\", \"30\", \"31\", \"32\", \"33\", \"34\", \"35\", \"36\", \"37\", \"38\", \"39\", \"40\", \"41\"], \"mode\": \"lines\", \"name\": \"log_loss_min\", \"stepped\": true, \"type\": \"scatter\", \"data\": [0.4772179826627182, 0.41764279466886123, 0.41764279466886123, 0.41764279466886123, 0.3794009618213995, 0.3794009618213995, 0.3794009618213995, 0.3794009618213995, 0.3794009618213995, 0.3794009618213995, 0.3794009618213995, 0.3794009618213995, 0.3794009618213995, 0.3794009618213995, 0.3794009618213995, 0.3794009618213995, 0.3794009618213995, 0.3794009618213995, 0.3794009618213995, 0.3794009618213995, 0.3794009618213995, 0.3794009618213995, 0.3794009618213995, 0.3794009618213995, 0.3794009618213995, 0.3794009618213995, 0.3794009618213995, 0.3794009618213995, 0.3794009618213995, 0.3794009618213995, 0.3794009618213995, 0.3794009618213995, 0.3794009618213995, 0.3794009618213995, 0.36488031273931326, 0.36488031273931326, 0.35630025791434355, 0.35630025791434355, 0.35630025791434355, 0.35630025791434355, 0.35630025791434355, 0.35630025791434355]}], \"AUC_macro\": [{\"categories\": [\"0\", \"1\", \"2\", \"3\", \"4\", \"5\", \"6\", \"7\", \"8\", \"9\", \"10\", \"11\", \"12\", \"13\", \"14\", \"15\", \"16\", \"17\", \"18\", \"19\", \"20\", \"21\", \"22\", \"23\", \"24\", \"25\", \"26\", \"27\", \"28\", \"29\", \"30\", \"31\", \"32\", \"33\", \"34\", \"35\", \"36\", \"37\", \"38\", \"39\", \"40\"], \"mode\": \"markers\", \"name\": \"AUC_macro\", \"stepped\": false, \"type\": \"scatter\", \"data\": [0.8840955354735103, 0.8847369443591411, 0.8940867722116005, 0.8706414242952573, 0.9065489482929985, 0.8890849668637998, 0.8923254167478423, 0.8930946552261197, 0.8875562310200182, 0.7496161006793443, 0.8828882340072843, 0.8771395804233905, 0.9000766522146384, 0.8683008014106413, 0.8808236181142359, 0.5203053263648802, 0.8898846274942956, 0.8294716760335182, 0.8912371696148582, 0.9089099837731132, 0.8882747730794927, 0.8822132083062287, 0.8683651495889482, 0.9071499795272107, 0.9026675435569601, 0.9105575982666372, 0.9008185924847252, 0.9064204097749864, 0.8972491004355421, 0.8833026769272765, 0.800591686933077, 0.8558387721059347, 0.9012169939836416, 0.9084755895833128, 0.9070536300126688, 0.8783078448756939, 0.9069372666955047, 0.9079881997759, 0.9043546664476297, 0.8987771296103675, 0.7523699371672483]}, {\"categories\": [\"0\", \"1\", \"2\", \"3\", \"4\", \"5\", \"6\", \"7\", \"8\", \"9\", \"10\", \"11\", \"12\", \"13\", \"14\", \"15\", \"16\", \"17\", \"18\", \"19\", \"20\", \"21\", \"22\", \"23\", \"24\", \"25\", \"26\", \"27\", \"28\", \"29\", \"30\", \"31\", \"32\", \"33\", \"34\", \"35\", \"36\", \"37\", \"38\", \"39\", \"40\"], \"mode\": \"lines\", \"name\": \"AUC_macro_max\", \"stepped\": true, \"type\": \"scatter\", \"data\": [0.8840955354735103, 0.8847369443591411, 0.8940867722116005, 0.8940867722116005, 0.9065489482929985, 0.9065489482929985, 0.9065489482929985, 0.9065489482929985, 0.9065489482929985, 0.9065489482929985, 0.9065489482929985, 0.9065489482929985, 0.9065489482929985, 0.9065489482929985, 0.9065489482929985, 0.9065489482929985, 0.9065489482929985, 0.9065489482929985, 0.9065489482929985, 0.9089099837731132, 0.9089099837731132, 0.9089099837731132, 0.9089099837731132, 0.9089099837731132, 0.9089099837731132, 0.9105575982666372, 0.9105575982666372, 0.9105575982666372, 0.9105575982666372, 0.9105575982666372, 0.9105575982666372, 0.9105575982666372, 0.9105575982666372, 0.9105575982666372, 0.9105575982666372, 0.9105575982666372, 0.9105575982666372, 0.9105575982666372, 0.9105575982666372, 0.9105575982666372, 0.9105575982666372]}], \"norm_macro_recall\": [{\"categories\": [\"0\", \"1\", \"2\", \"3\", \"4\", \"5\", \"6\", \"7\", \"8\", \"9\", \"10\", \"11\", \"12\", \"13\", \"14\", \"15\", \"16\", \"17\", \"18\", \"19\", \"20\", \"21\", \"22\", \"23\", \"24\", \"25\", \"26\", \"27\", \"28\", \"29\", \"30\", \"31\", \"32\", \"33\", \"34\", \"35\", \"36\", \"37\", \"38\", \"39\", \"40\"], \"mode\": \"markers\", \"name\": \"norm_macro_recall\", \"stepped\": false, \"type\": \"scatter\", \"data\": [0.6154165791620023, 0.626049804187676, 0.6191958626804165, 0.46163116123642434, 0.619626663001377, 0.5564466295845014, 0.553569619041015, 0.632305809814391, 0.38374174071542483, 0.3560714227928186, 0.42393635604161917, 0.4875816756978085, 0.6454531800515781, 0.5905789374622327, 0.6171999770506635, 0.1267612930547713, 0.370373611895351, 0.5071265391740221, 0.6516678529327271, 0.5662958359337078, 0.6059599773478492, 0.5910244641577593, 0.6394035938000469, 0.6253875292645316, 0.6033825414986742, 0.6599251306791352, 0.641570196076489, 0.6170722334492357, 0.6526002464989878, 0.4996756416733533, 0.5118985622818576, 0.0742063492063492, 0.5375237657714773, 0.6519670404601754, 0.6080555134542549, 0.5859041865203192, 0.6464321995700714, 0.6101306122684841, 0.63341235830023, 0.6561724593103312, 0.043749999999999976]}, {\"categories\": [\"0\", \"1\", \"2\", \"3\", \"4\", \"5\", \"6\", \"7\", \"8\", \"9\", \"10\", \"11\", \"12\", \"13\", \"14\", \"15\", \"16\", \"17\", \"18\", \"19\", \"20\", \"21\", \"22\", \"23\", \"24\", \"25\", \"26\", \"27\", \"28\", \"29\", \"30\", \"31\", \"32\", \"33\", \"34\", \"35\", \"36\", \"37\", \"38\", \"39\", \"40\"], \"mode\": \"lines\", \"name\": \"norm_macro_recall_max\", \"stepped\": true, \"type\": \"scatter\", \"data\": [0.6154165791620023, 0.626049804187676, 0.626049804187676, 0.626049804187676, 0.626049804187676, 0.626049804187676, 0.626049804187676, 0.632305809814391, 0.632305809814391, 0.632305809814391, 0.632305809814391, 0.632305809814391, 0.6454531800515781, 0.6454531800515781, 0.6454531800515781, 0.6454531800515781, 0.6454531800515781, 0.6454531800515781, 0.6516678529327271, 0.6516678529327271, 0.6516678529327271, 0.6516678529327271, 0.6516678529327271, 0.6516678529327271, 0.6516678529327271, 0.6599251306791352, 0.6599251306791352, 0.6599251306791352, 0.6599251306791352, 0.6599251306791352, 0.6599251306791352, 0.6599251306791352, 0.6599251306791352, 0.6599251306791352, 0.6599251306791352, 0.6599251306791352, 0.6599251306791352, 0.6599251306791352, 0.6599251306791352, 0.6599251306791352, 0.6599251306791352]}]}, \"metricName\": null, \"primaryMetricName\": \"AUC_weighted\", \"showLegend\": false}, \"run_metrics\": [{\"name\": \"experiment_status\", \"run_id\": \"AutoML_bd0b099e-b97b-4fd1-993f-6bc161325d61\", \"categories\": [0, 1, 2, 3, 4, 5], \"series\": [{\"data\": [\"DatasetEvaluation\", \"FeaturesGeneration\", \"DatasetFeaturization\", \"DatasetFeaturizationCompleted\", \"DatasetCrossValidationSplit\", \"ModelSelection\"]}]}, {\"name\": \"experiment_status_description\", \"run_id\": \"AutoML_bd0b099e-b97b-4fd1-993f-6bc161325d61\", \"categories\": [0, 1, 2, 3, 4, 5], \"series\": [{\"data\": [\"Gathering dataset statistics.\", \"Generating features for the dataset.\", \"Beginning to fit featurizers and featurize the dataset.\", \"Completed fit featurizers and featurizing the dataset.\", \"Generating individually featurized CV splits.\", \"Beginning model selection.\"]}]}], \"run_logs\": \"Your job is submitted in Azure cloud and we are monitoring to get logs...\", \"graph\": {}, \"widget_settings\": {\"childWidgetDisplay\": \"popup\", \"send_telemetry\": false, \"log_level\": \"INFO\", \"sdk_version\": \"1.30.0\"}, \"loading\": false}"
          },
          "metadata": {}
        }
      ],
      "execution_count": 16,
      "metadata": {
        "gather": {
          "logged": 1624382890623
        },
        "jupyter": {
          "outputs_hidden": false,
          "source_hidden": false
        },
        "nteract": {
          "transient": {
            "deleting": false
          }
        }
      }
    },
    {
      "cell_type": "code",
      "source": [
        "# waiting for the run \r\n",
        "\r\n",
        "remote_run.wait_for_completion()"
      ],
      "outputs": [],
      "execution_count": 17,
      "metadata": {
        "collapsed": true,
        "jupyter": {
          "source_hidden": false,
          "outputs_hidden": false
        },
        "nteract": {
          "transient": {
            "deleting": false
          }
        }
      }
    },
    {
      "cell_type": "markdown",
      "source": [
        "## Best Model\n",
        "\n",
        "TODO: In the cell below, get the best model from the automl experiments and display all the properties of the model.\n",
        "\n"
      ],
      "metadata": {}
    },
    {
      "cell_type": "code",
      "source": [
        "# Best model\r\n",
        "\r\n",
        "# Retrieve best model from remote Run\r\n",
        "best_model_output = remote_run.get_pipeline_output(best_model_output_name)\r\n",
        "num_file_downloaded = best_model_output.download('.', show_progress=True)"
      ],
      "outputs": [],
      "execution_count": null,
      "metadata": {
        "gather": {
          "logged": 1598431425670
        },
        "jupyter": {
          "outputs_hidden": false,
          "source_hidden": false
        },
        "nteract": {
          "transient": {
            "deleting": false
          }
        }
      }
    },
    {
      "cell_type": "code",
      "source": [
        "#properties\r\n",
        "\r\n",
        "import pickle\r\n",
        "\r\n",
        "with open(best_model_output._path_on_datastore, \"rb\" ) as f:\r\n",
        "    best_model = pickle.load(f)\r\n",
        "best_model"
      ],
      "outputs": [],
      "execution_count": null,
      "metadata": {
        "collapsed": true,
        "jupyter": {
          "source_hidden": false,
          "outputs_hidden": false
        },
        "nteract": {
          "transient": {
            "deleting": false
          }
        }
      }
    },
    {
      "cell_type": "code",
      "source": [
        "best_model.steps"
      ],
      "outputs": [],
      "execution_count": null,
      "metadata": {
        "collapsed": true,
        "jupyter": {
          "source_hidden": false,
          "outputs_hidden": false
        },
        "nteract": {
          "transient": {
            "deleting": false
          }
        }
      }
    },
    {
      "cell_type": "code",
      "source": [
        "#TODO: Save the best model"
      ],
      "outputs": [],
      "execution_count": null,
      "metadata": {
        "gather": {
          "logged": 1598431426111
        },
        "jupyter": {
          "outputs_hidden": false,
          "source_hidden": false
        },
        "nteract": {
          "transient": {
            "deleting": false
          }
        }
      }
    },
    {
      "cell_type": "markdown",
      "source": [
        "## Model Deployment\n",
        "\n",
        "Remember you have to deploy only one of the two models you trained.. Perform the steps in the rest of this notebook only if you wish to deploy this model.\n",
        "\n",
        "TODO: In the cell below, register the model, create an inference config and deploy the model as a web service."
      ],
      "metadata": {}
    },
    {
      "cell_type": "code",
      "source": [],
      "outputs": [],
      "execution_count": null,
      "metadata": {
        "gather": {
          "logged": 1598431435189
        },
        "jupyter": {
          "outputs_hidden": false,
          "source_hidden": false
        },
        "nteract": {
          "transient": {
            "deleting": false
          }
        }
      }
    },
    {
      "cell_type": "markdown",
      "source": [
        "TODO: In the cell below, send a request to the web service you deployed to test it."
      ],
      "metadata": {
        "collapsed": true,
        "gather": {
          "logged": 1598431657736
        },
        "jupyter": {
          "outputs_hidden": false,
          "source_hidden": false
        },
        "nteract": {
          "transient": {
            "deleting": false
          }
        }
      }
    },
    {
      "cell_type": "code",
      "source": [],
      "outputs": [],
      "execution_count": null,
      "metadata": {
        "gather": {
          "logged": 1598432707604
        },
        "jupyter": {
          "outputs_hidden": false,
          "source_hidden": false
        },
        "nteract": {
          "transient": {
            "deleting": false
          }
        }
      }
    },
    {
      "cell_type": "markdown",
      "source": [
        "TODO: In the cell below, print the logs of the web service and delete the service"
      ],
      "metadata": {
        "collapsed": true,
        "gather": {
          "logged": 1598432765711
        },
        "jupyter": {
          "outputs_hidden": false,
          "source_hidden": false
        },
        "nteract": {
          "transient": {
            "deleting": false
          }
        }
      }
    },
    {
      "cell_type": "code",
      "source": [],
      "outputs": [],
      "execution_count": null,
      "metadata": {
        "jupyter": {
          "outputs_hidden": false,
          "source_hidden": false
        },
        "nteract": {
          "transient": {
            "deleting": false
          }
        }
      }
    }
  ],
  "metadata": {
    "kernel_info": {
      "name": "python3"
    },
    "kernelspec": {
      "name": "python3",
      "language": "python",
      "display_name": "Python 3"
    },
    "language_info": {
      "name": "python",
      "version": "3.6.9",
      "mimetype": "text/x-python",
      "codemirror_mode": {
        "name": "ipython",
        "version": 3
      },
      "pygments_lexer": "ipython3",
      "nbconvert_exporter": "python",
      "file_extension": ".py"
    },
    "nteract": {
      "version": "nteract-front-end@1.0.0"
    },
    "microsoft": {
      "host": {
        "AzureML": {
          "notebookHasBeenCompleted": true
        }
      }
    }
  },
  "nbformat": 4,
  "nbformat_minor": 2
}